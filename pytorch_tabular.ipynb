{
 "cells": [
  {
   "cell_type": "markdown",
   "id": "bbab0916-5eca-48ac-ab1f-24cf9e0a26e1",
   "metadata": {},
   "source": [
    "# Pytorch Tabular"
   ]
  },
  {
   "cell_type": "code",
   "execution_count": 1,
   "id": "dab7ad7e-a0eb-440c-8de0-0b7339e55a49",
   "metadata": {},
   "outputs": [],
   "source": [
    "import numpy as np\n",
    "import pandas as pd\n",
    "\n",
    "# Pytorch Tabular\n",
    "from pytorch_tabular import TabularModel\n",
    "from pytorch_tabular.config import (\n",
    "    DataConfig,\n",
    "    OptimizerConfig,\n",
    "    TrainerConfig,\n",
    ")"
   ]
  },
  {
   "cell_type": "markdown",
   "id": "ab280318-1eb7-470e-80d2-d62cffda931a",
   "metadata": {},
   "source": [
    "## Preparar Dataset"
   ]
  },
  {
   "cell_type": "markdown",
   "id": "fe177832-d418-41b1-8430-7a4090903dc1",
   "metadata": {},
   "source": [
    "### Create Dataset"
   ]
  },
  {
   "cell_type": "code",
   "execution_count": 2,
   "id": "faa6c036-d86a-473a-8df0-b160a6ad90ba",
   "metadata": {},
   "outputs": [
    {
     "data": {
      "text/plain": [
       "'\\nfrom pytorch_tabular.utils import make_mixed_dataset\\ndf, cat_col_names, num_col_names = make_mixed_dataset(\\n    task=\"classification\", n_samples=3000, n_features=7, n_categories=4\\n)\\ndate_col_names = []\\ntarget_col = [\\'target\\']\\n'"
      ]
     },
     "execution_count": 2,
     "metadata": {},
     "output_type": "execute_result"
    }
   ],
   "source": [
    "\"\"\"\n",
    "from pytorch_tabular.utils import make_mixed_dataset\n",
    "df, cat_col_names, num_col_names = make_mixed_dataset(\n",
    "    task=\"classification\", n_samples=3000, n_features=7, n_categories=4\n",
    ")\n",
    "date_col_names = []\n",
    "target_col = ['target']\n",
    "\"\"\""
   ]
  },
  {
   "cell_type": "markdown",
   "id": "f77611b9-983d-4c78-814a-8c2e7abea989",
   "metadata": {},
   "source": [
    "## Insurance Lead Prediction Raw Data Dataset\n",
    "\n",
    "https://www.kaggle.com/datasets/owaiskhan9654/health-insurance-lead-prediction-raw-data"
   ]
  },
  {
   "cell_type": "code",
   "execution_count": 3,
   "id": "c784fcbf-b64a-4c07-ac08-3bf8f2d34fad",
   "metadata": {},
   "outputs": [
    {
     "data": {
      "text/plain": [
       "\"\\ndf = pd.read_csv('dataset/Health Insurance Lead Prediction Raw Data.csv')\\n\\ndf = df.drop('ID', axis=1)\\ndf = df.dropna()\\n\\ndf['Holding_Policy_Duration'].replace('14+', 14.0, inplace=True)\\n\\nnum_col_names = ['Region_Code', 'Upper_Age', 'Lower_Age', 'Holding_Policy_Duration', 'Reco_Policy_Premium',]\\ncat_col_names = ['City_Code', 'Accomodation_Type', 'Reco_Insurance_Type', 'Is_Spouse', 'Health Indicator', 'Holding_Policy_Type', 'Reco_Policy_Cat']\\ndate_col_names = []\\ntarget_col = ['Response']\\ndf\\n\""
      ]
     },
     "execution_count": 3,
     "metadata": {},
     "output_type": "execute_result"
    }
   ],
   "source": [
    "\"\"\"\n",
    "df = pd.read_csv('dataset/Health Insurance Lead Prediction Raw Data.csv')\n",
    "\n",
    "df = df.drop('ID', axis=1)\n",
    "df = df.dropna()\n",
    "\n",
    "df['Holding_Policy_Duration'].replace('14+', 14.0, inplace=True)\n",
    "\n",
    "num_col_names = ['Region_Code', 'Upper_Age', 'Lower_Age', 'Holding_Policy_Duration', 'Reco_Policy_Premium',]\n",
    "cat_col_names = ['City_Code', 'Accomodation_Type', 'Reco_Insurance_Type', 'Is_Spouse', 'Health Indicator', 'Holding_Policy_Type', 'Reco_Policy_Cat']\n",
    "date_col_names = []\n",
    "target_col = ['Response']\n",
    "df\n",
    "\"\"\""
   ]
  },
  {
   "cell_type": "markdown",
   "id": "f4cbf66a-2d62-43c2-9586-7a46ad23a77d",
   "metadata": {},
   "source": [
    "### Water Quality and Potability Dataset\n",
    "\n",
    "https://www.kaggle.com/datasets/adityakadiwal/water-potability"
   ]
  },
  {
   "cell_type": "code",
   "execution_count": 4,
   "id": "f3919cdd-aa32-459c-960a-ba41331f743a",
   "metadata": {},
   "outputs": [
    {
     "data": {
      "text/html": [
       "<div>\n",
       "<style scoped>\n",
       "    .dataframe tbody tr th:only-of-type {\n",
       "        vertical-align: middle;\n",
       "    }\n",
       "\n",
       "    .dataframe tbody tr th {\n",
       "        vertical-align: top;\n",
       "    }\n",
       "\n",
       "    .dataframe thead th {\n",
       "        text-align: right;\n",
       "    }\n",
       "</style>\n",
       "<table border=\"1\" class=\"dataframe\">\n",
       "  <thead>\n",
       "    <tr style=\"text-align: right;\">\n",
       "      <th></th>\n",
       "      <th>ph</th>\n",
       "      <th>Hardness</th>\n",
       "      <th>Solids</th>\n",
       "      <th>Chloramines</th>\n",
       "      <th>Sulfate</th>\n",
       "      <th>Conductivity</th>\n",
       "      <th>Organic_carbon</th>\n",
       "      <th>Trihalomethanes</th>\n",
       "      <th>Turbidity</th>\n",
       "      <th>Potability</th>\n",
       "    </tr>\n",
       "  </thead>\n",
       "  <tbody>\n",
       "    <tr>\n",
       "      <th>0</th>\n",
       "      <td>NaN</td>\n",
       "      <td>204.890455</td>\n",
       "      <td>20791.318981</td>\n",
       "      <td>7.300212</td>\n",
       "      <td>368.516441</td>\n",
       "      <td>564.308654</td>\n",
       "      <td>10.379783</td>\n",
       "      <td>86.990970</td>\n",
       "      <td>2.963135</td>\n",
       "      <td>0</td>\n",
       "    </tr>\n",
       "    <tr>\n",
       "      <th>1</th>\n",
       "      <td>3.716080</td>\n",
       "      <td>129.422921</td>\n",
       "      <td>18630.057858</td>\n",
       "      <td>6.635246</td>\n",
       "      <td>NaN</td>\n",
       "      <td>592.885359</td>\n",
       "      <td>15.180013</td>\n",
       "      <td>56.329076</td>\n",
       "      <td>4.500656</td>\n",
       "      <td>0</td>\n",
       "    </tr>\n",
       "    <tr>\n",
       "      <th>2</th>\n",
       "      <td>8.099124</td>\n",
       "      <td>224.236259</td>\n",
       "      <td>19909.541732</td>\n",
       "      <td>9.275884</td>\n",
       "      <td>NaN</td>\n",
       "      <td>418.606213</td>\n",
       "      <td>16.868637</td>\n",
       "      <td>66.420093</td>\n",
       "      <td>3.055934</td>\n",
       "      <td>0</td>\n",
       "    </tr>\n",
       "    <tr>\n",
       "      <th>3</th>\n",
       "      <td>8.316766</td>\n",
       "      <td>214.373394</td>\n",
       "      <td>22018.417441</td>\n",
       "      <td>8.059332</td>\n",
       "      <td>356.886136</td>\n",
       "      <td>363.266516</td>\n",
       "      <td>18.436524</td>\n",
       "      <td>100.341674</td>\n",
       "      <td>4.628771</td>\n",
       "      <td>0</td>\n",
       "    </tr>\n",
       "    <tr>\n",
       "      <th>4</th>\n",
       "      <td>9.092223</td>\n",
       "      <td>181.101509</td>\n",
       "      <td>17978.986339</td>\n",
       "      <td>6.546600</td>\n",
       "      <td>310.135738</td>\n",
       "      <td>398.410813</td>\n",
       "      <td>11.558279</td>\n",
       "      <td>31.997993</td>\n",
       "      <td>4.075075</td>\n",
       "      <td>0</td>\n",
       "    </tr>\n",
       "    <tr>\n",
       "      <th>...</th>\n",
       "      <td>...</td>\n",
       "      <td>...</td>\n",
       "      <td>...</td>\n",
       "      <td>...</td>\n",
       "      <td>...</td>\n",
       "      <td>...</td>\n",
       "      <td>...</td>\n",
       "      <td>...</td>\n",
       "      <td>...</td>\n",
       "      <td>...</td>\n",
       "    </tr>\n",
       "    <tr>\n",
       "      <th>3271</th>\n",
       "      <td>4.668102</td>\n",
       "      <td>193.681735</td>\n",
       "      <td>47580.991603</td>\n",
       "      <td>7.166639</td>\n",
       "      <td>359.948574</td>\n",
       "      <td>526.424171</td>\n",
       "      <td>13.894419</td>\n",
       "      <td>66.687695</td>\n",
       "      <td>4.435821</td>\n",
       "      <td>1</td>\n",
       "    </tr>\n",
       "    <tr>\n",
       "      <th>3272</th>\n",
       "      <td>7.808856</td>\n",
       "      <td>193.553212</td>\n",
       "      <td>17329.802160</td>\n",
       "      <td>8.061362</td>\n",
       "      <td>NaN</td>\n",
       "      <td>392.449580</td>\n",
       "      <td>19.903225</td>\n",
       "      <td>NaN</td>\n",
       "      <td>2.798243</td>\n",
       "      <td>1</td>\n",
       "    </tr>\n",
       "    <tr>\n",
       "      <th>3273</th>\n",
       "      <td>9.419510</td>\n",
       "      <td>175.762646</td>\n",
       "      <td>33155.578218</td>\n",
       "      <td>7.350233</td>\n",
       "      <td>NaN</td>\n",
       "      <td>432.044783</td>\n",
       "      <td>11.039070</td>\n",
       "      <td>69.845400</td>\n",
       "      <td>3.298875</td>\n",
       "      <td>1</td>\n",
       "    </tr>\n",
       "    <tr>\n",
       "      <th>3274</th>\n",
       "      <td>5.126763</td>\n",
       "      <td>230.603758</td>\n",
       "      <td>11983.869376</td>\n",
       "      <td>6.303357</td>\n",
       "      <td>NaN</td>\n",
       "      <td>402.883113</td>\n",
       "      <td>11.168946</td>\n",
       "      <td>77.488213</td>\n",
       "      <td>4.708658</td>\n",
       "      <td>1</td>\n",
       "    </tr>\n",
       "    <tr>\n",
       "      <th>3275</th>\n",
       "      <td>7.874671</td>\n",
       "      <td>195.102299</td>\n",
       "      <td>17404.177061</td>\n",
       "      <td>7.509306</td>\n",
       "      <td>NaN</td>\n",
       "      <td>327.459760</td>\n",
       "      <td>16.140368</td>\n",
       "      <td>78.698446</td>\n",
       "      <td>2.309149</td>\n",
       "      <td>1</td>\n",
       "    </tr>\n",
       "  </tbody>\n",
       "</table>\n",
       "<p>3276 rows × 10 columns</p>\n",
       "</div>"
      ],
      "text/plain": [
       "            ph    Hardness        Solids  Chloramines     Sulfate  \\\n",
       "0          NaN  204.890455  20791.318981     7.300212  368.516441   \n",
       "1     3.716080  129.422921  18630.057858     6.635246         NaN   \n",
       "2     8.099124  224.236259  19909.541732     9.275884         NaN   \n",
       "3     8.316766  214.373394  22018.417441     8.059332  356.886136   \n",
       "4     9.092223  181.101509  17978.986339     6.546600  310.135738   \n",
       "...        ...         ...           ...          ...         ...   \n",
       "3271  4.668102  193.681735  47580.991603     7.166639  359.948574   \n",
       "3272  7.808856  193.553212  17329.802160     8.061362         NaN   \n",
       "3273  9.419510  175.762646  33155.578218     7.350233         NaN   \n",
       "3274  5.126763  230.603758  11983.869376     6.303357         NaN   \n",
       "3275  7.874671  195.102299  17404.177061     7.509306         NaN   \n",
       "\n",
       "      Conductivity  Organic_carbon  Trihalomethanes  Turbidity  Potability  \n",
       "0       564.308654       10.379783        86.990970   2.963135           0  \n",
       "1       592.885359       15.180013        56.329076   4.500656           0  \n",
       "2       418.606213       16.868637        66.420093   3.055934           0  \n",
       "3       363.266516       18.436524       100.341674   4.628771           0  \n",
       "4       398.410813       11.558279        31.997993   4.075075           0  \n",
       "...            ...             ...              ...        ...         ...  \n",
       "3271    526.424171       13.894419        66.687695   4.435821           1  \n",
       "3272    392.449580       19.903225              NaN   2.798243           1  \n",
       "3273    432.044783       11.039070        69.845400   3.298875           1  \n",
       "3274    402.883113       11.168946        77.488213   4.708658           1  \n",
       "3275    327.459760       16.140368        78.698446   2.309149           1  \n",
       "\n",
       "[3276 rows x 10 columns]"
      ]
     },
     "execution_count": 4,
     "metadata": {},
     "output_type": "execute_result"
    }
   ],
   "source": [
    "df = pd.read_csv('dataset/water_potability.csv')\n",
    "\n",
    "num_col_names = list(df.keys())[:-1]\n",
    "cat_col_names = []\n",
    "date_col_names = []\n",
    "target_col = ['Potability']\n",
    "\n",
    "df"
   ]
  },
  {
   "cell_type": "code",
   "execution_count": 5,
   "id": "948fbfed-100e-4c72-9e82-7dca8b0f6575",
   "metadata": {},
   "outputs": [
    {
     "data": {
      "text/plain": [
       "Potability\n",
       "0             1200\n",
       "1              811\n",
       "Name: count, dtype: int64"
      ]
     },
     "execution_count": 5,
     "metadata": {},
     "output_type": "execute_result"
    }
   ],
   "source": [
    "df = df.dropna()\n",
    "df[target_col].value_counts()"
   ]
  },
  {
   "cell_type": "markdown",
   "id": "42eaf0f8-86ce-424c-a7fe-5e0ae5dc3312",
   "metadata": {},
   "source": [
    "### Dataset Splitting"
   ]
  },
  {
   "cell_type": "code",
   "execution_count": 6,
   "id": "8859f571-d656-4a56-ad06-dcf37e01591c",
   "metadata": {},
   "outputs": [],
   "source": [
    "from sklearn.model_selection import train_test_split\n",
    "\n",
    "train, test = train_test_split(df, random_state=42, test_size=0.3)\n",
    "valid, test = train_test_split(test, random_state=42, test_size=0.5)"
   ]
  },
  {
   "cell_type": "markdown",
   "id": "b4b94ab7-3a7a-4ae2-a16f-766d4c9e79fe",
   "metadata": {},
   "source": [
    "## Train Pytorch Tabular\n",
    "https://github.com/manujosephv/pytorch_tabular"
   ]
  },
  {
   "cell_type": "markdown",
   "id": "2a76926f-2ee1-440a-a617-6cabf2d6e719",
   "metadata": {},
   "source": [
    "### Preparar Configurações"
   ]
  },
  {
   "cell_type": "markdown",
   "id": "d6274514-85d6-4844-9634-e9bba6392ccf",
   "metadata": {},
   "source": [
    "No [DataConfig](https://pytorch-tabular.readthedocs.io/en/latest/data/#pytorch_tabular.config.DataConfig) estão as configurações do dataset, contendo as coluna no DataFrame Pandas que é o \"target\" (valor que será previsto), colunas que possuem dados continuos e de dados categóricos. Além de outras configurações que podem ser alteradas."
   ]
  },
  {
   "cell_type": "code",
   "execution_count": 7,
   "id": "98368c66-7982-4e8a-b8e8-11119ad56100",
   "metadata": {},
   "outputs": [],
   "source": [
    "data_config = DataConfig(\n",
    "    target=target_col,  # target should always be a list. Multi-targets are only supported for regression. Multi-Task Classification is not implemented\n",
    "    continuous_cols=num_col_names,  # Column names of the numeric fields\n",
    "    categorical_cols=cat_col_names,  # Column names of the categorical fields\n",
    "    date_columns=date_col_names,  # (Column name, Freq, Format) tuples of the date fields. E.g. [(\"date\", \"M\", %Y-%m')]. freq = https://pandas.pydata.org/pandas-docs/stable/user_guide/timeseries.html#offset-aliases\n",
    "    normalize_continuous_features=True, # Flag to normalize the input features (continuous). Default True\n",
    "    num_workers=4\n",
    ")"
   ]
  },
  {
   "cell_type": "markdown",
   "id": "899beb41-8b8c-48ab-b6d7-2b57c46b6a93",
   "metadata": {},
   "source": [
    "No [TrainerConfig](https://pytorch-tabular.readthedocs.io/en/latest/training/#using-the-entire-pytorch-lightning-trainer) estão as configurações de treinamento, incluindo quais métricas iremos utilizar para avaliar o modelo e criar os checkpoints\n",
    "\n",
    "No [OptimizerConfig](https://pytorch-tabular.readthedocs.io/en/latest/optimizer/#pytorch_tabular.config.OptimizerConfig) estão as configurações do otimizado que será utilizador, sendo inclusive possível alterar seus parâmetros."
   ]
  },
  {
   "cell_type": "code",
   "execution_count": 8,
   "id": "e805d0ae-0948-4750-b60a-cb6021a91e71",
   "metadata": {},
   "outputs": [],
   "source": [
    "trainer_config = TrainerConfig(\n",
    "    auto_lr_find=True,  # Runs the LRFinder to automatically derive a learning rate. Default False\n",
    "    batch_size=64,\n",
    "    max_epochs=300,\n",
    "    min_epochs=3,\n",
    "    early_stopping='valid_accuracy', # Monitor for early stopping. valid_loss or valid_accuracy\n",
    "    early_stopping_mode = 'max', # Set the mode as min for val_loss (lower is better) and max for val_accuracy (higher is better)\n",
    "    early_stopping_patience=10, # No. of epochs of degradation training will wait before terminating\n",
    "    checkpoints='valid_accuracy', # Save best checkpoint monitoring\n",
    "    checkpoints_mode='max',  # Set the mode as min for valid_loss (lower is better) and max for valid_accuracy (higher is better)\n",
    ")\n",
    "\n",
    "optimizer_config = OptimizerConfig(\n",
    "    #optimizer='RMSprop',  # https://pytorch.org/docs/stable/optim.html#algorithms\n",
    "    #optimizer_params={'alpha': 0.99},\n",
    "    #lr_scheduler=\"StepLR\",\n",
    "    #lr_scheduler_params={\"step_size\": 10},\n",
    ")"
   ]
  },
  {
   "cell_type": "markdown",
   "id": "cf1f05e0-7e1b-4dcd-ac61-715a50f68f30",
   "metadata": {},
   "source": [
    "### Train Specific Architecture"
   ]
  },
  {
   "cell_type": "markdown",
   "id": "f0dc5b81-80fd-4f34-a6cc-f9b7fb819dfe",
   "metadata": {},
   "source": [
    "No [ModelConfig](https://pytorch-tabular.readthedocs.io/en/latest/apidocs_model/#pytorch_tabular.config.ModelConfig) estão as configurações da arquitetura que será utilizada e os parâmetros serão adaptados para cada uma delas, sendo necessário olhar sua documentação. Ressaltando que todas as arquiteturas erdam da classe \"ModelConfig\".\n",
    "\n",
    "O único parâmetro obrigatório é a \"task\" para informar se a saída será \"classificação\", \"regressão\" ou \"backbone\" (retorna os embeddings). Já referentes as arquiteturas, elas já possuem parâmetros (hiperparâmetros) pré-configurados e não são necessários alterar (mas é recomendado para buscar melhores resultados e para isso recomenda-se utilizar o Tuner que está mais para frente neste Notebook). "
   ]
  },
  {
   "cell_type": "code",
   "execution_count": 9,
   "id": "09c71687-a6b8-464a-94be-fc54b84c956e",
   "metadata": {},
   "outputs": [
    {
     "data": {
      "text/plain": [
       "['AutoIntConfig',\n",
       " 'CategoryEmbeddingModelConfig',\n",
       " 'DANetConfig',\n",
       " 'FTTransformerConfig',\n",
       " 'GANDALFConfig',\n",
       " 'GatedAdditiveTreeEnsembleConfig',\n",
       " 'MDNConfig',\n",
       " 'NodeConfig',\n",
       " 'TabNetModelConfig',\n",
       " 'TabTransformerConfig']"
      ]
     },
     "execution_count": 9,
     "metadata": {},
     "output_type": "execute_result"
    }
   ],
   "source": [
    "from pytorch_tabular import available_models\n",
    "available_models()"
   ]
  },
  {
   "cell_type": "markdown",
   "id": "4597c17a-3131-4dea-8b68-53c03f632f92",
   "metadata": {},
   "source": [
    "Neste caso iremos utilizar a arquitetura [Category Embedding](https://pytorch-tabular.readthedocs.io/en/latest/apidocs_model/#pytorch_tabular.models.CategoryEmbeddingModelConfig)."
   ]
  },
  {
   "cell_type": "code",
   "execution_count": 10,
   "id": "3a6ea67f-ba2e-4579-ae0d-2ac159b4b507",
   "metadata": {},
   "outputs": [],
   "source": [
    "from pytorch_tabular.models import CategoryEmbeddingModelConfig"
   ]
  },
  {
   "cell_type": "code",
   "execution_count": 11,
   "id": "838728d4-fb58-4ba2-b425-469c420b4dbc",
   "metadata": {},
   "outputs": [],
   "source": [
    "model_config_category_embedding = CategoryEmbeddingModelConfig(\n",
    "    task='classification',  #  One of \"classification\", \"regression\" or \"backbone\"\n",
    "    layers='128-64-32',  # Number of nodes in each layer. Default to 128-64-32\n",
    "    activation='ReLU',  # Activation between each layers. The default activations in PyTorch like ReLU, TanH, LeakyReLU, etc. Defaults to ReLU\n",
    "    #learning_rate=1e-3,\n",
    "    #loss='CrossEntropyLoss',  # Can use any loss function from standard PyTorch (torch.nn) through this config. By default it is set to MSELoss for regression and CrossEntropyLoss for classification\n",
    "    #metrics=['accuracy'],  # Metrics like \"accuracy\" and \"f1_score\". By default, it is accuracy if classification and mean_squared_error for regression - https://lightning.ai/docs/torchmetrics/stable/all-metrics.html (function name is in \"Functional Interface\")\n",
    "    #target_range=[], # [(10.5, 30.1)] = (Limit the output between 10.5 and 30.1) The range in which we should limit the output variable. Currently ignored for multi-target regression. Typically used for Regression problems. If left empty, will not apply any restrictions\n",
    ")"
   ]
  },
  {
   "cell_type": "markdown",
   "id": "0de3ffa5-4e80-40ae-8a22-007c26528b7c",
   "metadata": {},
   "source": [
    "No [TabularModel](https://pytorch-tabular.readthedocs.io/en/latest/tabular_model/) ficam todas as configurações realizadas e é onde está definitivamente nosso modelo. Ele que iremos usar para treinar e depois para fazer inferências."
   ]
  },
  {
   "cell_type": "code",
   "execution_count": 12,
   "id": "9c1905f2-a0db-468c-9600-fb8044407d1f",
   "metadata": {},
   "outputs": [],
   "source": [
    "best_model = TabularModel(\n",
    "    data_config=data_config,\n",
    "    model_config=model_config_category_embedding,\n",
    "    optimizer_config=optimizer_config,\n",
    "    trainer_config=trainer_config,\n",
    "    verbose=False  # Turn off the verbose to avoid printing logs from different stages\n",
    ")"
   ]
  },
  {
   "cell_type": "code",
   "execution_count": 13,
   "id": "feef8c6e-3c54-48b3-8479-b9ddfa5134cc",
   "metadata": {},
   "outputs": [
    {
     "name": "stderr",
     "output_type": "stream",
     "text": [
      "Seed set to 42\n",
      "GPU available: True (cuda), used: True\n",
      "TPU available: False, using: 0 TPU cores\n",
      "IPU available: False, using: 0 IPUs\n",
      "HPU available: False, using: 0 HPUs\n",
      "You are using a CUDA device ('NVIDIA GeForce RTX 3060') that has Tensor Cores. To properly utilize them, you should set `torch.set_float32_matmul_precision('medium' | 'high')` which will trade-off precision for performance. For more details, read https://pytorch.org/docs/stable/generated/torch.set_float32_matmul_precision.html#torch.set_float32_matmul_precision\n",
      "/home/max/anaconda3/envs/tabular/lib/python3.10/site-packages/pytorch_lightning/callbacks/model_checkpoint.py:639: Checkpoint directory /home/max/Documents/PA/pytorch_tabular/machine_learning/saved_models exists and is not empty.\n",
      "LOCAL_RANK: 0 - CUDA_VISIBLE_DEVICES: [0]\n",
      "/home/max/anaconda3/envs/tabular/lib/python3.10/site-packages/pytorch_lightning/loops/fit_loop.py:293: The number of training batches (22) is smaller than the logging interval Trainer(log_every_n_steps=50). Set a lower value for log_every_n_steps if you want to see logs for the training epoch.\n"
     ]
    },
    {
     "data": {
      "application/vnd.jupyter.widget-view+json": {
       "model_id": "c459e77da946470e850dfb8a92bea34d",
       "version_major": 2,
       "version_minor": 0
      },
      "text/plain": [
       "Finding best initial lr:   0%|          | 0/100 [00:00<?, ?it/s]"
      ]
     },
     "metadata": {},
     "output_type": "display_data"
    },
    {
     "name": "stderr",
     "output_type": "stream",
     "text": [
      "`Trainer.fit` stopped: `max_steps=100` reached.\n",
      "Learning rate set to 0.0003019951720402019\n",
      "Restoring states from the checkpoint path at /home/max/Documents/PA/pytorch_tabular/machine_learning/.lr_find_1fde7199-0b15-4823-84b7-c40220766f05.ckpt\n",
      "Restored all states from the checkpoint at /home/max/Documents/PA/pytorch_tabular/machine_learning/.lr_find_1fde7199-0b15-4823-84b7-c40220766f05.ckpt\n",
      "LOCAL_RANK: 0 - CUDA_VISIBLE_DEVICES: [0]\n"
     ]
    },
    {
     "data": {
      "text/html": [
       "<pre style=\"white-space:pre;overflow-x:auto;line-height:normal;font-family:Menlo,'DejaVu Sans Mono',consolas,'Courier New',monospace\">┏━━━┳━━━━━━━━━━━━━━━━━━┳━━━━━━━━━━━━━━━━━━━━━━━━━━━┳━━━━━━━━┓\n",
       "┃<span style=\"color: #800080; text-decoration-color: #800080; font-weight: bold\">   </span>┃<span style=\"color: #800080; text-decoration-color: #800080; font-weight: bold\"> Name             </span>┃<span style=\"color: #800080; text-decoration-color: #800080; font-weight: bold\"> Type                      </span>┃<span style=\"color: #800080; text-decoration-color: #800080; font-weight: bold\"> Params </span>┃\n",
       "┡━━━╇━━━━━━━━━━━━━━━━━━╇━━━━━━━━━━━━━━━━━━━━━━━━━━━╇━━━━━━━━┩\n",
       "│<span style=\"color: #7f7f7f; text-decoration-color: #7f7f7f\"> 0 </span>│ _backbone        │ CategoryEmbeddingBackbone │ 11.6 K │\n",
       "│<span style=\"color: #7f7f7f; text-decoration-color: #7f7f7f\"> 1 </span>│ _embedding_layer │ Embedding1dLayer          │     18 │\n",
       "│<span style=\"color: #7f7f7f; text-decoration-color: #7f7f7f\"> 2 </span>│ head             │ LinearHead                │     66 │\n",
       "│<span style=\"color: #7f7f7f; text-decoration-color: #7f7f7f\"> 3 </span>│ loss             │ CrossEntropyLoss          │      0 │\n",
       "└───┴──────────────────┴───────────────────────────┴────────┘\n",
       "</pre>\n"
      ],
      "text/plain": [
       "┏━━━┳━━━━━━━━━━━━━━━━━━┳━━━━━━━━━━━━━━━━━━━━━━━━━━━┳━━━━━━━━┓\n",
       "┃\u001b[1;35m \u001b[0m\u001b[1;35m \u001b[0m\u001b[1;35m \u001b[0m┃\u001b[1;35m \u001b[0m\u001b[1;35mName            \u001b[0m\u001b[1;35m \u001b[0m┃\u001b[1;35m \u001b[0m\u001b[1;35mType                     \u001b[0m\u001b[1;35m \u001b[0m┃\u001b[1;35m \u001b[0m\u001b[1;35mParams\u001b[0m\u001b[1;35m \u001b[0m┃\n",
       "┡━━━╇━━━━━━━━━━━━━━━━━━╇━━━━━━━━━━━━━━━━━━━━━━━━━━━╇━━━━━━━━┩\n",
       "│\u001b[2m \u001b[0m\u001b[2m0\u001b[0m\u001b[2m \u001b[0m│ _backbone        │ CategoryEmbeddingBackbone │ 11.6 K │\n",
       "│\u001b[2m \u001b[0m\u001b[2m1\u001b[0m\u001b[2m \u001b[0m│ _embedding_layer │ Embedding1dLayer          │     18 │\n",
       "│\u001b[2m \u001b[0m\u001b[2m2\u001b[0m\u001b[2m \u001b[0m│ head             │ LinearHead                │     66 │\n",
       "│\u001b[2m \u001b[0m\u001b[2m3\u001b[0m\u001b[2m \u001b[0m│ loss             │ CrossEntropyLoss          │      0 │\n",
       "└───┴──────────────────┴───────────────────────────┴────────┘\n"
      ]
     },
     "metadata": {},
     "output_type": "display_data"
    },
    {
     "data": {
      "text/html": [
       "<pre style=\"white-space:pre;overflow-x:auto;line-height:normal;font-family:Menlo,'DejaVu Sans Mono',consolas,'Courier New',monospace\"><span style=\"font-weight: bold\">Trainable params</span>: 11.7 K                                                                                           \n",
       "<span style=\"font-weight: bold\">Non-trainable params</span>: 0                                                                                            \n",
       "<span style=\"font-weight: bold\">Total params</span>: 11.7 K                                                                                               \n",
       "<span style=\"font-weight: bold\">Total estimated model params size (MB)</span>: 0                                                                          \n",
       "</pre>\n"
      ],
      "text/plain": [
       "\u001b[1mTrainable params\u001b[0m: 11.7 K                                                                                           \n",
       "\u001b[1mNon-trainable params\u001b[0m: 0                                                                                            \n",
       "\u001b[1mTotal params\u001b[0m: 11.7 K                                                                                               \n",
       "\u001b[1mTotal estimated model params size (MB)\u001b[0m: 0                                                                          \n"
      ]
     },
     "metadata": {},
     "output_type": "display_data"
    },
    {
     "data": {
      "application/vnd.jupyter.widget-view+json": {
       "model_id": "84696be397fc4cce9548cd4604a6ef03",
       "version_major": 2,
       "version_minor": 0
      },
      "text/plain": [
       "Output()"
      ]
     },
     "metadata": {},
     "output_type": "display_data"
    },
    {
     "data": {
      "text/html": [
       "<pre style=\"white-space:pre;overflow-x:auto;line-height:normal;font-family:Menlo,'DejaVu Sans Mono',consolas,'Courier New',monospace\"></pre>\n"
      ],
      "text/plain": []
     },
     "metadata": {},
     "output_type": "display_data"
    },
    {
     "data": {
      "text/plain": [
       "<pytorch_lightning.trainer.trainer.Trainer at 0x7cde188a46a0>"
      ]
     },
     "execution_count": 13,
     "metadata": {},
     "output_type": "execute_result"
    }
   ],
   "source": [
    "best_model.fit(train=train, validation=valid)"
   ]
  },
  {
   "cell_type": "code",
   "execution_count": 14,
   "id": "026c5a9c-2e6f-4068-bca3-f907e9a362dd",
   "metadata": {},
   "outputs": [
    {
     "name": "stderr",
     "output_type": "stream",
     "text": [
      "LOCAL_RANK: 0 - CUDA_VISIBLE_DEVICES: [0]\n"
     ]
    },
    {
     "data": {
      "application/vnd.jupyter.widget-view+json": {
       "model_id": "cb7b07f7a3964b1dac7d4537686aaeb3",
       "version_major": 2,
       "version_minor": 0
      },
      "text/plain": [
       "Output()"
      ]
     },
     "metadata": {},
     "output_type": "display_data"
    },
    {
     "data": {
      "text/html": [
       "<pre style=\"white-space:pre;overflow-x:auto;line-height:normal;font-family:Menlo,'DejaVu Sans Mono',consolas,'Courier New',monospace\">┏━━━━━━━━━━━━━━━━━━━━━━━━━━━┳━━━━━━━━━━━━━━━━━━━━━━━━━━━┓\n",
       "┃<span style=\"font-weight: bold\">        Test metric        </span>┃<span style=\"font-weight: bold\">       DataLoader 0        </span>┃\n",
       "┡━━━━━━━━━━━━━━━━━━━━━━━━━━━╇━━━━━━━━━━━━━━━━━━━━━━━━━━━┩\n",
       "│<span style=\"color: #008080; text-decoration-color: #008080\">       test_accuracy       </span>│<span style=\"color: #800080; text-decoration-color: #800080\">    0.6490066051483154     </span>│\n",
       "│<span style=\"color: #008080; text-decoration-color: #008080\">         test_loss         </span>│<span style=\"color: #800080; text-decoration-color: #800080\">    0.5982664227485657     </span>│\n",
       "│<span style=\"color: #008080; text-decoration-color: #008080\">        test_loss_0        </span>│<span style=\"color: #800080; text-decoration-color: #800080\">    0.5982664227485657     </span>│\n",
       "└───────────────────────────┴───────────────────────────┘\n",
       "</pre>\n"
      ],
      "text/plain": [
       "┏━━━━━━━━━━━━━━━━━━━━━━━━━━━┳━━━━━━━━━━━━━━━━━━━━━━━━━━━┓\n",
       "┃\u001b[1m \u001b[0m\u001b[1m       Test metric       \u001b[0m\u001b[1m \u001b[0m┃\u001b[1m \u001b[0m\u001b[1m      DataLoader 0       \u001b[0m\u001b[1m \u001b[0m┃\n",
       "┡━━━━━━━━━━━━━━━━━━━━━━━━━━━╇━━━━━━━━━━━━━━━━━━━━━━━━━━━┩\n",
       "│\u001b[36m \u001b[0m\u001b[36m      test_accuracy      \u001b[0m\u001b[36m \u001b[0m│\u001b[35m \u001b[0m\u001b[35m   0.6490066051483154    \u001b[0m\u001b[35m \u001b[0m│\n",
       "│\u001b[36m \u001b[0m\u001b[36m        test_loss        \u001b[0m\u001b[36m \u001b[0m│\u001b[35m \u001b[0m\u001b[35m   0.5982664227485657    \u001b[0m\u001b[35m \u001b[0m│\n",
       "│\u001b[36m \u001b[0m\u001b[36m       test_loss_0       \u001b[0m\u001b[36m \u001b[0m│\u001b[35m \u001b[0m\u001b[35m   0.5982664227485657    \u001b[0m\u001b[35m \u001b[0m│\n",
       "└───────────────────────────┴───────────────────────────┘\n"
      ]
     },
     "metadata": {},
     "output_type": "display_data"
    },
    {
     "data": {
      "text/html": [
       "<pre style=\"white-space:pre;overflow-x:auto;line-height:normal;font-family:Menlo,'DejaVu Sans Mono',consolas,'Courier New',monospace\"></pre>\n"
      ],
      "text/plain": []
     },
     "metadata": {},
     "output_type": "display_data"
    },
    {
     "data": {
      "text/plain": [
       "[{'test_loss_0': 0.5982664227485657,\n",
       "  'test_loss': 0.5982664227485657,\n",
       "  'test_accuracy': 0.6490066051483154}]"
      ]
     },
     "execution_count": 14,
     "metadata": {},
     "output_type": "execute_result"
    }
   ],
   "source": [
    "best_model.evaluate(test)"
   ]
  },
  {
   "cell_type": "code",
   "execution_count": 15,
   "id": "431cef05-a8e2-4402-aacf-c8c6fad7d8da",
   "metadata": {},
   "outputs": [],
   "source": [
    "# Save best model\n",
    "#best_model.save_model('results/best_model', inference_only=True)"
   ]
  },
  {
   "cell_type": "markdown",
   "id": "4affc056-9d08-4931-8c23-fcd032525c04",
   "metadata": {},
   "source": [
    "## Train Many Models\n",
    "Entre tantas alternativas é difícil saber qual a melhora arquitetura utilizar, sem falar que muitas vezes uma arquitetura tem um desempenho muito bom em determinado assunto/dataset, mas isso não se mostra verdade entre outro cenário, dificultando escolher qual utilizar.\n",
    "\n",
    "Para ajudar nesse dilema o Pytorch Tabular possui a função [model_sweep](https://pytorch-tabular.readthedocs.io/en/latest/apidocs_coreclasses/#pytorch_tabular.model_sweep) que roda todas as arquiteturas com os hiperpâmetros padrões e seu resultado consiste no comparativo entre todos eles. Dessa forma sabemos em qual/quais arquiteturas devemos investir mais tempo para buscar melhorar seus hiperparâmetros.\n",
    "\n",
    "Vamos rodar a categoria \"high_memory\" que irá treinar todos modelos, inclusive os que utilizam bastante memória. Mas não se preocupe, se a memória não for suficiente a biblioteca irá ignorar o modelo e na tabela de resultados irá informar que não tinha memória suficiente (OOM). Ressaltando que pode ser interessante ter um batch_size pequeno para conseguir treinar todos os modelos sem resultar em OOM, ou rodar o modelo específico que deu OOM depois isoladamente com o batch_size que for suficiente :)."
   ]
  },
  {
   "cell_type": "code",
   "execution_count": 16,
   "id": "9b3cda33-ff13-44b1-a1f6-7dd8b96f8027",
   "metadata": {},
   "outputs": [],
   "source": [
    "from pytorch_tabular import model_sweep, tabular_model_sweep"
   ]
  },
  {
   "cell_type": "code",
   "execution_count": 17,
   "id": "71236746-3abf-4887-b311-dc9f19dc9cf6",
   "metadata": {},
   "outputs": [
    {
     "data": {
      "text/plain": [
       "{'lite': [('CategoryEmbeddingModelConfig', {'layers': '256-128-64'}),\n",
       "  ('GANDALFConfig', {'gflu_stages': 6}),\n",
       "  ('TabNetModelConfig',\n",
       "   {'n_d': 32,\n",
       "    'n_a': 32,\n",
       "    'n_steps': 3,\n",
       "    'gamma': 1.5,\n",
       "    'n_independent': 1,\n",
       "    'n_shared': 2})],\n",
       " 'standard': [('CategoryEmbeddingModelConfig', {'layers': '256-128-64'}),\n",
       "  ('CategoryEmbeddingModelConfig', {'layers': '512-128-64'}),\n",
       "  ('GANDALFConfig', {'gflu_stages': 6}),\n",
       "  ('GANDALFConfig', {'gflu_stages': 15}),\n",
       "  ('TabNetModelConfig',\n",
       "   {'n_d': 32,\n",
       "    'n_a': 32,\n",
       "    'n_steps': 3,\n",
       "    'gamma': 1.5,\n",
       "    'n_independent': 1,\n",
       "    'n_shared': 2}),\n",
       "  ('TabNetModelConfig',\n",
       "   {'n_d': 32,\n",
       "    'n_a': 32,\n",
       "    'n_steps': 5,\n",
       "    'gamma': 1.5,\n",
       "    'n_independent': 2,\n",
       "    'n_shared': 3}),\n",
       "  ('FTTransformerConfig', {'num_heads': 4, 'num_attn_blocks': 4})],\n",
       " 'full': ['AutoIntConfig',\n",
       "  'CategoryEmbeddingModelConfig',\n",
       "  'DANetConfig',\n",
       "  'FTTransformerConfig',\n",
       "  'GANDALFConfig',\n",
       "  'GatedAdditiveTreeEnsembleConfig',\n",
       "  'TabNetModelConfig',\n",
       "  'TabTransformerConfig'],\n",
       " 'high_memory': ['AutoIntConfig',\n",
       "  'CategoryEmbeddingModelConfig',\n",
       "  'DANetConfig',\n",
       "  'FTTransformerConfig',\n",
       "  'GANDALFConfig',\n",
       "  'GatedAdditiveTreeEnsembleConfig',\n",
       "  'NodeConfig',\n",
       "  'TabNetModelConfig',\n",
       "  'TabTransformerConfig']}"
      ]
     },
     "execution_count": 17,
     "metadata": {},
     "output_type": "execute_result"
    }
   ],
   "source": [
    "tabular_model_sweep.MODEL_SWEEP_PRESETS"
   ]
  },
  {
   "cell_type": "code",
   "execution_count": 18,
   "id": "fa294148-23cd-46f6-b798-7940409e5652",
   "metadata": {
    "scrolled": true
   },
   "outputs": [
    {
     "data": {
      "application/vnd.jupyter.widget-view+json": {
       "model_id": "99d0fab218254bccab6f022a38b625e3",
       "version_major": 2,
       "version_minor": 0
      },
      "text/plain": [
       "Output()"
      ]
     },
     "metadata": {},
     "output_type": "display_data"
    },
    {
     "name": "stderr",
     "output_type": "stream",
     "text": [
      "/home/max/anaconda3/envs/tabular/lib/python3.10/site-packages/pytorch_tabular/tabular_model_sweep.py:261: UserWarning: Training Progress bar is not `none`. Set `progress_bar=none` in `trainer_config` to remove this warning\n",
      "  warnings.warn(\n",
      "/home/max/anaconda3/envs/tabular/lib/python3.10/site-packages/pytorch_tabular/tabular_model_sweep.py:268: UserWarning: The full model list is quite large and uses a lot of memory. Consider using `lite` or define configs yourselves for a faster run\n",
      "  warnings.warn(\n"
     ]
    },
    {
     "data": {
      "text/html": [
       "<pre style=\"white-space:pre;overflow-x:auto;line-height:normal;font-family:Menlo,'DejaVu Sans Mono',consolas,'Courier New',monospace\">/home/max/anaconda3/envs/tabular/lib/python3.10/site-packages/pytorch_lightning/callbacks/model_checkpoint.py:639: \n",
       "Checkpoint directory /home/max/Documents/PA/pytorch_tabular/machine_learning/saved_models exists and is not empty.\n",
       "</pre>\n"
      ],
      "text/plain": [
       "/home/max/anaconda3/envs/tabular/lib/python3.10/site-packages/pytorch_lightning/callbacks/model_checkpoint.py:639: \n",
       "Checkpoint directory /home/max/Documents/PA/pytorch_tabular/machine_learning/saved_models exists and is not empty.\n"
      ]
     },
     "metadata": {},
     "output_type": "display_data"
    },
    {
     "data": {
      "text/html": [
       "<pre style=\"white-space:pre;overflow-x:auto;line-height:normal;font-family:Menlo,'DejaVu Sans Mono',consolas,'Courier New',monospace\">/home/max/anaconda3/envs/tabular/lib/python3.10/site-packages/pytorch_lightning/loops/fit_loop.py:293: The number \n",
       "of training batches (18) is smaller than the logging interval Trainer(log_every_n_steps=50). Set a lower value for \n",
       "log_every_n_steps if you want to see logs for the training epoch.\n",
       "</pre>\n"
      ],
      "text/plain": [
       "/home/max/anaconda3/envs/tabular/lib/python3.10/site-packages/pytorch_lightning/loops/fit_loop.py:293: The number \n",
       "of training batches (18) is smaller than the logging interval Trainer(log_every_n_steps=50). Set a lower value for \n",
       "log_every_n_steps if you want to see logs for the training epoch.\n"
      ]
     },
     "metadata": {},
     "output_type": "display_data"
    },
    {
     "data": {
      "application/vnd.jupyter.widget-view+json": {
       "model_id": "dc0330a90fab44c391595eded3e7b903",
       "version_major": 2,
       "version_minor": 0
      },
      "text/plain": [
       "Finding best initial lr:   0%|          | 0/100 [00:00<?, ?it/s]"
      ]
     },
     "metadata": {},
     "output_type": "display_data"
    },
    {
     "data": {
      "text/html": [
       "<pre style=\"white-space:pre;overflow-x:auto;line-height:normal;font-family:Menlo,'DejaVu Sans Mono',consolas,'Courier New',monospace\">/home/max/anaconda3/envs/tabular/lib/python3.10/site-packages/pytorch_lightning/callbacks/model_checkpoint.py:639: \n",
       "Checkpoint directory /home/max/Documents/PA/pytorch_tabular/machine_learning/saved_models exists and is not empty.\n",
       "</pre>\n"
      ],
      "text/plain": [
       "/home/max/anaconda3/envs/tabular/lib/python3.10/site-packages/pytorch_lightning/callbacks/model_checkpoint.py:639: \n",
       "Checkpoint directory /home/max/Documents/PA/pytorch_tabular/machine_learning/saved_models exists and is not empty.\n"
      ]
     },
     "metadata": {},
     "output_type": "display_data"
    },
    {
     "data": {
      "text/html": [
       "<pre style=\"white-space:pre;overflow-x:auto;line-height:normal;font-family:Menlo,'DejaVu Sans Mono',consolas,'Courier New',monospace\">/home/max/anaconda3/envs/tabular/lib/python3.10/site-packages/pytorch_lightning/loops/fit_loop.py:293: The number \n",
       "of training batches (18) is smaller than the logging interval Trainer(log_every_n_steps=50). Set a lower value for \n",
       "log_every_n_steps if you want to see logs for the training epoch.\n",
       "</pre>\n"
      ],
      "text/plain": [
       "/home/max/anaconda3/envs/tabular/lib/python3.10/site-packages/pytorch_lightning/loops/fit_loop.py:293: The number \n",
       "of training batches (18) is smaller than the logging interval Trainer(log_every_n_steps=50). Set a lower value for \n",
       "log_every_n_steps if you want to see logs for the training epoch.\n"
      ]
     },
     "metadata": {},
     "output_type": "display_data"
    },
    {
     "data": {
      "application/vnd.jupyter.widget-view+json": {
       "model_id": "b7c8b064617146da9febc79036c0ad09",
       "version_major": 2,
       "version_minor": 0
      },
      "text/plain": [
       "Finding best initial lr:   0%|          | 0/100 [00:00<?, ?it/s]"
      ]
     },
     "metadata": {},
     "output_type": "display_data"
    },
    {
     "data": {
      "text/html": [
       "<pre style=\"white-space:pre;overflow-x:auto;line-height:normal;font-family:Menlo,'DejaVu Sans Mono',consolas,'Courier New',monospace\">/home/max/anaconda3/envs/tabular/lib/python3.10/site-packages/pytorch_tabular/models/danet/danet.py:115: \n",
       "UserWarning: virtual_batch_size(256) is greater than batch_size (64). Setting virtual_batch_size to 64. DANet uses \n",
       "Ghost Batch Normalization, which works best when virtual_batch_size is small. Consider setting virtual_batch_size \n",
       "to something like 256 or 512.\n",
       "  warnings.warn(\n",
       "</pre>\n"
      ],
      "text/plain": [
       "/home/max/anaconda3/envs/tabular/lib/python3.10/site-packages/pytorch_tabular/models/danet/danet.py:115: \n",
       "UserWarning: virtual_batch_size(256) is greater than batch_size (64). Setting virtual_batch_size to 64. DANet uses \n",
       "Ghost Batch Normalization, which works best when virtual_batch_size is small. Consider setting virtual_batch_size \n",
       "to something like 256 or 512.\n",
       "  warnings.warn(\n"
      ]
     },
     "metadata": {},
     "output_type": "display_data"
    },
    {
     "data": {
      "text/html": [
       "<pre style=\"white-space:pre;overflow-x:auto;line-height:normal;font-family:Menlo,'DejaVu Sans Mono',consolas,'Courier New',monospace\">/home/max/anaconda3/envs/tabular/lib/python3.10/site-packages/pytorch_lightning/callbacks/model_checkpoint.py:639: \n",
       "Checkpoint directory /home/max/Documents/PA/pytorch_tabular/machine_learning/saved_models exists and is not empty.\n",
       "</pre>\n"
      ],
      "text/plain": [
       "/home/max/anaconda3/envs/tabular/lib/python3.10/site-packages/pytorch_lightning/callbacks/model_checkpoint.py:639: \n",
       "Checkpoint directory /home/max/Documents/PA/pytorch_tabular/machine_learning/saved_models exists and is not empty.\n"
      ]
     },
     "metadata": {},
     "output_type": "display_data"
    },
    {
     "data": {
      "text/html": [
       "<pre style=\"white-space:pre;overflow-x:auto;line-height:normal;font-family:Menlo,'DejaVu Sans Mono',consolas,'Courier New',monospace\">/home/max/anaconda3/envs/tabular/lib/python3.10/site-packages/pytorch_lightning/loops/fit_loop.py:293: The number \n",
       "of training batches (18) is smaller than the logging interval Trainer(log_every_n_steps=50). Set a lower value for \n",
       "log_every_n_steps if you want to see logs for the training epoch.\n",
       "</pre>\n"
      ],
      "text/plain": [
       "/home/max/anaconda3/envs/tabular/lib/python3.10/site-packages/pytorch_lightning/loops/fit_loop.py:293: The number \n",
       "of training batches (18) is smaller than the logging interval Trainer(log_every_n_steps=50). Set a lower value for \n",
       "log_every_n_steps if you want to see logs for the training epoch.\n"
      ]
     },
     "metadata": {},
     "output_type": "display_data"
    },
    {
     "data": {
      "application/vnd.jupyter.widget-view+json": {
       "model_id": "9398b946058b4557b8b2d9059d703dd6",
       "version_major": 2,
       "version_minor": 0
      },
      "text/plain": [
       "Finding best initial lr:   0%|          | 0/100 [00:00<?, ?it/s]"
      ]
     },
     "metadata": {},
     "output_type": "display_data"
    },
    {
     "data": {
      "text/html": [
       "<pre style=\"white-space:pre;overflow-x:auto;line-height:normal;font-family:Menlo,'DejaVu Sans Mono',consolas,'Courier New',monospace\">/home/max/anaconda3/envs/tabular/lib/python3.10/site-packages/pytorch_lightning/callbacks/model_checkpoint.py:639: \n",
       "Checkpoint directory /home/max/Documents/PA/pytorch_tabular/machine_learning/saved_models exists and is not empty.\n",
       "</pre>\n"
      ],
      "text/plain": [
       "/home/max/anaconda3/envs/tabular/lib/python3.10/site-packages/pytorch_lightning/callbacks/model_checkpoint.py:639: \n",
       "Checkpoint directory /home/max/Documents/PA/pytorch_tabular/machine_learning/saved_models exists and is not empty.\n"
      ]
     },
     "metadata": {},
     "output_type": "display_data"
    },
    {
     "data": {
      "text/html": [
       "<pre style=\"white-space:pre;overflow-x:auto;line-height:normal;font-family:Menlo,'DejaVu Sans Mono',consolas,'Courier New',monospace\">/home/max/anaconda3/envs/tabular/lib/python3.10/site-packages/pytorch_lightning/loops/fit_loop.py:293: The number \n",
       "of training batches (18) is smaller than the logging interval Trainer(log_every_n_steps=50). Set a lower value for \n",
       "log_every_n_steps if you want to see logs for the training epoch.\n",
       "</pre>\n"
      ],
      "text/plain": [
       "/home/max/anaconda3/envs/tabular/lib/python3.10/site-packages/pytorch_lightning/loops/fit_loop.py:293: The number \n",
       "of training batches (18) is smaller than the logging interval Trainer(log_every_n_steps=50). Set a lower value for \n",
       "log_every_n_steps if you want to see logs for the training epoch.\n"
      ]
     },
     "metadata": {},
     "output_type": "display_data"
    },
    {
     "data": {
      "application/vnd.jupyter.widget-view+json": {
       "model_id": "9ec78ac657254f4b992bcf93f9932d8f",
       "version_major": 2,
       "version_minor": 0
      },
      "text/plain": [
       "Finding best initial lr:   0%|          | 0/100 [00:00<?, ?it/s]"
      ]
     },
     "metadata": {},
     "output_type": "display_data"
    },
    {
     "data": {
      "text/html": [
       "<pre style=\"white-space:pre;overflow-x:auto;line-height:normal;font-family:Menlo,'DejaVu Sans Mono',consolas,'Courier New',monospace\">/home/max/anaconda3/envs/tabular/lib/python3.10/site-packages/pytorch_lightning/callbacks/model_checkpoint.py:639: \n",
       "Checkpoint directory /home/max/Documents/PA/pytorch_tabular/machine_learning/saved_models exists and is not empty.\n",
       "</pre>\n"
      ],
      "text/plain": [
       "/home/max/anaconda3/envs/tabular/lib/python3.10/site-packages/pytorch_lightning/callbacks/model_checkpoint.py:639: \n",
       "Checkpoint directory /home/max/Documents/PA/pytorch_tabular/machine_learning/saved_models exists and is not empty.\n"
      ]
     },
     "metadata": {},
     "output_type": "display_data"
    },
    {
     "data": {
      "text/html": [
       "<pre style=\"white-space:pre;overflow-x:auto;line-height:normal;font-family:Menlo,'DejaVu Sans Mono',consolas,'Courier New',monospace\">/home/max/anaconda3/envs/tabular/lib/python3.10/site-packages/pytorch_lightning/loops/fit_loop.py:293: The number \n",
       "of training batches (18) is smaller than the logging interval Trainer(log_every_n_steps=50). Set a lower value for \n",
       "log_every_n_steps if you want to see logs for the training epoch.\n",
       "</pre>\n"
      ],
      "text/plain": [
       "/home/max/anaconda3/envs/tabular/lib/python3.10/site-packages/pytorch_lightning/loops/fit_loop.py:293: The number \n",
       "of training batches (18) is smaller than the logging interval Trainer(log_every_n_steps=50). Set a lower value for \n",
       "log_every_n_steps if you want to see logs for the training epoch.\n"
      ]
     },
     "metadata": {},
     "output_type": "display_data"
    },
    {
     "data": {
      "application/vnd.jupyter.widget-view+json": {
       "model_id": "0b2c7354e2334cc194606e2f1e6f1de3",
       "version_major": 2,
       "version_minor": 0
      },
      "text/plain": [
       "Finding best initial lr:   0%|          | 0/100 [00:00<?, ?it/s]"
      ]
     },
     "metadata": {},
     "output_type": "display_data"
    },
    {
     "data": {
      "text/html": [
       "<pre style=\"white-space:pre;overflow-x:auto;line-height:normal;font-family:Menlo,'DejaVu Sans Mono',consolas,'Courier New',monospace\">/home/max/anaconda3/envs/tabular/lib/python3.10/site-packages/pytorch_lightning/callbacks/model_checkpoint.py:639: \n",
       "Checkpoint directory /home/max/Documents/PA/pytorch_tabular/machine_learning/saved_models exists and is not empty.\n",
       "</pre>\n"
      ],
      "text/plain": [
       "/home/max/anaconda3/envs/tabular/lib/python3.10/site-packages/pytorch_lightning/callbacks/model_checkpoint.py:639: \n",
       "Checkpoint directory /home/max/Documents/PA/pytorch_tabular/machine_learning/saved_models exists and is not empty.\n"
      ]
     },
     "metadata": {},
     "output_type": "display_data"
    },
    {
     "data": {
      "text/html": [
       "<pre style=\"white-space:pre;overflow-x:auto;line-height:normal;font-family:Menlo,'DejaVu Sans Mono',consolas,'Courier New',monospace\">/home/max/anaconda3/envs/tabular/lib/python3.10/site-packages/pytorch_lightning/loops/fit_loop.py:293: The number \n",
       "of training batches (18) is smaller than the logging interval Trainer(log_every_n_steps=50). Set a lower value for \n",
       "log_every_n_steps if you want to see logs for the training epoch.\n",
       "</pre>\n"
      ],
      "text/plain": [
       "/home/max/anaconda3/envs/tabular/lib/python3.10/site-packages/pytorch_lightning/loops/fit_loop.py:293: The number \n",
       "of training batches (18) is smaller than the logging interval Trainer(log_every_n_steps=50). Set a lower value for \n",
       "log_every_n_steps if you want to see logs for the training epoch.\n"
      ]
     },
     "metadata": {},
     "output_type": "display_data"
    },
    {
     "data": {
      "application/vnd.jupyter.widget-view+json": {
       "model_id": "31ce2d3276b44040915eec4e193a8895",
       "version_major": 2,
       "version_minor": 0
      },
      "text/plain": [
       "Finding best initial lr:   0%|          | 0/100 [00:00<?, ?it/s]"
      ]
     },
     "metadata": {},
     "output_type": "display_data"
    },
    {
     "data": {
      "text/html": [
       "<pre style=\"white-space:pre;overflow-x:auto;line-height:normal;font-family:Menlo,'DejaVu Sans Mono',consolas,'Courier New',monospace\">/home/max/anaconda3/envs/tabular/lib/python3.10/site-packages/pytorch_tabular/models/node/node_model.py:111: \n",
       "UserWarning: Ignoring head config because NODE has a specific head which subsets the tree outputs\n",
       "  warnings.warn(\"Ignoring head config because NODE has a specific head which subsets the tree outputs\")\n",
       "</pre>\n"
      ],
      "text/plain": [
       "/home/max/anaconda3/envs/tabular/lib/python3.10/site-packages/pytorch_tabular/models/node/node_model.py:111: \n",
       "UserWarning: Ignoring head config because NODE has a specific head which subsets the tree outputs\n",
       "  warnings.warn(\"Ignoring head config because NODE has a specific head which subsets the tree outputs\")\n"
      ]
     },
     "metadata": {},
     "output_type": "display_data"
    },
    {
     "data": {
      "text/html": [
       "<pre style=\"white-space:pre;overflow-x:auto;line-height:normal;font-family:Menlo,'DejaVu Sans Mono',consolas,'Courier New',monospace\"><span style=\"color: #008080; text-decoration-color: #008080; font-weight: bold\">2025</span>-<span style=\"color: #008080; text-decoration-color: #008080; font-weight: bold\">02</span>-<span style=\"color: #008080; text-decoration-color: #008080; font-weight: bold\">08</span> <span style=\"color: #00ff00; text-decoration-color: #00ff00; font-weight: bold\">16:07:03</span>,<span style=\"color: #008080; text-decoration-color: #008080; font-weight: bold\">579</span> - <span style=\"font-weight: bold\">{</span>pytorch_tabular.models.node.node_model:<span style=\"color: #008080; text-decoration-color: #008080; font-weight: bold\">74</span><span style=\"font-weight: bold\">}</span> - INFO - Data Aware Initialization of NODE   \n",
       "using a forward pass with <span style=\"color: #008080; text-decoration-color: #008080; font-weight: bold\">2000</span> batch size<span style=\"color: #808000; text-decoration-color: #808000\">...</span>.                                                                      \n",
       "</pre>\n"
      ],
      "text/plain": [
       "\u001b[1;36m2025\u001b[0m-\u001b[1;36m02\u001b[0m-\u001b[1;36m08\u001b[0m \u001b[1;92m16:07:03\u001b[0m,\u001b[1;36m579\u001b[0m - \u001b[1m{\u001b[0mpytorch_tabular.models.node.node_model:\u001b[1;36m74\u001b[0m\u001b[1m}\u001b[0m - INFO - Data Aware Initialization of NODE   \n",
       "using a forward pass with \u001b[1;36m2000\u001b[0m batch size\u001b[33m...\u001b[0m.                                                                      \n"
      ]
     },
     "metadata": {},
     "output_type": "display_data"
    },
    {
     "data": {
      "text/html": [
       "<pre style=\"white-space:pre;overflow-x:auto;line-height:normal;font-family:Menlo,'DejaVu Sans Mono',consolas,'Courier New',monospace\">/home/max/anaconda3/envs/tabular/lib/python3.10/site-packages/pytorch_lightning/callbacks/model_checkpoint.py:639: \n",
       "Checkpoint directory /home/max/Documents/PA/pytorch_tabular/machine_learning/saved_models exists and is not empty.\n",
       "</pre>\n"
      ],
      "text/plain": [
       "/home/max/anaconda3/envs/tabular/lib/python3.10/site-packages/pytorch_lightning/callbacks/model_checkpoint.py:639: \n",
       "Checkpoint directory /home/max/Documents/PA/pytorch_tabular/machine_learning/saved_models exists and is not empty.\n"
      ]
     },
     "metadata": {},
     "output_type": "display_data"
    },
    {
     "data": {
      "text/html": [
       "<pre style=\"white-space:pre;overflow-x:auto;line-height:normal;font-family:Menlo,'DejaVu Sans Mono',consolas,'Courier New',monospace\">/home/max/anaconda3/envs/tabular/lib/python3.10/site-packages/pytorch_lightning/loops/fit_loop.py:293: The number \n",
       "of training batches (18) is smaller than the logging interval Trainer(log_every_n_steps=50). Set a lower value for \n",
       "log_every_n_steps if you want to see logs for the training epoch.\n",
       "</pre>\n"
      ],
      "text/plain": [
       "/home/max/anaconda3/envs/tabular/lib/python3.10/site-packages/pytorch_lightning/loops/fit_loop.py:293: The number \n",
       "of training batches (18) is smaller than the logging interval Trainer(log_every_n_steps=50). Set a lower value for \n",
       "log_every_n_steps if you want to see logs for the training epoch.\n"
      ]
     },
     "metadata": {},
     "output_type": "display_data"
    },
    {
     "data": {
      "application/vnd.jupyter.widget-view+json": {
       "model_id": "958a9c4ddd7b49cf827eec60b239824c",
       "version_major": 2,
       "version_minor": 0
      },
      "text/plain": [
       "Finding best initial lr:   0%|          | 0/100 [00:00<?, ?it/s]"
      ]
     },
     "metadata": {},
     "output_type": "display_data"
    },
    {
     "data": {
      "text/html": [
       "<pre style=\"white-space:pre;overflow-x:auto;line-height:normal;font-family:Menlo,'DejaVu Sans Mono',consolas,'Courier New',monospace\"><span style=\"color: #008080; text-decoration-color: #008080; font-weight: bold\">2025</span>-<span style=\"color: #008080; text-decoration-color: #008080; font-weight: bold\">02</span>-<span style=\"color: #008080; text-decoration-color: #008080; font-weight: bold\">08</span> <span style=\"color: #00ff00; text-decoration-color: #00ff00; font-weight: bold\">16:07:10</span>,<span style=\"color: #008080; text-decoration-color: #008080; font-weight: bold\">562</span> - <span style=\"font-weight: bold\">{</span>pytorch_tabular.models.node.node_model:<span style=\"color: #008080; text-decoration-color: #008080; font-weight: bold\">74</span><span style=\"font-weight: bold\">}</span> - INFO - Data Aware Initialization of NODE   \n",
       "using a forward pass with <span style=\"color: #008080; text-decoration-color: #008080; font-weight: bold\">2000</span> batch size<span style=\"color: #808000; text-decoration-color: #808000\">...</span>.                                                                      \n",
       "</pre>\n"
      ],
      "text/plain": [
       "\u001b[1;36m2025\u001b[0m-\u001b[1;36m02\u001b[0m-\u001b[1;36m08\u001b[0m \u001b[1;92m16:07:10\u001b[0m,\u001b[1;36m562\u001b[0m - \u001b[1m{\u001b[0mpytorch_tabular.models.node.node_model:\u001b[1;36m74\u001b[0m\u001b[1m}\u001b[0m - INFO - Data Aware Initialization of NODE   \n",
       "using a forward pass with \u001b[1;36m2000\u001b[0m batch size\u001b[33m...\u001b[0m.                                                                      \n"
      ]
     },
     "metadata": {},
     "output_type": "display_data"
    },
    {
     "data": {
      "text/html": [
       "<pre style=\"white-space:pre;overflow-x:auto;line-height:normal;font-family:Menlo,'DejaVu Sans Mono',consolas,'Courier New',monospace\">/home/max/anaconda3/envs/tabular/lib/python3.10/site-packages/pytorch_lightning/callbacks/model_checkpoint.py:639: \n",
       "Checkpoint directory /home/max/Documents/PA/pytorch_tabular/machine_learning/saved_models exists and is not empty.\n",
       "</pre>\n"
      ],
      "text/plain": [
       "/home/max/anaconda3/envs/tabular/lib/python3.10/site-packages/pytorch_lightning/callbacks/model_checkpoint.py:639: \n",
       "Checkpoint directory /home/max/Documents/PA/pytorch_tabular/machine_learning/saved_models exists and is not empty.\n"
      ]
     },
     "metadata": {},
     "output_type": "display_data"
    },
    {
     "data": {
      "text/html": [
       "<pre style=\"white-space:pre;overflow-x:auto;line-height:normal;font-family:Menlo,'DejaVu Sans Mono',consolas,'Courier New',monospace\">/home/max/anaconda3/envs/tabular/lib/python3.10/site-packages/pytorch_lightning/loops/fit_loop.py:293: The number \n",
       "of training batches (18) is smaller than the logging interval Trainer(log_every_n_steps=50). Set a lower value for \n",
       "log_every_n_steps if you want to see logs for the training epoch.\n",
       "</pre>\n"
      ],
      "text/plain": [
       "/home/max/anaconda3/envs/tabular/lib/python3.10/site-packages/pytorch_lightning/loops/fit_loop.py:293: The number \n",
       "of training batches (18) is smaller than the logging interval Trainer(log_every_n_steps=50). Set a lower value for \n",
       "log_every_n_steps if you want to see logs for the training epoch.\n"
      ]
     },
     "metadata": {},
     "output_type": "display_data"
    },
    {
     "data": {
      "application/vnd.jupyter.widget-view+json": {
       "model_id": "eeccf0a4afe2482590c5702f9d800630",
       "version_major": 2,
       "version_minor": 0
      },
      "text/plain": [
       "Finding best initial lr:   0%|          | 0/100 [00:00<?, ?it/s]"
      ]
     },
     "metadata": {},
     "output_type": "display_data"
    },
    {
     "data": {
      "text/html": [
       "<pre style=\"white-space:pre;overflow-x:auto;line-height:normal;font-family:Menlo,'DejaVu Sans Mono',consolas,'Courier New',monospace\">/home/max/anaconda3/envs/tabular/lib/python3.10/site-packages/pytorch_lightning/callbacks/model_checkpoint.py:639: \n",
       "Checkpoint directory /home/max/Documents/PA/pytorch_tabular/machine_learning/saved_models exists and is not empty.\n",
       "</pre>\n"
      ],
      "text/plain": [
       "/home/max/anaconda3/envs/tabular/lib/python3.10/site-packages/pytorch_lightning/callbacks/model_checkpoint.py:639: \n",
       "Checkpoint directory /home/max/Documents/PA/pytorch_tabular/machine_learning/saved_models exists and is not empty.\n"
      ]
     },
     "metadata": {},
     "output_type": "display_data"
    },
    {
     "data": {
      "text/html": [
       "<pre style=\"white-space:pre;overflow-x:auto;line-height:normal;font-family:Menlo,'DejaVu Sans Mono',consolas,'Courier New',monospace\">/home/max/anaconda3/envs/tabular/lib/python3.10/site-packages/pytorch_lightning/loops/fit_loop.py:293: The number \n",
       "of training batches (18) is smaller than the logging interval Trainer(log_every_n_steps=50). Set a lower value for \n",
       "log_every_n_steps if you want to see logs for the training epoch.\n",
       "</pre>\n"
      ],
      "text/plain": [
       "/home/max/anaconda3/envs/tabular/lib/python3.10/site-packages/pytorch_lightning/loops/fit_loop.py:293: The number \n",
       "of training batches (18) is smaller than the logging interval Trainer(log_every_n_steps=50). Set a lower value for \n",
       "log_every_n_steps if you want to see logs for the training epoch.\n"
      ]
     },
     "metadata": {},
     "output_type": "display_data"
    },
    {
     "data": {
      "application/vnd.jupyter.widget-view+json": {
       "model_id": "eed014027b134c8f8efd5dd69e7571c3",
       "version_major": 2,
       "version_minor": 0
      },
      "text/plain": [
       "Finding best initial lr:   0%|          | 0/100 [00:00<?, ?it/s]"
      ]
     },
     "metadata": {},
     "output_type": "display_data"
    },
    {
     "data": {
      "text/html": [
       "<pre style=\"white-space:pre;overflow-x:auto;line-height:normal;font-family:Menlo,'DejaVu Sans Mono',consolas,'Courier New',monospace\"></pre>\n"
      ],
      "text/plain": []
     },
     "metadata": {},
     "output_type": "display_data"
    }
   ],
   "source": [
    "sweep_df, best_model = model_sweep(\n",
    "    task='classification',  # 'classification' or 'regression'\n",
    "    train=train,\n",
    "    test=valid,\n",
    "    data_config=data_config,\n",
    "    optimizer_config=optimizer_config,\n",
    "    trainer_config=trainer_config,\n",
    "    model_list='high_memory',  # The list of models to compare. This can be one of the presets defined in pytorch_tabular.tabular_model_sweep.MODEL_SWEEP_PRESETS or a list of ModelConfig objects. Defaults to \"lite\".\n",
    "    verbose=False\n",
    ")"
   ]
  },
  {
   "cell_type": "markdown",
   "id": "41f86294-0e61-476e-bff5-af43ddca31c1",
   "metadata": {},
   "source": [
    "O melhor checkpoint de todos treinamentos será armazenado na variável de output, que neste caso estamos chamando de \"best_model\"."
   ]
  },
  {
   "cell_type": "code",
   "execution_count": 19,
   "id": "de2217e8-798a-4ddf-b69a-11e4254b49ac",
   "metadata": {},
   "outputs": [
    {
     "data": {
      "text/html": [
       "<pre style=\"white-space:pre;overflow-x:auto;line-height:normal;font-family:Menlo,'DejaVu Sans Mono',consolas,'Courier New',monospace\">┏━━━━━━━━━━━━━━━━━━━━━━━━━━━┳━━━━━━━━━━━━━━━━━━━━━━━━━━━┓\n",
       "┃<span style=\"font-weight: bold\">        Test metric        </span>┃<span style=\"font-weight: bold\">       DataLoader 0        </span>┃\n",
       "┡━━━━━━━━━━━━━━━━━━━━━━━━━━━╇━━━━━━━━━━━━━━━━━━━━━━━━━━━┩\n",
       "│<span style=\"color: #008080; text-decoration-color: #008080\">       test_accuracy       </span>│<span style=\"color: #800080; text-decoration-color: #800080\">     0.695364236831665     </span>│\n",
       "│<span style=\"color: #008080; text-decoration-color: #008080\">         test_loss         </span>│<span style=\"color: #800080; text-decoration-color: #800080\">    0.5931517481803894     </span>│\n",
       "│<span style=\"color: #008080; text-decoration-color: #008080\">        test_loss_0        </span>│<span style=\"color: #800080; text-decoration-color: #800080\">    0.5931517481803894     </span>│\n",
       "└───────────────────────────┴───────────────────────────┘\n",
       "</pre>\n"
      ],
      "text/plain": [
       "┏━━━━━━━━━━━━━━━━━━━━━━━━━━━┳━━━━━━━━━━━━━━━━━━━━━━━━━━━┓\n",
       "┃\u001b[1m \u001b[0m\u001b[1m       Test metric       \u001b[0m\u001b[1m \u001b[0m┃\u001b[1m \u001b[0m\u001b[1m      DataLoader 0       \u001b[0m\u001b[1m \u001b[0m┃\n",
       "┡━━━━━━━━━━━━━━━━━━━━━━━━━━━╇━━━━━━━━━━━━━━━━━━━━━━━━━━━┩\n",
       "│\u001b[36m \u001b[0m\u001b[36m      test_accuracy      \u001b[0m\u001b[36m \u001b[0m│\u001b[35m \u001b[0m\u001b[35m    0.695364236831665    \u001b[0m\u001b[35m \u001b[0m│\n",
       "│\u001b[36m \u001b[0m\u001b[36m        test_loss        \u001b[0m\u001b[36m \u001b[0m│\u001b[35m \u001b[0m\u001b[35m   0.5931517481803894    \u001b[0m\u001b[35m \u001b[0m│\n",
       "│\u001b[36m \u001b[0m\u001b[36m       test_loss_0       \u001b[0m\u001b[36m \u001b[0m│\u001b[35m \u001b[0m\u001b[35m   0.5931517481803894    \u001b[0m\u001b[35m \u001b[0m│\n",
       "└───────────────────────────┴───────────────────────────┘\n"
      ]
     },
     "metadata": {},
     "output_type": "display_data"
    },
    {
     "data": {
      "text/plain": [
       "[{'test_loss_0': 0.5931517481803894,\n",
       "  'test_loss': 0.5931517481803894,\n",
       "  'test_accuracy': 0.695364236831665}]"
      ]
     },
     "execution_count": 19,
     "metadata": {},
     "output_type": "execute_result"
    }
   ],
   "source": [
    "best_model.evaluate(test)"
   ]
  },
  {
   "cell_type": "markdown",
   "id": "56fb7720-6c4e-4e46-8f80-519692c1c2e2",
   "metadata": {},
   "source": [
    "Lembrando que: Cada vez que rodar o treinamento o resultado pode ser diferente!"
   ]
  },
  {
   "cell_type": "code",
   "execution_count": 20,
   "id": "5c8a2493-e2f3-49a2-9ddc-e063f80c8d84",
   "metadata": {},
   "outputs": [
    {
     "data": {
      "text/html": [
       "<style type=\"text/css\">\n",
       "#T_8e067_row0_col4, #T_8e067_row0_col5, #T_8e067_row0_col6, #T_8e067_row1_col4, #T_8e067_row2_col4, #T_8e067_row3_col4, #T_8e067_row4_col4, #T_8e067_row5_col4, #T_8e067_row6_col4, #T_8e067_row8_col4 {\n",
       "  background-color: #006837;\n",
       "  color: #f1f1f1;\n",
       "}\n",
       "#T_8e067_row1_col5, #T_8e067_row1_col6 {\n",
       "  background-color: #08773f;\n",
       "  color: #f1f1f1;\n",
       "}\n",
       "#T_8e067_row2_col5 {\n",
       "  background-color: #219c52;\n",
       "  color: #f1f1f1;\n",
       "}\n",
       "#T_8e067_row2_col6 {\n",
       "  background-color: #1b9950;\n",
       "  color: #f1f1f1;\n",
       "}\n",
       "#T_8e067_row3_col5 {\n",
       "  background-color: #48ae5c;\n",
       "  color: #f1f1f1;\n",
       "}\n",
       "#T_8e067_row3_col6 {\n",
       "  background-color: #e6f59d;\n",
       "  color: #000000;\n",
       "}\n",
       "#T_8e067_row4_col5 {\n",
       "  background-color: #e0f295;\n",
       "  color: #000000;\n",
       "}\n",
       "#T_8e067_row4_col6 {\n",
       "  background-color: #15904c;\n",
       "  color: #f1f1f1;\n",
       "}\n",
       "#T_8e067_row5_col5 {\n",
       "  background-color: #fee18d;\n",
       "  color: #000000;\n",
       "}\n",
       "#T_8e067_row5_col6, #T_8e067_row7_col4, #T_8e067_row8_col5 {\n",
       "  background-color: #a50026;\n",
       "  color: #f1f1f1;\n",
       "}\n",
       "#T_8e067_row6_col5 {\n",
       "  background-color: #feda86;\n",
       "  color: #000000;\n",
       "}\n",
       "#T_8e067_row6_col6 {\n",
       "  background-color: #36a657;\n",
       "  color: #f1f1f1;\n",
       "}\n",
       "#T_8e067_row7_col5 {\n",
       "  background-color: #f26841;\n",
       "  color: #f1f1f1;\n",
       "}\n",
       "#T_8e067_row7_col6 {\n",
       "  background-color: #cbe982;\n",
       "  color: #000000;\n",
       "}\n",
       "#T_8e067_row8_col6 {\n",
       "  background-color: #108647;\n",
       "  color: #f1f1f1;\n",
       "}\n",
       "</style>\n",
       "<table id=\"T_8e067\">\n",
       "  <thead>\n",
       "    <tr>\n",
       "      <th class=\"blank level0\" >&nbsp;</th>\n",
       "      <th id=\"T_8e067_level0_col0\" class=\"col_heading level0 col0\" >model</th>\n",
       "      <th id=\"T_8e067_level0_col1\" class=\"col_heading level0 col1\" ># Params</th>\n",
       "      <th id=\"T_8e067_level0_col2\" class=\"col_heading level0 col2\" >epochs</th>\n",
       "      <th id=\"T_8e067_level0_col3\" class=\"col_heading level0 col3\" >test_loss_0</th>\n",
       "      <th id=\"T_8e067_level0_col4\" class=\"col_heading level0 col4\" >test_loss</th>\n",
       "      <th id=\"T_8e067_level0_col5\" class=\"col_heading level0 col5\" >test_accuracy</th>\n",
       "      <th id=\"T_8e067_level0_col6\" class=\"col_heading level0 col6\" >time_taken_per_epoch</th>\n",
       "    </tr>\n",
       "  </thead>\n",
       "  <tbody>\n",
       "    <tr>\n",
       "      <th id=\"T_8e067_level0_row0\" class=\"row_heading level0 row0\" >1</th>\n",
       "      <td id=\"T_8e067_row0_col0\" class=\"data row0 col0\" >CategoryEmbeddingModel</td>\n",
       "      <td id=\"T_8e067_row0_col1\" class=\"data row0 col1\" >11 T</td>\n",
       "      <td id=\"T_8e067_row0_col2\" class=\"data row0 col2\" >21</td>\n",
       "      <td id=\"T_8e067_row0_col3\" class=\"data row0 col3\" >0.605351</td>\n",
       "      <td id=\"T_8e067_row0_col4\" class=\"data row0 col4\" >0.605351</td>\n",
       "      <td id=\"T_8e067_row0_col5\" class=\"data row0 col5\" >0.708609</td>\n",
       "      <td id=\"T_8e067_row0_col6\" class=\"data row0 col6\" >0.341039</td>\n",
       "    </tr>\n",
       "    <tr>\n",
       "      <th id=\"T_8e067_level0_row1\" class=\"row_heading level0 row1\" >0</th>\n",
       "      <td id=\"T_8e067_row1_col0\" class=\"data row1 col0\" >AutoIntModel</td>\n",
       "      <td id=\"T_8e067_row1_col1\" class=\"data row1 col1\" >14 T</td>\n",
       "      <td id=\"T_8e067_row1_col2\" class=\"data row1 col2\" >14</td>\n",
       "      <td id=\"T_8e067_row1_col3\" class=\"data row1 col3\" >0.614532</td>\n",
       "      <td id=\"T_8e067_row1_col4\" class=\"data row1 col4\" >0.614532</td>\n",
       "      <td id=\"T_8e067_row1_col5\" class=\"data row1 col5\" >0.701987</td>\n",
       "      <td id=\"T_8e067_row1_col6\" class=\"data row1 col6\" >0.434277</td>\n",
       "    </tr>\n",
       "    <tr>\n",
       "      <th id=\"T_8e067_level0_row2\" class=\"row_heading level0 row2\" >7</th>\n",
       "      <td id=\"T_8e067_row2_col0\" class=\"data row2 col0\" >TabNetModel</td>\n",
       "      <td id=\"T_8e067_row2_col1\" class=\"data row2 col1\" >6 T</td>\n",
       "      <td id=\"T_8e067_row2_col2\" class=\"data row2 col2\" >29</td>\n",
       "      <td id=\"T_8e067_row2_col3\" class=\"data row2 col3\" >0.661230</td>\n",
       "      <td id=\"T_8e067_row2_col4\" class=\"data row2 col4\" >0.661230</td>\n",
       "      <td id=\"T_8e067_row2_col5\" class=\"data row2 col5\" >0.685430</td>\n",
       "      <td id=\"T_8e067_row2_col6\" class=\"data row2 col6\" >0.636098</td>\n",
       "    </tr>\n",
       "    <tr>\n",
       "      <th id=\"T_8e067_level0_row3\" class=\"row_heading level0 row3\" >6</th>\n",
       "      <td id=\"T_8e067_row3_col0\" class=\"data row3 col0\" >NODEModel</td>\n",
       "      <td id=\"T_8e067_row3_col1\" class=\"data row3 col1\" >790 T</td>\n",
       "      <td id=\"T_8e067_row3_col2\" class=\"data row3 col2\" >14</td>\n",
       "      <td id=\"T_8e067_row3_col3\" class=\"data row3 col3\" >0.588302</td>\n",
       "      <td id=\"T_8e067_row3_col4\" class=\"data row3 col4\" >0.588302</td>\n",
       "      <td id=\"T_8e067_row3_col5\" class=\"data row3 col5\" >0.675497</td>\n",
       "      <td id=\"T_8e067_row3_col6\" class=\"data row3 col6\" >1.580799</td>\n",
       "    </tr>\n",
       "    <tr>\n",
       "      <th id=\"T_8e067_level0_row4\" class=\"row_heading level0 row4\" >4</th>\n",
       "      <td id=\"T_8e067_row4_col0\" class=\"data row4 col0\" >GANDALFModel</td>\n",
       "      <td id=\"T_8e067_row4_col1\" class=\"data row4 col1\" >3 T</td>\n",
       "      <td id=\"T_8e067_row4_col2\" class=\"data row4 col2\" >15</td>\n",
       "      <td id=\"T_8e067_row4_col3\" class=\"data row4 col3\" >0.689200</td>\n",
       "      <td id=\"T_8e067_row4_col4\" class=\"data row4 col4\" >0.689200</td>\n",
       "      <td id=\"T_8e067_row4_col5\" class=\"data row4 col5\" >0.622517</td>\n",
       "      <td id=\"T_8e067_row4_col6\" class=\"data row4 col6\" >0.582720</td>\n",
       "    </tr>\n",
       "    <tr>\n",
       "      <th id=\"T_8e067_level0_row5\" class=\"row_heading level0 row5\" >5</th>\n",
       "      <td id=\"T_8e067_row5_col0\" class=\"data row5 col0\" >GatedAdditiveTreeEnsembleModel</td>\n",
       "      <td id=\"T_8e067_row5_col1\" class=\"data row5 col1\" >69 T</td>\n",
       "      <td id=\"T_8e067_row5_col2\" class=\"data row5 col2\" >10</td>\n",
       "      <td id=\"T_8e067_row5_col3\" class=\"data row5 col3\" >0.678961</td>\n",
       "      <td id=\"T_8e067_row5_col4\" class=\"data row5 col4\" >0.678961</td>\n",
       "      <td id=\"T_8e067_row5_col5\" class=\"data row5 col5\" >0.586093</td>\n",
       "      <td id=\"T_8e067_row5_col6\" class=\"data row5 col6\" >3.197777</td>\n",
       "    </tr>\n",
       "    <tr>\n",
       "      <th id=\"T_8e067_level0_row6\" class=\"row_heading level0 row6\" >3</th>\n",
       "      <td id=\"T_8e067_row6_col0\" class=\"data row6 col0\" >FTTransformerModel</td>\n",
       "      <td id=\"T_8e067_row6_col1\" class=\"data row6 col1\" >272 T</td>\n",
       "      <td id=\"T_8e067_row6_col2\" class=\"data row6 col2\" >11</td>\n",
       "      <td id=\"T_8e067_row6_col3\" class=\"data row6 col3\" >0.687022</td>\n",
       "      <td id=\"T_8e067_row6_col4\" class=\"data row6 col4\" >0.687022</td>\n",
       "      <td id=\"T_8e067_row6_col5\" class=\"data row6 col5\" >0.582781</td>\n",
       "      <td id=\"T_8e067_row6_col6\" class=\"data row6 col6\" >0.734422</td>\n",
       "    </tr>\n",
       "    <tr>\n",
       "      <th id=\"T_8e067_level0_row7\" class=\"row_heading level0 row7\" >2</th>\n",
       "      <td id=\"T_8e067_row7_col0\" class=\"data row7 col0\" >DANetModel</td>\n",
       "      <td id=\"T_8e067_row7_col1\" class=\"data row7 col1\" >398 T</td>\n",
       "      <td id=\"T_8e067_row7_col2\" class=\"data row7 col2\" >11</td>\n",
       "      <td id=\"T_8e067_row7_col3\" class=\"data row7 col3\" >73.512764</td>\n",
       "      <td id=\"T_8e067_row7_col4\" class=\"data row7 col4\" >73.512764</td>\n",
       "      <td id=\"T_8e067_row7_col5\" class=\"data row7 col5\" >0.543046</td>\n",
       "      <td id=\"T_8e067_row7_col6\" class=\"data row7 col6\" >1.412278</td>\n",
       "    </tr>\n",
       "    <tr>\n",
       "      <th id=\"T_8e067_level0_row8\" class=\"row_heading level0 row8\" >8</th>\n",
       "      <td id=\"T_8e067_row8_col0\" class=\"data row8 col0\" >TabTransformerModel</td>\n",
       "      <td id=\"T_8e067_row8_col1\" class=\"data row8 col1\" >271 T</td>\n",
       "      <td id=\"T_8e067_row8_col2\" class=\"data row8 col2\" >11</td>\n",
       "      <td id=\"T_8e067_row8_col3\" class=\"data row8 col3\" >0.782108</td>\n",
       "      <td id=\"T_8e067_row8_col4\" class=\"data row8 col4\" >0.782108</td>\n",
       "      <td id=\"T_8e067_row8_col5\" class=\"data row8 col5\" >0.503311</td>\n",
       "      <td id=\"T_8e067_row8_col6\" class=\"data row8 col6\" >0.520263</td>\n",
       "    </tr>\n",
       "  </tbody>\n",
       "</table>\n"
      ],
      "text/plain": [
       "<pandas.io.formats.style.Styler at 0x7cdf5b7722c0>"
      ]
     },
     "execution_count": 20,
     "metadata": {},
     "output_type": "execute_result"
    }
   ],
   "source": [
    "# Replace \"OOM\" with 0.0\n",
    "sweep_df.replace([\"OOM\", np.nan], 0.0, inplace=True)\n",
    "sweep_df.replace([np.inf], 999., inplace=True)\n",
    "\n",
    "sweep_df.drop(columns=['params', 'time_taken']).sort_values('test_accuracy', ascending=False).style.background_gradient(\n",
    "    subset=['test_accuracy'], cmap=\"RdYlGn\"\n",
    ").background_gradient(subset=['time_taken_per_epoch', 'test_loss'], cmap='RdYlGn_r')"
   ]
  },
  {
   "cell_type": "code",
   "execution_count": 21,
   "id": "b72c4c16-0908-4184-85be-d188a30c7aa6",
   "metadata": {},
   "outputs": [],
   "source": [
    "# Save best model\n",
    "#best_model.save_model('results/best_model', inference_only=True)"
   ]
  },
  {
   "cell_type": "markdown",
   "id": "813e3158-0db3-482c-b5eb-9be4b5699f78",
   "metadata": {},
   "source": [
    "### Fine-tuning Hyperparametrs\n",
    "Show, agora que sabemos as melhores arquiteturas para o nosso modelo, podemos brincar com ela(s) para buscar melhores hiperparâmetros para termos resultados ainda melhores. Para isso o Pytorch Tabular disponibilizar a função [tuner](https://pytorch-tabular.readthedocs.io/en/latest/apidocs_coreclasses/#pytorch_tabular.TabularModelTuner.tune)."
   ]
  },
  {
   "cell_type": "markdown",
   "id": "7df8050c-c222-4447-99ab-007b56e6c6a8",
   "metadata": {},
   "source": [
    "Configurações dos modelos: https://pytorch-tabular.readthedocs.io/en/latest/apidocs_model/\n",
    "\n",
    "Mais informações de como o hyperparameter space funcionam: https://pytorch-tabular.readthedocs.io/en/latest/tutorials/10-Hyperparameter%20Tuning/#define-the-hyperparameter-space\n",
    "\n",
    "Neste caso vamos pegar as duas arquiteturas que se sairam bem e brinca com elas."
   ]
  },
  {
   "cell_type": "code",
   "execution_count": 22,
   "id": "e3421d5e-7e46-413f-b0ea-06a7afbdeec0",
   "metadata": {},
   "outputs": [],
   "source": [
    "from pytorch_tabular.tabular_model_tuner import TabularModelTuner\n",
    "\n",
    "from pytorch_tabular.models import (\n",
    "    CategoryEmbeddingModelConfig,\n",
    "    AutoIntConfig\n",
    ")   "
   ]
  },
  {
   "cell_type": "markdown",
   "id": "e76edf9a-901d-4b67-808e-d56809661221",
   "metadata": {},
   "source": [
    "As configurações dos spaces que serão utilizados sempre irão começar com nome da configuração, dois underlines e o parâmetro. Sendo seus valores uma lista com todas as configurações que deseja testar."
   ]
  },
  {
   "cell_type": "code",
   "execution_count": 23,
   "id": "80497ee5-5761-4317-8180-df2fe73437ca",
   "metadata": {},
   "outputs": [],
   "source": [
    "model_config_category_embedding = CategoryEmbeddingModelConfig(task=\"classification\")\n",
    "\n",
    "search_space_category_embedding = {\n",
    "    \"optimizer_config__optimizer\": [\"Adam\", \"SGD\"],\n",
    "    \"model_config__layers\": [\"128-64-32\", \"1024-512-256\", \"32-64-128\", \"256-512-1024\"],\n",
    "    \"model_config__activation\": [\"ReLU\", \"LeakyReLU\"],\n",
    "    \"model_config__embedding_dropout\": [0.0, 0.2],\n",
    "}"
   ]
  },
  {
   "cell_type": "code",
   "execution_count": 24,
   "id": "7c8dacdd-24d3-4de7-bc5e-70fccf73e151",
   "metadata": {},
   "outputs": [],
   "source": [
    "model_config_auto_int = AutoIntConfig(task=\"classification\")\n",
    "\n",
    "search_space_auto_int = {\n",
    "    \"optimizer_config__optimizer\": [\"Adam\", \"SGD\"],\n",
    "    \"model_config__layers\": [\"128-64-32\", \"1024-512-256\"],\n",
    "    \"model_config__attn_embed_dim\": [\"32\", \"64\"],\n",
    "    \"model_config__activation\": [\"ReLU\", \"LeakyReLU\"],\n",
    "    \"model_config__embedding_dropout\": [0.0, 0.2],\n",
    "}"
   ]
  },
  {
   "cell_type": "markdown",
   "id": "2d4034f3-946a-480b-888c-0367c35cca54",
   "metadata": {},
   "source": [
    "Para informar o tuner quais arquiteturas e hiperparâmetros testar, é necessário adicioná-los em listas. Ressaltando que ambas listas devem estar ordenadas iguais e ter o mesmo tamanho (irá utilizar primeiro elemento de models com primeiro de search_space, segundo com segundo,...)"
   ]
  },
  {
   "cell_type": "code",
   "execution_count": 25,
   "id": "52004721-37ae-4043-a175-8b9564b3d0db",
   "metadata": {},
   "outputs": [],
   "source": [
    "all_models = [model_config_category_embedding, model_config_auto_int]\n",
    "all_search_space = [search_space_category_embedding, search_space_auto_int]"
   ]
  },
  {
   "cell_type": "markdown",
   "id": "f430eb5c-1704-4c40-a730-4aed62949602",
   "metadata": {},
   "source": [
    "O tuner possui duas \"strategy\" principais:\n",
    "- grid_search: Para pesquisar todos os hiperparâmetros que foram definidos, mas lembre-se que cada novo campo que você adicionar aumentará consideravelmente o tempo total de treinamento. Se você configurar 4 otimizadores, 4 layes, 2 ativações e 2 dropout, isso significa 64 (4 * 4 * 2 * 2) treinamentos.\n",
    "- random_search: Obterá aleatoriamente configurações de hiperparâmetros \"n_trials\" de cada modelo que foi definido. É útil para um treinamento mais rápido, mas lembre-se de que não testará todos os hiperparâmetros."
   ]
  },
  {
   "cell_type": "code",
   "execution_count": 26,
   "id": "9948aea6-f063-4d7a-ac18-78a14ac648e3",
   "metadata": {
    "scrolled": true
   },
   "outputs": [
    {
     "data": {
      "application/vnd.jupyter.widget-view+json": {
       "model_id": "6839dad139c945aeaa202a5db5382e5a",
       "version_major": 2,
       "version_minor": 0
      },
      "text/plain": [
       "Output()"
      ]
     },
     "metadata": {},
     "output_type": "display_data"
    },
    {
     "data": {
      "text/html": [
       "<pre style=\"white-space:pre;overflow-x:auto;line-height:normal;font-family:Menlo,'DejaVu Sans Mono',consolas,'Courier New',monospace\">/home/max/anaconda3/envs/tabular/lib/python3.10/site-packages/pytorch_tabular/tabular_model_tuner.py:281: \n",
       "UserWarning: n_trials is ignored for grid search to do a complete sweep of the grid. Set n_trials=None to turn off \n",
       "this warning.\n",
       "  warnings.warn(\n",
       "</pre>\n"
      ],
      "text/plain": [
       "/home/max/anaconda3/envs/tabular/lib/python3.10/site-packages/pytorch_tabular/tabular_model_tuner.py:281: \n",
       "UserWarning: n_trials is ignored for grid search to do a complete sweep of the grid. Set n_trials=None to turn off \n",
       "this warning.\n",
       "  warnings.warn(\n"
      ]
     },
     "metadata": {},
     "output_type": "display_data"
    },
    {
     "data": {
      "text/html": [
       "<pre style=\"white-space:pre;overflow-x:auto;line-height:normal;font-family:Menlo,'DejaVu Sans Mono',consolas,'Courier New',monospace\">/home/max/anaconda3/envs/tabular/lib/python3.10/site-packages/pytorch_lightning/callbacks/model_checkpoint.py:639: \n",
       "Checkpoint directory /home/max/Documents/PA/pytorch_tabular/machine_learning/saved_models exists and is not empty.\n",
       "</pre>\n"
      ],
      "text/plain": [
       "/home/max/anaconda3/envs/tabular/lib/python3.10/site-packages/pytorch_lightning/callbacks/model_checkpoint.py:639: \n",
       "Checkpoint directory /home/max/Documents/PA/pytorch_tabular/machine_learning/saved_models exists and is not empty.\n"
      ]
     },
     "metadata": {},
     "output_type": "display_data"
    },
    {
     "data": {
      "text/html": [
       "<pre style=\"white-space:pre;overflow-x:auto;line-height:normal;font-family:Menlo,'DejaVu Sans Mono',consolas,'Courier New',monospace\">/home/max/anaconda3/envs/tabular/lib/python3.10/site-packages/pytorch_lightning/loops/fit_loop.py:293: The number \n",
       "of training batches (22) is smaller than the logging interval Trainer(log_every_n_steps=50). Set a lower value for \n",
       "log_every_n_steps if you want to see logs for the training epoch.\n",
       "</pre>\n"
      ],
      "text/plain": [
       "/home/max/anaconda3/envs/tabular/lib/python3.10/site-packages/pytorch_lightning/loops/fit_loop.py:293: The number \n",
       "of training batches (22) is smaller than the logging interval Trainer(log_every_n_steps=50). Set a lower value for \n",
       "log_every_n_steps if you want to see logs for the training epoch.\n"
      ]
     },
     "metadata": {},
     "output_type": "display_data"
    },
    {
     "data": {
      "application/vnd.jupyter.widget-view+json": {
       "model_id": "3ad4bdbb935d43cc9e2a2a64f4c1a8d3",
       "version_major": 2,
       "version_minor": 0
      },
      "text/plain": [
       "Finding best initial lr:   0%|          | 0/100 [00:00<?, ?it/s]"
      ]
     },
     "metadata": {},
     "output_type": "display_data"
    },
    {
     "data": {
      "text/html": [
       "<pre style=\"white-space:pre;overflow-x:auto;line-height:normal;font-family:Menlo,'DejaVu Sans Mono',consolas,'Courier New',monospace\"><span style=\"color: #008080; text-decoration-color: #008080; font-weight: bold\">2025</span>-<span style=\"color: #008080; text-decoration-color: #008080; font-weight: bold\">02</span>-<span style=\"color: #008080; text-decoration-color: #008080; font-weight: bold\">08</span> <span style=\"color: #00ff00; text-decoration-color: #00ff00; font-weight: bold\">16:07:55</span>,<span style=\"color: #008080; text-decoration-color: #008080; font-weight: bold\">661</span> - <span style=\"font-weight: bold\">{</span>pytorch_tabular.tabular_model_tuner:<span style=\"color: #008080; text-decoration-color: #008080; font-weight: bold\">412</span><span style=\"font-weight: bold\">}</span> - INFO - Trial <span style=\"color: #008080; text-decoration-color: #008080; font-weight: bold\">1</span>/<span style=\"color: #008080; text-decoration-color: #008080; font-weight: bold\">32</span>: <span style=\"font-weight: bold\">{</span><span style=\"color: #008000; text-decoration-color: #008000\">'model'</span>:                 \n",
       "<span style=\"color: #008000; text-decoration-color: #008000\">'0-CategoryEmbeddingModelConfig'</span>, <span style=\"color: #008000; text-decoration-color: #008000\">'model_config__activation'</span>: <span style=\"color: #008000; text-decoration-color: #008000\">'ReLU'</span>, <span style=\"color: #008000; text-decoration-color: #008000\">'model_config__embedding_dropout'</span>: <span style=\"color: #008080; text-decoration-color: #008080; font-weight: bold\">0.0</span>,      \n",
       "<span style=\"color: #008000; text-decoration-color: #008000\">'model_config__layers'</span>: <span style=\"color: #008000; text-decoration-color: #008000\">'128-64-32'</span>, <span style=\"color: #008000; text-decoration-color: #008000\">'optimizer_config__optimizer'</span>: <span style=\"color: #008000; text-decoration-color: #008000\">'Adam'</span>, <span style=\"color: #008000; text-decoration-color: #008000\">'loss_0'</span>: <span style=\"color: #008080; text-decoration-color: #008080; font-weight: bold\">0.7192179560661316</span>, <span style=\"color: #008000; text-decoration-color: #008000\">'loss'</span>:  \n",
       "<span style=\"color: #008080; text-decoration-color: #008080; font-weight: bold\">0.7192179560661316</span>, <span style=\"color: #008000; text-decoration-color: #008000\">'accuracy'</span>: <span style=\"color: #008080; text-decoration-color: #008080; font-weight: bold\">0.4139072895050049</span>, <span style=\"color: #008000; text-decoration-color: #008000\">'trial_id'</span>: <span style=\"color: #008080; text-decoration-color: #008080; font-weight: bold\">0</span><span style=\"font-weight: bold\">}</span> | Score: <span style=\"color: #008080; text-decoration-color: #008080; font-weight: bold\">0.4139072895050049</span>                     \n",
       "</pre>\n"
      ],
      "text/plain": [
       "\u001b[1;36m2025\u001b[0m-\u001b[1;36m02\u001b[0m-\u001b[1;36m08\u001b[0m \u001b[1;92m16:07:55\u001b[0m,\u001b[1;36m661\u001b[0m - \u001b[1m{\u001b[0mpytorch_tabular.tabular_model_tuner:\u001b[1;36m412\u001b[0m\u001b[1m}\u001b[0m - INFO - Trial \u001b[1;36m1\u001b[0m/\u001b[1;36m32\u001b[0m: \u001b[1m{\u001b[0m\u001b[32m'model'\u001b[0m:                 \n",
       "\u001b[32m'0-CategoryEmbeddingModelConfig'\u001b[0m, \u001b[32m'model_config__activation'\u001b[0m: \u001b[32m'ReLU'\u001b[0m, \u001b[32m'model_config__embedding_dropout'\u001b[0m: \u001b[1;36m0.0\u001b[0m,      \n",
       "\u001b[32m'model_config__layers'\u001b[0m: \u001b[32m'128-64-32'\u001b[0m, \u001b[32m'optimizer_config__optimizer'\u001b[0m: \u001b[32m'Adam'\u001b[0m, \u001b[32m'loss_0'\u001b[0m: \u001b[1;36m0.7192179560661316\u001b[0m, \u001b[32m'loss'\u001b[0m:  \n",
       "\u001b[1;36m0.7192179560661316\u001b[0m, \u001b[32m'accuracy'\u001b[0m: \u001b[1;36m0.4139072895050049\u001b[0m, \u001b[32m'trial_id'\u001b[0m: \u001b[1;36m0\u001b[0m\u001b[1m}\u001b[0m | Score: \u001b[1;36m0.4139072895050049\u001b[0m                     \n"
      ]
     },
     "metadata": {},
     "output_type": "display_data"
    },
    {
     "data": {
      "text/html": [
       "<pre style=\"white-space:pre;overflow-x:auto;line-height:normal;font-family:Menlo,'DejaVu Sans Mono',consolas,'Courier New',monospace\">/home/max/anaconda3/envs/tabular/lib/python3.10/site-packages/pytorch_lightning/callbacks/model_checkpoint.py:639: \n",
       "Checkpoint directory /home/max/Documents/PA/pytorch_tabular/machine_learning/saved_models exists and is not empty.\n",
       "</pre>\n"
      ],
      "text/plain": [
       "/home/max/anaconda3/envs/tabular/lib/python3.10/site-packages/pytorch_lightning/callbacks/model_checkpoint.py:639: \n",
       "Checkpoint directory /home/max/Documents/PA/pytorch_tabular/machine_learning/saved_models exists and is not empty.\n"
      ]
     },
     "metadata": {},
     "output_type": "display_data"
    },
    {
     "data": {
      "text/html": [
       "<pre style=\"white-space:pre;overflow-x:auto;line-height:normal;font-family:Menlo,'DejaVu Sans Mono',consolas,'Courier New',monospace\">/home/max/anaconda3/envs/tabular/lib/python3.10/site-packages/pytorch_lightning/loops/fit_loop.py:293: The number \n",
       "of training batches (22) is smaller than the logging interval Trainer(log_every_n_steps=50). Set a lower value for \n",
       "log_every_n_steps if you want to see logs for the training epoch.\n",
       "</pre>\n"
      ],
      "text/plain": [
       "/home/max/anaconda3/envs/tabular/lib/python3.10/site-packages/pytorch_lightning/loops/fit_loop.py:293: The number \n",
       "of training batches (22) is smaller than the logging interval Trainer(log_every_n_steps=50). Set a lower value for \n",
       "log_every_n_steps if you want to see logs for the training epoch.\n"
      ]
     },
     "metadata": {},
     "output_type": "display_data"
    },
    {
     "data": {
      "application/vnd.jupyter.widget-view+json": {
       "model_id": "124f07a1934b451b8d44d6d7618bf9df",
       "version_major": 2,
       "version_minor": 0
      },
      "text/plain": [
       "Finding best initial lr:   0%|          | 0/100 [00:00<?, ?it/s]"
      ]
     },
     "metadata": {},
     "output_type": "display_data"
    },
    {
     "data": {
      "text/html": [
       "<pre style=\"white-space:pre;overflow-x:auto;line-height:normal;font-family:Menlo,'DejaVu Sans Mono',consolas,'Courier New',monospace\"><span style=\"color: #008080; text-decoration-color: #008080; font-weight: bold\">2025</span>-<span style=\"color: #008080; text-decoration-color: #008080; font-weight: bold\">02</span>-<span style=\"color: #008080; text-decoration-color: #008080; font-weight: bold\">08</span> <span style=\"color: #00ff00; text-decoration-color: #00ff00; font-weight: bold\">16:08:15</span>,<span style=\"color: #008080; text-decoration-color: #008080; font-weight: bold\">463</span> - <span style=\"font-weight: bold\">{</span>pytorch_tabular.tabular_model_tuner:<span style=\"color: #008080; text-decoration-color: #008080; font-weight: bold\">412</span><span style=\"font-weight: bold\">}</span> - INFO - Trial <span style=\"color: #008080; text-decoration-color: #008080; font-weight: bold\">2</span>/<span style=\"color: #008080; text-decoration-color: #008080; font-weight: bold\">32</span>: <span style=\"font-weight: bold\">{</span><span style=\"color: #008000; text-decoration-color: #008000\">'model'</span>:                 \n",
       "<span style=\"color: #008000; text-decoration-color: #008000\">'0-CategoryEmbeddingModelConfig'</span>, <span style=\"color: #008000; text-decoration-color: #008000\">'model_config__activation'</span>: <span style=\"color: #008000; text-decoration-color: #008000\">'ReLU'</span>, <span style=\"color: #008000; text-decoration-color: #008000\">'model_config__embedding_dropout'</span>: <span style=\"color: #008080; text-decoration-color: #008080; font-weight: bold\">0.0</span>,      \n",
       "<span style=\"color: #008000; text-decoration-color: #008000\">'model_config__layers'</span>: <span style=\"color: #008000; text-decoration-color: #008000\">'128-64-32'</span>, <span style=\"color: #008000; text-decoration-color: #008000\">'optimizer_config__optimizer'</span>: <span style=\"color: #008000; text-decoration-color: #008000\">'SGD'</span>, <span style=\"color: #008000; text-decoration-color: #008000\">'loss_0'</span>: <span style=\"color: #008080; text-decoration-color: #008080; font-weight: bold\">0.640602171421051</span>, <span style=\"color: #008000; text-decoration-color: #008000\">'loss'</span>:    \n",
       "<span style=\"color: #008080; text-decoration-color: #008080; font-weight: bold\">0.640602171421051</span>, <span style=\"color: #008000; text-decoration-color: #008000\">'accuracy'</span>: <span style=\"color: #008080; text-decoration-color: #008080; font-weight: bold\">0.7218543291091919</span>, <span style=\"color: #008000; text-decoration-color: #008000\">'trial_id'</span>: <span style=\"color: #008080; text-decoration-color: #008080; font-weight: bold\">1</span><span style=\"font-weight: bold\">}</span> | Score: <span style=\"color: #008080; text-decoration-color: #008080; font-weight: bold\">0.7218543291091919</span>                      \n",
       "</pre>\n"
      ],
      "text/plain": [
       "\u001b[1;36m2025\u001b[0m-\u001b[1;36m02\u001b[0m-\u001b[1;36m08\u001b[0m \u001b[1;92m16:08:15\u001b[0m,\u001b[1;36m463\u001b[0m - \u001b[1m{\u001b[0mpytorch_tabular.tabular_model_tuner:\u001b[1;36m412\u001b[0m\u001b[1m}\u001b[0m - INFO - Trial \u001b[1;36m2\u001b[0m/\u001b[1;36m32\u001b[0m: \u001b[1m{\u001b[0m\u001b[32m'model'\u001b[0m:                 \n",
       "\u001b[32m'0-CategoryEmbeddingModelConfig'\u001b[0m, \u001b[32m'model_config__activation'\u001b[0m: \u001b[32m'ReLU'\u001b[0m, \u001b[32m'model_config__embedding_dropout'\u001b[0m: \u001b[1;36m0.0\u001b[0m,      \n",
       "\u001b[32m'model_config__layers'\u001b[0m: \u001b[32m'128-64-32'\u001b[0m, \u001b[32m'optimizer_config__optimizer'\u001b[0m: \u001b[32m'SGD'\u001b[0m, \u001b[32m'loss_0'\u001b[0m: \u001b[1;36m0.640602171421051\u001b[0m, \u001b[32m'loss'\u001b[0m:    \n",
       "\u001b[1;36m0.640602171421051\u001b[0m, \u001b[32m'accuracy'\u001b[0m: \u001b[1;36m0.7218543291091919\u001b[0m, \u001b[32m'trial_id'\u001b[0m: \u001b[1;36m1\u001b[0m\u001b[1m}\u001b[0m | Score: \u001b[1;36m0.7218543291091919\u001b[0m                      \n"
      ]
     },
     "metadata": {},
     "output_type": "display_data"
    },
    {
     "data": {
      "text/html": [
       "<pre style=\"white-space:pre;overflow-x:auto;line-height:normal;font-family:Menlo,'DejaVu Sans Mono',consolas,'Courier New',monospace\">/home/max/anaconda3/envs/tabular/lib/python3.10/site-packages/pytorch_lightning/callbacks/model_checkpoint.py:639: \n",
       "Checkpoint directory /home/max/Documents/PA/pytorch_tabular/machine_learning/saved_models exists and is not empty.\n",
       "</pre>\n"
      ],
      "text/plain": [
       "/home/max/anaconda3/envs/tabular/lib/python3.10/site-packages/pytorch_lightning/callbacks/model_checkpoint.py:639: \n",
       "Checkpoint directory /home/max/Documents/PA/pytorch_tabular/machine_learning/saved_models exists and is not empty.\n"
      ]
     },
     "metadata": {},
     "output_type": "display_data"
    },
    {
     "data": {
      "text/html": [
       "<pre style=\"white-space:pre;overflow-x:auto;line-height:normal;font-family:Menlo,'DejaVu Sans Mono',consolas,'Courier New',monospace\">/home/max/anaconda3/envs/tabular/lib/python3.10/site-packages/pytorch_lightning/loops/fit_loop.py:293: The number \n",
       "of training batches (22) is smaller than the logging interval Trainer(log_every_n_steps=50). Set a lower value for \n",
       "log_every_n_steps if you want to see logs for the training epoch.\n",
       "</pre>\n"
      ],
      "text/plain": [
       "/home/max/anaconda3/envs/tabular/lib/python3.10/site-packages/pytorch_lightning/loops/fit_loop.py:293: The number \n",
       "of training batches (22) is smaller than the logging interval Trainer(log_every_n_steps=50). Set a lower value for \n",
       "log_every_n_steps if you want to see logs for the training epoch.\n"
      ]
     },
     "metadata": {},
     "output_type": "display_data"
    },
    {
     "data": {
      "application/vnd.jupyter.widget-view+json": {
       "model_id": "ed4dfa3f181c4e8bb83de9ce2d7bea50",
       "version_major": 2,
       "version_minor": 0
      },
      "text/plain": [
       "Finding best initial lr:   0%|          | 0/100 [00:00<?, ?it/s]"
      ]
     },
     "metadata": {},
     "output_type": "display_data"
    },
    {
     "data": {
      "text/html": [
       "<pre style=\"white-space:pre;overflow-x:auto;line-height:normal;font-family:Menlo,'DejaVu Sans Mono',consolas,'Courier New',monospace\"><span style=\"color: #008080; text-decoration-color: #008080; font-weight: bold\">2025</span>-<span style=\"color: #008080; text-decoration-color: #008080; font-weight: bold\">02</span>-<span style=\"color: #008080; text-decoration-color: #008080; font-weight: bold\">08</span> <span style=\"color: #00ff00; text-decoration-color: #00ff00; font-weight: bold\">16:08:28</span>,<span style=\"color: #008080; text-decoration-color: #008080; font-weight: bold\">223</span> - <span style=\"font-weight: bold\">{</span>pytorch_tabular.tabular_model_tuner:<span style=\"color: #008080; text-decoration-color: #008080; font-weight: bold\">412</span><span style=\"font-weight: bold\">}</span> - INFO - Trial <span style=\"color: #008080; text-decoration-color: #008080; font-weight: bold\">3</span>/<span style=\"color: #008080; text-decoration-color: #008080; font-weight: bold\">32</span>: <span style=\"font-weight: bold\">{</span><span style=\"color: #008000; text-decoration-color: #008000\">'model'</span>:                 \n",
       "<span style=\"color: #008000; text-decoration-color: #008000\">'0-CategoryEmbeddingModelConfig'</span>, <span style=\"color: #008000; text-decoration-color: #008000\">'model_config__activation'</span>: <span style=\"color: #008000; text-decoration-color: #008000\">'ReLU'</span>, <span style=\"color: #008000; text-decoration-color: #008000\">'model_config__embedding_dropout'</span>: <span style=\"color: #008080; text-decoration-color: #008080; font-weight: bold\">0.0</span>,      \n",
       "<span style=\"color: #008000; text-decoration-color: #008000\">'model_config__layers'</span>: <span style=\"color: #008000; text-decoration-color: #008000\">'1024-512-256'</span>, <span style=\"color: #008000; text-decoration-color: #008000\">'optimizer_config__optimizer'</span>: <span style=\"color: #008000; text-decoration-color: #008000\">'Adam'</span>, <span style=\"color: #008000; text-decoration-color: #008000\">'loss_0'</span>: <span style=\"color: #008080; text-decoration-color: #008080; font-weight: bold\">0.6006941199302673</span>,       \n",
       "<span style=\"color: #008000; text-decoration-color: #008000\">'loss'</span>: <span style=\"color: #008080; text-decoration-color: #008080; font-weight: bold\">0.6006941199302673</span>, <span style=\"color: #008000; text-decoration-color: #008000\">'accuracy'</span>: <span style=\"color: #008080; text-decoration-color: #008080; font-weight: bold\">0.7019867300987244</span>, <span style=\"color: #008000; text-decoration-color: #008000\">'trial_id'</span>: <span style=\"color: #008080; text-decoration-color: #008080; font-weight: bold\">2</span><span style=\"font-weight: bold\">}</span> | Score: <span style=\"color: #008080; text-decoration-color: #008080; font-weight: bold\">0.7019867300987244</span>             \n",
       "</pre>\n"
      ],
      "text/plain": [
       "\u001b[1;36m2025\u001b[0m-\u001b[1;36m02\u001b[0m-\u001b[1;36m08\u001b[0m \u001b[1;92m16:08:28\u001b[0m,\u001b[1;36m223\u001b[0m - \u001b[1m{\u001b[0mpytorch_tabular.tabular_model_tuner:\u001b[1;36m412\u001b[0m\u001b[1m}\u001b[0m - INFO - Trial \u001b[1;36m3\u001b[0m/\u001b[1;36m32\u001b[0m: \u001b[1m{\u001b[0m\u001b[32m'model'\u001b[0m:                 \n",
       "\u001b[32m'0-CategoryEmbeddingModelConfig'\u001b[0m, \u001b[32m'model_config__activation'\u001b[0m: \u001b[32m'ReLU'\u001b[0m, \u001b[32m'model_config__embedding_dropout'\u001b[0m: \u001b[1;36m0.0\u001b[0m,      \n",
       "\u001b[32m'model_config__layers'\u001b[0m: \u001b[32m'1024-512-256'\u001b[0m, \u001b[32m'optimizer_config__optimizer'\u001b[0m: \u001b[32m'Adam'\u001b[0m, \u001b[32m'loss_0'\u001b[0m: \u001b[1;36m0.6006941199302673\u001b[0m,       \n",
       "\u001b[32m'loss'\u001b[0m: \u001b[1;36m0.6006941199302673\u001b[0m, \u001b[32m'accuracy'\u001b[0m: \u001b[1;36m0.7019867300987244\u001b[0m, \u001b[32m'trial_id'\u001b[0m: \u001b[1;36m2\u001b[0m\u001b[1m}\u001b[0m | Score: \u001b[1;36m0.7019867300987244\u001b[0m             \n"
      ]
     },
     "metadata": {},
     "output_type": "display_data"
    },
    {
     "data": {
      "text/html": [
       "<pre style=\"white-space:pre;overflow-x:auto;line-height:normal;font-family:Menlo,'DejaVu Sans Mono',consolas,'Courier New',monospace\">/home/max/anaconda3/envs/tabular/lib/python3.10/site-packages/pytorch_lightning/callbacks/model_checkpoint.py:639: \n",
       "Checkpoint directory /home/max/Documents/PA/pytorch_tabular/machine_learning/saved_models exists and is not empty.\n",
       "</pre>\n"
      ],
      "text/plain": [
       "/home/max/anaconda3/envs/tabular/lib/python3.10/site-packages/pytorch_lightning/callbacks/model_checkpoint.py:639: \n",
       "Checkpoint directory /home/max/Documents/PA/pytorch_tabular/machine_learning/saved_models exists and is not empty.\n"
      ]
     },
     "metadata": {},
     "output_type": "display_data"
    },
    {
     "data": {
      "text/html": [
       "<pre style=\"white-space:pre;overflow-x:auto;line-height:normal;font-family:Menlo,'DejaVu Sans Mono',consolas,'Courier New',monospace\">/home/max/anaconda3/envs/tabular/lib/python3.10/site-packages/pytorch_lightning/loops/fit_loop.py:293: The number \n",
       "of training batches (22) is smaller than the logging interval Trainer(log_every_n_steps=50). Set a lower value for \n",
       "log_every_n_steps if you want to see logs for the training epoch.\n",
       "</pre>\n"
      ],
      "text/plain": [
       "/home/max/anaconda3/envs/tabular/lib/python3.10/site-packages/pytorch_lightning/loops/fit_loop.py:293: The number \n",
       "of training batches (22) is smaller than the logging interval Trainer(log_every_n_steps=50). Set a lower value for \n",
       "log_every_n_steps if you want to see logs for the training epoch.\n"
      ]
     },
     "metadata": {},
     "output_type": "display_data"
    },
    {
     "data": {
      "application/vnd.jupyter.widget-view+json": {
       "model_id": "52c894cf440b4ad8b2c4a50118012942",
       "version_major": 2,
       "version_minor": 0
      },
      "text/plain": [
       "Finding best initial lr:   0%|          | 0/100 [00:00<?, ?it/s]"
      ]
     },
     "metadata": {},
     "output_type": "display_data"
    },
    {
     "data": {
      "text/html": [
       "<pre style=\"white-space:pre;overflow-x:auto;line-height:normal;font-family:Menlo,'DejaVu Sans Mono',consolas,'Courier New',monospace\"><span style=\"color: #008080; text-decoration-color: #008080; font-weight: bold\">2025</span>-<span style=\"color: #008080; text-decoration-color: #008080; font-weight: bold\">02</span>-<span style=\"color: #008080; text-decoration-color: #008080; font-weight: bold\">08</span> <span style=\"color: #00ff00; text-decoration-color: #00ff00; font-weight: bold\">16:08:33</span>,<span style=\"color: #008080; text-decoration-color: #008080; font-weight: bold\">625</span> - <span style=\"font-weight: bold\">{</span>pytorch_tabular.tabular_model_tuner:<span style=\"color: #008080; text-decoration-color: #008080; font-weight: bold\">412</span><span style=\"font-weight: bold\">}</span> - INFO - Trial <span style=\"color: #008080; text-decoration-color: #008080; font-weight: bold\">4</span>/<span style=\"color: #008080; text-decoration-color: #008080; font-weight: bold\">32</span>: <span style=\"font-weight: bold\">{</span><span style=\"color: #008000; text-decoration-color: #008000\">'model'</span>:                 \n",
       "<span style=\"color: #008000; text-decoration-color: #008000\">'0-CategoryEmbeddingModelConfig'</span>, <span style=\"color: #008000; text-decoration-color: #008000\">'model_config__activation'</span>: <span style=\"color: #008000; text-decoration-color: #008000\">'ReLU'</span>, <span style=\"color: #008000; text-decoration-color: #008000\">'model_config__embedding_dropout'</span>: <span style=\"color: #008080; text-decoration-color: #008080; font-weight: bold\">0.0</span>,      \n",
       "<span style=\"color: #008000; text-decoration-color: #008000\">'model_config__layers'</span>: <span style=\"color: #008000; text-decoration-color: #008000\">'1024-512-256'</span>, <span style=\"color: #008000; text-decoration-color: #008000\">'optimizer_config__optimizer'</span>: <span style=\"color: #008000; text-decoration-color: #008000\">'SGD'</span>, <span style=\"color: #008000; text-decoration-color: #008000\">'loss_0'</span>: <span style=\"color: #008080; text-decoration-color: #008080; font-weight: bold\">0.7057985663414001</span>, <span style=\"color: #008000; text-decoration-color: #008000\">'loss'</span>:\n",
       "<span style=\"color: #008080; text-decoration-color: #008080; font-weight: bold\">0.7057985663414001</span>, <span style=\"color: #008000; text-decoration-color: #008000\">'accuracy'</span>: <span style=\"color: #008080; text-decoration-color: #008080; font-weight: bold\">0.4139072895050049</span>, <span style=\"color: #008000; text-decoration-color: #008000\">'trial_id'</span>: <span style=\"color: #008080; text-decoration-color: #008080; font-weight: bold\">3</span><span style=\"font-weight: bold\">}</span> | Score: <span style=\"color: #008080; text-decoration-color: #008080; font-weight: bold\">0.4139072895050049</span>                     \n",
       "</pre>\n"
      ],
      "text/plain": [
       "\u001b[1;36m2025\u001b[0m-\u001b[1;36m02\u001b[0m-\u001b[1;36m08\u001b[0m \u001b[1;92m16:08:33\u001b[0m,\u001b[1;36m625\u001b[0m - \u001b[1m{\u001b[0mpytorch_tabular.tabular_model_tuner:\u001b[1;36m412\u001b[0m\u001b[1m}\u001b[0m - INFO - Trial \u001b[1;36m4\u001b[0m/\u001b[1;36m32\u001b[0m: \u001b[1m{\u001b[0m\u001b[32m'model'\u001b[0m:                 \n",
       "\u001b[32m'0-CategoryEmbeddingModelConfig'\u001b[0m, \u001b[32m'model_config__activation'\u001b[0m: \u001b[32m'ReLU'\u001b[0m, \u001b[32m'model_config__embedding_dropout'\u001b[0m: \u001b[1;36m0.0\u001b[0m,      \n",
       "\u001b[32m'model_config__layers'\u001b[0m: \u001b[32m'1024-512-256'\u001b[0m, \u001b[32m'optimizer_config__optimizer'\u001b[0m: \u001b[32m'SGD'\u001b[0m, \u001b[32m'loss_0'\u001b[0m: \u001b[1;36m0.7057985663414001\u001b[0m, \u001b[32m'loss'\u001b[0m:\n",
       "\u001b[1;36m0.7057985663414001\u001b[0m, \u001b[32m'accuracy'\u001b[0m: \u001b[1;36m0.4139072895050049\u001b[0m, \u001b[32m'trial_id'\u001b[0m: \u001b[1;36m3\u001b[0m\u001b[1m}\u001b[0m | Score: \u001b[1;36m0.4139072895050049\u001b[0m                     \n"
      ]
     },
     "metadata": {},
     "output_type": "display_data"
    },
    {
     "data": {
      "text/html": [
       "<pre style=\"white-space:pre;overflow-x:auto;line-height:normal;font-family:Menlo,'DejaVu Sans Mono',consolas,'Courier New',monospace\">/home/max/anaconda3/envs/tabular/lib/python3.10/site-packages/pytorch_lightning/callbacks/model_checkpoint.py:639: \n",
       "Checkpoint directory /home/max/Documents/PA/pytorch_tabular/machine_learning/saved_models exists and is not empty.\n",
       "</pre>\n"
      ],
      "text/plain": [
       "/home/max/anaconda3/envs/tabular/lib/python3.10/site-packages/pytorch_lightning/callbacks/model_checkpoint.py:639: \n",
       "Checkpoint directory /home/max/Documents/PA/pytorch_tabular/machine_learning/saved_models exists and is not empty.\n"
      ]
     },
     "metadata": {},
     "output_type": "display_data"
    },
    {
     "data": {
      "text/html": [
       "<pre style=\"white-space:pre;overflow-x:auto;line-height:normal;font-family:Menlo,'DejaVu Sans Mono',consolas,'Courier New',monospace\">/home/max/anaconda3/envs/tabular/lib/python3.10/site-packages/pytorch_lightning/loops/fit_loop.py:293: The number \n",
       "of training batches (22) is smaller than the logging interval Trainer(log_every_n_steps=50). Set a lower value for \n",
       "log_every_n_steps if you want to see logs for the training epoch.\n",
       "</pre>\n"
      ],
      "text/plain": [
       "/home/max/anaconda3/envs/tabular/lib/python3.10/site-packages/pytorch_lightning/loops/fit_loop.py:293: The number \n",
       "of training batches (22) is smaller than the logging interval Trainer(log_every_n_steps=50). Set a lower value for \n",
       "log_every_n_steps if you want to see logs for the training epoch.\n"
      ]
     },
     "metadata": {},
     "output_type": "display_data"
    },
    {
     "data": {
      "application/vnd.jupyter.widget-view+json": {
       "model_id": "434dbda99d6a48d3a40fb05a9051173a",
       "version_major": 2,
       "version_minor": 0
      },
      "text/plain": [
       "Finding best initial lr:   0%|          | 0/100 [00:00<?, ?it/s]"
      ]
     },
     "metadata": {},
     "output_type": "display_data"
    },
    {
     "data": {
      "text/html": [
       "<pre style=\"white-space:pre;overflow-x:auto;line-height:normal;font-family:Menlo,'DejaVu Sans Mono',consolas,'Courier New',monospace\"><span style=\"color: #008080; text-decoration-color: #008080; font-weight: bold\">2025</span>-<span style=\"color: #008080; text-decoration-color: #008080; font-weight: bold\">02</span>-<span style=\"color: #008080; text-decoration-color: #008080; font-weight: bold\">08</span> <span style=\"color: #00ff00; text-decoration-color: #00ff00; font-weight: bold\">16:08:39</span>,<span style=\"color: #008080; text-decoration-color: #008080; font-weight: bold\">750</span> - <span style=\"font-weight: bold\">{</span>pytorch_tabular.tabular_model_tuner:<span style=\"color: #008080; text-decoration-color: #008080; font-weight: bold\">412</span><span style=\"font-weight: bold\">}</span> - INFO - Trial <span style=\"color: #008080; text-decoration-color: #008080; font-weight: bold\">5</span>/<span style=\"color: #008080; text-decoration-color: #008080; font-weight: bold\">32</span>: <span style=\"font-weight: bold\">{</span><span style=\"color: #008000; text-decoration-color: #008000\">'model'</span>:                 \n",
       "<span style=\"color: #008000; text-decoration-color: #008000\">'0-CategoryEmbeddingModelConfig'</span>, <span style=\"color: #008000; text-decoration-color: #008000\">'model_config__activation'</span>: <span style=\"color: #008000; text-decoration-color: #008000\">'ReLU'</span>, <span style=\"color: #008000; text-decoration-color: #008000\">'model_config__embedding_dropout'</span>: <span style=\"color: #008080; text-decoration-color: #008080; font-weight: bold\">0.0</span>,      \n",
       "<span style=\"color: #008000; text-decoration-color: #008000\">'model_config__layers'</span>: <span style=\"color: #008000; text-decoration-color: #008000\">'32-64-128'</span>, <span style=\"color: #008000; text-decoration-color: #008000\">'optimizer_config__optimizer'</span>: <span style=\"color: #008000; text-decoration-color: #008000\">'Adam'</span>, <span style=\"color: #008000; text-decoration-color: #008000\">'loss_0'</span>: <span style=\"color: #008080; text-decoration-color: #008080; font-weight: bold\">0.6977737545967102</span>, <span style=\"color: #008000; text-decoration-color: #008000\">'loss'</span>:  \n",
       "<span style=\"color: #008080; text-decoration-color: #008080; font-weight: bold\">0.6977737545967102</span>, <span style=\"color: #008000; text-decoration-color: #008000\">'accuracy'</span>: <span style=\"color: #008080; text-decoration-color: #008080; font-weight: bold\">0.4139072895050049</span>, <span style=\"color: #008000; text-decoration-color: #008000\">'trial_id'</span>: <span style=\"color: #008080; text-decoration-color: #008080; font-weight: bold\">4</span><span style=\"font-weight: bold\">}</span> | Score: <span style=\"color: #008080; text-decoration-color: #008080; font-weight: bold\">0.4139072895050049</span>                     \n",
       "</pre>\n"
      ],
      "text/plain": [
       "\u001b[1;36m2025\u001b[0m-\u001b[1;36m02\u001b[0m-\u001b[1;36m08\u001b[0m \u001b[1;92m16:08:39\u001b[0m,\u001b[1;36m750\u001b[0m - \u001b[1m{\u001b[0mpytorch_tabular.tabular_model_tuner:\u001b[1;36m412\u001b[0m\u001b[1m}\u001b[0m - INFO - Trial \u001b[1;36m5\u001b[0m/\u001b[1;36m32\u001b[0m: \u001b[1m{\u001b[0m\u001b[32m'model'\u001b[0m:                 \n",
       "\u001b[32m'0-CategoryEmbeddingModelConfig'\u001b[0m, \u001b[32m'model_config__activation'\u001b[0m: \u001b[32m'ReLU'\u001b[0m, \u001b[32m'model_config__embedding_dropout'\u001b[0m: \u001b[1;36m0.0\u001b[0m,      \n",
       "\u001b[32m'model_config__layers'\u001b[0m: \u001b[32m'32-64-128'\u001b[0m, \u001b[32m'optimizer_config__optimizer'\u001b[0m: \u001b[32m'Adam'\u001b[0m, \u001b[32m'loss_0'\u001b[0m: \u001b[1;36m0.6977737545967102\u001b[0m, \u001b[32m'loss'\u001b[0m:  \n",
       "\u001b[1;36m0.6977737545967102\u001b[0m, \u001b[32m'accuracy'\u001b[0m: \u001b[1;36m0.4139072895050049\u001b[0m, \u001b[32m'trial_id'\u001b[0m: \u001b[1;36m4\u001b[0m\u001b[1m}\u001b[0m | Score: \u001b[1;36m0.4139072895050049\u001b[0m                     \n"
      ]
     },
     "metadata": {},
     "output_type": "display_data"
    },
    {
     "data": {
      "text/html": [
       "<pre style=\"white-space:pre;overflow-x:auto;line-height:normal;font-family:Menlo,'DejaVu Sans Mono',consolas,'Courier New',monospace\">/home/max/anaconda3/envs/tabular/lib/python3.10/site-packages/pytorch_lightning/callbacks/model_checkpoint.py:639: \n",
       "Checkpoint directory /home/max/Documents/PA/pytorch_tabular/machine_learning/saved_models exists and is not empty.\n",
       "</pre>\n"
      ],
      "text/plain": [
       "/home/max/anaconda3/envs/tabular/lib/python3.10/site-packages/pytorch_lightning/callbacks/model_checkpoint.py:639: \n",
       "Checkpoint directory /home/max/Documents/PA/pytorch_tabular/machine_learning/saved_models exists and is not empty.\n"
      ]
     },
     "metadata": {},
     "output_type": "display_data"
    },
    {
     "data": {
      "text/html": [
       "<pre style=\"white-space:pre;overflow-x:auto;line-height:normal;font-family:Menlo,'DejaVu Sans Mono',consolas,'Courier New',monospace\">/home/max/anaconda3/envs/tabular/lib/python3.10/site-packages/pytorch_lightning/loops/fit_loop.py:293: The number \n",
       "of training batches (22) is smaller than the logging interval Trainer(log_every_n_steps=50). Set a lower value for \n",
       "log_every_n_steps if you want to see logs for the training epoch.\n",
       "</pre>\n"
      ],
      "text/plain": [
       "/home/max/anaconda3/envs/tabular/lib/python3.10/site-packages/pytorch_lightning/loops/fit_loop.py:293: The number \n",
       "of training batches (22) is smaller than the logging interval Trainer(log_every_n_steps=50). Set a lower value for \n",
       "log_every_n_steps if you want to see logs for the training epoch.\n"
      ]
     },
     "metadata": {},
     "output_type": "display_data"
    },
    {
     "data": {
      "application/vnd.jupyter.widget-view+json": {
       "model_id": "1d85d4648f854c56864091ed8931c0b2",
       "version_major": 2,
       "version_minor": 0
      },
      "text/plain": [
       "Finding best initial lr:   0%|          | 0/100 [00:00<?, ?it/s]"
      ]
     },
     "metadata": {},
     "output_type": "display_data"
    },
    {
     "data": {
      "text/html": [
       "<pre style=\"white-space:pre;overflow-x:auto;line-height:normal;font-family:Menlo,'DejaVu Sans Mono',consolas,'Courier New',monospace\"><span style=\"color: #008080; text-decoration-color: #008080; font-weight: bold\">2025</span>-<span style=\"color: #008080; text-decoration-color: #008080; font-weight: bold\">02</span>-<span style=\"color: #008080; text-decoration-color: #008080; font-weight: bold\">08</span> <span style=\"color: #00ff00; text-decoration-color: #00ff00; font-weight: bold\">16:08:47</span>,<span style=\"color: #008080; text-decoration-color: #008080; font-weight: bold\">708</span> - <span style=\"font-weight: bold\">{</span>pytorch_tabular.tabular_model_tuner:<span style=\"color: #008080; text-decoration-color: #008080; font-weight: bold\">412</span><span style=\"font-weight: bold\">}</span> - INFO - Trial <span style=\"color: #008080; text-decoration-color: #008080; font-weight: bold\">6</span>/<span style=\"color: #008080; text-decoration-color: #008080; font-weight: bold\">32</span>: <span style=\"font-weight: bold\">{</span><span style=\"color: #008000; text-decoration-color: #008000\">'model'</span>:                 \n",
       "<span style=\"color: #008000; text-decoration-color: #008000\">'0-CategoryEmbeddingModelConfig'</span>, <span style=\"color: #008000; text-decoration-color: #008000\">'model_config__activation'</span>: <span style=\"color: #008000; text-decoration-color: #008000\">'ReLU'</span>, <span style=\"color: #008000; text-decoration-color: #008000\">'model_config__embedding_dropout'</span>: <span style=\"color: #008080; text-decoration-color: #008080; font-weight: bold\">0.0</span>,      \n",
       "<span style=\"color: #008000; text-decoration-color: #008000\">'model_config__layers'</span>: <span style=\"color: #008000; text-decoration-color: #008000\">'32-64-128'</span>, <span style=\"color: #008000; text-decoration-color: #008000\">'optimizer_config__optimizer'</span>: <span style=\"color: #008000; text-decoration-color: #008000\">'SGD'</span>, <span style=\"color: #008000; text-decoration-color: #008000\">'loss_0'</span>: <span style=\"color: #008080; text-decoration-color: #008080; font-weight: bold\">0.6099456548690796</span>, <span style=\"color: #008000; text-decoration-color: #008000\">'loss'</span>:   \n",
       "<span style=\"color: #008080; text-decoration-color: #008080; font-weight: bold\">0.6099456548690796</span>, <span style=\"color: #008000; text-decoration-color: #008000\">'accuracy'</span>: <span style=\"color: #008080; text-decoration-color: #008080; font-weight: bold\">0.695364236831665</span>, <span style=\"color: #008000; text-decoration-color: #008000\">'trial_id'</span>: <span style=\"color: #008080; text-decoration-color: #008080; font-weight: bold\">5</span><span style=\"font-weight: bold\">}</span> | Score: <span style=\"color: #008080; text-decoration-color: #008080; font-weight: bold\">0.695364236831665</span>                       \n",
       "</pre>\n"
      ],
      "text/plain": [
       "\u001b[1;36m2025\u001b[0m-\u001b[1;36m02\u001b[0m-\u001b[1;36m08\u001b[0m \u001b[1;92m16:08:47\u001b[0m,\u001b[1;36m708\u001b[0m - \u001b[1m{\u001b[0mpytorch_tabular.tabular_model_tuner:\u001b[1;36m412\u001b[0m\u001b[1m}\u001b[0m - INFO - Trial \u001b[1;36m6\u001b[0m/\u001b[1;36m32\u001b[0m: \u001b[1m{\u001b[0m\u001b[32m'model'\u001b[0m:                 \n",
       "\u001b[32m'0-CategoryEmbeddingModelConfig'\u001b[0m, \u001b[32m'model_config__activation'\u001b[0m: \u001b[32m'ReLU'\u001b[0m, \u001b[32m'model_config__embedding_dropout'\u001b[0m: \u001b[1;36m0.0\u001b[0m,      \n",
       "\u001b[32m'model_config__layers'\u001b[0m: \u001b[32m'32-64-128'\u001b[0m, \u001b[32m'optimizer_config__optimizer'\u001b[0m: \u001b[32m'SGD'\u001b[0m, \u001b[32m'loss_0'\u001b[0m: \u001b[1;36m0.6099456548690796\u001b[0m, \u001b[32m'loss'\u001b[0m:   \n",
       "\u001b[1;36m0.6099456548690796\u001b[0m, \u001b[32m'accuracy'\u001b[0m: \u001b[1;36m0.695364236831665\u001b[0m, \u001b[32m'trial_id'\u001b[0m: \u001b[1;36m5\u001b[0m\u001b[1m}\u001b[0m | Score: \u001b[1;36m0.695364236831665\u001b[0m                       \n"
      ]
     },
     "metadata": {},
     "output_type": "display_data"
    },
    {
     "data": {
      "text/html": [
       "<pre style=\"white-space:pre;overflow-x:auto;line-height:normal;font-family:Menlo,'DejaVu Sans Mono',consolas,'Courier New',monospace\">/home/max/anaconda3/envs/tabular/lib/python3.10/site-packages/pytorch_lightning/callbacks/model_checkpoint.py:639: \n",
       "Checkpoint directory /home/max/Documents/PA/pytorch_tabular/machine_learning/saved_models exists and is not empty.\n",
       "</pre>\n"
      ],
      "text/plain": [
       "/home/max/anaconda3/envs/tabular/lib/python3.10/site-packages/pytorch_lightning/callbacks/model_checkpoint.py:639: \n",
       "Checkpoint directory /home/max/Documents/PA/pytorch_tabular/machine_learning/saved_models exists and is not empty.\n"
      ]
     },
     "metadata": {},
     "output_type": "display_data"
    },
    {
     "data": {
      "text/html": [
       "<pre style=\"white-space:pre;overflow-x:auto;line-height:normal;font-family:Menlo,'DejaVu Sans Mono',consolas,'Courier New',monospace\">/home/max/anaconda3/envs/tabular/lib/python3.10/site-packages/pytorch_lightning/loops/fit_loop.py:293: The number \n",
       "of training batches (22) is smaller than the logging interval Trainer(log_every_n_steps=50). Set a lower value for \n",
       "log_every_n_steps if you want to see logs for the training epoch.\n",
       "</pre>\n"
      ],
      "text/plain": [
       "/home/max/anaconda3/envs/tabular/lib/python3.10/site-packages/pytorch_lightning/loops/fit_loop.py:293: The number \n",
       "of training batches (22) is smaller than the logging interval Trainer(log_every_n_steps=50). Set a lower value for \n",
       "log_every_n_steps if you want to see logs for the training epoch.\n"
      ]
     },
     "metadata": {},
     "output_type": "display_data"
    },
    {
     "data": {
      "application/vnd.jupyter.widget-view+json": {
       "model_id": "ea387823a1a84029bee784960bd58747",
       "version_major": 2,
       "version_minor": 0
      },
      "text/plain": [
       "Finding best initial lr:   0%|          | 0/100 [00:00<?, ?it/s]"
      ]
     },
     "metadata": {},
     "output_type": "display_data"
    },
    {
     "data": {
      "text/html": [
       "<pre style=\"white-space:pre;overflow-x:auto;line-height:normal;font-family:Menlo,'DejaVu Sans Mono',consolas,'Courier New',monospace\"><span style=\"color: #008080; text-decoration-color: #008080; font-weight: bold\">2025</span>-<span style=\"color: #008080; text-decoration-color: #008080; font-weight: bold\">02</span>-<span style=\"color: #008080; text-decoration-color: #008080; font-weight: bold\">08</span> <span style=\"color: #00ff00; text-decoration-color: #00ff00; font-weight: bold\">16:08:59</span>,<span style=\"color: #008080; text-decoration-color: #008080; font-weight: bold\">722</span> - <span style=\"font-weight: bold\">{</span>pytorch_tabular.tabular_model_tuner:<span style=\"color: #008080; text-decoration-color: #008080; font-weight: bold\">412</span><span style=\"font-weight: bold\">}</span> - INFO - Trial <span style=\"color: #008080; text-decoration-color: #008080; font-weight: bold\">7</span>/<span style=\"color: #008080; text-decoration-color: #008080; font-weight: bold\">32</span>: <span style=\"font-weight: bold\">{</span><span style=\"color: #008000; text-decoration-color: #008000\">'model'</span>:                 \n",
       "<span style=\"color: #008000; text-decoration-color: #008000\">'0-CategoryEmbeddingModelConfig'</span>, <span style=\"color: #008000; text-decoration-color: #008000\">'model_config__activation'</span>: <span style=\"color: #008000; text-decoration-color: #008000\">'ReLU'</span>, <span style=\"color: #008000; text-decoration-color: #008000\">'model_config__embedding_dropout'</span>: <span style=\"color: #008080; text-decoration-color: #008080; font-weight: bold\">0.0</span>,      \n",
       "<span style=\"color: #008000; text-decoration-color: #008000\">'model_config__layers'</span>: <span style=\"color: #008000; text-decoration-color: #008000\">'256-512-1024'</span>, <span style=\"color: #008000; text-decoration-color: #008000\">'optimizer_config__optimizer'</span>: <span style=\"color: #008000; text-decoration-color: #008000\">'Adam'</span>, <span style=\"color: #008000; text-decoration-color: #008000\">'loss_0'</span>: <span style=\"color: #008080; text-decoration-color: #008080; font-weight: bold\">0.6097264885902405</span>,       \n",
       "<span style=\"color: #008000; text-decoration-color: #008000\">'loss'</span>: <span style=\"color: #008080; text-decoration-color: #008080; font-weight: bold\">0.6097264885902405</span>, <span style=\"color: #008000; text-decoration-color: #008000\">'accuracy'</span>: <span style=\"color: #008080; text-decoration-color: #008080; font-weight: bold\">0.7086092829704285</span>, <span style=\"color: #008000; text-decoration-color: #008000\">'trial_id'</span>: <span style=\"color: #008080; text-decoration-color: #008080; font-weight: bold\">6</span><span style=\"font-weight: bold\">}</span> | Score: <span style=\"color: #008080; text-decoration-color: #008080; font-weight: bold\">0.7086092829704285</span>             \n",
       "</pre>\n"
      ],
      "text/plain": [
       "\u001b[1;36m2025\u001b[0m-\u001b[1;36m02\u001b[0m-\u001b[1;36m08\u001b[0m \u001b[1;92m16:08:59\u001b[0m,\u001b[1;36m722\u001b[0m - \u001b[1m{\u001b[0mpytorch_tabular.tabular_model_tuner:\u001b[1;36m412\u001b[0m\u001b[1m}\u001b[0m - INFO - Trial \u001b[1;36m7\u001b[0m/\u001b[1;36m32\u001b[0m: \u001b[1m{\u001b[0m\u001b[32m'model'\u001b[0m:                 \n",
       "\u001b[32m'0-CategoryEmbeddingModelConfig'\u001b[0m, \u001b[32m'model_config__activation'\u001b[0m: \u001b[32m'ReLU'\u001b[0m, \u001b[32m'model_config__embedding_dropout'\u001b[0m: \u001b[1;36m0.0\u001b[0m,      \n",
       "\u001b[32m'model_config__layers'\u001b[0m: \u001b[32m'256-512-1024'\u001b[0m, \u001b[32m'optimizer_config__optimizer'\u001b[0m: \u001b[32m'Adam'\u001b[0m, \u001b[32m'loss_0'\u001b[0m: \u001b[1;36m0.6097264885902405\u001b[0m,       \n",
       "\u001b[32m'loss'\u001b[0m: \u001b[1;36m0.6097264885902405\u001b[0m, \u001b[32m'accuracy'\u001b[0m: \u001b[1;36m0.7086092829704285\u001b[0m, \u001b[32m'trial_id'\u001b[0m: \u001b[1;36m6\u001b[0m\u001b[1m}\u001b[0m | Score: \u001b[1;36m0.7086092829704285\u001b[0m             \n"
      ]
     },
     "metadata": {},
     "output_type": "display_data"
    },
    {
     "data": {
      "text/html": [
       "<pre style=\"white-space:pre;overflow-x:auto;line-height:normal;font-family:Menlo,'DejaVu Sans Mono',consolas,'Courier New',monospace\">/home/max/anaconda3/envs/tabular/lib/python3.10/site-packages/pytorch_lightning/callbacks/model_checkpoint.py:639: \n",
       "Checkpoint directory /home/max/Documents/PA/pytorch_tabular/machine_learning/saved_models exists and is not empty.\n",
       "</pre>\n"
      ],
      "text/plain": [
       "/home/max/anaconda3/envs/tabular/lib/python3.10/site-packages/pytorch_lightning/callbacks/model_checkpoint.py:639: \n",
       "Checkpoint directory /home/max/Documents/PA/pytorch_tabular/machine_learning/saved_models exists and is not empty.\n"
      ]
     },
     "metadata": {},
     "output_type": "display_data"
    },
    {
     "data": {
      "text/html": [
       "<pre style=\"white-space:pre;overflow-x:auto;line-height:normal;font-family:Menlo,'DejaVu Sans Mono',consolas,'Courier New',monospace\">/home/max/anaconda3/envs/tabular/lib/python3.10/site-packages/pytorch_lightning/loops/fit_loop.py:293: The number \n",
       "of training batches (22) is smaller than the logging interval Trainer(log_every_n_steps=50). Set a lower value for \n",
       "log_every_n_steps if you want to see logs for the training epoch.\n",
       "</pre>\n"
      ],
      "text/plain": [
       "/home/max/anaconda3/envs/tabular/lib/python3.10/site-packages/pytorch_lightning/loops/fit_loop.py:293: The number \n",
       "of training batches (22) is smaller than the logging interval Trainer(log_every_n_steps=50). Set a lower value for \n",
       "log_every_n_steps if you want to see logs for the training epoch.\n"
      ]
     },
     "metadata": {},
     "output_type": "display_data"
    },
    {
     "data": {
      "application/vnd.jupyter.widget-view+json": {
       "model_id": "6c876dcfe9974b24a2604acb805223de",
       "version_major": 2,
       "version_minor": 0
      },
      "text/plain": [
       "Finding best initial lr:   0%|          | 0/100 [00:00<?, ?it/s]"
      ]
     },
     "metadata": {},
     "output_type": "display_data"
    },
    {
     "data": {
      "text/html": [
       "<pre style=\"white-space:pre;overflow-x:auto;line-height:normal;font-family:Menlo,'DejaVu Sans Mono',consolas,'Courier New',monospace\"><span style=\"color: #008080; text-decoration-color: #008080; font-weight: bold\">2025</span>-<span style=\"color: #008080; text-decoration-color: #008080; font-weight: bold\">02</span>-<span style=\"color: #008080; text-decoration-color: #008080; font-weight: bold\">08</span> <span style=\"color: #00ff00; text-decoration-color: #00ff00; font-weight: bold\">16:09:08</span>,<span style=\"color: #008080; text-decoration-color: #008080; font-weight: bold\">624</span> - <span style=\"font-weight: bold\">{</span>pytorch_tabular.tabular_model_tuner:<span style=\"color: #008080; text-decoration-color: #008080; font-weight: bold\">412</span><span style=\"font-weight: bold\">}</span> - INFO - Trial <span style=\"color: #008080; text-decoration-color: #008080; font-weight: bold\">8</span>/<span style=\"color: #008080; text-decoration-color: #008080; font-weight: bold\">32</span>: <span style=\"font-weight: bold\">{</span><span style=\"color: #008000; text-decoration-color: #008000\">'model'</span>:                 \n",
       "<span style=\"color: #008000; text-decoration-color: #008000\">'0-CategoryEmbeddingModelConfig'</span>, <span style=\"color: #008000; text-decoration-color: #008000\">'model_config__activation'</span>: <span style=\"color: #008000; text-decoration-color: #008000\">'ReLU'</span>, <span style=\"color: #008000; text-decoration-color: #008000\">'model_config__embedding_dropout'</span>: <span style=\"color: #008080; text-decoration-color: #008080; font-weight: bold\">0.0</span>,      \n",
       "<span style=\"color: #008000; text-decoration-color: #008000\">'model_config__layers'</span>: <span style=\"color: #008000; text-decoration-color: #008000\">'256-512-1024'</span>, <span style=\"color: #008000; text-decoration-color: #008000\">'optimizer_config__optimizer'</span>: <span style=\"color: #008000; text-decoration-color: #008000\">'SGD'</span>, <span style=\"color: #008000; text-decoration-color: #008000\">'loss_0'</span>: <span style=\"color: #008080; text-decoration-color: #008080; font-weight: bold\">0.6108058094978333</span>, <span style=\"color: #008000; text-decoration-color: #008000\">'loss'</span>:\n",
       "<span style=\"color: #008080; text-decoration-color: #008080; font-weight: bold\">0.6108058094978333</span>, <span style=\"color: #008000; text-decoration-color: #008000\">'accuracy'</span>: <span style=\"color: #008080; text-decoration-color: #008080; font-weight: bold\">0.7086092829704285</span>, <span style=\"color: #008000; text-decoration-color: #008000\">'trial_id'</span>: <span style=\"color: #008080; text-decoration-color: #008080; font-weight: bold\">7</span><span style=\"font-weight: bold\">}</span> | Score: <span style=\"color: #008080; text-decoration-color: #008080; font-weight: bold\">0.7086092829704285</span>                     \n",
       "</pre>\n"
      ],
      "text/plain": [
       "\u001b[1;36m2025\u001b[0m-\u001b[1;36m02\u001b[0m-\u001b[1;36m08\u001b[0m \u001b[1;92m16:09:08\u001b[0m,\u001b[1;36m624\u001b[0m - \u001b[1m{\u001b[0mpytorch_tabular.tabular_model_tuner:\u001b[1;36m412\u001b[0m\u001b[1m}\u001b[0m - INFO - Trial \u001b[1;36m8\u001b[0m/\u001b[1;36m32\u001b[0m: \u001b[1m{\u001b[0m\u001b[32m'model'\u001b[0m:                 \n",
       "\u001b[32m'0-CategoryEmbeddingModelConfig'\u001b[0m, \u001b[32m'model_config__activation'\u001b[0m: \u001b[32m'ReLU'\u001b[0m, \u001b[32m'model_config__embedding_dropout'\u001b[0m: \u001b[1;36m0.0\u001b[0m,      \n",
       "\u001b[32m'model_config__layers'\u001b[0m: \u001b[32m'256-512-1024'\u001b[0m, \u001b[32m'optimizer_config__optimizer'\u001b[0m: \u001b[32m'SGD'\u001b[0m, \u001b[32m'loss_0'\u001b[0m: \u001b[1;36m0.6108058094978333\u001b[0m, \u001b[32m'loss'\u001b[0m:\n",
       "\u001b[1;36m0.6108058094978333\u001b[0m, \u001b[32m'accuracy'\u001b[0m: \u001b[1;36m0.7086092829704285\u001b[0m, \u001b[32m'trial_id'\u001b[0m: \u001b[1;36m7\u001b[0m\u001b[1m}\u001b[0m | Score: \u001b[1;36m0.7086092829704285\u001b[0m                     \n"
      ]
     },
     "metadata": {},
     "output_type": "display_data"
    },
    {
     "data": {
      "text/html": [
       "<pre style=\"white-space:pre;overflow-x:auto;line-height:normal;font-family:Menlo,'DejaVu Sans Mono',consolas,'Courier New',monospace\">/home/max/anaconda3/envs/tabular/lib/python3.10/site-packages/pytorch_lightning/callbacks/model_checkpoint.py:639: \n",
       "Checkpoint directory /home/max/Documents/PA/pytorch_tabular/machine_learning/saved_models exists and is not empty.\n",
       "</pre>\n"
      ],
      "text/plain": [
       "/home/max/anaconda3/envs/tabular/lib/python3.10/site-packages/pytorch_lightning/callbacks/model_checkpoint.py:639: \n",
       "Checkpoint directory /home/max/Documents/PA/pytorch_tabular/machine_learning/saved_models exists and is not empty.\n"
      ]
     },
     "metadata": {},
     "output_type": "display_data"
    },
    {
     "data": {
      "text/html": [
       "<pre style=\"white-space:pre;overflow-x:auto;line-height:normal;font-family:Menlo,'DejaVu Sans Mono',consolas,'Courier New',monospace\">/home/max/anaconda3/envs/tabular/lib/python3.10/site-packages/pytorch_lightning/loops/fit_loop.py:293: The number \n",
       "of training batches (22) is smaller than the logging interval Trainer(log_every_n_steps=50). Set a lower value for \n",
       "log_every_n_steps if you want to see logs for the training epoch.\n",
       "</pre>\n"
      ],
      "text/plain": [
       "/home/max/anaconda3/envs/tabular/lib/python3.10/site-packages/pytorch_lightning/loops/fit_loop.py:293: The number \n",
       "of training batches (22) is smaller than the logging interval Trainer(log_every_n_steps=50). Set a lower value for \n",
       "log_every_n_steps if you want to see logs for the training epoch.\n"
      ]
     },
     "metadata": {},
     "output_type": "display_data"
    },
    {
     "data": {
      "application/vnd.jupyter.widget-view+json": {
       "model_id": "b641077541814e36b8b261e7c421aa07",
       "version_major": 2,
       "version_minor": 0
      },
      "text/plain": [
       "Finding best initial lr:   0%|          | 0/100 [00:00<?, ?it/s]"
      ]
     },
     "metadata": {},
     "output_type": "display_data"
    },
    {
     "data": {
      "text/html": [
       "<pre style=\"white-space:pre;overflow-x:auto;line-height:normal;font-family:Menlo,'DejaVu Sans Mono',consolas,'Courier New',monospace\"><span style=\"color: #008080; text-decoration-color: #008080; font-weight: bold\">2025</span>-<span style=\"color: #008080; text-decoration-color: #008080; font-weight: bold\">02</span>-<span style=\"color: #008080; text-decoration-color: #008080; font-weight: bold\">08</span> <span style=\"color: #00ff00; text-decoration-color: #00ff00; font-weight: bold\">16:09:14</span>,<span style=\"color: #008080; text-decoration-color: #008080; font-weight: bold\">092</span> - <span style=\"font-weight: bold\">{</span>pytorch_tabular.tabular_model_tuner:<span style=\"color: #008080; text-decoration-color: #008080; font-weight: bold\">412</span><span style=\"font-weight: bold\">}</span> - INFO - Trial <span style=\"color: #008080; text-decoration-color: #008080; font-weight: bold\">9</span>/<span style=\"color: #008080; text-decoration-color: #008080; font-weight: bold\">32</span>: <span style=\"font-weight: bold\">{</span><span style=\"color: #008000; text-decoration-color: #008000\">'model'</span>:                 \n",
       "<span style=\"color: #008000; text-decoration-color: #008000\">'0-CategoryEmbeddingModelConfig'</span>, <span style=\"color: #008000; text-decoration-color: #008000\">'model_config__activation'</span>: <span style=\"color: #008000; text-decoration-color: #008000\">'ReLU'</span>, <span style=\"color: #008000; text-decoration-color: #008000\">'model_config__embedding_dropout'</span>: <span style=\"color: #008080; text-decoration-color: #008080; font-weight: bold\">0.2</span>,      \n",
       "<span style=\"color: #008000; text-decoration-color: #008000\">'model_config__layers'</span>: <span style=\"color: #008000; text-decoration-color: #008000\">'128-64-32'</span>, <span style=\"color: #008000; text-decoration-color: #008000\">'optimizer_config__optimizer'</span>: <span style=\"color: #008000; text-decoration-color: #008000\">'Adam'</span>, <span style=\"color: #008000; text-decoration-color: #008000\">'loss_0'</span>: <span style=\"color: #008080; text-decoration-color: #008080; font-weight: bold\">0.6870165467262268</span>, <span style=\"color: #008000; text-decoration-color: #008000\">'loss'</span>:  \n",
       "<span style=\"color: #008080; text-decoration-color: #008080; font-weight: bold\">0.6870165467262268</span>, <span style=\"color: #008000; text-decoration-color: #008000\">'accuracy'</span>: <span style=\"color: #008080; text-decoration-color: #008080; font-weight: bold\">0.5894039869308472</span>, <span style=\"color: #008000; text-decoration-color: #008000\">'trial_id'</span>: <span style=\"color: #008080; text-decoration-color: #008080; font-weight: bold\">8</span><span style=\"font-weight: bold\">}</span> | Score: <span style=\"color: #008080; text-decoration-color: #008080; font-weight: bold\">0.5894039869308472</span>                     \n",
       "</pre>\n"
      ],
      "text/plain": [
       "\u001b[1;36m2025\u001b[0m-\u001b[1;36m02\u001b[0m-\u001b[1;36m08\u001b[0m \u001b[1;92m16:09:14\u001b[0m,\u001b[1;36m092\u001b[0m - \u001b[1m{\u001b[0mpytorch_tabular.tabular_model_tuner:\u001b[1;36m412\u001b[0m\u001b[1m}\u001b[0m - INFO - Trial \u001b[1;36m9\u001b[0m/\u001b[1;36m32\u001b[0m: \u001b[1m{\u001b[0m\u001b[32m'model'\u001b[0m:                 \n",
       "\u001b[32m'0-CategoryEmbeddingModelConfig'\u001b[0m, \u001b[32m'model_config__activation'\u001b[0m: \u001b[32m'ReLU'\u001b[0m, \u001b[32m'model_config__embedding_dropout'\u001b[0m: \u001b[1;36m0.2\u001b[0m,      \n",
       "\u001b[32m'model_config__layers'\u001b[0m: \u001b[32m'128-64-32'\u001b[0m, \u001b[32m'optimizer_config__optimizer'\u001b[0m: \u001b[32m'Adam'\u001b[0m, \u001b[32m'loss_0'\u001b[0m: \u001b[1;36m0.6870165467262268\u001b[0m, \u001b[32m'loss'\u001b[0m:  \n",
       "\u001b[1;36m0.6870165467262268\u001b[0m, \u001b[32m'accuracy'\u001b[0m: \u001b[1;36m0.5894039869308472\u001b[0m, \u001b[32m'trial_id'\u001b[0m: \u001b[1;36m8\u001b[0m\u001b[1m}\u001b[0m | Score: \u001b[1;36m0.5894039869308472\u001b[0m                     \n"
      ]
     },
     "metadata": {},
     "output_type": "display_data"
    },
    {
     "data": {
      "text/html": [
       "<pre style=\"white-space:pre;overflow-x:auto;line-height:normal;font-family:Menlo,'DejaVu Sans Mono',consolas,'Courier New',monospace\">/home/max/anaconda3/envs/tabular/lib/python3.10/site-packages/pytorch_lightning/callbacks/model_checkpoint.py:639: \n",
       "Checkpoint directory /home/max/Documents/PA/pytorch_tabular/machine_learning/saved_models exists and is not empty.\n",
       "</pre>\n"
      ],
      "text/plain": [
       "/home/max/anaconda3/envs/tabular/lib/python3.10/site-packages/pytorch_lightning/callbacks/model_checkpoint.py:639: \n",
       "Checkpoint directory /home/max/Documents/PA/pytorch_tabular/machine_learning/saved_models exists and is not empty.\n"
      ]
     },
     "metadata": {},
     "output_type": "display_data"
    },
    {
     "data": {
      "text/html": [
       "<pre style=\"white-space:pre;overflow-x:auto;line-height:normal;font-family:Menlo,'DejaVu Sans Mono',consolas,'Courier New',monospace\">/home/max/anaconda3/envs/tabular/lib/python3.10/site-packages/pytorch_lightning/loops/fit_loop.py:293: The number \n",
       "of training batches (22) is smaller than the logging interval Trainer(log_every_n_steps=50). Set a lower value for \n",
       "log_every_n_steps if you want to see logs for the training epoch.\n",
       "</pre>\n"
      ],
      "text/plain": [
       "/home/max/anaconda3/envs/tabular/lib/python3.10/site-packages/pytorch_lightning/loops/fit_loop.py:293: The number \n",
       "of training batches (22) is smaller than the logging interval Trainer(log_every_n_steps=50). Set a lower value for \n",
       "log_every_n_steps if you want to see logs for the training epoch.\n"
      ]
     },
     "metadata": {},
     "output_type": "display_data"
    },
    {
     "data": {
      "application/vnd.jupyter.widget-view+json": {
       "model_id": "524c33e13a3f4782b485414d4a50c4c4",
       "version_major": 2,
       "version_minor": 0
      },
      "text/plain": [
       "Finding best initial lr:   0%|          | 0/100 [00:00<?, ?it/s]"
      ]
     },
     "metadata": {},
     "output_type": "display_data"
    },
    {
     "data": {
      "text/html": [
       "<pre style=\"white-space:pre;overflow-x:auto;line-height:normal;font-family:Menlo,'DejaVu Sans Mono',consolas,'Courier New',monospace\"><span style=\"color: #008080; text-decoration-color: #008080; font-weight: bold\">2025</span>-<span style=\"color: #008080; text-decoration-color: #008080; font-weight: bold\">02</span>-<span style=\"color: #008080; text-decoration-color: #008080; font-weight: bold\">08</span> <span style=\"color: #00ff00; text-decoration-color: #00ff00; font-weight: bold\">16:09:19</span>,<span style=\"color: #008080; text-decoration-color: #008080; font-weight: bold\">620</span> - <span style=\"font-weight: bold\">{</span>pytorch_tabular.tabular_model_tuner:<span style=\"color: #008080; text-decoration-color: #008080; font-weight: bold\">412</span><span style=\"font-weight: bold\">}</span> - INFO - Trial <span style=\"color: #008080; text-decoration-color: #008080; font-weight: bold\">10</span>/<span style=\"color: #008080; text-decoration-color: #008080; font-weight: bold\">32</span>: <span style=\"font-weight: bold\">{</span><span style=\"color: #008000; text-decoration-color: #008000\">'model'</span>:                \n",
       "<span style=\"color: #008000; text-decoration-color: #008000\">'0-CategoryEmbeddingModelConfig'</span>, <span style=\"color: #008000; text-decoration-color: #008000\">'model_config__activation'</span>: <span style=\"color: #008000; text-decoration-color: #008000\">'ReLU'</span>, <span style=\"color: #008000; text-decoration-color: #008000\">'model_config__embedding_dropout'</span>: <span style=\"color: #008080; text-decoration-color: #008080; font-weight: bold\">0.2</span>,      \n",
       "<span style=\"color: #008000; text-decoration-color: #008000\">'model_config__layers'</span>: <span style=\"color: #008000; text-decoration-color: #008000\">'128-64-32'</span>, <span style=\"color: #008000; text-decoration-color: #008000\">'optimizer_config__optimizer'</span>: <span style=\"color: #008000; text-decoration-color: #008000\">'SGD'</span>, <span style=\"color: #008000; text-decoration-color: #008000\">'loss_0'</span>: <span style=\"color: #008080; text-decoration-color: #008080; font-weight: bold\">0.7286360859870911</span>, <span style=\"color: #008000; text-decoration-color: #008000\">'loss'</span>:   \n",
       "<span style=\"color: #008080; text-decoration-color: #008080; font-weight: bold\">0.7286360859870911</span>, <span style=\"color: #008000; text-decoration-color: #008000\">'accuracy'</span>: <span style=\"color: #008080; text-decoration-color: #008080; font-weight: bold\">0.4139072895050049</span>, <span style=\"color: #008000; text-decoration-color: #008000\">'trial_id'</span>: <span style=\"color: #008080; text-decoration-color: #008080; font-weight: bold\">9</span><span style=\"font-weight: bold\">}</span> | Score: <span style=\"color: #008080; text-decoration-color: #008080; font-weight: bold\">0.4139072895050049</span>                     \n",
       "</pre>\n"
      ],
      "text/plain": [
       "\u001b[1;36m2025\u001b[0m-\u001b[1;36m02\u001b[0m-\u001b[1;36m08\u001b[0m \u001b[1;92m16:09:19\u001b[0m,\u001b[1;36m620\u001b[0m - \u001b[1m{\u001b[0mpytorch_tabular.tabular_model_tuner:\u001b[1;36m412\u001b[0m\u001b[1m}\u001b[0m - INFO - Trial \u001b[1;36m10\u001b[0m/\u001b[1;36m32\u001b[0m: \u001b[1m{\u001b[0m\u001b[32m'model'\u001b[0m:                \n",
       "\u001b[32m'0-CategoryEmbeddingModelConfig'\u001b[0m, \u001b[32m'model_config__activation'\u001b[0m: \u001b[32m'ReLU'\u001b[0m, \u001b[32m'model_config__embedding_dropout'\u001b[0m: \u001b[1;36m0.2\u001b[0m,      \n",
       "\u001b[32m'model_config__layers'\u001b[0m: \u001b[32m'128-64-32'\u001b[0m, \u001b[32m'optimizer_config__optimizer'\u001b[0m: \u001b[32m'SGD'\u001b[0m, \u001b[32m'loss_0'\u001b[0m: \u001b[1;36m0.7286360859870911\u001b[0m, \u001b[32m'loss'\u001b[0m:   \n",
       "\u001b[1;36m0.7286360859870911\u001b[0m, \u001b[32m'accuracy'\u001b[0m: \u001b[1;36m0.4139072895050049\u001b[0m, \u001b[32m'trial_id'\u001b[0m: \u001b[1;36m9\u001b[0m\u001b[1m}\u001b[0m | Score: \u001b[1;36m0.4139072895050049\u001b[0m                     \n"
      ]
     },
     "metadata": {},
     "output_type": "display_data"
    },
    {
     "data": {
      "text/html": [
       "<pre style=\"white-space:pre;overflow-x:auto;line-height:normal;font-family:Menlo,'DejaVu Sans Mono',consolas,'Courier New',monospace\">/home/max/anaconda3/envs/tabular/lib/python3.10/site-packages/pytorch_lightning/callbacks/model_checkpoint.py:639: \n",
       "Checkpoint directory /home/max/Documents/PA/pytorch_tabular/machine_learning/saved_models exists and is not empty.\n",
       "</pre>\n"
      ],
      "text/plain": [
       "/home/max/anaconda3/envs/tabular/lib/python3.10/site-packages/pytorch_lightning/callbacks/model_checkpoint.py:639: \n",
       "Checkpoint directory /home/max/Documents/PA/pytorch_tabular/machine_learning/saved_models exists and is not empty.\n"
      ]
     },
     "metadata": {},
     "output_type": "display_data"
    },
    {
     "data": {
      "text/html": [
       "<pre style=\"white-space:pre;overflow-x:auto;line-height:normal;font-family:Menlo,'DejaVu Sans Mono',consolas,'Courier New',monospace\">/home/max/anaconda3/envs/tabular/lib/python3.10/site-packages/pytorch_lightning/loops/fit_loop.py:293: The number \n",
       "of training batches (22) is smaller than the logging interval Trainer(log_every_n_steps=50). Set a lower value for \n",
       "log_every_n_steps if you want to see logs for the training epoch.\n",
       "</pre>\n"
      ],
      "text/plain": [
       "/home/max/anaconda3/envs/tabular/lib/python3.10/site-packages/pytorch_lightning/loops/fit_loop.py:293: The number \n",
       "of training batches (22) is smaller than the logging interval Trainer(log_every_n_steps=50). Set a lower value for \n",
       "log_every_n_steps if you want to see logs for the training epoch.\n"
      ]
     },
     "metadata": {},
     "output_type": "display_data"
    },
    {
     "data": {
      "application/vnd.jupyter.widget-view+json": {
       "model_id": "a26b9fb6592b42819de0250ad43a7b7f",
       "version_major": 2,
       "version_minor": 0
      },
      "text/plain": [
       "Finding best initial lr:   0%|          | 0/100 [00:00<?, ?it/s]"
      ]
     },
     "metadata": {},
     "output_type": "display_data"
    },
    {
     "data": {
      "text/html": [
       "<pre style=\"white-space:pre;overflow-x:auto;line-height:normal;font-family:Menlo,'DejaVu Sans Mono',consolas,'Courier New',monospace\"><span style=\"color: #008080; text-decoration-color: #008080; font-weight: bold\">2025</span>-<span style=\"color: #008080; text-decoration-color: #008080; font-weight: bold\">02</span>-<span style=\"color: #008080; text-decoration-color: #008080; font-weight: bold\">08</span> <span style=\"color: #00ff00; text-decoration-color: #00ff00; font-weight: bold\">16:09:27</span>,<span style=\"color: #008080; text-decoration-color: #008080; font-weight: bold\">084</span> - <span style=\"font-weight: bold\">{</span>pytorch_tabular.tabular_model_tuner:<span style=\"color: #008080; text-decoration-color: #008080; font-weight: bold\">412</span><span style=\"font-weight: bold\">}</span> - INFO - Trial <span style=\"color: #008080; text-decoration-color: #008080; font-weight: bold\">11</span>/<span style=\"color: #008080; text-decoration-color: #008080; font-weight: bold\">32</span>: <span style=\"font-weight: bold\">{</span><span style=\"color: #008000; text-decoration-color: #008000\">'model'</span>:                \n",
       "<span style=\"color: #008000; text-decoration-color: #008000\">'0-CategoryEmbeddingModelConfig'</span>, <span style=\"color: #008000; text-decoration-color: #008000\">'model_config__activation'</span>: <span style=\"color: #008000; text-decoration-color: #008000\">'ReLU'</span>, <span style=\"color: #008000; text-decoration-color: #008000\">'model_config__embedding_dropout'</span>: <span style=\"color: #008080; text-decoration-color: #008080; font-weight: bold\">0.2</span>,      \n",
       "<span style=\"color: #008000; text-decoration-color: #008000\">'model_config__layers'</span>: <span style=\"color: #008000; text-decoration-color: #008000\">'1024-512-256'</span>, <span style=\"color: #008000; text-decoration-color: #008000\">'optimizer_config__optimizer'</span>: <span style=\"color: #008000; text-decoration-color: #008000\">'Adam'</span>, <span style=\"color: #008000; text-decoration-color: #008000\">'loss_0'</span>: <span style=\"color: #008080; text-decoration-color: #008080; font-weight: bold\">0.6873462796211243</span>,       \n",
       "<span style=\"color: #008000; text-decoration-color: #008000\">'loss'</span>: <span style=\"color: #008080; text-decoration-color: #008080; font-weight: bold\">0.6873462796211243</span>, <span style=\"color: #008000; text-decoration-color: #008000\">'accuracy'</span>: <span style=\"color: #008080; text-decoration-color: #008080; font-weight: bold\">0.5860927104949951</span>, <span style=\"color: #008000; text-decoration-color: #008000\">'trial_id'</span>: <span style=\"color: #008080; text-decoration-color: #008080; font-weight: bold\">10</span><span style=\"font-weight: bold\">}</span> | Score: <span style=\"color: #008080; text-decoration-color: #008080; font-weight: bold\">0.5860927104949951</span>            \n",
       "</pre>\n"
      ],
      "text/plain": [
       "\u001b[1;36m2025\u001b[0m-\u001b[1;36m02\u001b[0m-\u001b[1;36m08\u001b[0m \u001b[1;92m16:09:27\u001b[0m,\u001b[1;36m084\u001b[0m - \u001b[1m{\u001b[0mpytorch_tabular.tabular_model_tuner:\u001b[1;36m412\u001b[0m\u001b[1m}\u001b[0m - INFO - Trial \u001b[1;36m11\u001b[0m/\u001b[1;36m32\u001b[0m: \u001b[1m{\u001b[0m\u001b[32m'model'\u001b[0m:                \n",
       "\u001b[32m'0-CategoryEmbeddingModelConfig'\u001b[0m, \u001b[32m'model_config__activation'\u001b[0m: \u001b[32m'ReLU'\u001b[0m, \u001b[32m'model_config__embedding_dropout'\u001b[0m: \u001b[1;36m0.2\u001b[0m,      \n",
       "\u001b[32m'model_config__layers'\u001b[0m: \u001b[32m'1024-512-256'\u001b[0m, \u001b[32m'optimizer_config__optimizer'\u001b[0m: \u001b[32m'Adam'\u001b[0m, \u001b[32m'loss_0'\u001b[0m: \u001b[1;36m0.6873462796211243\u001b[0m,       \n",
       "\u001b[32m'loss'\u001b[0m: \u001b[1;36m0.6873462796211243\u001b[0m, \u001b[32m'accuracy'\u001b[0m: \u001b[1;36m0.5860927104949951\u001b[0m, \u001b[32m'trial_id'\u001b[0m: \u001b[1;36m10\u001b[0m\u001b[1m}\u001b[0m | Score: \u001b[1;36m0.5860927104949951\u001b[0m            \n"
      ]
     },
     "metadata": {},
     "output_type": "display_data"
    },
    {
     "data": {
      "text/html": [
       "<pre style=\"white-space:pre;overflow-x:auto;line-height:normal;font-family:Menlo,'DejaVu Sans Mono',consolas,'Courier New',monospace\">/home/max/anaconda3/envs/tabular/lib/python3.10/site-packages/pytorch_lightning/callbacks/model_checkpoint.py:639: \n",
       "Checkpoint directory /home/max/Documents/PA/pytorch_tabular/machine_learning/saved_models exists and is not empty.\n",
       "</pre>\n"
      ],
      "text/plain": [
       "/home/max/anaconda3/envs/tabular/lib/python3.10/site-packages/pytorch_lightning/callbacks/model_checkpoint.py:639: \n",
       "Checkpoint directory /home/max/Documents/PA/pytorch_tabular/machine_learning/saved_models exists and is not empty.\n"
      ]
     },
     "metadata": {},
     "output_type": "display_data"
    },
    {
     "data": {
      "text/html": [
       "<pre style=\"white-space:pre;overflow-x:auto;line-height:normal;font-family:Menlo,'DejaVu Sans Mono',consolas,'Courier New',monospace\">/home/max/anaconda3/envs/tabular/lib/python3.10/site-packages/pytorch_lightning/loops/fit_loop.py:293: The number \n",
       "of training batches (22) is smaller than the logging interval Trainer(log_every_n_steps=50). Set a lower value for \n",
       "log_every_n_steps if you want to see logs for the training epoch.\n",
       "</pre>\n"
      ],
      "text/plain": [
       "/home/max/anaconda3/envs/tabular/lib/python3.10/site-packages/pytorch_lightning/loops/fit_loop.py:293: The number \n",
       "of training batches (22) is smaller than the logging interval Trainer(log_every_n_steps=50). Set a lower value for \n",
       "log_every_n_steps if you want to see logs for the training epoch.\n"
      ]
     },
     "metadata": {},
     "output_type": "display_data"
    },
    {
     "data": {
      "application/vnd.jupyter.widget-view+json": {
       "model_id": "9e78a0633c2f40e3bba64cbe41f1e86e",
       "version_major": 2,
       "version_minor": 0
      },
      "text/plain": [
       "Finding best initial lr:   0%|          | 0/100 [00:00<?, ?it/s]"
      ]
     },
     "metadata": {},
     "output_type": "display_data"
    },
    {
     "data": {
      "text/html": [
       "<pre style=\"white-space:pre;overflow-x:auto;line-height:normal;font-family:Menlo,'DejaVu Sans Mono',consolas,'Courier New',monospace\"><span style=\"color: #008080; text-decoration-color: #008080; font-weight: bold\">2025</span>-<span style=\"color: #008080; text-decoration-color: #008080; font-weight: bold\">02</span>-<span style=\"color: #008080; text-decoration-color: #008080; font-weight: bold\">08</span> <span style=\"color: #00ff00; text-decoration-color: #00ff00; font-weight: bold\">16:09:38</span>,<span style=\"color: #008080; text-decoration-color: #008080; font-weight: bold\">246</span> - <span style=\"font-weight: bold\">{</span>pytorch_tabular.tabular_model_tuner:<span style=\"color: #008080; text-decoration-color: #008080; font-weight: bold\">412</span><span style=\"font-weight: bold\">}</span> - INFO - Trial <span style=\"color: #008080; text-decoration-color: #008080; font-weight: bold\">12</span>/<span style=\"color: #008080; text-decoration-color: #008080; font-weight: bold\">32</span>: <span style=\"font-weight: bold\">{</span><span style=\"color: #008000; text-decoration-color: #008000\">'model'</span>:                \n",
       "<span style=\"color: #008000; text-decoration-color: #008000\">'0-CategoryEmbeddingModelConfig'</span>, <span style=\"color: #008000; text-decoration-color: #008000\">'model_config__activation'</span>: <span style=\"color: #008000; text-decoration-color: #008000\">'ReLU'</span>, <span style=\"color: #008000; text-decoration-color: #008000\">'model_config__embedding_dropout'</span>: <span style=\"color: #008080; text-decoration-color: #008080; font-weight: bold\">0.2</span>,      \n",
       "<span style=\"color: #008000; text-decoration-color: #008000\">'model_config__layers'</span>: <span style=\"color: #008000; text-decoration-color: #008000\">'1024-512-256'</span>, <span style=\"color: #008000; text-decoration-color: #008000\">'optimizer_config__optimizer'</span>: <span style=\"color: #008000; text-decoration-color: #008000\">'SGD'</span>, <span style=\"color: #008000; text-decoration-color: #008000\">'loss_0'</span>: <span style=\"color: #008080; text-decoration-color: #008080; font-weight: bold\">0.5997646450996399</span>, <span style=\"color: #008000; text-decoration-color: #008000\">'loss'</span>:\n",
       "<span style=\"color: #008080; text-decoration-color: #008080; font-weight: bold\">0.5997646450996399</span>, <span style=\"color: #008000; text-decoration-color: #008000\">'accuracy'</span>: <span style=\"color: #008080; text-decoration-color: #008080; font-weight: bold\">0.7086092829704285</span>, <span style=\"color: #008000; text-decoration-color: #008000\">'trial_id'</span>: <span style=\"color: #008080; text-decoration-color: #008080; font-weight: bold\">11</span><span style=\"font-weight: bold\">}</span> | Score: <span style=\"color: #008080; text-decoration-color: #008080; font-weight: bold\">0.7086092829704285</span>                    \n",
       "</pre>\n"
      ],
      "text/plain": [
       "\u001b[1;36m2025\u001b[0m-\u001b[1;36m02\u001b[0m-\u001b[1;36m08\u001b[0m \u001b[1;92m16:09:38\u001b[0m,\u001b[1;36m246\u001b[0m - \u001b[1m{\u001b[0mpytorch_tabular.tabular_model_tuner:\u001b[1;36m412\u001b[0m\u001b[1m}\u001b[0m - INFO - Trial \u001b[1;36m12\u001b[0m/\u001b[1;36m32\u001b[0m: \u001b[1m{\u001b[0m\u001b[32m'model'\u001b[0m:                \n",
       "\u001b[32m'0-CategoryEmbeddingModelConfig'\u001b[0m, \u001b[32m'model_config__activation'\u001b[0m: \u001b[32m'ReLU'\u001b[0m, \u001b[32m'model_config__embedding_dropout'\u001b[0m: \u001b[1;36m0.2\u001b[0m,      \n",
       "\u001b[32m'model_config__layers'\u001b[0m: \u001b[32m'1024-512-256'\u001b[0m, \u001b[32m'optimizer_config__optimizer'\u001b[0m: \u001b[32m'SGD'\u001b[0m, \u001b[32m'loss_0'\u001b[0m: \u001b[1;36m0.5997646450996399\u001b[0m, \u001b[32m'loss'\u001b[0m:\n",
       "\u001b[1;36m0.5997646450996399\u001b[0m, \u001b[32m'accuracy'\u001b[0m: \u001b[1;36m0.7086092829704285\u001b[0m, \u001b[32m'trial_id'\u001b[0m: \u001b[1;36m11\u001b[0m\u001b[1m}\u001b[0m | Score: \u001b[1;36m0.7086092829704285\u001b[0m                    \n"
      ]
     },
     "metadata": {},
     "output_type": "display_data"
    },
    {
     "data": {
      "text/html": [
       "<pre style=\"white-space:pre;overflow-x:auto;line-height:normal;font-family:Menlo,'DejaVu Sans Mono',consolas,'Courier New',monospace\">/home/max/anaconda3/envs/tabular/lib/python3.10/site-packages/pytorch_lightning/callbacks/model_checkpoint.py:639: \n",
       "Checkpoint directory /home/max/Documents/PA/pytorch_tabular/machine_learning/saved_models exists and is not empty.\n",
       "</pre>\n"
      ],
      "text/plain": [
       "/home/max/anaconda3/envs/tabular/lib/python3.10/site-packages/pytorch_lightning/callbacks/model_checkpoint.py:639: \n",
       "Checkpoint directory /home/max/Documents/PA/pytorch_tabular/machine_learning/saved_models exists and is not empty.\n"
      ]
     },
     "metadata": {},
     "output_type": "display_data"
    },
    {
     "data": {
      "text/html": [
       "<pre style=\"white-space:pre;overflow-x:auto;line-height:normal;font-family:Menlo,'DejaVu Sans Mono',consolas,'Courier New',monospace\">/home/max/anaconda3/envs/tabular/lib/python3.10/site-packages/pytorch_lightning/loops/fit_loop.py:293: The number \n",
       "of training batches (22) is smaller than the logging interval Trainer(log_every_n_steps=50). Set a lower value for \n",
       "log_every_n_steps if you want to see logs for the training epoch.\n",
       "</pre>\n"
      ],
      "text/plain": [
       "/home/max/anaconda3/envs/tabular/lib/python3.10/site-packages/pytorch_lightning/loops/fit_loop.py:293: The number \n",
       "of training batches (22) is smaller than the logging interval Trainer(log_every_n_steps=50). Set a lower value for \n",
       "log_every_n_steps if you want to see logs for the training epoch.\n"
      ]
     },
     "metadata": {},
     "output_type": "display_data"
    },
    {
     "data": {
      "application/vnd.jupyter.widget-view+json": {
       "model_id": "e4d331604dac49788cfbebdcd8784600",
       "version_major": 2,
       "version_minor": 0
      },
      "text/plain": [
       "Finding best initial lr:   0%|          | 0/100 [00:00<?, ?it/s]"
      ]
     },
     "metadata": {},
     "output_type": "display_data"
    },
    {
     "data": {
      "text/html": [
       "<pre style=\"white-space:pre;overflow-x:auto;line-height:normal;font-family:Menlo,'DejaVu Sans Mono',consolas,'Courier New',monospace\"><span style=\"color: #008080; text-decoration-color: #008080; font-weight: bold\">2025</span>-<span style=\"color: #008080; text-decoration-color: #008080; font-weight: bold\">02</span>-<span style=\"color: #008080; text-decoration-color: #008080; font-weight: bold\">08</span> <span style=\"color: #00ff00; text-decoration-color: #00ff00; font-weight: bold\">16:09:50</span>,<span style=\"color: #008080; text-decoration-color: #008080; font-weight: bold\">364</span> - <span style=\"font-weight: bold\">{</span>pytorch_tabular.tabular_model_tuner:<span style=\"color: #008080; text-decoration-color: #008080; font-weight: bold\">412</span><span style=\"font-weight: bold\">}</span> - INFO - Trial <span style=\"color: #008080; text-decoration-color: #008080; font-weight: bold\">13</span>/<span style=\"color: #008080; text-decoration-color: #008080; font-weight: bold\">32</span>: <span style=\"font-weight: bold\">{</span><span style=\"color: #008000; text-decoration-color: #008000\">'model'</span>:                \n",
       "<span style=\"color: #008000; text-decoration-color: #008000\">'0-CategoryEmbeddingModelConfig'</span>, <span style=\"color: #008000; text-decoration-color: #008000\">'model_config__activation'</span>: <span style=\"color: #008000; text-decoration-color: #008000\">'ReLU'</span>, <span style=\"color: #008000; text-decoration-color: #008000\">'model_config__embedding_dropout'</span>: <span style=\"color: #008080; text-decoration-color: #008080; font-weight: bold\">0.2</span>,      \n",
       "<span style=\"color: #008000; text-decoration-color: #008000\">'model_config__layers'</span>: <span style=\"color: #008000; text-decoration-color: #008000\">'32-64-128'</span>, <span style=\"color: #008000; text-decoration-color: #008000\">'optimizer_config__optimizer'</span>: <span style=\"color: #008000; text-decoration-color: #008000\">'Adam'</span>, <span style=\"color: #008000; text-decoration-color: #008000\">'loss_0'</span>: <span style=\"color: #008080; text-decoration-color: #008080; font-weight: bold\">0.5995039939880371</span>, <span style=\"color: #008000; text-decoration-color: #008000\">'loss'</span>:  \n",
       "<span style=\"color: #008080; text-decoration-color: #008080; font-weight: bold\">0.5995039939880371</span>, <span style=\"color: #008000; text-decoration-color: #008000\">'accuracy'</span>: <span style=\"color: #008080; text-decoration-color: #008080; font-weight: bold\">0.7119205594062805</span>, <span style=\"color: #008000; text-decoration-color: #008000\">'trial_id'</span>: <span style=\"color: #008080; text-decoration-color: #008080; font-weight: bold\">12</span><span style=\"font-weight: bold\">}</span> | Score: <span style=\"color: #008080; text-decoration-color: #008080; font-weight: bold\">0.7119205594062805</span>                    \n",
       "</pre>\n"
      ],
      "text/plain": [
       "\u001b[1;36m2025\u001b[0m-\u001b[1;36m02\u001b[0m-\u001b[1;36m08\u001b[0m \u001b[1;92m16:09:50\u001b[0m,\u001b[1;36m364\u001b[0m - \u001b[1m{\u001b[0mpytorch_tabular.tabular_model_tuner:\u001b[1;36m412\u001b[0m\u001b[1m}\u001b[0m - INFO - Trial \u001b[1;36m13\u001b[0m/\u001b[1;36m32\u001b[0m: \u001b[1m{\u001b[0m\u001b[32m'model'\u001b[0m:                \n",
       "\u001b[32m'0-CategoryEmbeddingModelConfig'\u001b[0m, \u001b[32m'model_config__activation'\u001b[0m: \u001b[32m'ReLU'\u001b[0m, \u001b[32m'model_config__embedding_dropout'\u001b[0m: \u001b[1;36m0.2\u001b[0m,      \n",
       "\u001b[32m'model_config__layers'\u001b[0m: \u001b[32m'32-64-128'\u001b[0m, \u001b[32m'optimizer_config__optimizer'\u001b[0m: \u001b[32m'Adam'\u001b[0m, \u001b[32m'loss_0'\u001b[0m: \u001b[1;36m0.5995039939880371\u001b[0m, \u001b[32m'loss'\u001b[0m:  \n",
       "\u001b[1;36m0.5995039939880371\u001b[0m, \u001b[32m'accuracy'\u001b[0m: \u001b[1;36m0.7119205594062805\u001b[0m, \u001b[32m'trial_id'\u001b[0m: \u001b[1;36m12\u001b[0m\u001b[1m}\u001b[0m | Score: \u001b[1;36m0.7119205594062805\u001b[0m                    \n"
      ]
     },
     "metadata": {},
     "output_type": "display_data"
    },
    {
     "data": {
      "text/html": [
       "<pre style=\"white-space:pre;overflow-x:auto;line-height:normal;font-family:Menlo,'DejaVu Sans Mono',consolas,'Courier New',monospace\">/home/max/anaconda3/envs/tabular/lib/python3.10/site-packages/pytorch_lightning/callbacks/model_checkpoint.py:639: \n",
       "Checkpoint directory /home/max/Documents/PA/pytorch_tabular/machine_learning/saved_models exists and is not empty.\n",
       "</pre>\n"
      ],
      "text/plain": [
       "/home/max/anaconda3/envs/tabular/lib/python3.10/site-packages/pytorch_lightning/callbacks/model_checkpoint.py:639: \n",
       "Checkpoint directory /home/max/Documents/PA/pytorch_tabular/machine_learning/saved_models exists and is not empty.\n"
      ]
     },
     "metadata": {},
     "output_type": "display_data"
    },
    {
     "data": {
      "text/html": [
       "<pre style=\"white-space:pre;overflow-x:auto;line-height:normal;font-family:Menlo,'DejaVu Sans Mono',consolas,'Courier New',monospace\">/home/max/anaconda3/envs/tabular/lib/python3.10/site-packages/pytorch_lightning/loops/fit_loop.py:293: The number \n",
       "of training batches (22) is smaller than the logging interval Trainer(log_every_n_steps=50). Set a lower value for \n",
       "log_every_n_steps if you want to see logs for the training epoch.\n",
       "</pre>\n"
      ],
      "text/plain": [
       "/home/max/anaconda3/envs/tabular/lib/python3.10/site-packages/pytorch_lightning/loops/fit_loop.py:293: The number \n",
       "of training batches (22) is smaller than the logging interval Trainer(log_every_n_steps=50). Set a lower value for \n",
       "log_every_n_steps if you want to see logs for the training epoch.\n"
      ]
     },
     "metadata": {},
     "output_type": "display_data"
    },
    {
     "data": {
      "application/vnd.jupyter.widget-view+json": {
       "model_id": "d4f32f51dbd8423fa2372ef2ac1c413d",
       "version_major": 2,
       "version_minor": 0
      },
      "text/plain": [
       "Finding best initial lr:   0%|          | 0/100 [00:00<?, ?it/s]"
      ]
     },
     "metadata": {},
     "output_type": "display_data"
    },
    {
     "data": {
      "text/html": [
       "<pre style=\"white-space:pre;overflow-x:auto;line-height:normal;font-family:Menlo,'DejaVu Sans Mono',consolas,'Courier New',monospace\"><span style=\"color: #008080; text-decoration-color: #008080; font-weight: bold\">2025</span>-<span style=\"color: #008080; text-decoration-color: #008080; font-weight: bold\">02</span>-<span style=\"color: #008080; text-decoration-color: #008080; font-weight: bold\">08</span> <span style=\"color: #00ff00; text-decoration-color: #00ff00; font-weight: bold\">16:10:01</span>,<span style=\"color: #008080; text-decoration-color: #008080; font-weight: bold\">672</span> - <span style=\"font-weight: bold\">{</span>pytorch_tabular.tabular_model_tuner:<span style=\"color: #008080; text-decoration-color: #008080; font-weight: bold\">412</span><span style=\"font-weight: bold\">}</span> - INFO - Trial <span style=\"color: #008080; text-decoration-color: #008080; font-weight: bold\">14</span>/<span style=\"color: #008080; text-decoration-color: #008080; font-weight: bold\">32</span>: <span style=\"font-weight: bold\">{</span><span style=\"color: #008000; text-decoration-color: #008000\">'model'</span>:                \n",
       "<span style=\"color: #008000; text-decoration-color: #008000\">'0-CategoryEmbeddingModelConfig'</span>, <span style=\"color: #008000; text-decoration-color: #008000\">'model_config__activation'</span>: <span style=\"color: #008000; text-decoration-color: #008000\">'ReLU'</span>, <span style=\"color: #008000; text-decoration-color: #008000\">'model_config__embedding_dropout'</span>: <span style=\"color: #008080; text-decoration-color: #008080; font-weight: bold\">0.2</span>,      \n",
       "<span style=\"color: #008000; text-decoration-color: #008000\">'model_config__layers'</span>: <span style=\"color: #008000; text-decoration-color: #008000\">'32-64-128'</span>, <span style=\"color: #008000; text-decoration-color: #008000\">'optimizer_config__optimizer'</span>: <span style=\"color: #008000; text-decoration-color: #008000\">'SGD'</span>, <span style=\"color: #008000; text-decoration-color: #008000\">'loss_0'</span>: <span style=\"color: #008080; text-decoration-color: #008080; font-weight: bold\">0.6092230081558228</span>, <span style=\"color: #008000; text-decoration-color: #008000\">'loss'</span>:   \n",
       "<span style=\"color: #008080; text-decoration-color: #008080; font-weight: bold\">0.6092230081558228</span>, <span style=\"color: #008000; text-decoration-color: #008000\">'accuracy'</span>: <span style=\"color: #008080; text-decoration-color: #008080; font-weight: bold\">0.7052980065345764</span>, <span style=\"color: #008000; text-decoration-color: #008000\">'trial_id'</span>: <span style=\"color: #008080; text-decoration-color: #008080; font-weight: bold\">13</span><span style=\"font-weight: bold\">}</span> | Score: <span style=\"color: #008080; text-decoration-color: #008080; font-weight: bold\">0.7052980065345764</span>                    \n",
       "</pre>\n"
      ],
      "text/plain": [
       "\u001b[1;36m2025\u001b[0m-\u001b[1;36m02\u001b[0m-\u001b[1;36m08\u001b[0m \u001b[1;92m16:10:01\u001b[0m,\u001b[1;36m672\u001b[0m - \u001b[1m{\u001b[0mpytorch_tabular.tabular_model_tuner:\u001b[1;36m412\u001b[0m\u001b[1m}\u001b[0m - INFO - Trial \u001b[1;36m14\u001b[0m/\u001b[1;36m32\u001b[0m: \u001b[1m{\u001b[0m\u001b[32m'model'\u001b[0m:                \n",
       "\u001b[32m'0-CategoryEmbeddingModelConfig'\u001b[0m, \u001b[32m'model_config__activation'\u001b[0m: \u001b[32m'ReLU'\u001b[0m, \u001b[32m'model_config__embedding_dropout'\u001b[0m: \u001b[1;36m0.2\u001b[0m,      \n",
       "\u001b[32m'model_config__layers'\u001b[0m: \u001b[32m'32-64-128'\u001b[0m, \u001b[32m'optimizer_config__optimizer'\u001b[0m: \u001b[32m'SGD'\u001b[0m, \u001b[32m'loss_0'\u001b[0m: \u001b[1;36m0.6092230081558228\u001b[0m, \u001b[32m'loss'\u001b[0m:   \n",
       "\u001b[1;36m0.6092230081558228\u001b[0m, \u001b[32m'accuracy'\u001b[0m: \u001b[1;36m0.7052980065345764\u001b[0m, \u001b[32m'trial_id'\u001b[0m: \u001b[1;36m13\u001b[0m\u001b[1m}\u001b[0m | Score: \u001b[1;36m0.7052980065345764\u001b[0m                    \n"
      ]
     },
     "metadata": {},
     "output_type": "display_data"
    },
    {
     "data": {
      "text/html": [
       "<pre style=\"white-space:pre;overflow-x:auto;line-height:normal;font-family:Menlo,'DejaVu Sans Mono',consolas,'Courier New',monospace\">/home/max/anaconda3/envs/tabular/lib/python3.10/site-packages/pytorch_lightning/callbacks/model_checkpoint.py:639: \n",
       "Checkpoint directory /home/max/Documents/PA/pytorch_tabular/machine_learning/saved_models exists and is not empty.\n",
       "</pre>\n"
      ],
      "text/plain": [
       "/home/max/anaconda3/envs/tabular/lib/python3.10/site-packages/pytorch_lightning/callbacks/model_checkpoint.py:639: \n",
       "Checkpoint directory /home/max/Documents/PA/pytorch_tabular/machine_learning/saved_models exists and is not empty.\n"
      ]
     },
     "metadata": {},
     "output_type": "display_data"
    },
    {
     "data": {
      "text/html": [
       "<pre style=\"white-space:pre;overflow-x:auto;line-height:normal;font-family:Menlo,'DejaVu Sans Mono',consolas,'Courier New',monospace\">/home/max/anaconda3/envs/tabular/lib/python3.10/site-packages/pytorch_lightning/loops/fit_loop.py:293: The number \n",
       "of training batches (22) is smaller than the logging interval Trainer(log_every_n_steps=50). Set a lower value for \n",
       "log_every_n_steps if you want to see logs for the training epoch.\n",
       "</pre>\n"
      ],
      "text/plain": [
       "/home/max/anaconda3/envs/tabular/lib/python3.10/site-packages/pytorch_lightning/loops/fit_loop.py:293: The number \n",
       "of training batches (22) is smaller than the logging interval Trainer(log_every_n_steps=50). Set a lower value for \n",
       "log_every_n_steps if you want to see logs for the training epoch.\n"
      ]
     },
     "metadata": {},
     "output_type": "display_data"
    },
    {
     "data": {
      "application/vnd.jupyter.widget-view+json": {
       "model_id": "2f534093556547e996759c3f3e053808",
       "version_major": 2,
       "version_minor": 0
      },
      "text/plain": [
       "Finding best initial lr:   0%|          | 0/100 [00:00<?, ?it/s]"
      ]
     },
     "metadata": {},
     "output_type": "display_data"
    },
    {
     "data": {
      "text/html": [
       "<pre style=\"white-space:pre;overflow-x:auto;line-height:normal;font-family:Menlo,'DejaVu Sans Mono',consolas,'Courier New',monospace\"><span style=\"color: #008080; text-decoration-color: #008080; font-weight: bold\">2025</span>-<span style=\"color: #008080; text-decoration-color: #008080; font-weight: bold\">02</span>-<span style=\"color: #008080; text-decoration-color: #008080; font-weight: bold\">08</span> <span style=\"color: #00ff00; text-decoration-color: #00ff00; font-weight: bold\">16:10:07</span>,<span style=\"color: #008080; text-decoration-color: #008080; font-weight: bold\">831</span> - <span style=\"font-weight: bold\">{</span>pytorch_tabular.tabular_model_tuner:<span style=\"color: #008080; text-decoration-color: #008080; font-weight: bold\">412</span><span style=\"font-weight: bold\">}</span> - INFO - Trial <span style=\"color: #008080; text-decoration-color: #008080; font-weight: bold\">15</span>/<span style=\"color: #008080; text-decoration-color: #008080; font-weight: bold\">32</span>: <span style=\"font-weight: bold\">{</span><span style=\"color: #008000; text-decoration-color: #008000\">'model'</span>:                \n",
       "<span style=\"color: #008000; text-decoration-color: #008000\">'0-CategoryEmbeddingModelConfig'</span>, <span style=\"color: #008000; text-decoration-color: #008000\">'model_config__activation'</span>: <span style=\"color: #008000; text-decoration-color: #008000\">'ReLU'</span>, <span style=\"color: #008000; text-decoration-color: #008000\">'model_config__embedding_dropout'</span>: <span style=\"color: #008080; text-decoration-color: #008080; font-weight: bold\">0.2</span>,      \n",
       "<span style=\"color: #008000; text-decoration-color: #008000\">'model_config__layers'</span>: <span style=\"color: #008000; text-decoration-color: #008000\">'256-512-1024'</span>, <span style=\"color: #008000; text-decoration-color: #008000\">'optimizer_config__optimizer'</span>: <span style=\"color: #008000; text-decoration-color: #008000\">'Adam'</span>, <span style=\"color: #008000; text-decoration-color: #008000\">'loss_0'</span>: <span style=\"color: #008080; text-decoration-color: #008080; font-weight: bold\">0.7208731174468994</span>,       \n",
       "<span style=\"color: #008000; text-decoration-color: #008000\">'loss'</span>: <span style=\"color: #008080; text-decoration-color: #008080; font-weight: bold\">0.7208731174468994</span>, <span style=\"color: #008000; text-decoration-color: #008000\">'accuracy'</span>: <span style=\"color: #008080; text-decoration-color: #008080; font-weight: bold\">0.5860927104949951</span>, <span style=\"color: #008000; text-decoration-color: #008000\">'trial_id'</span>: <span style=\"color: #008080; text-decoration-color: #008080; font-weight: bold\">14</span><span style=\"font-weight: bold\">}</span> | Score: <span style=\"color: #008080; text-decoration-color: #008080; font-weight: bold\">0.5860927104949951</span>            \n",
       "</pre>\n"
      ],
      "text/plain": [
       "\u001b[1;36m2025\u001b[0m-\u001b[1;36m02\u001b[0m-\u001b[1;36m08\u001b[0m \u001b[1;92m16:10:07\u001b[0m,\u001b[1;36m831\u001b[0m - \u001b[1m{\u001b[0mpytorch_tabular.tabular_model_tuner:\u001b[1;36m412\u001b[0m\u001b[1m}\u001b[0m - INFO - Trial \u001b[1;36m15\u001b[0m/\u001b[1;36m32\u001b[0m: \u001b[1m{\u001b[0m\u001b[32m'model'\u001b[0m:                \n",
       "\u001b[32m'0-CategoryEmbeddingModelConfig'\u001b[0m, \u001b[32m'model_config__activation'\u001b[0m: \u001b[32m'ReLU'\u001b[0m, \u001b[32m'model_config__embedding_dropout'\u001b[0m: \u001b[1;36m0.2\u001b[0m,      \n",
       "\u001b[32m'model_config__layers'\u001b[0m: \u001b[32m'256-512-1024'\u001b[0m, \u001b[32m'optimizer_config__optimizer'\u001b[0m: \u001b[32m'Adam'\u001b[0m, \u001b[32m'loss_0'\u001b[0m: \u001b[1;36m0.7208731174468994\u001b[0m,       \n",
       "\u001b[32m'loss'\u001b[0m: \u001b[1;36m0.7208731174468994\u001b[0m, \u001b[32m'accuracy'\u001b[0m: \u001b[1;36m0.5860927104949951\u001b[0m, \u001b[32m'trial_id'\u001b[0m: \u001b[1;36m14\u001b[0m\u001b[1m}\u001b[0m | Score: \u001b[1;36m0.5860927104949951\u001b[0m            \n"
      ]
     },
     "metadata": {},
     "output_type": "display_data"
    },
    {
     "data": {
      "text/html": [
       "<pre style=\"white-space:pre;overflow-x:auto;line-height:normal;font-family:Menlo,'DejaVu Sans Mono',consolas,'Courier New',monospace\">/home/max/anaconda3/envs/tabular/lib/python3.10/site-packages/pytorch_lightning/callbacks/model_checkpoint.py:639: \n",
       "Checkpoint directory /home/max/Documents/PA/pytorch_tabular/machine_learning/saved_models exists and is not empty.\n",
       "</pre>\n"
      ],
      "text/plain": [
       "/home/max/anaconda3/envs/tabular/lib/python3.10/site-packages/pytorch_lightning/callbacks/model_checkpoint.py:639: \n",
       "Checkpoint directory /home/max/Documents/PA/pytorch_tabular/machine_learning/saved_models exists and is not empty.\n"
      ]
     },
     "metadata": {},
     "output_type": "display_data"
    },
    {
     "data": {
      "text/html": [
       "<pre style=\"white-space:pre;overflow-x:auto;line-height:normal;font-family:Menlo,'DejaVu Sans Mono',consolas,'Courier New',monospace\">/home/max/anaconda3/envs/tabular/lib/python3.10/site-packages/pytorch_lightning/loops/fit_loop.py:293: The number \n",
       "of training batches (22) is smaller than the logging interval Trainer(log_every_n_steps=50). Set a lower value for \n",
       "log_every_n_steps if you want to see logs for the training epoch.\n",
       "</pre>\n"
      ],
      "text/plain": [
       "/home/max/anaconda3/envs/tabular/lib/python3.10/site-packages/pytorch_lightning/loops/fit_loop.py:293: The number \n",
       "of training batches (22) is smaller than the logging interval Trainer(log_every_n_steps=50). Set a lower value for \n",
       "log_every_n_steps if you want to see logs for the training epoch.\n"
      ]
     },
     "metadata": {},
     "output_type": "display_data"
    },
    {
     "data": {
      "application/vnd.jupyter.widget-view+json": {
       "model_id": "689ef074a52941e58d1cff86d8c145fc",
       "version_major": 2,
       "version_minor": 0
      },
      "text/plain": [
       "Finding best initial lr:   0%|          | 0/100 [00:00<?, ?it/s]"
      ]
     },
     "metadata": {},
     "output_type": "display_data"
    },
    {
     "data": {
      "text/html": [
       "<pre style=\"white-space:pre;overflow-x:auto;line-height:normal;font-family:Menlo,'DejaVu Sans Mono',consolas,'Courier New',monospace\"><span style=\"color: #008080; text-decoration-color: #008080; font-weight: bold\">2025</span>-<span style=\"color: #008080; text-decoration-color: #008080; font-weight: bold\">02</span>-<span style=\"color: #008080; text-decoration-color: #008080; font-weight: bold\">08</span> <span style=\"color: #00ff00; text-decoration-color: #00ff00; font-weight: bold\">16:10:19</span>,<span style=\"color: #008080; text-decoration-color: #008080; font-weight: bold\">945</span> - <span style=\"font-weight: bold\">{</span>pytorch_tabular.tabular_model_tuner:<span style=\"color: #008080; text-decoration-color: #008080; font-weight: bold\">412</span><span style=\"font-weight: bold\">}</span> - INFO - Trial <span style=\"color: #008080; text-decoration-color: #008080; font-weight: bold\">16</span>/<span style=\"color: #008080; text-decoration-color: #008080; font-weight: bold\">32</span>: <span style=\"font-weight: bold\">{</span><span style=\"color: #008000; text-decoration-color: #008000\">'model'</span>:                \n",
       "<span style=\"color: #008000; text-decoration-color: #008000\">'0-CategoryEmbeddingModelConfig'</span>, <span style=\"color: #008000; text-decoration-color: #008000\">'model_config__activation'</span>: <span style=\"color: #008000; text-decoration-color: #008000\">'ReLU'</span>, <span style=\"color: #008000; text-decoration-color: #008000\">'model_config__embedding_dropout'</span>: <span style=\"color: #008080; text-decoration-color: #008080; font-weight: bold\">0.2</span>,      \n",
       "<span style=\"color: #008000; text-decoration-color: #008000\">'model_config__layers'</span>: <span style=\"color: #008000; text-decoration-color: #008000\">'256-512-1024'</span>, <span style=\"color: #008000; text-decoration-color: #008000\">'optimizer_config__optimizer'</span>: <span style=\"color: #008000; text-decoration-color: #008000\">'SGD'</span>, <span style=\"color: #008000; text-decoration-color: #008000\">'loss_0'</span>: <span style=\"color: #008080; text-decoration-color: #008080; font-weight: bold\">0.5954536199569702</span>, <span style=\"color: #008000; text-decoration-color: #008000\">'loss'</span>:\n",
       "<span style=\"color: #008080; text-decoration-color: #008080; font-weight: bold\">0.5954536199569702</span>, <span style=\"color: #008000; text-decoration-color: #008000\">'accuracy'</span>: <span style=\"color: #008080; text-decoration-color: #008080; font-weight: bold\">0.7086092829704285</span>, <span style=\"color: #008000; text-decoration-color: #008000\">'trial_id'</span>: <span style=\"color: #008080; text-decoration-color: #008080; font-weight: bold\">15</span><span style=\"font-weight: bold\">}</span> | Score: <span style=\"color: #008080; text-decoration-color: #008080; font-weight: bold\">0.7086092829704285</span>                    \n",
       "</pre>\n"
      ],
      "text/plain": [
       "\u001b[1;36m2025\u001b[0m-\u001b[1;36m02\u001b[0m-\u001b[1;36m08\u001b[0m \u001b[1;92m16:10:19\u001b[0m,\u001b[1;36m945\u001b[0m - \u001b[1m{\u001b[0mpytorch_tabular.tabular_model_tuner:\u001b[1;36m412\u001b[0m\u001b[1m}\u001b[0m - INFO - Trial \u001b[1;36m16\u001b[0m/\u001b[1;36m32\u001b[0m: \u001b[1m{\u001b[0m\u001b[32m'model'\u001b[0m:                \n",
       "\u001b[32m'0-CategoryEmbeddingModelConfig'\u001b[0m, \u001b[32m'model_config__activation'\u001b[0m: \u001b[32m'ReLU'\u001b[0m, \u001b[32m'model_config__embedding_dropout'\u001b[0m: \u001b[1;36m0.2\u001b[0m,      \n",
       "\u001b[32m'model_config__layers'\u001b[0m: \u001b[32m'256-512-1024'\u001b[0m, \u001b[32m'optimizer_config__optimizer'\u001b[0m: \u001b[32m'SGD'\u001b[0m, \u001b[32m'loss_0'\u001b[0m: \u001b[1;36m0.5954536199569702\u001b[0m, \u001b[32m'loss'\u001b[0m:\n",
       "\u001b[1;36m0.5954536199569702\u001b[0m, \u001b[32m'accuracy'\u001b[0m: \u001b[1;36m0.7086092829704285\u001b[0m, \u001b[32m'trial_id'\u001b[0m: \u001b[1;36m15\u001b[0m\u001b[1m}\u001b[0m | Score: \u001b[1;36m0.7086092829704285\u001b[0m                    \n"
      ]
     },
     "metadata": {},
     "output_type": "display_data"
    },
    {
     "data": {
      "text/html": [
       "<pre style=\"white-space:pre;overflow-x:auto;line-height:normal;font-family:Menlo,'DejaVu Sans Mono',consolas,'Courier New',monospace\">/home/max/anaconda3/envs/tabular/lib/python3.10/site-packages/pytorch_lightning/callbacks/model_checkpoint.py:639: \n",
       "Checkpoint directory /home/max/Documents/PA/pytorch_tabular/machine_learning/saved_models exists and is not empty.\n",
       "</pre>\n"
      ],
      "text/plain": [
       "/home/max/anaconda3/envs/tabular/lib/python3.10/site-packages/pytorch_lightning/callbacks/model_checkpoint.py:639: \n",
       "Checkpoint directory /home/max/Documents/PA/pytorch_tabular/machine_learning/saved_models exists and is not empty.\n"
      ]
     },
     "metadata": {},
     "output_type": "display_data"
    },
    {
     "data": {
      "text/html": [
       "<pre style=\"white-space:pre;overflow-x:auto;line-height:normal;font-family:Menlo,'DejaVu Sans Mono',consolas,'Courier New',monospace\">/home/max/anaconda3/envs/tabular/lib/python3.10/site-packages/pytorch_lightning/loops/fit_loop.py:293: The number \n",
       "of training batches (22) is smaller than the logging interval Trainer(log_every_n_steps=50). Set a lower value for \n",
       "log_every_n_steps if you want to see logs for the training epoch.\n",
       "</pre>\n"
      ],
      "text/plain": [
       "/home/max/anaconda3/envs/tabular/lib/python3.10/site-packages/pytorch_lightning/loops/fit_loop.py:293: The number \n",
       "of training batches (22) is smaller than the logging interval Trainer(log_every_n_steps=50). Set a lower value for \n",
       "log_every_n_steps if you want to see logs for the training epoch.\n"
      ]
     },
     "metadata": {},
     "output_type": "display_data"
    },
    {
     "data": {
      "application/vnd.jupyter.widget-view+json": {
       "model_id": "36afb33c6fae4bb58a345a24b6a565a9",
       "version_major": 2,
       "version_minor": 0
      },
      "text/plain": [
       "Finding best initial lr:   0%|          | 0/100 [00:00<?, ?it/s]"
      ]
     },
     "metadata": {},
     "output_type": "display_data"
    },
    {
     "data": {
      "text/html": [
       "<pre style=\"white-space:pre;overflow-x:auto;line-height:normal;font-family:Menlo,'DejaVu Sans Mono',consolas,'Courier New',monospace\"><span style=\"color: #008080; text-decoration-color: #008080; font-weight: bold\">2025</span>-<span style=\"color: #008080; text-decoration-color: #008080; font-weight: bold\">02</span>-<span style=\"color: #008080; text-decoration-color: #008080; font-weight: bold\">08</span> <span style=\"color: #00ff00; text-decoration-color: #00ff00; font-weight: bold\">16:10:30</span>,<span style=\"color: #008080; text-decoration-color: #008080; font-weight: bold\">422</span> - <span style=\"font-weight: bold\">{</span>pytorch_tabular.tabular_model_tuner:<span style=\"color: #008080; text-decoration-color: #008080; font-weight: bold\">412</span><span style=\"font-weight: bold\">}</span> - INFO - Trial <span style=\"color: #008080; text-decoration-color: #008080; font-weight: bold\">17</span>/<span style=\"color: #008080; text-decoration-color: #008080; font-weight: bold\">32</span>: <span style=\"font-weight: bold\">{</span><span style=\"color: #008000; text-decoration-color: #008000\">'model'</span>:                \n",
       "<span style=\"color: #008000; text-decoration-color: #008000\">'0-CategoryEmbeddingModelConfig'</span>, <span style=\"color: #008000; text-decoration-color: #008000\">'model_config__activation'</span>: <span style=\"color: #008000; text-decoration-color: #008000\">'LeakyReLU'</span>, <span style=\"color: #008000; text-decoration-color: #008000\">'model_config__embedding_dropout'</span>: <span style=\"color: #008080; text-decoration-color: #008080; font-weight: bold\">0.0</span>, \n",
       "<span style=\"color: #008000; text-decoration-color: #008000\">'model_config__layers'</span>: <span style=\"color: #008000; text-decoration-color: #008000\">'128-64-32'</span>, <span style=\"color: #008000; text-decoration-color: #008000\">'optimizer_config__optimizer'</span>: <span style=\"color: #008000; text-decoration-color: #008000\">'Adam'</span>, <span style=\"color: #008000; text-decoration-color: #008000\">'loss_0'</span>: <span style=\"color: #008080; text-decoration-color: #008080; font-weight: bold\">0.612990140914917</span>, <span style=\"color: #008000; text-decoration-color: #008000\">'loss'</span>:   \n",
       "<span style=\"color: #008080; text-decoration-color: #008080; font-weight: bold\">0.612990140914917</span>, <span style=\"color: #008000; text-decoration-color: #008000\">'accuracy'</span>: <span style=\"color: #008080; text-decoration-color: #008080; font-weight: bold\">0.7052980065345764</span>, <span style=\"color: #008000; text-decoration-color: #008000\">'trial_id'</span>: <span style=\"color: #008080; text-decoration-color: #008080; font-weight: bold\">16</span><span style=\"font-weight: bold\">}</span> | Score: <span style=\"color: #008080; text-decoration-color: #008080; font-weight: bold\">0.7052980065345764</span>                     \n",
       "</pre>\n"
      ],
      "text/plain": [
       "\u001b[1;36m2025\u001b[0m-\u001b[1;36m02\u001b[0m-\u001b[1;36m08\u001b[0m \u001b[1;92m16:10:30\u001b[0m,\u001b[1;36m422\u001b[0m - \u001b[1m{\u001b[0mpytorch_tabular.tabular_model_tuner:\u001b[1;36m412\u001b[0m\u001b[1m}\u001b[0m - INFO - Trial \u001b[1;36m17\u001b[0m/\u001b[1;36m32\u001b[0m: \u001b[1m{\u001b[0m\u001b[32m'model'\u001b[0m:                \n",
       "\u001b[32m'0-CategoryEmbeddingModelConfig'\u001b[0m, \u001b[32m'model_config__activation'\u001b[0m: \u001b[32m'LeakyReLU'\u001b[0m, \u001b[32m'model_config__embedding_dropout'\u001b[0m: \u001b[1;36m0.0\u001b[0m, \n",
       "\u001b[32m'model_config__layers'\u001b[0m: \u001b[32m'128-64-32'\u001b[0m, \u001b[32m'optimizer_config__optimizer'\u001b[0m: \u001b[32m'Adam'\u001b[0m, \u001b[32m'loss_0'\u001b[0m: \u001b[1;36m0.612990140914917\u001b[0m, \u001b[32m'loss'\u001b[0m:   \n",
       "\u001b[1;36m0.612990140914917\u001b[0m, \u001b[32m'accuracy'\u001b[0m: \u001b[1;36m0.7052980065345764\u001b[0m, \u001b[32m'trial_id'\u001b[0m: \u001b[1;36m16\u001b[0m\u001b[1m}\u001b[0m | Score: \u001b[1;36m0.7052980065345764\u001b[0m                     \n"
      ]
     },
     "metadata": {},
     "output_type": "display_data"
    },
    {
     "data": {
      "text/html": [
       "<pre style=\"white-space:pre;overflow-x:auto;line-height:normal;font-family:Menlo,'DejaVu Sans Mono',consolas,'Courier New',monospace\">/home/max/anaconda3/envs/tabular/lib/python3.10/site-packages/pytorch_lightning/callbacks/model_checkpoint.py:639: \n",
       "Checkpoint directory /home/max/Documents/PA/pytorch_tabular/machine_learning/saved_models exists and is not empty.\n",
       "</pre>\n"
      ],
      "text/plain": [
       "/home/max/anaconda3/envs/tabular/lib/python3.10/site-packages/pytorch_lightning/callbacks/model_checkpoint.py:639: \n",
       "Checkpoint directory /home/max/Documents/PA/pytorch_tabular/machine_learning/saved_models exists and is not empty.\n"
      ]
     },
     "metadata": {},
     "output_type": "display_data"
    },
    {
     "data": {
      "text/html": [
       "<pre style=\"white-space:pre;overflow-x:auto;line-height:normal;font-family:Menlo,'DejaVu Sans Mono',consolas,'Courier New',monospace\">/home/max/anaconda3/envs/tabular/lib/python3.10/site-packages/pytorch_lightning/loops/fit_loop.py:293: The number \n",
       "of training batches (22) is smaller than the logging interval Trainer(log_every_n_steps=50). Set a lower value for \n",
       "log_every_n_steps if you want to see logs for the training epoch.\n",
       "</pre>\n"
      ],
      "text/plain": [
       "/home/max/anaconda3/envs/tabular/lib/python3.10/site-packages/pytorch_lightning/loops/fit_loop.py:293: The number \n",
       "of training batches (22) is smaller than the logging interval Trainer(log_every_n_steps=50). Set a lower value for \n",
       "log_every_n_steps if you want to see logs for the training epoch.\n"
      ]
     },
     "metadata": {},
     "output_type": "display_data"
    },
    {
     "data": {
      "application/vnd.jupyter.widget-view+json": {
       "model_id": "fd761fcd2ae8478c8ec2219d1e135651",
       "version_major": 2,
       "version_minor": 0
      },
      "text/plain": [
       "Finding best initial lr:   0%|          | 0/100 [00:00<?, ?it/s]"
      ]
     },
     "metadata": {},
     "output_type": "display_data"
    },
    {
     "data": {
      "text/html": [
       "<pre style=\"white-space:pre;overflow-x:auto;line-height:normal;font-family:Menlo,'DejaVu Sans Mono',consolas,'Courier New',monospace\"><span style=\"color: #008080; text-decoration-color: #008080; font-weight: bold\">2025</span>-<span style=\"color: #008080; text-decoration-color: #008080; font-weight: bold\">02</span>-<span style=\"color: #008080; text-decoration-color: #008080; font-weight: bold\">08</span> <span style=\"color: #00ff00; text-decoration-color: #00ff00; font-weight: bold\">16:10:35</span>,<span style=\"color: #008080; text-decoration-color: #008080; font-weight: bold\">843</span> - <span style=\"font-weight: bold\">{</span>pytorch_tabular.tabular_model_tuner:<span style=\"color: #008080; text-decoration-color: #008080; font-weight: bold\">412</span><span style=\"font-weight: bold\">}</span> - INFO - Trial <span style=\"color: #008080; text-decoration-color: #008080; font-weight: bold\">18</span>/<span style=\"color: #008080; text-decoration-color: #008080; font-weight: bold\">32</span>: <span style=\"font-weight: bold\">{</span><span style=\"color: #008000; text-decoration-color: #008000\">'model'</span>:                \n",
       "<span style=\"color: #008000; text-decoration-color: #008000\">'0-CategoryEmbeddingModelConfig'</span>, <span style=\"color: #008000; text-decoration-color: #008000\">'model_config__activation'</span>: <span style=\"color: #008000; text-decoration-color: #008000\">'LeakyReLU'</span>, <span style=\"color: #008000; text-decoration-color: #008000\">'model_config__embedding_dropout'</span>: <span style=\"color: #008080; text-decoration-color: #008080; font-weight: bold\">0.0</span>, \n",
       "<span style=\"color: #008000; text-decoration-color: #008000\">'model_config__layers'</span>: <span style=\"color: #008000; text-decoration-color: #008000\">'128-64-32'</span>, <span style=\"color: #008000; text-decoration-color: #008000\">'optimizer_config__optimizer'</span>: <span style=\"color: #008000; text-decoration-color: #008000\">'SGD'</span>, <span style=\"color: #008000; text-decoration-color: #008000\">'loss_0'</span>: <span style=\"color: #008080; text-decoration-color: #008080; font-weight: bold\">0.6925064921379089</span>, <span style=\"color: #008000; text-decoration-color: #008000\">'loss'</span>:   \n",
       "<span style=\"color: #008080; text-decoration-color: #008080; font-weight: bold\">0.6925064921379089</span>, <span style=\"color: #008000; text-decoration-color: #008000\">'accuracy'</span>: <span style=\"color: #008080; text-decoration-color: #008080; font-weight: bold\">0.5231788158416748</span>, <span style=\"color: #008000; text-decoration-color: #008000\">'trial_id'</span>: <span style=\"color: #008080; text-decoration-color: #008080; font-weight: bold\">17</span><span style=\"font-weight: bold\">}</span> | Score: <span style=\"color: #008080; text-decoration-color: #008080; font-weight: bold\">0.5231788158416748</span>                    \n",
       "</pre>\n"
      ],
      "text/plain": [
       "\u001b[1;36m2025\u001b[0m-\u001b[1;36m02\u001b[0m-\u001b[1;36m08\u001b[0m \u001b[1;92m16:10:35\u001b[0m,\u001b[1;36m843\u001b[0m - \u001b[1m{\u001b[0mpytorch_tabular.tabular_model_tuner:\u001b[1;36m412\u001b[0m\u001b[1m}\u001b[0m - INFO - Trial \u001b[1;36m18\u001b[0m/\u001b[1;36m32\u001b[0m: \u001b[1m{\u001b[0m\u001b[32m'model'\u001b[0m:                \n",
       "\u001b[32m'0-CategoryEmbeddingModelConfig'\u001b[0m, \u001b[32m'model_config__activation'\u001b[0m: \u001b[32m'LeakyReLU'\u001b[0m, \u001b[32m'model_config__embedding_dropout'\u001b[0m: \u001b[1;36m0.0\u001b[0m, \n",
       "\u001b[32m'model_config__layers'\u001b[0m: \u001b[32m'128-64-32'\u001b[0m, \u001b[32m'optimizer_config__optimizer'\u001b[0m: \u001b[32m'SGD'\u001b[0m, \u001b[32m'loss_0'\u001b[0m: \u001b[1;36m0.6925064921379089\u001b[0m, \u001b[32m'loss'\u001b[0m:   \n",
       "\u001b[1;36m0.6925064921379089\u001b[0m, \u001b[32m'accuracy'\u001b[0m: \u001b[1;36m0.5231788158416748\u001b[0m, \u001b[32m'trial_id'\u001b[0m: \u001b[1;36m17\u001b[0m\u001b[1m}\u001b[0m | Score: \u001b[1;36m0.5231788158416748\u001b[0m                    \n"
      ]
     },
     "metadata": {},
     "output_type": "display_data"
    },
    {
     "data": {
      "text/html": [
       "<pre style=\"white-space:pre;overflow-x:auto;line-height:normal;font-family:Menlo,'DejaVu Sans Mono',consolas,'Courier New',monospace\">/home/max/anaconda3/envs/tabular/lib/python3.10/site-packages/pytorch_lightning/callbacks/model_checkpoint.py:639: \n",
       "Checkpoint directory /home/max/Documents/PA/pytorch_tabular/machine_learning/saved_models exists and is not empty.\n",
       "</pre>\n"
      ],
      "text/plain": [
       "/home/max/anaconda3/envs/tabular/lib/python3.10/site-packages/pytorch_lightning/callbacks/model_checkpoint.py:639: \n",
       "Checkpoint directory /home/max/Documents/PA/pytorch_tabular/machine_learning/saved_models exists and is not empty.\n"
      ]
     },
     "metadata": {},
     "output_type": "display_data"
    },
    {
     "data": {
      "text/html": [
       "<pre style=\"white-space:pre;overflow-x:auto;line-height:normal;font-family:Menlo,'DejaVu Sans Mono',consolas,'Courier New',monospace\">/home/max/anaconda3/envs/tabular/lib/python3.10/site-packages/pytorch_lightning/loops/fit_loop.py:293: The number \n",
       "of training batches (22) is smaller than the logging interval Trainer(log_every_n_steps=50). Set a lower value for \n",
       "log_every_n_steps if you want to see logs for the training epoch.\n",
       "</pre>\n"
      ],
      "text/plain": [
       "/home/max/anaconda3/envs/tabular/lib/python3.10/site-packages/pytorch_lightning/loops/fit_loop.py:293: The number \n",
       "of training batches (22) is smaller than the logging interval Trainer(log_every_n_steps=50). Set a lower value for \n",
       "log_every_n_steps if you want to see logs for the training epoch.\n"
      ]
     },
     "metadata": {},
     "output_type": "display_data"
    },
    {
     "data": {
      "application/vnd.jupyter.widget-view+json": {
       "model_id": "d1a735a6d6e040ac80ccf1dda20fb325",
       "version_major": 2,
       "version_minor": 0
      },
      "text/plain": [
       "Finding best initial lr:   0%|          | 0/100 [00:00<?, ?it/s]"
      ]
     },
     "metadata": {},
     "output_type": "display_data"
    },
    {
     "data": {
      "text/html": [
       "<pre style=\"white-space:pre;overflow-x:auto;line-height:normal;font-family:Menlo,'DejaVu Sans Mono',consolas,'Courier New',monospace\"><span style=\"color: #008080; text-decoration-color: #008080; font-weight: bold\">2025</span>-<span style=\"color: #008080; text-decoration-color: #008080; font-weight: bold\">02</span>-<span style=\"color: #008080; text-decoration-color: #008080; font-weight: bold\">08</span> <span style=\"color: #00ff00; text-decoration-color: #00ff00; font-weight: bold\">16:10:52</span>,<span style=\"color: #008080; text-decoration-color: #008080; font-weight: bold\">668</span> - <span style=\"font-weight: bold\">{</span>pytorch_tabular.tabular_model_tuner:<span style=\"color: #008080; text-decoration-color: #008080; font-weight: bold\">412</span><span style=\"font-weight: bold\">}</span> - INFO - Trial <span style=\"color: #008080; text-decoration-color: #008080; font-weight: bold\">19</span>/<span style=\"color: #008080; text-decoration-color: #008080; font-weight: bold\">32</span>: <span style=\"font-weight: bold\">{</span><span style=\"color: #008000; text-decoration-color: #008000\">'model'</span>:                \n",
       "<span style=\"color: #008000; text-decoration-color: #008000\">'0-CategoryEmbeddingModelConfig'</span>, <span style=\"color: #008000; text-decoration-color: #008000\">'model_config__activation'</span>: <span style=\"color: #008000; text-decoration-color: #008000\">'LeakyReLU'</span>, <span style=\"color: #008000; text-decoration-color: #008000\">'model_config__embedding_dropout'</span>: <span style=\"color: #008080; text-decoration-color: #008080; font-weight: bold\">0.0</span>, \n",
       "<span style=\"color: #008000; text-decoration-color: #008000\">'model_config__layers'</span>: <span style=\"color: #008000; text-decoration-color: #008000\">'1024-512-256'</span>, <span style=\"color: #008000; text-decoration-color: #008000\">'optimizer_config__optimizer'</span>: <span style=\"color: #008000; text-decoration-color: #008000\">'Adam'</span>, <span style=\"color: #008000; text-decoration-color: #008000\">'loss_0'</span>: <span style=\"color: #008080; text-decoration-color: #008080; font-weight: bold\">0.602546215057373</span>, <span style=\"color: #008000; text-decoration-color: #008000\">'loss'</span>:\n",
       "<span style=\"color: #008080; text-decoration-color: #008080; font-weight: bold\">0.602546215057373</span>, <span style=\"color: #008000; text-decoration-color: #008000\">'accuracy'</span>: <span style=\"color: #008080; text-decoration-color: #008080; font-weight: bold\">0.695364236831665</span>, <span style=\"color: #008000; text-decoration-color: #008000\">'trial_id'</span>: <span style=\"color: #008080; text-decoration-color: #008080; font-weight: bold\">18</span><span style=\"font-weight: bold\">}</span> | Score: <span style=\"color: #008080; text-decoration-color: #008080; font-weight: bold\">0.695364236831665</span>                       \n",
       "</pre>\n"
      ],
      "text/plain": [
       "\u001b[1;36m2025\u001b[0m-\u001b[1;36m02\u001b[0m-\u001b[1;36m08\u001b[0m \u001b[1;92m16:10:52\u001b[0m,\u001b[1;36m668\u001b[0m - \u001b[1m{\u001b[0mpytorch_tabular.tabular_model_tuner:\u001b[1;36m412\u001b[0m\u001b[1m}\u001b[0m - INFO - Trial \u001b[1;36m19\u001b[0m/\u001b[1;36m32\u001b[0m: \u001b[1m{\u001b[0m\u001b[32m'model'\u001b[0m:                \n",
       "\u001b[32m'0-CategoryEmbeddingModelConfig'\u001b[0m, \u001b[32m'model_config__activation'\u001b[0m: \u001b[32m'LeakyReLU'\u001b[0m, \u001b[32m'model_config__embedding_dropout'\u001b[0m: \u001b[1;36m0.0\u001b[0m, \n",
       "\u001b[32m'model_config__layers'\u001b[0m: \u001b[32m'1024-512-256'\u001b[0m, \u001b[32m'optimizer_config__optimizer'\u001b[0m: \u001b[32m'Adam'\u001b[0m, \u001b[32m'loss_0'\u001b[0m: \u001b[1;36m0.602546215057373\u001b[0m, \u001b[32m'loss'\u001b[0m:\n",
       "\u001b[1;36m0.602546215057373\u001b[0m, \u001b[32m'accuracy'\u001b[0m: \u001b[1;36m0.695364236831665\u001b[0m, \u001b[32m'trial_id'\u001b[0m: \u001b[1;36m18\u001b[0m\u001b[1m}\u001b[0m | Score: \u001b[1;36m0.695364236831665\u001b[0m                       \n"
      ]
     },
     "metadata": {},
     "output_type": "display_data"
    },
    {
     "data": {
      "text/html": [
       "<pre style=\"white-space:pre;overflow-x:auto;line-height:normal;font-family:Menlo,'DejaVu Sans Mono',consolas,'Courier New',monospace\">/home/max/anaconda3/envs/tabular/lib/python3.10/site-packages/pytorch_lightning/callbacks/model_checkpoint.py:639: \n",
       "Checkpoint directory /home/max/Documents/PA/pytorch_tabular/machine_learning/saved_models exists and is not empty.\n",
       "</pre>\n"
      ],
      "text/plain": [
       "/home/max/anaconda3/envs/tabular/lib/python3.10/site-packages/pytorch_lightning/callbacks/model_checkpoint.py:639: \n",
       "Checkpoint directory /home/max/Documents/PA/pytorch_tabular/machine_learning/saved_models exists and is not empty.\n"
      ]
     },
     "metadata": {},
     "output_type": "display_data"
    },
    {
     "data": {
      "text/html": [
       "<pre style=\"white-space:pre;overflow-x:auto;line-height:normal;font-family:Menlo,'DejaVu Sans Mono',consolas,'Courier New',monospace\">/home/max/anaconda3/envs/tabular/lib/python3.10/site-packages/pytorch_lightning/loops/fit_loop.py:293: The number \n",
       "of training batches (22) is smaller than the logging interval Trainer(log_every_n_steps=50). Set a lower value for \n",
       "log_every_n_steps if you want to see logs for the training epoch.\n",
       "</pre>\n"
      ],
      "text/plain": [
       "/home/max/anaconda3/envs/tabular/lib/python3.10/site-packages/pytorch_lightning/loops/fit_loop.py:293: The number \n",
       "of training batches (22) is smaller than the logging interval Trainer(log_every_n_steps=50). Set a lower value for \n",
       "log_every_n_steps if you want to see logs for the training epoch.\n"
      ]
     },
     "metadata": {},
     "output_type": "display_data"
    },
    {
     "data": {
      "application/vnd.jupyter.widget-view+json": {
       "model_id": "12c97665ab124e9092cb17fa6f5ce69c",
       "version_major": 2,
       "version_minor": 0
      },
      "text/plain": [
       "Finding best initial lr:   0%|          | 0/100 [00:00<?, ?it/s]"
      ]
     },
     "metadata": {},
     "output_type": "display_data"
    },
    {
     "data": {
      "text/html": [
       "<pre style=\"white-space:pre;overflow-x:auto;line-height:normal;font-family:Menlo,'DejaVu Sans Mono',consolas,'Courier New',monospace\"><span style=\"color: #008080; text-decoration-color: #008080; font-weight: bold\">2025</span>-<span style=\"color: #008080; text-decoration-color: #008080; font-weight: bold\">02</span>-<span style=\"color: #008080; text-decoration-color: #008080; font-weight: bold\">08</span> <span style=\"color: #00ff00; text-decoration-color: #00ff00; font-weight: bold\">16:11:00</span>,<span style=\"color: #008080; text-decoration-color: #008080; font-weight: bold\">470</span> - <span style=\"font-weight: bold\">{</span>pytorch_tabular.tabular_model_tuner:<span style=\"color: #008080; text-decoration-color: #008080; font-weight: bold\">412</span><span style=\"font-weight: bold\">}</span> - INFO - Trial <span style=\"color: #008080; text-decoration-color: #008080; font-weight: bold\">20</span>/<span style=\"color: #008080; text-decoration-color: #008080; font-weight: bold\">32</span>: <span style=\"font-weight: bold\">{</span><span style=\"color: #008000; text-decoration-color: #008000\">'model'</span>:                \n",
       "<span style=\"color: #008000; text-decoration-color: #008000\">'0-CategoryEmbeddingModelConfig'</span>, <span style=\"color: #008000; text-decoration-color: #008000\">'model_config__activation'</span>: <span style=\"color: #008000; text-decoration-color: #008000\">'LeakyReLU'</span>, <span style=\"color: #008000; text-decoration-color: #008000\">'model_config__embedding_dropout'</span>: <span style=\"color: #008080; text-decoration-color: #008080; font-weight: bold\">0.0</span>, \n",
       "<span style=\"color: #008000; text-decoration-color: #008000\">'model_config__layers'</span>: <span style=\"color: #008000; text-decoration-color: #008000\">'1024-512-256'</span>, <span style=\"color: #008000; text-decoration-color: #008000\">'optimizer_config__optimizer'</span>: <span style=\"color: #008000; text-decoration-color: #008000\">'SGD'</span>, <span style=\"color: #008000; text-decoration-color: #008000\">'loss_0'</span>: <span style=\"color: #008080; text-decoration-color: #008080; font-weight: bold\">0.6162880659103394</span>, <span style=\"color: #008000; text-decoration-color: #008000\">'loss'</span>:\n",
       "<span style=\"color: #008080; text-decoration-color: #008080; font-weight: bold\">0.6162880659103394</span>, <span style=\"color: #008000; text-decoration-color: #008000\">'accuracy'</span>: <span style=\"color: #008080; text-decoration-color: #008080; font-weight: bold\">0.7052980065345764</span>, <span style=\"color: #008000; text-decoration-color: #008000\">'trial_id'</span>: <span style=\"color: #008080; text-decoration-color: #008080; font-weight: bold\">19</span><span style=\"font-weight: bold\">}</span> | Score: <span style=\"color: #008080; text-decoration-color: #008080; font-weight: bold\">0.7052980065345764</span>                    \n",
       "</pre>\n"
      ],
      "text/plain": [
       "\u001b[1;36m2025\u001b[0m-\u001b[1;36m02\u001b[0m-\u001b[1;36m08\u001b[0m \u001b[1;92m16:11:00\u001b[0m,\u001b[1;36m470\u001b[0m - \u001b[1m{\u001b[0mpytorch_tabular.tabular_model_tuner:\u001b[1;36m412\u001b[0m\u001b[1m}\u001b[0m - INFO - Trial \u001b[1;36m20\u001b[0m/\u001b[1;36m32\u001b[0m: \u001b[1m{\u001b[0m\u001b[32m'model'\u001b[0m:                \n",
       "\u001b[32m'0-CategoryEmbeddingModelConfig'\u001b[0m, \u001b[32m'model_config__activation'\u001b[0m: \u001b[32m'LeakyReLU'\u001b[0m, \u001b[32m'model_config__embedding_dropout'\u001b[0m: \u001b[1;36m0.0\u001b[0m, \n",
       "\u001b[32m'model_config__layers'\u001b[0m: \u001b[32m'1024-512-256'\u001b[0m, \u001b[32m'optimizer_config__optimizer'\u001b[0m: \u001b[32m'SGD'\u001b[0m, \u001b[32m'loss_0'\u001b[0m: \u001b[1;36m0.6162880659103394\u001b[0m, \u001b[32m'loss'\u001b[0m:\n",
       "\u001b[1;36m0.6162880659103394\u001b[0m, \u001b[32m'accuracy'\u001b[0m: \u001b[1;36m0.7052980065345764\u001b[0m, \u001b[32m'trial_id'\u001b[0m: \u001b[1;36m19\u001b[0m\u001b[1m}\u001b[0m | Score: \u001b[1;36m0.7052980065345764\u001b[0m                    \n"
      ]
     },
     "metadata": {},
     "output_type": "display_data"
    },
    {
     "data": {
      "text/html": [
       "<pre style=\"white-space:pre;overflow-x:auto;line-height:normal;font-family:Menlo,'DejaVu Sans Mono',consolas,'Courier New',monospace\">/home/max/anaconda3/envs/tabular/lib/python3.10/site-packages/pytorch_lightning/callbacks/model_checkpoint.py:639: \n",
       "Checkpoint directory /home/max/Documents/PA/pytorch_tabular/machine_learning/saved_models exists and is not empty.\n",
       "</pre>\n"
      ],
      "text/plain": [
       "/home/max/anaconda3/envs/tabular/lib/python3.10/site-packages/pytorch_lightning/callbacks/model_checkpoint.py:639: \n",
       "Checkpoint directory /home/max/Documents/PA/pytorch_tabular/machine_learning/saved_models exists and is not empty.\n"
      ]
     },
     "metadata": {},
     "output_type": "display_data"
    },
    {
     "data": {
      "text/html": [
       "<pre style=\"white-space:pre;overflow-x:auto;line-height:normal;font-family:Menlo,'DejaVu Sans Mono',consolas,'Courier New',monospace\">/home/max/anaconda3/envs/tabular/lib/python3.10/site-packages/pytorch_lightning/loops/fit_loop.py:293: The number \n",
       "of training batches (22) is smaller than the logging interval Trainer(log_every_n_steps=50). Set a lower value for \n",
       "log_every_n_steps if you want to see logs for the training epoch.\n",
       "</pre>\n"
      ],
      "text/plain": [
       "/home/max/anaconda3/envs/tabular/lib/python3.10/site-packages/pytorch_lightning/loops/fit_loop.py:293: The number \n",
       "of training batches (22) is smaller than the logging interval Trainer(log_every_n_steps=50). Set a lower value for \n",
       "log_every_n_steps if you want to see logs for the training epoch.\n"
      ]
     },
     "metadata": {},
     "output_type": "display_data"
    },
    {
     "data": {
      "application/vnd.jupyter.widget-view+json": {
       "model_id": "ce5e6bac2ee04dc79f50cf080462bbf9",
       "version_major": 2,
       "version_minor": 0
      },
      "text/plain": [
       "Finding best initial lr:   0%|          | 0/100 [00:00<?, ?it/s]"
      ]
     },
     "metadata": {},
     "output_type": "display_data"
    },
    {
     "data": {
      "text/html": [
       "<pre style=\"white-space:pre;overflow-x:auto;line-height:normal;font-family:Menlo,'DejaVu Sans Mono',consolas,'Courier New',monospace\"><span style=\"color: #008080; text-decoration-color: #008080; font-weight: bold\">2025</span>-<span style=\"color: #008080; text-decoration-color: #008080; font-weight: bold\">02</span>-<span style=\"color: #008080; text-decoration-color: #008080; font-weight: bold\">08</span> <span style=\"color: #00ff00; text-decoration-color: #00ff00; font-weight: bold\">16:11:08</span>,<span style=\"color: #008080; text-decoration-color: #008080; font-weight: bold\">765</span> - <span style=\"font-weight: bold\">{</span>pytorch_tabular.tabular_model_tuner:<span style=\"color: #008080; text-decoration-color: #008080; font-weight: bold\">412</span><span style=\"font-weight: bold\">}</span> - INFO - Trial <span style=\"color: #008080; text-decoration-color: #008080; font-weight: bold\">21</span>/<span style=\"color: #008080; text-decoration-color: #008080; font-weight: bold\">32</span>: <span style=\"font-weight: bold\">{</span><span style=\"color: #008000; text-decoration-color: #008000\">'model'</span>:                \n",
       "<span style=\"color: #008000; text-decoration-color: #008000\">'0-CategoryEmbeddingModelConfig'</span>, <span style=\"color: #008000; text-decoration-color: #008000\">'model_config__activation'</span>: <span style=\"color: #008000; text-decoration-color: #008000\">'LeakyReLU'</span>, <span style=\"color: #008000; text-decoration-color: #008000\">'model_config__embedding_dropout'</span>: <span style=\"color: #008080; text-decoration-color: #008080; font-weight: bold\">0.0</span>, \n",
       "<span style=\"color: #008000; text-decoration-color: #008000\">'model_config__layers'</span>: <span style=\"color: #008000; text-decoration-color: #008000\">'32-64-128'</span>, <span style=\"color: #008000; text-decoration-color: #008000\">'optimizer_config__optimizer'</span>: <span style=\"color: #008000; text-decoration-color: #008000\">'Adam'</span>, <span style=\"color: #008000; text-decoration-color: #008000\">'loss_0'</span>: <span style=\"color: #008080; text-decoration-color: #008080; font-weight: bold\">0.593531608581543</span>, <span style=\"color: #008000; text-decoration-color: #008000\">'loss'</span>:   \n",
       "<span style=\"color: #008080; text-decoration-color: #008080; font-weight: bold\">0.593531608581543</span>, <span style=\"color: #008000; text-decoration-color: #008000\">'accuracy'</span>: <span style=\"color: #008080; text-decoration-color: #008080; font-weight: bold\">0.7152317762374878</span>, <span style=\"color: #008000; text-decoration-color: #008000\">'trial_id'</span>: <span style=\"color: #008080; text-decoration-color: #008080; font-weight: bold\">20</span><span style=\"font-weight: bold\">}</span> | Score: <span style=\"color: #008080; text-decoration-color: #008080; font-weight: bold\">0.7152317762374878</span>                     \n",
       "</pre>\n"
      ],
      "text/plain": [
       "\u001b[1;36m2025\u001b[0m-\u001b[1;36m02\u001b[0m-\u001b[1;36m08\u001b[0m \u001b[1;92m16:11:08\u001b[0m,\u001b[1;36m765\u001b[0m - \u001b[1m{\u001b[0mpytorch_tabular.tabular_model_tuner:\u001b[1;36m412\u001b[0m\u001b[1m}\u001b[0m - INFO - Trial \u001b[1;36m21\u001b[0m/\u001b[1;36m32\u001b[0m: \u001b[1m{\u001b[0m\u001b[32m'model'\u001b[0m:                \n",
       "\u001b[32m'0-CategoryEmbeddingModelConfig'\u001b[0m, \u001b[32m'model_config__activation'\u001b[0m: \u001b[32m'LeakyReLU'\u001b[0m, \u001b[32m'model_config__embedding_dropout'\u001b[0m: \u001b[1;36m0.0\u001b[0m, \n",
       "\u001b[32m'model_config__layers'\u001b[0m: \u001b[32m'32-64-128'\u001b[0m, \u001b[32m'optimizer_config__optimizer'\u001b[0m: \u001b[32m'Adam'\u001b[0m, \u001b[32m'loss_0'\u001b[0m: \u001b[1;36m0.593531608581543\u001b[0m, \u001b[32m'loss'\u001b[0m:   \n",
       "\u001b[1;36m0.593531608581543\u001b[0m, \u001b[32m'accuracy'\u001b[0m: \u001b[1;36m0.7152317762374878\u001b[0m, \u001b[32m'trial_id'\u001b[0m: \u001b[1;36m20\u001b[0m\u001b[1m}\u001b[0m | Score: \u001b[1;36m0.7152317762374878\u001b[0m                     \n"
      ]
     },
     "metadata": {},
     "output_type": "display_data"
    },
    {
     "data": {
      "text/html": [
       "<pre style=\"white-space:pre;overflow-x:auto;line-height:normal;font-family:Menlo,'DejaVu Sans Mono',consolas,'Courier New',monospace\">/home/max/anaconda3/envs/tabular/lib/python3.10/site-packages/pytorch_lightning/callbacks/model_checkpoint.py:639: \n",
       "Checkpoint directory /home/max/Documents/PA/pytorch_tabular/machine_learning/saved_models exists and is not empty.\n",
       "</pre>\n"
      ],
      "text/plain": [
       "/home/max/anaconda3/envs/tabular/lib/python3.10/site-packages/pytorch_lightning/callbacks/model_checkpoint.py:639: \n",
       "Checkpoint directory /home/max/Documents/PA/pytorch_tabular/machine_learning/saved_models exists and is not empty.\n"
      ]
     },
     "metadata": {},
     "output_type": "display_data"
    },
    {
     "data": {
      "text/html": [
       "<pre style=\"white-space:pre;overflow-x:auto;line-height:normal;font-family:Menlo,'DejaVu Sans Mono',consolas,'Courier New',monospace\">/home/max/anaconda3/envs/tabular/lib/python3.10/site-packages/pytorch_lightning/loops/fit_loop.py:293: The number \n",
       "of training batches (22) is smaller than the logging interval Trainer(log_every_n_steps=50). Set a lower value for \n",
       "log_every_n_steps if you want to see logs for the training epoch.\n",
       "</pre>\n"
      ],
      "text/plain": [
       "/home/max/anaconda3/envs/tabular/lib/python3.10/site-packages/pytorch_lightning/loops/fit_loop.py:293: The number \n",
       "of training batches (22) is smaller than the logging interval Trainer(log_every_n_steps=50). Set a lower value for \n",
       "log_every_n_steps if you want to see logs for the training epoch.\n"
      ]
     },
     "metadata": {},
     "output_type": "display_data"
    },
    {
     "data": {
      "application/vnd.jupyter.widget-view+json": {
       "model_id": "e6116935c6544d599cab0b857442f0f9",
       "version_major": 2,
       "version_minor": 0
      },
      "text/plain": [
       "Finding best initial lr:   0%|          | 0/100 [00:00<?, ?it/s]"
      ]
     },
     "metadata": {},
     "output_type": "display_data"
    },
    {
     "data": {
      "text/html": [
       "<pre style=\"white-space:pre;overflow-x:auto;line-height:normal;font-family:Menlo,'DejaVu Sans Mono',consolas,'Courier New',monospace\"><span style=\"color: #008080; text-decoration-color: #008080; font-weight: bold\">2025</span>-<span style=\"color: #008080; text-decoration-color: #008080; font-weight: bold\">02</span>-<span style=\"color: #008080; text-decoration-color: #008080; font-weight: bold\">08</span> <span style=\"color: #00ff00; text-decoration-color: #00ff00; font-weight: bold\">16:11:14</span>,<span style=\"color: #008080; text-decoration-color: #008080; font-weight: bold\">287</span> - <span style=\"font-weight: bold\">{</span>pytorch_tabular.tabular_model_tuner:<span style=\"color: #008080; text-decoration-color: #008080; font-weight: bold\">412</span><span style=\"font-weight: bold\">}</span> - INFO - Trial <span style=\"color: #008080; text-decoration-color: #008080; font-weight: bold\">22</span>/<span style=\"color: #008080; text-decoration-color: #008080; font-weight: bold\">32</span>: <span style=\"font-weight: bold\">{</span><span style=\"color: #008000; text-decoration-color: #008000\">'model'</span>:                \n",
       "<span style=\"color: #008000; text-decoration-color: #008000\">'0-CategoryEmbeddingModelConfig'</span>, <span style=\"color: #008000; text-decoration-color: #008000\">'model_config__activation'</span>: <span style=\"color: #008000; text-decoration-color: #008000\">'LeakyReLU'</span>, <span style=\"color: #008000; text-decoration-color: #008000\">'model_config__embedding_dropout'</span>: <span style=\"color: #008080; text-decoration-color: #008080; font-weight: bold\">0.0</span>, \n",
       "<span style=\"color: #008000; text-decoration-color: #008000\">'model_config__layers'</span>: <span style=\"color: #008000; text-decoration-color: #008000\">'32-64-128'</span>, <span style=\"color: #008000; text-decoration-color: #008000\">'optimizer_config__optimizer'</span>: <span style=\"color: #008000; text-decoration-color: #008000\">'SGD'</span>, <span style=\"color: #008000; text-decoration-color: #008000\">'loss_0'</span>: <span style=\"color: #008080; text-decoration-color: #008080; font-weight: bold\">0.6899126768112183</span>, <span style=\"color: #008000; text-decoration-color: #008000\">'loss'</span>:   \n",
       "<span style=\"color: #008080; text-decoration-color: #008080; font-weight: bold\">0.6899126768112183</span>, <span style=\"color: #008000; text-decoration-color: #008000\">'accuracy'</span>: <span style=\"color: #008080; text-decoration-color: #008080; font-weight: bold\">0.5827814340591431</span>, <span style=\"color: #008000; text-decoration-color: #008000\">'trial_id'</span>: <span style=\"color: #008080; text-decoration-color: #008080; font-weight: bold\">21</span><span style=\"font-weight: bold\">}</span> | Score: <span style=\"color: #008080; text-decoration-color: #008080; font-weight: bold\">0.5827814340591431</span>                    \n",
       "</pre>\n"
      ],
      "text/plain": [
       "\u001b[1;36m2025\u001b[0m-\u001b[1;36m02\u001b[0m-\u001b[1;36m08\u001b[0m \u001b[1;92m16:11:14\u001b[0m,\u001b[1;36m287\u001b[0m - \u001b[1m{\u001b[0mpytorch_tabular.tabular_model_tuner:\u001b[1;36m412\u001b[0m\u001b[1m}\u001b[0m - INFO - Trial \u001b[1;36m22\u001b[0m/\u001b[1;36m32\u001b[0m: \u001b[1m{\u001b[0m\u001b[32m'model'\u001b[0m:                \n",
       "\u001b[32m'0-CategoryEmbeddingModelConfig'\u001b[0m, \u001b[32m'model_config__activation'\u001b[0m: \u001b[32m'LeakyReLU'\u001b[0m, \u001b[32m'model_config__embedding_dropout'\u001b[0m: \u001b[1;36m0.0\u001b[0m, \n",
       "\u001b[32m'model_config__layers'\u001b[0m: \u001b[32m'32-64-128'\u001b[0m, \u001b[32m'optimizer_config__optimizer'\u001b[0m: \u001b[32m'SGD'\u001b[0m, \u001b[32m'loss_0'\u001b[0m: \u001b[1;36m0.6899126768112183\u001b[0m, \u001b[32m'loss'\u001b[0m:   \n",
       "\u001b[1;36m0.6899126768112183\u001b[0m, \u001b[32m'accuracy'\u001b[0m: \u001b[1;36m0.5827814340591431\u001b[0m, \u001b[32m'trial_id'\u001b[0m: \u001b[1;36m21\u001b[0m\u001b[1m}\u001b[0m | Score: \u001b[1;36m0.5827814340591431\u001b[0m                    \n"
      ]
     },
     "metadata": {},
     "output_type": "display_data"
    },
    {
     "data": {
      "text/html": [
       "<pre style=\"white-space:pre;overflow-x:auto;line-height:normal;font-family:Menlo,'DejaVu Sans Mono',consolas,'Courier New',monospace\">/home/max/anaconda3/envs/tabular/lib/python3.10/site-packages/pytorch_lightning/callbacks/model_checkpoint.py:639: \n",
       "Checkpoint directory /home/max/Documents/PA/pytorch_tabular/machine_learning/saved_models exists and is not empty.\n",
       "</pre>\n"
      ],
      "text/plain": [
       "/home/max/anaconda3/envs/tabular/lib/python3.10/site-packages/pytorch_lightning/callbacks/model_checkpoint.py:639: \n",
       "Checkpoint directory /home/max/Documents/PA/pytorch_tabular/machine_learning/saved_models exists and is not empty.\n"
      ]
     },
     "metadata": {},
     "output_type": "display_data"
    },
    {
     "data": {
      "text/html": [
       "<pre style=\"white-space:pre;overflow-x:auto;line-height:normal;font-family:Menlo,'DejaVu Sans Mono',consolas,'Courier New',monospace\">/home/max/anaconda3/envs/tabular/lib/python3.10/site-packages/pytorch_lightning/loops/fit_loop.py:293: The number \n",
       "of training batches (22) is smaller than the logging interval Trainer(log_every_n_steps=50). Set a lower value for \n",
       "log_every_n_steps if you want to see logs for the training epoch.\n",
       "</pre>\n"
      ],
      "text/plain": [
       "/home/max/anaconda3/envs/tabular/lib/python3.10/site-packages/pytorch_lightning/loops/fit_loop.py:293: The number \n",
       "of training batches (22) is smaller than the logging interval Trainer(log_every_n_steps=50). Set a lower value for \n",
       "log_every_n_steps if you want to see logs for the training epoch.\n"
      ]
     },
     "metadata": {},
     "output_type": "display_data"
    },
    {
     "data": {
      "application/vnd.jupyter.widget-view+json": {
       "model_id": "2d81c846851e417a8ccd419776911b79",
       "version_major": 2,
       "version_minor": 0
      },
      "text/plain": [
       "Finding best initial lr:   0%|          | 0/100 [00:00<?, ?it/s]"
      ]
     },
     "metadata": {},
     "output_type": "display_data"
    },
    {
     "data": {
      "text/html": [
       "<pre style=\"white-space:pre;overflow-x:auto;line-height:normal;font-family:Menlo,'DejaVu Sans Mono',consolas,'Courier New',monospace\"><span style=\"color: #008080; text-decoration-color: #008080; font-weight: bold\">2025</span>-<span style=\"color: #008080; text-decoration-color: #008080; font-weight: bold\">02</span>-<span style=\"color: #008080; text-decoration-color: #008080; font-weight: bold\">08</span> <span style=\"color: #00ff00; text-decoration-color: #00ff00; font-weight: bold\">16:11:23</span>,<span style=\"color: #008080; text-decoration-color: #008080; font-weight: bold\">405</span> - <span style=\"font-weight: bold\">{</span>pytorch_tabular.tabular_model_tuner:<span style=\"color: #008080; text-decoration-color: #008080; font-weight: bold\">412</span><span style=\"font-weight: bold\">}</span> - INFO - Trial <span style=\"color: #008080; text-decoration-color: #008080; font-weight: bold\">23</span>/<span style=\"color: #008080; text-decoration-color: #008080; font-weight: bold\">32</span>: <span style=\"font-weight: bold\">{</span><span style=\"color: #008000; text-decoration-color: #008000\">'model'</span>:                \n",
       "<span style=\"color: #008000; text-decoration-color: #008000\">'0-CategoryEmbeddingModelConfig'</span>, <span style=\"color: #008000; text-decoration-color: #008000\">'model_config__activation'</span>: <span style=\"color: #008000; text-decoration-color: #008000\">'LeakyReLU'</span>, <span style=\"color: #008000; text-decoration-color: #008000\">'model_config__embedding_dropout'</span>: <span style=\"color: #008080; text-decoration-color: #008080; font-weight: bold\">0.0</span>, \n",
       "<span style=\"color: #008000; text-decoration-color: #008000\">'model_config__layers'</span>: <span style=\"color: #008000; text-decoration-color: #008000\">'256-512-1024'</span>, <span style=\"color: #008000; text-decoration-color: #008000\">'optimizer_config__optimizer'</span>: <span style=\"color: #008000; text-decoration-color: #008000\">'Adam'</span>, <span style=\"color: #008000; text-decoration-color: #008000\">'loss_0'</span>: <span style=\"color: #008080; text-decoration-color: #008080; font-weight: bold\">0.6830771565437317</span>,       \n",
       "<span style=\"color: #008000; text-decoration-color: #008000\">'loss'</span>: <span style=\"color: #008080; text-decoration-color: #008080; font-weight: bold\">0.6830771565437317</span>, <span style=\"color: #008000; text-decoration-color: #008000\">'accuracy'</span>: <span style=\"color: #008080; text-decoration-color: #008080; font-weight: bold\">0.7284768223762512</span>, <span style=\"color: #008000; text-decoration-color: #008000\">'trial_id'</span>: <span style=\"color: #008080; text-decoration-color: #008080; font-weight: bold\">22</span><span style=\"font-weight: bold\">}</span> | Score: <span style=\"color: #008080; text-decoration-color: #008080; font-weight: bold\">0.7284768223762512</span>            \n",
       "</pre>\n"
      ],
      "text/plain": [
       "\u001b[1;36m2025\u001b[0m-\u001b[1;36m02\u001b[0m-\u001b[1;36m08\u001b[0m \u001b[1;92m16:11:23\u001b[0m,\u001b[1;36m405\u001b[0m - \u001b[1m{\u001b[0mpytorch_tabular.tabular_model_tuner:\u001b[1;36m412\u001b[0m\u001b[1m}\u001b[0m - INFO - Trial \u001b[1;36m23\u001b[0m/\u001b[1;36m32\u001b[0m: \u001b[1m{\u001b[0m\u001b[32m'model'\u001b[0m:                \n",
       "\u001b[32m'0-CategoryEmbeddingModelConfig'\u001b[0m, \u001b[32m'model_config__activation'\u001b[0m: \u001b[32m'LeakyReLU'\u001b[0m, \u001b[32m'model_config__embedding_dropout'\u001b[0m: \u001b[1;36m0.0\u001b[0m, \n",
       "\u001b[32m'model_config__layers'\u001b[0m: \u001b[32m'256-512-1024'\u001b[0m, \u001b[32m'optimizer_config__optimizer'\u001b[0m: \u001b[32m'Adam'\u001b[0m, \u001b[32m'loss_0'\u001b[0m: \u001b[1;36m0.6830771565437317\u001b[0m,       \n",
       "\u001b[32m'loss'\u001b[0m: \u001b[1;36m0.6830771565437317\u001b[0m, \u001b[32m'accuracy'\u001b[0m: \u001b[1;36m0.7284768223762512\u001b[0m, \u001b[32m'trial_id'\u001b[0m: \u001b[1;36m22\u001b[0m\u001b[1m}\u001b[0m | Score: \u001b[1;36m0.7284768223762512\u001b[0m            \n"
      ]
     },
     "metadata": {},
     "output_type": "display_data"
    },
    {
     "data": {
      "text/html": [
       "<pre style=\"white-space:pre;overflow-x:auto;line-height:normal;font-family:Menlo,'DejaVu Sans Mono',consolas,'Courier New',monospace\">/home/max/anaconda3/envs/tabular/lib/python3.10/site-packages/pytorch_lightning/callbacks/model_checkpoint.py:639: \n",
       "Checkpoint directory /home/max/Documents/PA/pytorch_tabular/machine_learning/saved_models exists and is not empty.\n",
       "</pre>\n"
      ],
      "text/plain": [
       "/home/max/anaconda3/envs/tabular/lib/python3.10/site-packages/pytorch_lightning/callbacks/model_checkpoint.py:639: \n",
       "Checkpoint directory /home/max/Documents/PA/pytorch_tabular/machine_learning/saved_models exists and is not empty.\n"
      ]
     },
     "metadata": {},
     "output_type": "display_data"
    },
    {
     "data": {
      "text/html": [
       "<pre style=\"white-space:pre;overflow-x:auto;line-height:normal;font-family:Menlo,'DejaVu Sans Mono',consolas,'Courier New',monospace\">/home/max/anaconda3/envs/tabular/lib/python3.10/site-packages/pytorch_lightning/loops/fit_loop.py:293: The number \n",
       "of training batches (22) is smaller than the logging interval Trainer(log_every_n_steps=50). Set a lower value for \n",
       "log_every_n_steps if you want to see logs for the training epoch.\n",
       "</pre>\n"
      ],
      "text/plain": [
       "/home/max/anaconda3/envs/tabular/lib/python3.10/site-packages/pytorch_lightning/loops/fit_loop.py:293: The number \n",
       "of training batches (22) is smaller than the logging interval Trainer(log_every_n_steps=50). Set a lower value for \n",
       "log_every_n_steps if you want to see logs for the training epoch.\n"
      ]
     },
     "metadata": {},
     "output_type": "display_data"
    },
    {
     "data": {
      "application/vnd.jupyter.widget-view+json": {
       "model_id": "e497608238c24542a01d55d9b3de0687",
       "version_major": 2,
       "version_minor": 0
      },
      "text/plain": [
       "Finding best initial lr:   0%|          | 0/100 [00:00<?, ?it/s]"
      ]
     },
     "metadata": {},
     "output_type": "display_data"
    },
    {
     "data": {
      "text/html": [
       "<pre style=\"white-space:pre;overflow-x:auto;line-height:normal;font-family:Menlo,'DejaVu Sans Mono',consolas,'Courier New',monospace\"><span style=\"color: #008080; text-decoration-color: #008080; font-weight: bold\">2025</span>-<span style=\"color: #008080; text-decoration-color: #008080; font-weight: bold\">02</span>-<span style=\"color: #008080; text-decoration-color: #008080; font-weight: bold\">08</span> <span style=\"color: #00ff00; text-decoration-color: #00ff00; font-weight: bold\">16:11:33</span>,<span style=\"color: #008080; text-decoration-color: #008080; font-weight: bold\">987</span> - <span style=\"font-weight: bold\">{</span>pytorch_tabular.tabular_model_tuner:<span style=\"color: #008080; text-decoration-color: #008080; font-weight: bold\">412</span><span style=\"font-weight: bold\">}</span> - INFO - Trial <span style=\"color: #008080; text-decoration-color: #008080; font-weight: bold\">24</span>/<span style=\"color: #008080; text-decoration-color: #008080; font-weight: bold\">32</span>: <span style=\"font-weight: bold\">{</span><span style=\"color: #008000; text-decoration-color: #008000\">'model'</span>:                \n",
       "<span style=\"color: #008000; text-decoration-color: #008000\">'0-CategoryEmbeddingModelConfig'</span>, <span style=\"color: #008000; text-decoration-color: #008000\">'model_config__activation'</span>: <span style=\"color: #008000; text-decoration-color: #008000\">'LeakyReLU'</span>, <span style=\"color: #008000; text-decoration-color: #008000\">'model_config__embedding_dropout'</span>: <span style=\"color: #008080; text-decoration-color: #008080; font-weight: bold\">0.0</span>, \n",
       "<span style=\"color: #008000; text-decoration-color: #008000\">'model_config__layers'</span>: <span style=\"color: #008000; text-decoration-color: #008000\">'256-512-1024'</span>, <span style=\"color: #008000; text-decoration-color: #008000\">'optimizer_config__optimizer'</span>: <span style=\"color: #008000; text-decoration-color: #008000\">'SGD'</span>, <span style=\"color: #008000; text-decoration-color: #008000\">'loss_0'</span>: <span style=\"color: #008080; text-decoration-color: #008080; font-weight: bold\">0.5980705618858337</span>, <span style=\"color: #008000; text-decoration-color: #008000\">'loss'</span>:\n",
       "<span style=\"color: #008080; text-decoration-color: #008080; font-weight: bold\">0.5980705618858337</span>, <span style=\"color: #008000; text-decoration-color: #008000\">'accuracy'</span>: <span style=\"color: #008080; text-decoration-color: #008080; font-weight: bold\">0.7218543291091919</span>, <span style=\"color: #008000; text-decoration-color: #008000\">'trial_id'</span>: <span style=\"color: #008080; text-decoration-color: #008080; font-weight: bold\">23</span><span style=\"font-weight: bold\">}</span> | Score: <span style=\"color: #008080; text-decoration-color: #008080; font-weight: bold\">0.7218543291091919</span>                    \n",
       "</pre>\n"
      ],
      "text/plain": [
       "\u001b[1;36m2025\u001b[0m-\u001b[1;36m02\u001b[0m-\u001b[1;36m08\u001b[0m \u001b[1;92m16:11:33\u001b[0m,\u001b[1;36m987\u001b[0m - \u001b[1m{\u001b[0mpytorch_tabular.tabular_model_tuner:\u001b[1;36m412\u001b[0m\u001b[1m}\u001b[0m - INFO - Trial \u001b[1;36m24\u001b[0m/\u001b[1;36m32\u001b[0m: \u001b[1m{\u001b[0m\u001b[32m'model'\u001b[0m:                \n",
       "\u001b[32m'0-CategoryEmbeddingModelConfig'\u001b[0m, \u001b[32m'model_config__activation'\u001b[0m: \u001b[32m'LeakyReLU'\u001b[0m, \u001b[32m'model_config__embedding_dropout'\u001b[0m: \u001b[1;36m0.0\u001b[0m, \n",
       "\u001b[32m'model_config__layers'\u001b[0m: \u001b[32m'256-512-1024'\u001b[0m, \u001b[32m'optimizer_config__optimizer'\u001b[0m: \u001b[32m'SGD'\u001b[0m, \u001b[32m'loss_0'\u001b[0m: \u001b[1;36m0.5980705618858337\u001b[0m, \u001b[32m'loss'\u001b[0m:\n",
       "\u001b[1;36m0.5980705618858337\u001b[0m, \u001b[32m'accuracy'\u001b[0m: \u001b[1;36m0.7218543291091919\u001b[0m, \u001b[32m'trial_id'\u001b[0m: \u001b[1;36m23\u001b[0m\u001b[1m}\u001b[0m | Score: \u001b[1;36m0.7218543291091919\u001b[0m                    \n"
      ]
     },
     "metadata": {},
     "output_type": "display_data"
    },
    {
     "data": {
      "text/html": [
       "<pre style=\"white-space:pre;overflow-x:auto;line-height:normal;font-family:Menlo,'DejaVu Sans Mono',consolas,'Courier New',monospace\">/home/max/anaconda3/envs/tabular/lib/python3.10/site-packages/pytorch_lightning/callbacks/model_checkpoint.py:639: \n",
       "Checkpoint directory /home/max/Documents/PA/pytorch_tabular/machine_learning/saved_models exists and is not empty.\n",
       "</pre>\n"
      ],
      "text/plain": [
       "/home/max/anaconda3/envs/tabular/lib/python3.10/site-packages/pytorch_lightning/callbacks/model_checkpoint.py:639: \n",
       "Checkpoint directory /home/max/Documents/PA/pytorch_tabular/machine_learning/saved_models exists and is not empty.\n"
      ]
     },
     "metadata": {},
     "output_type": "display_data"
    },
    {
     "data": {
      "text/html": [
       "<pre style=\"white-space:pre;overflow-x:auto;line-height:normal;font-family:Menlo,'DejaVu Sans Mono',consolas,'Courier New',monospace\">/home/max/anaconda3/envs/tabular/lib/python3.10/site-packages/pytorch_lightning/loops/fit_loop.py:293: The number \n",
       "of training batches (22) is smaller than the logging interval Trainer(log_every_n_steps=50). Set a lower value for \n",
       "log_every_n_steps if you want to see logs for the training epoch.\n",
       "</pre>\n"
      ],
      "text/plain": [
       "/home/max/anaconda3/envs/tabular/lib/python3.10/site-packages/pytorch_lightning/loops/fit_loop.py:293: The number \n",
       "of training batches (22) is smaller than the logging interval Trainer(log_every_n_steps=50). Set a lower value for \n",
       "log_every_n_steps if you want to see logs for the training epoch.\n"
      ]
     },
     "metadata": {},
     "output_type": "display_data"
    },
    {
     "data": {
      "application/vnd.jupyter.widget-view+json": {
       "model_id": "e3fdfb5da00e4f0188f99c3ec8108be9",
       "version_major": 2,
       "version_minor": 0
      },
      "text/plain": [
       "Finding best initial lr:   0%|          | 0/100 [00:00<?, ?it/s]"
      ]
     },
     "metadata": {},
     "output_type": "display_data"
    },
    {
     "data": {
      "text/html": [
       "<pre style=\"white-space:pre;overflow-x:auto;line-height:normal;font-family:Menlo,'DejaVu Sans Mono',consolas,'Courier New',monospace\"><span style=\"color: #008080; text-decoration-color: #008080; font-weight: bold\">2025</span>-<span style=\"color: #008080; text-decoration-color: #008080; font-weight: bold\">02</span>-<span style=\"color: #008080; text-decoration-color: #008080; font-weight: bold\">08</span> <span style=\"color: #00ff00; text-decoration-color: #00ff00; font-weight: bold\">16:11:39</span>,<span style=\"color: #008080; text-decoration-color: #008080; font-weight: bold\">831</span> - <span style=\"font-weight: bold\">{</span>pytorch_tabular.tabular_model_tuner:<span style=\"color: #008080; text-decoration-color: #008080; font-weight: bold\">412</span><span style=\"font-weight: bold\">}</span> - INFO - Trial <span style=\"color: #008080; text-decoration-color: #008080; font-weight: bold\">25</span>/<span style=\"color: #008080; text-decoration-color: #008080; font-weight: bold\">32</span>: <span style=\"font-weight: bold\">{</span><span style=\"color: #008000; text-decoration-color: #008000\">'model'</span>:                \n",
       "<span style=\"color: #008000; text-decoration-color: #008000\">'0-CategoryEmbeddingModelConfig'</span>, <span style=\"color: #008000; text-decoration-color: #008000\">'model_config__activation'</span>: <span style=\"color: #008000; text-decoration-color: #008000\">'LeakyReLU'</span>, <span style=\"color: #008000; text-decoration-color: #008000\">'model_config__embedding_dropout'</span>: <span style=\"color: #008080; text-decoration-color: #008080; font-weight: bold\">0.2</span>, \n",
       "<span style=\"color: #008000; text-decoration-color: #008000\">'model_config__layers'</span>: <span style=\"color: #008000; text-decoration-color: #008000\">'128-64-32'</span>, <span style=\"color: #008000; text-decoration-color: #008000\">'optimizer_config__optimizer'</span>: <span style=\"color: #008000; text-decoration-color: #008000\">'Adam'</span>, <span style=\"color: #008000; text-decoration-color: #008000\">'loss_0'</span>: <span style=\"color: #008080; text-decoration-color: #008080; font-weight: bold\">0.6885899901390076</span>, <span style=\"color: #008000; text-decoration-color: #008000\">'loss'</span>:  \n",
       "<span style=\"color: #008080; text-decoration-color: #008080; font-weight: bold\">0.6885899901390076</span>, <span style=\"color: #008000; text-decoration-color: #008000\">'accuracy'</span>: <span style=\"color: #008080; text-decoration-color: #008080; font-weight: bold\">0.5860927104949951</span>, <span style=\"color: #008000; text-decoration-color: #008000\">'trial_id'</span>: <span style=\"color: #008080; text-decoration-color: #008080; font-weight: bold\">24</span><span style=\"font-weight: bold\">}</span> | Score: <span style=\"color: #008080; text-decoration-color: #008080; font-weight: bold\">0.5860927104949951</span>                    \n",
       "</pre>\n"
      ],
      "text/plain": [
       "\u001b[1;36m2025\u001b[0m-\u001b[1;36m02\u001b[0m-\u001b[1;36m08\u001b[0m \u001b[1;92m16:11:39\u001b[0m,\u001b[1;36m831\u001b[0m - \u001b[1m{\u001b[0mpytorch_tabular.tabular_model_tuner:\u001b[1;36m412\u001b[0m\u001b[1m}\u001b[0m - INFO - Trial \u001b[1;36m25\u001b[0m/\u001b[1;36m32\u001b[0m: \u001b[1m{\u001b[0m\u001b[32m'model'\u001b[0m:                \n",
       "\u001b[32m'0-CategoryEmbeddingModelConfig'\u001b[0m, \u001b[32m'model_config__activation'\u001b[0m: \u001b[32m'LeakyReLU'\u001b[0m, \u001b[32m'model_config__embedding_dropout'\u001b[0m: \u001b[1;36m0.2\u001b[0m, \n",
       "\u001b[32m'model_config__layers'\u001b[0m: \u001b[32m'128-64-32'\u001b[0m, \u001b[32m'optimizer_config__optimizer'\u001b[0m: \u001b[32m'Adam'\u001b[0m, \u001b[32m'loss_0'\u001b[0m: \u001b[1;36m0.6885899901390076\u001b[0m, \u001b[32m'loss'\u001b[0m:  \n",
       "\u001b[1;36m0.6885899901390076\u001b[0m, \u001b[32m'accuracy'\u001b[0m: \u001b[1;36m0.5860927104949951\u001b[0m, \u001b[32m'trial_id'\u001b[0m: \u001b[1;36m24\u001b[0m\u001b[1m}\u001b[0m | Score: \u001b[1;36m0.5860927104949951\u001b[0m                    \n"
      ]
     },
     "metadata": {},
     "output_type": "display_data"
    },
    {
     "data": {
      "text/html": [
       "<pre style=\"white-space:pre;overflow-x:auto;line-height:normal;font-family:Menlo,'DejaVu Sans Mono',consolas,'Courier New',monospace\">/home/max/anaconda3/envs/tabular/lib/python3.10/site-packages/pytorch_lightning/callbacks/model_checkpoint.py:639: \n",
       "Checkpoint directory /home/max/Documents/PA/pytorch_tabular/machine_learning/saved_models exists and is not empty.\n",
       "</pre>\n"
      ],
      "text/plain": [
       "/home/max/anaconda3/envs/tabular/lib/python3.10/site-packages/pytorch_lightning/callbacks/model_checkpoint.py:639: \n",
       "Checkpoint directory /home/max/Documents/PA/pytorch_tabular/machine_learning/saved_models exists and is not empty.\n"
      ]
     },
     "metadata": {},
     "output_type": "display_data"
    },
    {
     "data": {
      "text/html": [
       "<pre style=\"white-space:pre;overflow-x:auto;line-height:normal;font-family:Menlo,'DejaVu Sans Mono',consolas,'Courier New',monospace\">/home/max/anaconda3/envs/tabular/lib/python3.10/site-packages/pytorch_lightning/loops/fit_loop.py:293: The number \n",
       "of training batches (22) is smaller than the logging interval Trainer(log_every_n_steps=50). Set a lower value for \n",
       "log_every_n_steps if you want to see logs for the training epoch.\n",
       "</pre>\n"
      ],
      "text/plain": [
       "/home/max/anaconda3/envs/tabular/lib/python3.10/site-packages/pytorch_lightning/loops/fit_loop.py:293: The number \n",
       "of training batches (22) is smaller than the logging interval Trainer(log_every_n_steps=50). Set a lower value for \n",
       "log_every_n_steps if you want to see logs for the training epoch.\n"
      ]
     },
     "metadata": {},
     "output_type": "display_data"
    },
    {
     "data": {
      "application/vnd.jupyter.widget-view+json": {
       "model_id": "9568a253aeda46e8b7b27ed9b63670d1",
       "version_major": 2,
       "version_minor": 0
      },
      "text/plain": [
       "Finding best initial lr:   0%|          | 0/100 [00:00<?, ?it/s]"
      ]
     },
     "metadata": {},
     "output_type": "display_data"
    },
    {
     "data": {
      "text/html": [
       "<pre style=\"white-space:pre;overflow-x:auto;line-height:normal;font-family:Menlo,'DejaVu Sans Mono',consolas,'Courier New',monospace\"><span style=\"color: #008080; text-decoration-color: #008080; font-weight: bold\">2025</span>-<span style=\"color: #008080; text-decoration-color: #008080; font-weight: bold\">02</span>-<span style=\"color: #008080; text-decoration-color: #008080; font-weight: bold\">08</span> <span style=\"color: #00ff00; text-decoration-color: #00ff00; font-weight: bold\">16:11:45</span>,<span style=\"color: #008080; text-decoration-color: #008080; font-weight: bold\">728</span> - <span style=\"font-weight: bold\">{</span>pytorch_tabular.tabular_model_tuner:<span style=\"color: #008080; text-decoration-color: #008080; font-weight: bold\">412</span><span style=\"font-weight: bold\">}</span> - INFO - Trial <span style=\"color: #008080; text-decoration-color: #008080; font-weight: bold\">26</span>/<span style=\"color: #008080; text-decoration-color: #008080; font-weight: bold\">32</span>: <span style=\"font-weight: bold\">{</span><span style=\"color: #008000; text-decoration-color: #008000\">'model'</span>:                \n",
       "<span style=\"color: #008000; text-decoration-color: #008000\">'0-CategoryEmbeddingModelConfig'</span>, <span style=\"color: #008000; text-decoration-color: #008000\">'model_config__activation'</span>: <span style=\"color: #008000; text-decoration-color: #008000\">'LeakyReLU'</span>, <span style=\"color: #008000; text-decoration-color: #008000\">'model_config__embedding_dropout'</span>: <span style=\"color: #008080; text-decoration-color: #008080; font-weight: bold\">0.2</span>, \n",
       "<span style=\"color: #008000; text-decoration-color: #008000\">'model_config__layers'</span>: <span style=\"color: #008000; text-decoration-color: #008000\">'128-64-32'</span>, <span style=\"color: #008000; text-decoration-color: #008000\">'optimizer_config__optimizer'</span>: <span style=\"color: #008000; text-decoration-color: #008000\">'SGD'</span>, <span style=\"color: #008000; text-decoration-color: #008000\">'loss_0'</span>: <span style=\"color: #008080; text-decoration-color: #008080; font-weight: bold\">0.6865311861038208</span>, <span style=\"color: #008000; text-decoration-color: #008000\">'loss'</span>:   \n",
       "<span style=\"color: #008080; text-decoration-color: #008080; font-weight: bold\">0.6865311861038208</span>, <span style=\"color: #008000; text-decoration-color: #008000\">'accuracy'</span>: <span style=\"color: #008080; text-decoration-color: #008080; font-weight: bold\">0.5894039869308472</span>, <span style=\"color: #008000; text-decoration-color: #008000\">'trial_id'</span>: <span style=\"color: #008080; text-decoration-color: #008080; font-weight: bold\">25</span><span style=\"font-weight: bold\">}</span> | Score: <span style=\"color: #008080; text-decoration-color: #008080; font-weight: bold\">0.5894039869308472</span>                    \n",
       "</pre>\n"
      ],
      "text/plain": [
       "\u001b[1;36m2025\u001b[0m-\u001b[1;36m02\u001b[0m-\u001b[1;36m08\u001b[0m \u001b[1;92m16:11:45\u001b[0m,\u001b[1;36m728\u001b[0m - \u001b[1m{\u001b[0mpytorch_tabular.tabular_model_tuner:\u001b[1;36m412\u001b[0m\u001b[1m}\u001b[0m - INFO - Trial \u001b[1;36m26\u001b[0m/\u001b[1;36m32\u001b[0m: \u001b[1m{\u001b[0m\u001b[32m'model'\u001b[0m:                \n",
       "\u001b[32m'0-CategoryEmbeddingModelConfig'\u001b[0m, \u001b[32m'model_config__activation'\u001b[0m: \u001b[32m'LeakyReLU'\u001b[0m, \u001b[32m'model_config__embedding_dropout'\u001b[0m: \u001b[1;36m0.2\u001b[0m, \n",
       "\u001b[32m'model_config__layers'\u001b[0m: \u001b[32m'128-64-32'\u001b[0m, \u001b[32m'optimizer_config__optimizer'\u001b[0m: \u001b[32m'SGD'\u001b[0m, \u001b[32m'loss_0'\u001b[0m: \u001b[1;36m0.6865311861038208\u001b[0m, \u001b[32m'loss'\u001b[0m:   \n",
       "\u001b[1;36m0.6865311861038208\u001b[0m, \u001b[32m'accuracy'\u001b[0m: \u001b[1;36m0.5894039869308472\u001b[0m, \u001b[32m'trial_id'\u001b[0m: \u001b[1;36m25\u001b[0m\u001b[1m}\u001b[0m | Score: \u001b[1;36m0.5894039869308472\u001b[0m                    \n"
      ]
     },
     "metadata": {},
     "output_type": "display_data"
    },
    {
     "data": {
      "text/html": [
       "<pre style=\"white-space:pre;overflow-x:auto;line-height:normal;font-family:Menlo,'DejaVu Sans Mono',consolas,'Courier New',monospace\">/home/max/anaconda3/envs/tabular/lib/python3.10/site-packages/pytorch_lightning/callbacks/model_checkpoint.py:639: \n",
       "Checkpoint directory /home/max/Documents/PA/pytorch_tabular/machine_learning/saved_models exists and is not empty.\n",
       "</pre>\n"
      ],
      "text/plain": [
       "/home/max/anaconda3/envs/tabular/lib/python3.10/site-packages/pytorch_lightning/callbacks/model_checkpoint.py:639: \n",
       "Checkpoint directory /home/max/Documents/PA/pytorch_tabular/machine_learning/saved_models exists and is not empty.\n"
      ]
     },
     "metadata": {},
     "output_type": "display_data"
    },
    {
     "data": {
      "text/html": [
       "<pre style=\"white-space:pre;overflow-x:auto;line-height:normal;font-family:Menlo,'DejaVu Sans Mono',consolas,'Courier New',monospace\">/home/max/anaconda3/envs/tabular/lib/python3.10/site-packages/pytorch_lightning/loops/fit_loop.py:293: The number \n",
       "of training batches (22) is smaller than the logging interval Trainer(log_every_n_steps=50). Set a lower value for \n",
       "log_every_n_steps if you want to see logs for the training epoch.\n",
       "</pre>\n"
      ],
      "text/plain": [
       "/home/max/anaconda3/envs/tabular/lib/python3.10/site-packages/pytorch_lightning/loops/fit_loop.py:293: The number \n",
       "of training batches (22) is smaller than the logging interval Trainer(log_every_n_steps=50). Set a lower value for \n",
       "log_every_n_steps if you want to see logs for the training epoch.\n"
      ]
     },
     "metadata": {},
     "output_type": "display_data"
    },
    {
     "data": {
      "application/vnd.jupyter.widget-view+json": {
       "model_id": "219a8ee9767e4ad2a2369332712589b0",
       "version_major": 2,
       "version_minor": 0
      },
      "text/plain": [
       "Finding best initial lr:   0%|          | 0/100 [00:00<?, ?it/s]"
      ]
     },
     "metadata": {},
     "output_type": "display_data"
    },
    {
     "data": {
      "text/html": [
       "<pre style=\"white-space:pre;overflow-x:auto;line-height:normal;font-family:Menlo,'DejaVu Sans Mono',consolas,'Courier New',monospace\"><span style=\"color: #008080; text-decoration-color: #008080; font-weight: bold\">2025</span>-<span style=\"color: #008080; text-decoration-color: #008080; font-weight: bold\">02</span>-<span style=\"color: #008080; text-decoration-color: #008080; font-weight: bold\">08</span> <span style=\"color: #00ff00; text-decoration-color: #00ff00; font-weight: bold\">16:11:56</span>,<span style=\"color: #008080; text-decoration-color: #008080; font-weight: bold\">111</span> - <span style=\"font-weight: bold\">{</span>pytorch_tabular.tabular_model_tuner:<span style=\"color: #008080; text-decoration-color: #008080; font-weight: bold\">412</span><span style=\"font-weight: bold\">}</span> - INFO - Trial <span style=\"color: #008080; text-decoration-color: #008080; font-weight: bold\">27</span>/<span style=\"color: #008080; text-decoration-color: #008080; font-weight: bold\">32</span>: <span style=\"font-weight: bold\">{</span><span style=\"color: #008000; text-decoration-color: #008000\">'model'</span>:                \n",
       "<span style=\"color: #008000; text-decoration-color: #008000\">'0-CategoryEmbeddingModelConfig'</span>, <span style=\"color: #008000; text-decoration-color: #008000\">'model_config__activation'</span>: <span style=\"color: #008000; text-decoration-color: #008000\">'LeakyReLU'</span>, <span style=\"color: #008000; text-decoration-color: #008000\">'model_config__embedding_dropout'</span>: <span style=\"color: #008080; text-decoration-color: #008080; font-weight: bold\">0.2</span>, \n",
       "<span style=\"color: #008000; text-decoration-color: #008000\">'model_config__layers'</span>: <span style=\"color: #008000; text-decoration-color: #008000\">'1024-512-256'</span>, <span style=\"color: #008000; text-decoration-color: #008000\">'optimizer_config__optimizer'</span>: <span style=\"color: #008000; text-decoration-color: #008000\">'Adam'</span>, <span style=\"color: #008000; text-decoration-color: #008000\">'loss_0'</span>: <span style=\"color: #008080; text-decoration-color: #008080; font-weight: bold\">0.6241258382797241</span>,       \n",
       "<span style=\"color: #008000; text-decoration-color: #008000\">'loss'</span>: <span style=\"color: #008080; text-decoration-color: #008080; font-weight: bold\">0.6241258382797241</span>, <span style=\"color: #008000; text-decoration-color: #008000\">'accuracy'</span>: <span style=\"color: #008080; text-decoration-color: #008080; font-weight: bold\">0.692052960395813</span>, <span style=\"color: #008000; text-decoration-color: #008000\">'trial_id'</span>: <span style=\"color: #008080; text-decoration-color: #008080; font-weight: bold\">26</span><span style=\"font-weight: bold\">}</span> | Score: <span style=\"color: #008080; text-decoration-color: #008080; font-weight: bold\">0.692052960395813</span>              \n",
       "</pre>\n"
      ],
      "text/plain": [
       "\u001b[1;36m2025\u001b[0m-\u001b[1;36m02\u001b[0m-\u001b[1;36m08\u001b[0m \u001b[1;92m16:11:56\u001b[0m,\u001b[1;36m111\u001b[0m - \u001b[1m{\u001b[0mpytorch_tabular.tabular_model_tuner:\u001b[1;36m412\u001b[0m\u001b[1m}\u001b[0m - INFO - Trial \u001b[1;36m27\u001b[0m/\u001b[1;36m32\u001b[0m: \u001b[1m{\u001b[0m\u001b[32m'model'\u001b[0m:                \n",
       "\u001b[32m'0-CategoryEmbeddingModelConfig'\u001b[0m, \u001b[32m'model_config__activation'\u001b[0m: \u001b[32m'LeakyReLU'\u001b[0m, \u001b[32m'model_config__embedding_dropout'\u001b[0m: \u001b[1;36m0.2\u001b[0m, \n",
       "\u001b[32m'model_config__layers'\u001b[0m: \u001b[32m'1024-512-256'\u001b[0m, \u001b[32m'optimizer_config__optimizer'\u001b[0m: \u001b[32m'Adam'\u001b[0m, \u001b[32m'loss_0'\u001b[0m: \u001b[1;36m0.6241258382797241\u001b[0m,       \n",
       "\u001b[32m'loss'\u001b[0m: \u001b[1;36m0.6241258382797241\u001b[0m, \u001b[32m'accuracy'\u001b[0m: \u001b[1;36m0.692052960395813\u001b[0m, \u001b[32m'trial_id'\u001b[0m: \u001b[1;36m26\u001b[0m\u001b[1m}\u001b[0m | Score: \u001b[1;36m0.692052960395813\u001b[0m              \n"
      ]
     },
     "metadata": {},
     "output_type": "display_data"
    },
    {
     "data": {
      "text/html": [
       "<pre style=\"white-space:pre;overflow-x:auto;line-height:normal;font-family:Menlo,'DejaVu Sans Mono',consolas,'Courier New',monospace\">/home/max/anaconda3/envs/tabular/lib/python3.10/site-packages/pytorch_lightning/callbacks/model_checkpoint.py:639: \n",
       "Checkpoint directory /home/max/Documents/PA/pytorch_tabular/machine_learning/saved_models exists and is not empty.\n",
       "</pre>\n"
      ],
      "text/plain": [
       "/home/max/anaconda3/envs/tabular/lib/python3.10/site-packages/pytorch_lightning/callbacks/model_checkpoint.py:639: \n",
       "Checkpoint directory /home/max/Documents/PA/pytorch_tabular/machine_learning/saved_models exists and is not empty.\n"
      ]
     },
     "metadata": {},
     "output_type": "display_data"
    },
    {
     "data": {
      "text/html": [
       "<pre style=\"white-space:pre;overflow-x:auto;line-height:normal;font-family:Menlo,'DejaVu Sans Mono',consolas,'Courier New',monospace\">/home/max/anaconda3/envs/tabular/lib/python3.10/site-packages/pytorch_lightning/loops/fit_loop.py:293: The number \n",
       "of training batches (22) is smaller than the logging interval Trainer(log_every_n_steps=50). Set a lower value for \n",
       "log_every_n_steps if you want to see logs for the training epoch.\n",
       "</pre>\n"
      ],
      "text/plain": [
       "/home/max/anaconda3/envs/tabular/lib/python3.10/site-packages/pytorch_lightning/loops/fit_loop.py:293: The number \n",
       "of training batches (22) is smaller than the logging interval Trainer(log_every_n_steps=50). Set a lower value for \n",
       "log_every_n_steps if you want to see logs for the training epoch.\n"
      ]
     },
     "metadata": {},
     "output_type": "display_data"
    },
    {
     "data": {
      "application/vnd.jupyter.widget-view+json": {
       "model_id": "67befe895937478384c665e1a5cbd6ea",
       "version_major": 2,
       "version_minor": 0
      },
      "text/plain": [
       "Finding best initial lr:   0%|          | 0/100 [00:00<?, ?it/s]"
      ]
     },
     "metadata": {},
     "output_type": "display_data"
    },
    {
     "data": {
      "text/html": [
       "<pre style=\"white-space:pre;overflow-x:auto;line-height:normal;font-family:Menlo,'DejaVu Sans Mono',consolas,'Courier New',monospace\"><span style=\"color: #008080; text-decoration-color: #008080; font-weight: bold\">2025</span>-<span style=\"color: #008080; text-decoration-color: #008080; font-weight: bold\">02</span>-<span style=\"color: #008080; text-decoration-color: #008080; font-weight: bold\">08</span> <span style=\"color: #00ff00; text-decoration-color: #00ff00; font-weight: bold\">16:12:06</span>,<span style=\"color: #008080; text-decoration-color: #008080; font-weight: bold\">719</span> - <span style=\"font-weight: bold\">{</span>pytorch_tabular.tabular_model_tuner:<span style=\"color: #008080; text-decoration-color: #008080; font-weight: bold\">412</span><span style=\"font-weight: bold\">}</span> - INFO - Trial <span style=\"color: #008080; text-decoration-color: #008080; font-weight: bold\">28</span>/<span style=\"color: #008080; text-decoration-color: #008080; font-weight: bold\">32</span>: <span style=\"font-weight: bold\">{</span><span style=\"color: #008000; text-decoration-color: #008000\">'model'</span>:                \n",
       "<span style=\"color: #008000; text-decoration-color: #008000\">'0-CategoryEmbeddingModelConfig'</span>, <span style=\"color: #008000; text-decoration-color: #008000\">'model_config__activation'</span>: <span style=\"color: #008000; text-decoration-color: #008000\">'LeakyReLU'</span>, <span style=\"color: #008000; text-decoration-color: #008000\">'model_config__embedding_dropout'</span>: <span style=\"color: #008080; text-decoration-color: #008080; font-weight: bold\">0.2</span>, \n",
       "<span style=\"color: #008000; text-decoration-color: #008000\">'model_config__layers'</span>: <span style=\"color: #008000; text-decoration-color: #008000\">'1024-512-256'</span>, <span style=\"color: #008000; text-decoration-color: #008000\">'optimizer_config__optimizer'</span>: <span style=\"color: #008000; text-decoration-color: #008000\">'SGD'</span>, <span style=\"color: #008000; text-decoration-color: #008000\">'loss_0'</span>: <span style=\"color: #008080; text-decoration-color: #008080; font-weight: bold\">0.6067430377006531</span>, <span style=\"color: #008000; text-decoration-color: #008000\">'loss'</span>:\n",
       "<span style=\"color: #008080; text-decoration-color: #008080; font-weight: bold\">0.6067430377006531</span>, <span style=\"color: #008000; text-decoration-color: #008000\">'accuracy'</span>: <span style=\"color: #008080; text-decoration-color: #008080; font-weight: bold\">0.7086092829704285</span>, <span style=\"color: #008000; text-decoration-color: #008000\">'trial_id'</span>: <span style=\"color: #008080; text-decoration-color: #008080; font-weight: bold\">27</span><span style=\"font-weight: bold\">}</span> | Score: <span style=\"color: #008080; text-decoration-color: #008080; font-weight: bold\">0.7086092829704285</span>                    \n",
       "</pre>\n"
      ],
      "text/plain": [
       "\u001b[1;36m2025\u001b[0m-\u001b[1;36m02\u001b[0m-\u001b[1;36m08\u001b[0m \u001b[1;92m16:12:06\u001b[0m,\u001b[1;36m719\u001b[0m - \u001b[1m{\u001b[0mpytorch_tabular.tabular_model_tuner:\u001b[1;36m412\u001b[0m\u001b[1m}\u001b[0m - INFO - Trial \u001b[1;36m28\u001b[0m/\u001b[1;36m32\u001b[0m: \u001b[1m{\u001b[0m\u001b[32m'model'\u001b[0m:                \n",
       "\u001b[32m'0-CategoryEmbeddingModelConfig'\u001b[0m, \u001b[32m'model_config__activation'\u001b[0m: \u001b[32m'LeakyReLU'\u001b[0m, \u001b[32m'model_config__embedding_dropout'\u001b[0m: \u001b[1;36m0.2\u001b[0m, \n",
       "\u001b[32m'model_config__layers'\u001b[0m: \u001b[32m'1024-512-256'\u001b[0m, \u001b[32m'optimizer_config__optimizer'\u001b[0m: \u001b[32m'SGD'\u001b[0m, \u001b[32m'loss_0'\u001b[0m: \u001b[1;36m0.6067430377006531\u001b[0m, \u001b[32m'loss'\u001b[0m:\n",
       "\u001b[1;36m0.6067430377006531\u001b[0m, \u001b[32m'accuracy'\u001b[0m: \u001b[1;36m0.7086092829704285\u001b[0m, \u001b[32m'trial_id'\u001b[0m: \u001b[1;36m27\u001b[0m\u001b[1m}\u001b[0m | Score: \u001b[1;36m0.7086092829704285\u001b[0m                    \n"
      ]
     },
     "metadata": {},
     "output_type": "display_data"
    },
    {
     "data": {
      "text/html": [
       "<pre style=\"white-space:pre;overflow-x:auto;line-height:normal;font-family:Menlo,'DejaVu Sans Mono',consolas,'Courier New',monospace\">/home/max/anaconda3/envs/tabular/lib/python3.10/site-packages/pytorch_lightning/callbacks/model_checkpoint.py:639: \n",
       "Checkpoint directory /home/max/Documents/PA/pytorch_tabular/machine_learning/saved_models exists and is not empty.\n",
       "</pre>\n"
      ],
      "text/plain": [
       "/home/max/anaconda3/envs/tabular/lib/python3.10/site-packages/pytorch_lightning/callbacks/model_checkpoint.py:639: \n",
       "Checkpoint directory /home/max/Documents/PA/pytorch_tabular/machine_learning/saved_models exists and is not empty.\n"
      ]
     },
     "metadata": {},
     "output_type": "display_data"
    },
    {
     "data": {
      "text/html": [
       "<pre style=\"white-space:pre;overflow-x:auto;line-height:normal;font-family:Menlo,'DejaVu Sans Mono',consolas,'Courier New',monospace\">/home/max/anaconda3/envs/tabular/lib/python3.10/site-packages/pytorch_lightning/loops/fit_loop.py:293: The number \n",
       "of training batches (22) is smaller than the logging interval Trainer(log_every_n_steps=50). Set a lower value for \n",
       "log_every_n_steps if you want to see logs for the training epoch.\n",
       "</pre>\n"
      ],
      "text/plain": [
       "/home/max/anaconda3/envs/tabular/lib/python3.10/site-packages/pytorch_lightning/loops/fit_loop.py:293: The number \n",
       "of training batches (22) is smaller than the logging interval Trainer(log_every_n_steps=50). Set a lower value for \n",
       "log_every_n_steps if you want to see logs for the training epoch.\n"
      ]
     },
     "metadata": {},
     "output_type": "display_data"
    },
    {
     "data": {
      "application/vnd.jupyter.widget-view+json": {
       "model_id": "777813681e5c4ba2ab08c19582759f3e",
       "version_major": 2,
       "version_minor": 0
      },
      "text/plain": [
       "Finding best initial lr:   0%|          | 0/100 [00:00<?, ?it/s]"
      ]
     },
     "metadata": {},
     "output_type": "display_data"
    },
    {
     "data": {
      "text/html": [
       "<pre style=\"white-space:pre;overflow-x:auto;line-height:normal;font-family:Menlo,'DejaVu Sans Mono',consolas,'Courier New',monospace\"><span style=\"color: #008080; text-decoration-color: #008080; font-weight: bold\">2025</span>-<span style=\"color: #008080; text-decoration-color: #008080; font-weight: bold\">02</span>-<span style=\"color: #008080; text-decoration-color: #008080; font-weight: bold\">08</span> <span style=\"color: #00ff00; text-decoration-color: #00ff00; font-weight: bold\">16:12:16</span>,<span style=\"color: #008080; text-decoration-color: #008080; font-weight: bold\">274</span> - <span style=\"font-weight: bold\">{</span>pytorch_tabular.tabular_model_tuner:<span style=\"color: #008080; text-decoration-color: #008080; font-weight: bold\">412</span><span style=\"font-weight: bold\">}</span> - INFO - Trial <span style=\"color: #008080; text-decoration-color: #008080; font-weight: bold\">29</span>/<span style=\"color: #008080; text-decoration-color: #008080; font-weight: bold\">32</span>: <span style=\"font-weight: bold\">{</span><span style=\"color: #008000; text-decoration-color: #008000\">'model'</span>:                \n",
       "<span style=\"color: #008000; text-decoration-color: #008000\">'0-CategoryEmbeddingModelConfig'</span>, <span style=\"color: #008000; text-decoration-color: #008000\">'model_config__activation'</span>: <span style=\"color: #008000; text-decoration-color: #008000\">'LeakyReLU'</span>, <span style=\"color: #008000; text-decoration-color: #008000\">'model_config__embedding_dropout'</span>: <span style=\"color: #008080; text-decoration-color: #008080; font-weight: bold\">0.2</span>, \n",
       "<span style=\"color: #008000; text-decoration-color: #008000\">'model_config__layers'</span>: <span style=\"color: #008000; text-decoration-color: #008000\">'32-64-128'</span>, <span style=\"color: #008000; text-decoration-color: #008000\">'optimizer_config__optimizer'</span>: <span style=\"color: #008000; text-decoration-color: #008000\">'Adam'</span>, <span style=\"color: #008000; text-decoration-color: #008000\">'loss_0'</span>: <span style=\"color: #008080; text-decoration-color: #008080; font-weight: bold\">0.6025332808494568</span>, <span style=\"color: #008000; text-decoration-color: #008000\">'loss'</span>:  \n",
       "<span style=\"color: #008080; text-decoration-color: #008080; font-weight: bold\">0.6025332808494568</span>, <span style=\"color: #008000; text-decoration-color: #008000\">'accuracy'</span>: <span style=\"color: #008080; text-decoration-color: #008080; font-weight: bold\">0.7152317762374878</span>, <span style=\"color: #008000; text-decoration-color: #008000\">'trial_id'</span>: <span style=\"color: #008080; text-decoration-color: #008080; font-weight: bold\">28</span><span style=\"font-weight: bold\">}</span> | Score: <span style=\"color: #008080; text-decoration-color: #008080; font-weight: bold\">0.7152317762374878</span>                    \n",
       "</pre>\n"
      ],
      "text/plain": [
       "\u001b[1;36m2025\u001b[0m-\u001b[1;36m02\u001b[0m-\u001b[1;36m08\u001b[0m \u001b[1;92m16:12:16\u001b[0m,\u001b[1;36m274\u001b[0m - \u001b[1m{\u001b[0mpytorch_tabular.tabular_model_tuner:\u001b[1;36m412\u001b[0m\u001b[1m}\u001b[0m - INFO - Trial \u001b[1;36m29\u001b[0m/\u001b[1;36m32\u001b[0m: \u001b[1m{\u001b[0m\u001b[32m'model'\u001b[0m:                \n",
       "\u001b[32m'0-CategoryEmbeddingModelConfig'\u001b[0m, \u001b[32m'model_config__activation'\u001b[0m: \u001b[32m'LeakyReLU'\u001b[0m, \u001b[32m'model_config__embedding_dropout'\u001b[0m: \u001b[1;36m0.2\u001b[0m, \n",
       "\u001b[32m'model_config__layers'\u001b[0m: \u001b[32m'32-64-128'\u001b[0m, \u001b[32m'optimizer_config__optimizer'\u001b[0m: \u001b[32m'Adam'\u001b[0m, \u001b[32m'loss_0'\u001b[0m: \u001b[1;36m0.6025332808494568\u001b[0m, \u001b[32m'loss'\u001b[0m:  \n",
       "\u001b[1;36m0.6025332808494568\u001b[0m, \u001b[32m'accuracy'\u001b[0m: \u001b[1;36m0.7152317762374878\u001b[0m, \u001b[32m'trial_id'\u001b[0m: \u001b[1;36m28\u001b[0m\u001b[1m}\u001b[0m | Score: \u001b[1;36m0.7152317762374878\u001b[0m                    \n"
      ]
     },
     "metadata": {},
     "output_type": "display_data"
    },
    {
     "data": {
      "text/html": [
       "<pre style=\"white-space:pre;overflow-x:auto;line-height:normal;font-family:Menlo,'DejaVu Sans Mono',consolas,'Courier New',monospace\">/home/max/anaconda3/envs/tabular/lib/python3.10/site-packages/pytorch_lightning/callbacks/model_checkpoint.py:639: \n",
       "Checkpoint directory /home/max/Documents/PA/pytorch_tabular/machine_learning/saved_models exists and is not empty.\n",
       "</pre>\n"
      ],
      "text/plain": [
       "/home/max/anaconda3/envs/tabular/lib/python3.10/site-packages/pytorch_lightning/callbacks/model_checkpoint.py:639: \n",
       "Checkpoint directory /home/max/Documents/PA/pytorch_tabular/machine_learning/saved_models exists and is not empty.\n"
      ]
     },
     "metadata": {},
     "output_type": "display_data"
    },
    {
     "data": {
      "text/html": [
       "<pre style=\"white-space:pre;overflow-x:auto;line-height:normal;font-family:Menlo,'DejaVu Sans Mono',consolas,'Courier New',monospace\">/home/max/anaconda3/envs/tabular/lib/python3.10/site-packages/pytorch_lightning/loops/fit_loop.py:293: The number \n",
       "of training batches (22) is smaller than the logging interval Trainer(log_every_n_steps=50). Set a lower value for \n",
       "log_every_n_steps if you want to see logs for the training epoch.\n",
       "</pre>\n"
      ],
      "text/plain": [
       "/home/max/anaconda3/envs/tabular/lib/python3.10/site-packages/pytorch_lightning/loops/fit_loop.py:293: The number \n",
       "of training batches (22) is smaller than the logging interval Trainer(log_every_n_steps=50). Set a lower value for \n",
       "log_every_n_steps if you want to see logs for the training epoch.\n"
      ]
     },
     "metadata": {},
     "output_type": "display_data"
    },
    {
     "data": {
      "application/vnd.jupyter.widget-view+json": {
       "model_id": "bebf40dd1eae449090b54b17e34134c7",
       "version_major": 2,
       "version_minor": 0
      },
      "text/plain": [
       "Finding best initial lr:   0%|          | 0/100 [00:00<?, ?it/s]"
      ]
     },
     "metadata": {},
     "output_type": "display_data"
    },
    {
     "data": {
      "text/html": [
       "<pre style=\"white-space:pre;overflow-x:auto;line-height:normal;font-family:Menlo,'DejaVu Sans Mono',consolas,'Courier New',monospace\"><span style=\"color: #008080; text-decoration-color: #008080; font-weight: bold\">2025</span>-<span style=\"color: #008080; text-decoration-color: #008080; font-weight: bold\">02</span>-<span style=\"color: #008080; text-decoration-color: #008080; font-weight: bold\">08</span> <span style=\"color: #00ff00; text-decoration-color: #00ff00; font-weight: bold\">16:12:22</span>,<span style=\"color: #008080; text-decoration-color: #008080; font-weight: bold\">703</span> - <span style=\"font-weight: bold\">{</span>pytorch_tabular.tabular_model_tuner:<span style=\"color: #008080; text-decoration-color: #008080; font-weight: bold\">412</span><span style=\"font-weight: bold\">}</span> - INFO - Trial <span style=\"color: #008080; text-decoration-color: #008080; font-weight: bold\">30</span>/<span style=\"color: #008080; text-decoration-color: #008080; font-weight: bold\">32</span>: <span style=\"font-weight: bold\">{</span><span style=\"color: #008000; text-decoration-color: #008000\">'model'</span>:                \n",
       "<span style=\"color: #008000; text-decoration-color: #008000\">'0-CategoryEmbeddingModelConfig'</span>, <span style=\"color: #008000; text-decoration-color: #008000\">'model_config__activation'</span>: <span style=\"color: #008000; text-decoration-color: #008000\">'LeakyReLU'</span>, <span style=\"color: #008000; text-decoration-color: #008000\">'model_config__embedding_dropout'</span>: <span style=\"color: #008080; text-decoration-color: #008080; font-weight: bold\">0.2</span>, \n",
       "<span style=\"color: #008000; text-decoration-color: #008000\">'model_config__layers'</span>: <span style=\"color: #008000; text-decoration-color: #008000\">'32-64-128'</span>, <span style=\"color: #008000; text-decoration-color: #008000\">'optimizer_config__optimizer'</span>: <span style=\"color: #008000; text-decoration-color: #008000\">'SGD'</span>, <span style=\"color: #008000; text-decoration-color: #008000\">'loss_0'</span>: <span style=\"color: #008080; text-decoration-color: #008080; font-weight: bold\">0.6884292960166931</span>, <span style=\"color: #008000; text-decoration-color: #008000\">'loss'</span>:   \n",
       "<span style=\"color: #008080; text-decoration-color: #008080; font-weight: bold\">0.6884292960166931</span>, <span style=\"color: #008000; text-decoration-color: #008000\">'accuracy'</span>: <span style=\"color: #008080; text-decoration-color: #008080; font-weight: bold\">0.5860927104949951</span>, <span style=\"color: #008000; text-decoration-color: #008000\">'trial_id'</span>: <span style=\"color: #008080; text-decoration-color: #008080; font-weight: bold\">29</span><span style=\"font-weight: bold\">}</span> | Score: <span style=\"color: #008080; text-decoration-color: #008080; font-weight: bold\">0.5860927104949951</span>                    \n",
       "</pre>\n"
      ],
      "text/plain": [
       "\u001b[1;36m2025\u001b[0m-\u001b[1;36m02\u001b[0m-\u001b[1;36m08\u001b[0m \u001b[1;92m16:12:22\u001b[0m,\u001b[1;36m703\u001b[0m - \u001b[1m{\u001b[0mpytorch_tabular.tabular_model_tuner:\u001b[1;36m412\u001b[0m\u001b[1m}\u001b[0m - INFO - Trial \u001b[1;36m30\u001b[0m/\u001b[1;36m32\u001b[0m: \u001b[1m{\u001b[0m\u001b[32m'model'\u001b[0m:                \n",
       "\u001b[32m'0-CategoryEmbeddingModelConfig'\u001b[0m, \u001b[32m'model_config__activation'\u001b[0m: \u001b[32m'LeakyReLU'\u001b[0m, \u001b[32m'model_config__embedding_dropout'\u001b[0m: \u001b[1;36m0.2\u001b[0m, \n",
       "\u001b[32m'model_config__layers'\u001b[0m: \u001b[32m'32-64-128'\u001b[0m, \u001b[32m'optimizer_config__optimizer'\u001b[0m: \u001b[32m'SGD'\u001b[0m, \u001b[32m'loss_0'\u001b[0m: \u001b[1;36m0.6884292960166931\u001b[0m, \u001b[32m'loss'\u001b[0m:   \n",
       "\u001b[1;36m0.6884292960166931\u001b[0m, \u001b[32m'accuracy'\u001b[0m: \u001b[1;36m0.5860927104949951\u001b[0m, \u001b[32m'trial_id'\u001b[0m: \u001b[1;36m29\u001b[0m\u001b[1m}\u001b[0m | Score: \u001b[1;36m0.5860927104949951\u001b[0m                    \n"
      ]
     },
     "metadata": {},
     "output_type": "display_data"
    },
    {
     "data": {
      "text/html": [
       "<pre style=\"white-space:pre;overflow-x:auto;line-height:normal;font-family:Menlo,'DejaVu Sans Mono',consolas,'Courier New',monospace\">/home/max/anaconda3/envs/tabular/lib/python3.10/site-packages/pytorch_lightning/callbacks/model_checkpoint.py:639: \n",
       "Checkpoint directory /home/max/Documents/PA/pytorch_tabular/machine_learning/saved_models exists and is not empty.\n",
       "</pre>\n"
      ],
      "text/plain": [
       "/home/max/anaconda3/envs/tabular/lib/python3.10/site-packages/pytorch_lightning/callbacks/model_checkpoint.py:639: \n",
       "Checkpoint directory /home/max/Documents/PA/pytorch_tabular/machine_learning/saved_models exists and is not empty.\n"
      ]
     },
     "metadata": {},
     "output_type": "display_data"
    },
    {
     "data": {
      "text/html": [
       "<pre style=\"white-space:pre;overflow-x:auto;line-height:normal;font-family:Menlo,'DejaVu Sans Mono',consolas,'Courier New',monospace\">/home/max/anaconda3/envs/tabular/lib/python3.10/site-packages/pytorch_lightning/loops/fit_loop.py:293: The number \n",
       "of training batches (22) is smaller than the logging interval Trainer(log_every_n_steps=50). Set a lower value for \n",
       "log_every_n_steps if you want to see logs for the training epoch.\n",
       "</pre>\n"
      ],
      "text/plain": [
       "/home/max/anaconda3/envs/tabular/lib/python3.10/site-packages/pytorch_lightning/loops/fit_loop.py:293: The number \n",
       "of training batches (22) is smaller than the logging interval Trainer(log_every_n_steps=50). Set a lower value for \n",
       "log_every_n_steps if you want to see logs for the training epoch.\n"
      ]
     },
     "metadata": {},
     "output_type": "display_data"
    },
    {
     "data": {
      "application/vnd.jupyter.widget-view+json": {
       "model_id": "87ad54b8a18c412c8cbab605c6b02d44",
       "version_major": 2,
       "version_minor": 0
      },
      "text/plain": [
       "Finding best initial lr:   0%|          | 0/100 [00:00<?, ?it/s]"
      ]
     },
     "metadata": {},
     "output_type": "display_data"
    },
    {
     "data": {
      "text/html": [
       "<pre style=\"white-space:pre;overflow-x:auto;line-height:normal;font-family:Menlo,'DejaVu Sans Mono',consolas,'Courier New',monospace\"><span style=\"color: #008080; text-decoration-color: #008080; font-weight: bold\">2025</span>-<span style=\"color: #008080; text-decoration-color: #008080; font-weight: bold\">02</span>-<span style=\"color: #008080; text-decoration-color: #008080; font-weight: bold\">08</span> <span style=\"color: #00ff00; text-decoration-color: #00ff00; font-weight: bold\">16:12:34</span>,<span style=\"color: #008080; text-decoration-color: #008080; font-weight: bold\">163</span> - <span style=\"font-weight: bold\">{</span>pytorch_tabular.tabular_model_tuner:<span style=\"color: #008080; text-decoration-color: #008080; font-weight: bold\">412</span><span style=\"font-weight: bold\">}</span> - INFO - Trial <span style=\"color: #008080; text-decoration-color: #008080; font-weight: bold\">31</span>/<span style=\"color: #008080; text-decoration-color: #008080; font-weight: bold\">32</span>: <span style=\"font-weight: bold\">{</span><span style=\"color: #008000; text-decoration-color: #008000\">'model'</span>:                \n",
       "<span style=\"color: #008000; text-decoration-color: #008000\">'0-CategoryEmbeddingModelConfig'</span>, <span style=\"color: #008000; text-decoration-color: #008000\">'model_config__activation'</span>: <span style=\"color: #008000; text-decoration-color: #008000\">'LeakyReLU'</span>, <span style=\"color: #008000; text-decoration-color: #008000\">'model_config__embedding_dropout'</span>: <span style=\"color: #008080; text-decoration-color: #008080; font-weight: bold\">0.2</span>, \n",
       "<span style=\"color: #008000; text-decoration-color: #008000\">'model_config__layers'</span>: <span style=\"color: #008000; text-decoration-color: #008000\">'256-512-1024'</span>, <span style=\"color: #008000; text-decoration-color: #008000\">'optimizer_config__optimizer'</span>: <span style=\"color: #008000; text-decoration-color: #008000\">'Adam'</span>, <span style=\"color: #008000; text-decoration-color: #008000\">'loss_0'</span>: <span style=\"color: #008080; text-decoration-color: #008080; font-weight: bold\">0.5849567651748657</span>,       \n",
       "<span style=\"color: #008000; text-decoration-color: #008000\">'loss'</span>: <span style=\"color: #008080; text-decoration-color: #008080; font-weight: bold\">0.5849567651748657</span>, <span style=\"color: #008000; text-decoration-color: #008000\">'accuracy'</span>: <span style=\"color: #008080; text-decoration-color: #008080; font-weight: bold\">0.7119205594062805</span>, <span style=\"color: #008000; text-decoration-color: #008000\">'trial_id'</span>: <span style=\"color: #008080; text-decoration-color: #008080; font-weight: bold\">30</span><span style=\"font-weight: bold\">}</span> | Score: <span style=\"color: #008080; text-decoration-color: #008080; font-weight: bold\">0.7119205594062805</span>            \n",
       "</pre>\n"
      ],
      "text/plain": [
       "\u001b[1;36m2025\u001b[0m-\u001b[1;36m02\u001b[0m-\u001b[1;36m08\u001b[0m \u001b[1;92m16:12:34\u001b[0m,\u001b[1;36m163\u001b[0m - \u001b[1m{\u001b[0mpytorch_tabular.tabular_model_tuner:\u001b[1;36m412\u001b[0m\u001b[1m}\u001b[0m - INFO - Trial \u001b[1;36m31\u001b[0m/\u001b[1;36m32\u001b[0m: \u001b[1m{\u001b[0m\u001b[32m'model'\u001b[0m:                \n",
       "\u001b[32m'0-CategoryEmbeddingModelConfig'\u001b[0m, \u001b[32m'model_config__activation'\u001b[0m: \u001b[32m'LeakyReLU'\u001b[0m, \u001b[32m'model_config__embedding_dropout'\u001b[0m: \u001b[1;36m0.2\u001b[0m, \n",
       "\u001b[32m'model_config__layers'\u001b[0m: \u001b[32m'256-512-1024'\u001b[0m, \u001b[32m'optimizer_config__optimizer'\u001b[0m: \u001b[32m'Adam'\u001b[0m, \u001b[32m'loss_0'\u001b[0m: \u001b[1;36m0.5849567651748657\u001b[0m,       \n",
       "\u001b[32m'loss'\u001b[0m: \u001b[1;36m0.5849567651748657\u001b[0m, \u001b[32m'accuracy'\u001b[0m: \u001b[1;36m0.7119205594062805\u001b[0m, \u001b[32m'trial_id'\u001b[0m: \u001b[1;36m30\u001b[0m\u001b[1m}\u001b[0m | Score: \u001b[1;36m0.7119205594062805\u001b[0m            \n"
      ]
     },
     "metadata": {},
     "output_type": "display_data"
    },
    {
     "data": {
      "text/html": [
       "<pre style=\"white-space:pre;overflow-x:auto;line-height:normal;font-family:Menlo,'DejaVu Sans Mono',consolas,'Courier New',monospace\">/home/max/anaconda3/envs/tabular/lib/python3.10/site-packages/pytorch_lightning/callbacks/model_checkpoint.py:639: \n",
       "Checkpoint directory /home/max/Documents/PA/pytorch_tabular/machine_learning/saved_models exists and is not empty.\n",
       "</pre>\n"
      ],
      "text/plain": [
       "/home/max/anaconda3/envs/tabular/lib/python3.10/site-packages/pytorch_lightning/callbacks/model_checkpoint.py:639: \n",
       "Checkpoint directory /home/max/Documents/PA/pytorch_tabular/machine_learning/saved_models exists and is not empty.\n"
      ]
     },
     "metadata": {},
     "output_type": "display_data"
    },
    {
     "data": {
      "text/html": [
       "<pre style=\"white-space:pre;overflow-x:auto;line-height:normal;font-family:Menlo,'DejaVu Sans Mono',consolas,'Courier New',monospace\">/home/max/anaconda3/envs/tabular/lib/python3.10/site-packages/pytorch_lightning/loops/fit_loop.py:293: The number \n",
       "of training batches (22) is smaller than the logging interval Trainer(log_every_n_steps=50). Set a lower value for \n",
       "log_every_n_steps if you want to see logs for the training epoch.\n",
       "</pre>\n"
      ],
      "text/plain": [
       "/home/max/anaconda3/envs/tabular/lib/python3.10/site-packages/pytorch_lightning/loops/fit_loop.py:293: The number \n",
       "of training batches (22) is smaller than the logging interval Trainer(log_every_n_steps=50). Set a lower value for \n",
       "log_every_n_steps if you want to see logs for the training epoch.\n"
      ]
     },
     "metadata": {},
     "output_type": "display_data"
    },
    {
     "data": {
      "application/vnd.jupyter.widget-view+json": {
       "model_id": "54ec09891a4945a6bc10dd936d6afca2",
       "version_major": 2,
       "version_minor": 0
      },
      "text/plain": [
       "Finding best initial lr:   0%|          | 0/100 [00:00<?, ?it/s]"
      ]
     },
     "metadata": {},
     "output_type": "display_data"
    },
    {
     "data": {
      "text/html": [
       "<pre style=\"white-space:pre;overflow-x:auto;line-height:normal;font-family:Menlo,'DejaVu Sans Mono',consolas,'Courier New',monospace\"><span style=\"color: #008080; text-decoration-color: #008080; font-weight: bold\">2025</span>-<span style=\"color: #008080; text-decoration-color: #008080; font-weight: bold\">02</span>-<span style=\"color: #008080; text-decoration-color: #008080; font-weight: bold\">08</span> <span style=\"color: #00ff00; text-decoration-color: #00ff00; font-weight: bold\">16:12:47</span>,<span style=\"color: #008080; text-decoration-color: #008080; font-weight: bold\">480</span> - <span style=\"font-weight: bold\">{</span>pytorch_tabular.tabular_model_tuner:<span style=\"color: #008080; text-decoration-color: #008080; font-weight: bold\">412</span><span style=\"font-weight: bold\">}</span> - INFO - Trial <span style=\"color: #008080; text-decoration-color: #008080; font-weight: bold\">32</span>/<span style=\"color: #008080; text-decoration-color: #008080; font-weight: bold\">32</span>: <span style=\"font-weight: bold\">{</span><span style=\"color: #008000; text-decoration-color: #008000\">'model'</span>:                \n",
       "<span style=\"color: #008000; text-decoration-color: #008000\">'0-CategoryEmbeddingModelConfig'</span>, <span style=\"color: #008000; text-decoration-color: #008000\">'model_config__activation'</span>: <span style=\"color: #008000; text-decoration-color: #008000\">'LeakyReLU'</span>, <span style=\"color: #008000; text-decoration-color: #008000\">'model_config__embedding_dropout'</span>: <span style=\"color: #008080; text-decoration-color: #008080; font-weight: bold\">0.2</span>, \n",
       "<span style=\"color: #008000; text-decoration-color: #008000\">'model_config__layers'</span>: <span style=\"color: #008000; text-decoration-color: #008000\">'256-512-1024'</span>, <span style=\"color: #008000; text-decoration-color: #008000\">'optimizer_config__optimizer'</span>: <span style=\"color: #008000; text-decoration-color: #008000\">'SGD'</span>, <span style=\"color: #008000; text-decoration-color: #008000\">'loss_0'</span>: <span style=\"color: #008080; text-decoration-color: #008080; font-weight: bold\">0.5963451266288757</span>, <span style=\"color: #008000; text-decoration-color: #008000\">'loss'</span>:\n",
       "<span style=\"color: #008080; text-decoration-color: #008080; font-weight: bold\">0.5963451266288757</span>, <span style=\"color: #008000; text-decoration-color: #008000\">'accuracy'</span>: <span style=\"color: #008080; text-decoration-color: #008080; font-weight: bold\">0.7152317762374878</span>, <span style=\"color: #008000; text-decoration-color: #008000\">'trial_id'</span>: <span style=\"color: #008080; text-decoration-color: #008080; font-weight: bold\">31</span><span style=\"font-weight: bold\">}</span> | Score: <span style=\"color: #008080; text-decoration-color: #008080; font-weight: bold\">0.7152317762374878</span>                    \n",
       "</pre>\n"
      ],
      "text/plain": [
       "\u001b[1;36m2025\u001b[0m-\u001b[1;36m02\u001b[0m-\u001b[1;36m08\u001b[0m \u001b[1;92m16:12:47\u001b[0m,\u001b[1;36m480\u001b[0m - \u001b[1m{\u001b[0mpytorch_tabular.tabular_model_tuner:\u001b[1;36m412\u001b[0m\u001b[1m}\u001b[0m - INFO - Trial \u001b[1;36m32\u001b[0m/\u001b[1;36m32\u001b[0m: \u001b[1m{\u001b[0m\u001b[32m'model'\u001b[0m:                \n",
       "\u001b[32m'0-CategoryEmbeddingModelConfig'\u001b[0m, \u001b[32m'model_config__activation'\u001b[0m: \u001b[32m'LeakyReLU'\u001b[0m, \u001b[32m'model_config__embedding_dropout'\u001b[0m: \u001b[1;36m0.2\u001b[0m, \n",
       "\u001b[32m'model_config__layers'\u001b[0m: \u001b[32m'256-512-1024'\u001b[0m, \u001b[32m'optimizer_config__optimizer'\u001b[0m: \u001b[32m'SGD'\u001b[0m, \u001b[32m'loss_0'\u001b[0m: \u001b[1;36m0.5963451266288757\u001b[0m, \u001b[32m'loss'\u001b[0m:\n",
       "\u001b[1;36m0.5963451266288757\u001b[0m, \u001b[32m'accuracy'\u001b[0m: \u001b[1;36m0.7152317762374878\u001b[0m, \u001b[32m'trial_id'\u001b[0m: \u001b[1;36m31\u001b[0m\u001b[1m}\u001b[0m | Score: \u001b[1;36m0.7152317762374878\u001b[0m                    \n"
      ]
     },
     "metadata": {},
     "output_type": "display_data"
    },
    {
     "data": {
      "text/html": [
       "<pre style=\"white-space:pre;overflow-x:auto;line-height:normal;font-family:Menlo,'DejaVu Sans Mono',consolas,'Courier New',monospace\">/home/max/anaconda3/envs/tabular/lib/python3.10/site-packages/pytorch_tabular/tabular_model_tuner.py:281: \n",
       "UserWarning: n_trials is ignored for grid search to do a complete sweep of the grid. Set n_trials=None to turn off \n",
       "this warning.\n",
       "  warnings.warn(\n",
       "</pre>\n"
      ],
      "text/plain": [
       "/home/max/anaconda3/envs/tabular/lib/python3.10/site-packages/pytorch_tabular/tabular_model_tuner.py:281: \n",
       "UserWarning: n_trials is ignored for grid search to do a complete sweep of the grid. Set n_trials=None to turn off \n",
       "this warning.\n",
       "  warnings.warn(\n"
      ]
     },
     "metadata": {},
     "output_type": "display_data"
    },
    {
     "data": {
      "text/html": [
       "<pre style=\"white-space:pre;overflow-x:auto;line-height:normal;font-family:Menlo,'DejaVu Sans Mono',consolas,'Courier New',monospace\">/home/max/anaconda3/envs/tabular/lib/python3.10/site-packages/pytorch_lightning/callbacks/model_checkpoint.py:639: \n",
       "Checkpoint directory /home/max/Documents/PA/pytorch_tabular/machine_learning/saved_models exists and is not empty.\n",
       "</pre>\n"
      ],
      "text/plain": [
       "/home/max/anaconda3/envs/tabular/lib/python3.10/site-packages/pytorch_lightning/callbacks/model_checkpoint.py:639: \n",
       "Checkpoint directory /home/max/Documents/PA/pytorch_tabular/machine_learning/saved_models exists and is not empty.\n"
      ]
     },
     "metadata": {},
     "output_type": "display_data"
    },
    {
     "data": {
      "text/html": [
       "<pre style=\"white-space:pre;overflow-x:auto;line-height:normal;font-family:Menlo,'DejaVu Sans Mono',consolas,'Courier New',monospace\">/home/max/anaconda3/envs/tabular/lib/python3.10/site-packages/pytorch_lightning/loops/fit_loop.py:293: The number \n",
       "of training batches (22) is smaller than the logging interval Trainer(log_every_n_steps=50). Set a lower value for \n",
       "log_every_n_steps if you want to see logs for the training epoch.\n",
       "</pre>\n"
      ],
      "text/plain": [
       "/home/max/anaconda3/envs/tabular/lib/python3.10/site-packages/pytorch_lightning/loops/fit_loop.py:293: The number \n",
       "of training batches (22) is smaller than the logging interval Trainer(log_every_n_steps=50). Set a lower value for \n",
       "log_every_n_steps if you want to see logs for the training epoch.\n"
      ]
     },
     "metadata": {},
     "output_type": "display_data"
    },
    {
     "data": {
      "application/vnd.jupyter.widget-view+json": {
       "model_id": "9391401bb49d45e8b102d9ac7ca50291",
       "version_major": 2,
       "version_minor": 0
      },
      "text/plain": [
       "Finding best initial lr:   0%|          | 0/100 [00:00<?, ?it/s]"
      ]
     },
     "metadata": {},
     "output_type": "display_data"
    },
    {
     "data": {
      "text/html": [
       "<pre style=\"white-space:pre;overflow-x:auto;line-height:normal;font-family:Menlo,'DejaVu Sans Mono',consolas,'Courier New',monospace\"><span style=\"color: #008080; text-decoration-color: #008080; font-weight: bold\">2025</span>-<span style=\"color: #008080; text-decoration-color: #008080; font-weight: bold\">02</span>-<span style=\"color: #008080; text-decoration-color: #008080; font-weight: bold\">08</span> <span style=\"color: #00ff00; text-decoration-color: #00ff00; font-weight: bold\">16:13:00</span>,<span style=\"color: #008080; text-decoration-color: #008080; font-weight: bold\">430</span> - <span style=\"font-weight: bold\">{</span>pytorch_tabular.tabular_model_tuner:<span style=\"color: #008080; text-decoration-color: #008080; font-weight: bold\">412</span><span style=\"font-weight: bold\">}</span> - INFO - Trial <span style=\"color: #008080; text-decoration-color: #008080; font-weight: bold\">1</span>/<span style=\"color: #008080; text-decoration-color: #008080; font-weight: bold\">32</span>: <span style=\"font-weight: bold\">{</span><span style=\"color: #008000; text-decoration-color: #008000\">'model'</span>:                 \n",
       "<span style=\"color: #008000; text-decoration-color: #008000\">'1-AutoIntConfig'</span>, <span style=\"color: #008000; text-decoration-color: #008000\">'model_config__activation'</span>: <span style=\"color: #008000; text-decoration-color: #008000\">'ReLU'</span>, <span style=\"color: #008000; text-decoration-color: #008000\">'model_config__attn_embed_dim'</span>: <span style=\"color: #008000; text-decoration-color: #008000\">'32'</span>,                       \n",
       "<span style=\"color: #008000; text-decoration-color: #008000\">'model_config__embedding_dropout'</span>: <span style=\"color: #008080; text-decoration-color: #008080; font-weight: bold\">0.0</span>, <span style=\"color: #008000; text-decoration-color: #008000\">'model_config__layers'</span>: <span style=\"color: #008000; text-decoration-color: #008000\">'128-64-32'</span>, <span style=\"color: #008000; text-decoration-color: #008000\">'optimizer_config__optimizer'</span>: <span style=\"color: #008000; text-decoration-color: #008000\">'Adam'</span>,\n",
       "<span style=\"color: #008000; text-decoration-color: #008000\">'loss_0'</span>: <span style=\"color: #008080; text-decoration-color: #008080; font-weight: bold\">0.6073693633079529</span>, <span style=\"color: #008000; text-decoration-color: #008000\">'loss'</span>: <span style=\"color: #008080; text-decoration-color: #008080; font-weight: bold\">0.6073693633079529</span>, <span style=\"color: #008000; text-decoration-color: #008000\">'accuracy'</span>: <span style=\"color: #008080; text-decoration-color: #008080; font-weight: bold\">0.7218543291091919</span>, <span style=\"color: #008000; text-decoration-color: #008000\">'trial_id'</span>: <span style=\"color: #008080; text-decoration-color: #008080; font-weight: bold\">0</span><span style=\"font-weight: bold\">}</span> | Score:  \n",
       "<span style=\"color: #008080; text-decoration-color: #008080; font-weight: bold\">0.7218543291091919</span>                                                                                                 \n",
       "</pre>\n"
      ],
      "text/plain": [
       "\u001b[1;36m2025\u001b[0m-\u001b[1;36m02\u001b[0m-\u001b[1;36m08\u001b[0m \u001b[1;92m16:13:00\u001b[0m,\u001b[1;36m430\u001b[0m - \u001b[1m{\u001b[0mpytorch_tabular.tabular_model_tuner:\u001b[1;36m412\u001b[0m\u001b[1m}\u001b[0m - INFO - Trial \u001b[1;36m1\u001b[0m/\u001b[1;36m32\u001b[0m: \u001b[1m{\u001b[0m\u001b[32m'model'\u001b[0m:                 \n",
       "\u001b[32m'1-AutoIntConfig'\u001b[0m, \u001b[32m'model_config__activation'\u001b[0m: \u001b[32m'ReLU'\u001b[0m, \u001b[32m'model_config__attn_embed_dim'\u001b[0m: \u001b[32m'32'\u001b[0m,                       \n",
       "\u001b[32m'model_config__embedding_dropout'\u001b[0m: \u001b[1;36m0.0\u001b[0m, \u001b[32m'model_config__layers'\u001b[0m: \u001b[32m'128-64-32'\u001b[0m, \u001b[32m'optimizer_config__optimizer'\u001b[0m: \u001b[32m'Adam'\u001b[0m,\n",
       "\u001b[32m'loss_0'\u001b[0m: \u001b[1;36m0.6073693633079529\u001b[0m, \u001b[32m'loss'\u001b[0m: \u001b[1;36m0.6073693633079529\u001b[0m, \u001b[32m'accuracy'\u001b[0m: \u001b[1;36m0.7218543291091919\u001b[0m, \u001b[32m'trial_id'\u001b[0m: \u001b[1;36m0\u001b[0m\u001b[1m}\u001b[0m | Score:  \n",
       "\u001b[1;36m0.7218543291091919\u001b[0m                                                                                                 \n"
      ]
     },
     "metadata": {},
     "output_type": "display_data"
    },
    {
     "data": {
      "text/html": [
       "<pre style=\"white-space:pre;overflow-x:auto;line-height:normal;font-family:Menlo,'DejaVu Sans Mono',consolas,'Courier New',monospace\">/home/max/anaconda3/envs/tabular/lib/python3.10/site-packages/pytorch_lightning/callbacks/model_checkpoint.py:639: \n",
       "Checkpoint directory /home/max/Documents/PA/pytorch_tabular/machine_learning/saved_models exists and is not empty.\n",
       "</pre>\n"
      ],
      "text/plain": [
       "/home/max/anaconda3/envs/tabular/lib/python3.10/site-packages/pytorch_lightning/callbacks/model_checkpoint.py:639: \n",
       "Checkpoint directory /home/max/Documents/PA/pytorch_tabular/machine_learning/saved_models exists and is not empty.\n"
      ]
     },
     "metadata": {},
     "output_type": "display_data"
    },
    {
     "data": {
      "text/html": [
       "<pre style=\"white-space:pre;overflow-x:auto;line-height:normal;font-family:Menlo,'DejaVu Sans Mono',consolas,'Courier New',monospace\">/home/max/anaconda3/envs/tabular/lib/python3.10/site-packages/pytorch_lightning/loops/fit_loop.py:293: The number \n",
       "of training batches (22) is smaller than the logging interval Trainer(log_every_n_steps=50). Set a lower value for \n",
       "log_every_n_steps if you want to see logs for the training epoch.\n",
       "</pre>\n"
      ],
      "text/plain": [
       "/home/max/anaconda3/envs/tabular/lib/python3.10/site-packages/pytorch_lightning/loops/fit_loop.py:293: The number \n",
       "of training batches (22) is smaller than the logging interval Trainer(log_every_n_steps=50). Set a lower value for \n",
       "log_every_n_steps if you want to see logs for the training epoch.\n"
      ]
     },
     "metadata": {},
     "output_type": "display_data"
    },
    {
     "data": {
      "application/vnd.jupyter.widget-view+json": {
       "model_id": "877e3555e21f4708bd9e39f0ff88beb9",
       "version_major": 2,
       "version_minor": 0
      },
      "text/plain": [
       "Finding best initial lr:   0%|          | 0/100 [00:00<?, ?it/s]"
      ]
     },
     "metadata": {},
     "output_type": "display_data"
    },
    {
     "data": {
      "text/html": [
       "<pre style=\"white-space:pre;overflow-x:auto;line-height:normal;font-family:Menlo,'DejaVu Sans Mono',consolas,'Courier New',monospace\"><span style=\"color: #008080; text-decoration-color: #008080; font-weight: bold\">2025</span>-<span style=\"color: #008080; text-decoration-color: #008080; font-weight: bold\">02</span>-<span style=\"color: #008080; text-decoration-color: #008080; font-weight: bold\">08</span> <span style=\"color: #00ff00; text-decoration-color: #00ff00; font-weight: bold\">16:13:06</span>,<span style=\"color: #008080; text-decoration-color: #008080; font-weight: bold\">718</span> - <span style=\"font-weight: bold\">{</span>pytorch_tabular.tabular_model_tuner:<span style=\"color: #008080; text-decoration-color: #008080; font-weight: bold\">412</span><span style=\"font-weight: bold\">}</span> - INFO - Trial <span style=\"color: #008080; text-decoration-color: #008080; font-weight: bold\">2</span>/<span style=\"color: #008080; text-decoration-color: #008080; font-weight: bold\">32</span>: <span style=\"font-weight: bold\">{</span><span style=\"color: #008000; text-decoration-color: #008000\">'model'</span>:                 \n",
       "<span style=\"color: #008000; text-decoration-color: #008000\">'1-AutoIntConfig'</span>, <span style=\"color: #008000; text-decoration-color: #008000\">'model_config__activation'</span>: <span style=\"color: #008000; text-decoration-color: #008000\">'ReLU'</span>, <span style=\"color: #008000; text-decoration-color: #008000\">'model_config__attn_embed_dim'</span>: <span style=\"color: #008000; text-decoration-color: #008000\">'32'</span>,                       \n",
       "<span style=\"color: #008000; text-decoration-color: #008000\">'model_config__embedding_dropout'</span>: <span style=\"color: #008080; text-decoration-color: #008080; font-weight: bold\">0.0</span>, <span style=\"color: #008000; text-decoration-color: #008000\">'model_config__layers'</span>: <span style=\"color: #008000; text-decoration-color: #008000\">'128-64-32'</span>, <span style=\"color: #008000; text-decoration-color: #008000\">'optimizer_config__optimizer'</span>: <span style=\"color: #008000; text-decoration-color: #008000\">'SGD'</span>, \n",
       "<span style=\"color: #008000; text-decoration-color: #008000\">'loss_0'</span>: <span style=\"color: #008080; text-decoration-color: #008080; font-weight: bold\">0.6756930947303772</span>, <span style=\"color: #008000; text-decoration-color: #008000\">'loss'</span>: <span style=\"color: #008080; text-decoration-color: #008080; font-weight: bold\">0.6756930947303772</span>, <span style=\"color: #008000; text-decoration-color: #008000\">'accuracy'</span>: <span style=\"color: #008080; text-decoration-color: #008080; font-weight: bold\">0.5894039869308472</span>, <span style=\"color: #008000; text-decoration-color: #008000\">'trial_id'</span>: <span style=\"color: #008080; text-decoration-color: #008080; font-weight: bold\">1</span><span style=\"font-weight: bold\">}</span> | Score:  \n",
       "<span style=\"color: #008080; text-decoration-color: #008080; font-weight: bold\">0.5894039869308472</span>                                                                                                 \n",
       "</pre>\n"
      ],
      "text/plain": [
       "\u001b[1;36m2025\u001b[0m-\u001b[1;36m02\u001b[0m-\u001b[1;36m08\u001b[0m \u001b[1;92m16:13:06\u001b[0m,\u001b[1;36m718\u001b[0m - \u001b[1m{\u001b[0mpytorch_tabular.tabular_model_tuner:\u001b[1;36m412\u001b[0m\u001b[1m}\u001b[0m - INFO - Trial \u001b[1;36m2\u001b[0m/\u001b[1;36m32\u001b[0m: \u001b[1m{\u001b[0m\u001b[32m'model'\u001b[0m:                 \n",
       "\u001b[32m'1-AutoIntConfig'\u001b[0m, \u001b[32m'model_config__activation'\u001b[0m: \u001b[32m'ReLU'\u001b[0m, \u001b[32m'model_config__attn_embed_dim'\u001b[0m: \u001b[32m'32'\u001b[0m,                       \n",
       "\u001b[32m'model_config__embedding_dropout'\u001b[0m: \u001b[1;36m0.0\u001b[0m, \u001b[32m'model_config__layers'\u001b[0m: \u001b[32m'128-64-32'\u001b[0m, \u001b[32m'optimizer_config__optimizer'\u001b[0m: \u001b[32m'SGD'\u001b[0m, \n",
       "\u001b[32m'loss_0'\u001b[0m: \u001b[1;36m0.6756930947303772\u001b[0m, \u001b[32m'loss'\u001b[0m: \u001b[1;36m0.6756930947303772\u001b[0m, \u001b[32m'accuracy'\u001b[0m: \u001b[1;36m0.5894039869308472\u001b[0m, \u001b[32m'trial_id'\u001b[0m: \u001b[1;36m1\u001b[0m\u001b[1m}\u001b[0m | Score:  \n",
       "\u001b[1;36m0.5894039869308472\u001b[0m                                                                                                 \n"
      ]
     },
     "metadata": {},
     "output_type": "display_data"
    },
    {
     "data": {
      "text/html": [
       "<pre style=\"white-space:pre;overflow-x:auto;line-height:normal;font-family:Menlo,'DejaVu Sans Mono',consolas,'Courier New',monospace\">/home/max/anaconda3/envs/tabular/lib/python3.10/site-packages/pytorch_lightning/callbacks/model_checkpoint.py:639: \n",
       "Checkpoint directory /home/max/Documents/PA/pytorch_tabular/machine_learning/saved_models exists and is not empty.\n",
       "</pre>\n"
      ],
      "text/plain": [
       "/home/max/anaconda3/envs/tabular/lib/python3.10/site-packages/pytorch_lightning/callbacks/model_checkpoint.py:639: \n",
       "Checkpoint directory /home/max/Documents/PA/pytorch_tabular/machine_learning/saved_models exists and is not empty.\n"
      ]
     },
     "metadata": {},
     "output_type": "display_data"
    },
    {
     "data": {
      "text/html": [
       "<pre style=\"white-space:pre;overflow-x:auto;line-height:normal;font-family:Menlo,'DejaVu Sans Mono',consolas,'Courier New',monospace\">/home/max/anaconda3/envs/tabular/lib/python3.10/site-packages/pytorch_lightning/loops/fit_loop.py:293: The number \n",
       "of training batches (22) is smaller than the logging interval Trainer(log_every_n_steps=50). Set a lower value for \n",
       "log_every_n_steps if you want to see logs for the training epoch.\n",
       "</pre>\n"
      ],
      "text/plain": [
       "/home/max/anaconda3/envs/tabular/lib/python3.10/site-packages/pytorch_lightning/loops/fit_loop.py:293: The number \n",
       "of training batches (22) is smaller than the logging interval Trainer(log_every_n_steps=50). Set a lower value for \n",
       "log_every_n_steps if you want to see logs for the training epoch.\n"
      ]
     },
     "metadata": {},
     "output_type": "display_data"
    },
    {
     "data": {
      "application/vnd.jupyter.widget-view+json": {
       "model_id": "13387803d2c046778787cba27d0ec397",
       "version_major": 2,
       "version_minor": 0
      },
      "text/plain": [
       "Finding best initial lr:   0%|          | 0/100 [00:00<?, ?it/s]"
      ]
     },
     "metadata": {},
     "output_type": "display_data"
    },
    {
     "data": {
      "text/html": [
       "<pre style=\"white-space:pre;overflow-x:auto;line-height:normal;font-family:Menlo,'DejaVu Sans Mono',consolas,'Courier New',monospace\"><span style=\"color: #008080; text-decoration-color: #008080; font-weight: bold\">2025</span>-<span style=\"color: #008080; text-decoration-color: #008080; font-weight: bold\">02</span>-<span style=\"color: #008080; text-decoration-color: #008080; font-weight: bold\">08</span> <span style=\"color: #00ff00; text-decoration-color: #00ff00; font-weight: bold\">16:13:15</span>,<span style=\"color: #008080; text-decoration-color: #008080; font-weight: bold\">947</span> - <span style=\"font-weight: bold\">{</span>pytorch_tabular.tabular_model_tuner:<span style=\"color: #008080; text-decoration-color: #008080; font-weight: bold\">412</span><span style=\"font-weight: bold\">}</span> - INFO - Trial <span style=\"color: #008080; text-decoration-color: #008080; font-weight: bold\">3</span>/<span style=\"color: #008080; text-decoration-color: #008080; font-weight: bold\">32</span>: <span style=\"font-weight: bold\">{</span><span style=\"color: #008000; text-decoration-color: #008000\">'model'</span>:                 \n",
       "<span style=\"color: #008000; text-decoration-color: #008000\">'1-AutoIntConfig'</span>, <span style=\"color: #008000; text-decoration-color: #008000\">'model_config__activation'</span>: <span style=\"color: #008000; text-decoration-color: #008000\">'ReLU'</span>, <span style=\"color: #008000; text-decoration-color: #008000\">'model_config__attn_embed_dim'</span>: <span style=\"color: #008000; text-decoration-color: #008000\">'32'</span>,                       \n",
       "<span style=\"color: #008000; text-decoration-color: #008000\">'model_config__embedding_dropout'</span>: <span style=\"color: #008080; text-decoration-color: #008080; font-weight: bold\">0.0</span>, <span style=\"color: #008000; text-decoration-color: #008000\">'model_config__layers'</span>: <span style=\"color: #008000; text-decoration-color: #008000\">'1024-512-256'</span>, <span style=\"color: #008000; text-decoration-color: #008000\">'optimizer_config__optimizer'</span>:     \n",
       "<span style=\"color: #008000; text-decoration-color: #008000\">'Adam'</span>, <span style=\"color: #008000; text-decoration-color: #008000\">'loss_0'</span>: <span style=\"color: #008080; text-decoration-color: #008080; font-weight: bold\">0.6148048639297485</span>, <span style=\"color: #008000; text-decoration-color: #008000\">'loss'</span>: <span style=\"color: #008080; text-decoration-color: #008080; font-weight: bold\">0.6148048639297485</span>, <span style=\"color: #008000; text-decoration-color: #008000\">'accuracy'</span>: <span style=\"color: #008080; text-decoration-color: #008080; font-weight: bold\">0.7019867300987244</span>, <span style=\"color: #008000; text-decoration-color: #008000\">'trial_id'</span>: <span style=\"color: #008080; text-decoration-color: #008080; font-weight: bold\">2</span><span style=\"font-weight: bold\">}</span> | \n",
       "Score: <span style=\"color: #008080; text-decoration-color: #008080; font-weight: bold\">0.7019867300987244</span>                                                                                          \n",
       "</pre>\n"
      ],
      "text/plain": [
       "\u001b[1;36m2025\u001b[0m-\u001b[1;36m02\u001b[0m-\u001b[1;36m08\u001b[0m \u001b[1;92m16:13:15\u001b[0m,\u001b[1;36m947\u001b[0m - \u001b[1m{\u001b[0mpytorch_tabular.tabular_model_tuner:\u001b[1;36m412\u001b[0m\u001b[1m}\u001b[0m - INFO - Trial \u001b[1;36m3\u001b[0m/\u001b[1;36m32\u001b[0m: \u001b[1m{\u001b[0m\u001b[32m'model'\u001b[0m:                 \n",
       "\u001b[32m'1-AutoIntConfig'\u001b[0m, \u001b[32m'model_config__activation'\u001b[0m: \u001b[32m'ReLU'\u001b[0m, \u001b[32m'model_config__attn_embed_dim'\u001b[0m: \u001b[32m'32'\u001b[0m,                       \n",
       "\u001b[32m'model_config__embedding_dropout'\u001b[0m: \u001b[1;36m0.0\u001b[0m, \u001b[32m'model_config__layers'\u001b[0m: \u001b[32m'1024-512-256'\u001b[0m, \u001b[32m'optimizer_config__optimizer'\u001b[0m:     \n",
       "\u001b[32m'Adam'\u001b[0m, \u001b[32m'loss_0'\u001b[0m: \u001b[1;36m0.6148048639297485\u001b[0m, \u001b[32m'loss'\u001b[0m: \u001b[1;36m0.6148048639297485\u001b[0m, \u001b[32m'accuracy'\u001b[0m: \u001b[1;36m0.7019867300987244\u001b[0m, \u001b[32m'trial_id'\u001b[0m: \u001b[1;36m2\u001b[0m\u001b[1m}\u001b[0m | \n",
       "Score: \u001b[1;36m0.7019867300987244\u001b[0m                                                                                          \n"
      ]
     },
     "metadata": {},
     "output_type": "display_data"
    },
    {
     "data": {
      "text/html": [
       "<pre style=\"white-space:pre;overflow-x:auto;line-height:normal;font-family:Menlo,'DejaVu Sans Mono',consolas,'Courier New',monospace\">/home/max/anaconda3/envs/tabular/lib/python3.10/site-packages/pytorch_lightning/callbacks/model_checkpoint.py:639: \n",
       "Checkpoint directory /home/max/Documents/PA/pytorch_tabular/machine_learning/saved_models exists and is not empty.\n",
       "</pre>\n"
      ],
      "text/plain": [
       "/home/max/anaconda3/envs/tabular/lib/python3.10/site-packages/pytorch_lightning/callbacks/model_checkpoint.py:639: \n",
       "Checkpoint directory /home/max/Documents/PA/pytorch_tabular/machine_learning/saved_models exists and is not empty.\n"
      ]
     },
     "metadata": {},
     "output_type": "display_data"
    },
    {
     "data": {
      "text/html": [
       "<pre style=\"white-space:pre;overflow-x:auto;line-height:normal;font-family:Menlo,'DejaVu Sans Mono',consolas,'Courier New',monospace\">/home/max/anaconda3/envs/tabular/lib/python3.10/site-packages/pytorch_lightning/loops/fit_loop.py:293: The number \n",
       "of training batches (22) is smaller than the logging interval Trainer(log_every_n_steps=50). Set a lower value for \n",
       "log_every_n_steps if you want to see logs for the training epoch.\n",
       "</pre>\n"
      ],
      "text/plain": [
       "/home/max/anaconda3/envs/tabular/lib/python3.10/site-packages/pytorch_lightning/loops/fit_loop.py:293: The number \n",
       "of training batches (22) is smaller than the logging interval Trainer(log_every_n_steps=50). Set a lower value for \n",
       "log_every_n_steps if you want to see logs for the training epoch.\n"
      ]
     },
     "metadata": {},
     "output_type": "display_data"
    },
    {
     "data": {
      "application/vnd.jupyter.widget-view+json": {
       "model_id": "6b7bb985295f41a2b89771499c20ef13",
       "version_major": 2,
       "version_minor": 0
      },
      "text/plain": [
       "Finding best initial lr:   0%|          | 0/100 [00:00<?, ?it/s]"
      ]
     },
     "metadata": {},
     "output_type": "display_data"
    },
    {
     "data": {
      "text/html": [
       "<pre style=\"white-space:pre;overflow-x:auto;line-height:normal;font-family:Menlo,'DejaVu Sans Mono',consolas,'Courier New',monospace\"><span style=\"color: #008080; text-decoration-color: #008080; font-weight: bold\">2025</span>-<span style=\"color: #008080; text-decoration-color: #008080; font-weight: bold\">02</span>-<span style=\"color: #008080; text-decoration-color: #008080; font-weight: bold\">08</span> <span style=\"color: #00ff00; text-decoration-color: #00ff00; font-weight: bold\">16:13:23</span>,<span style=\"color: #008080; text-decoration-color: #008080; font-weight: bold\">391</span> - <span style=\"font-weight: bold\">{</span>pytorch_tabular.tabular_model_tuner:<span style=\"color: #008080; text-decoration-color: #008080; font-weight: bold\">412</span><span style=\"font-weight: bold\">}</span> - INFO - Trial <span style=\"color: #008080; text-decoration-color: #008080; font-weight: bold\">4</span>/<span style=\"color: #008080; text-decoration-color: #008080; font-weight: bold\">32</span>: <span style=\"font-weight: bold\">{</span><span style=\"color: #008000; text-decoration-color: #008000\">'model'</span>:                 \n",
       "<span style=\"color: #008000; text-decoration-color: #008000\">'1-AutoIntConfig'</span>, <span style=\"color: #008000; text-decoration-color: #008000\">'model_config__activation'</span>: <span style=\"color: #008000; text-decoration-color: #008000\">'ReLU'</span>, <span style=\"color: #008000; text-decoration-color: #008000\">'model_config__attn_embed_dim'</span>: <span style=\"color: #008000; text-decoration-color: #008000\">'32'</span>,                       \n",
       "<span style=\"color: #008000; text-decoration-color: #008000\">'model_config__embedding_dropout'</span>: <span style=\"color: #008080; text-decoration-color: #008080; font-weight: bold\">0.0</span>, <span style=\"color: #008000; text-decoration-color: #008000\">'model_config__layers'</span>: <span style=\"color: #008000; text-decoration-color: #008000\">'1024-512-256'</span>, <span style=\"color: #008000; text-decoration-color: #008000\">'optimizer_config__optimizer'</span>:     \n",
       "<span style=\"color: #008000; text-decoration-color: #008000\">'SGD'</span>, <span style=\"color: #008000; text-decoration-color: #008000\">'loss_0'</span>: <span style=\"color: #008080; text-decoration-color: #008080; font-weight: bold\">0.7165727615356445</span>, <span style=\"color: #008000; text-decoration-color: #008000\">'loss'</span>: <span style=\"color: #008080; text-decoration-color: #008080; font-weight: bold\">0.7165727615356445</span>, <span style=\"color: #008000; text-decoration-color: #008000\">'accuracy'</span>: <span style=\"color: #008080; text-decoration-color: #008080; font-weight: bold\">0.5</span>, <span style=\"color: #008000; text-decoration-color: #008000\">'trial_id'</span>: <span style=\"color: #008080; text-decoration-color: #008080; font-weight: bold\">3</span><span style=\"font-weight: bold\">}</span> | Score: <span style=\"color: #008080; text-decoration-color: #008080; font-weight: bold\">0.5</span>      \n",
       "</pre>\n"
      ],
      "text/plain": [
       "\u001b[1;36m2025\u001b[0m-\u001b[1;36m02\u001b[0m-\u001b[1;36m08\u001b[0m \u001b[1;92m16:13:23\u001b[0m,\u001b[1;36m391\u001b[0m - \u001b[1m{\u001b[0mpytorch_tabular.tabular_model_tuner:\u001b[1;36m412\u001b[0m\u001b[1m}\u001b[0m - INFO - Trial \u001b[1;36m4\u001b[0m/\u001b[1;36m32\u001b[0m: \u001b[1m{\u001b[0m\u001b[32m'model'\u001b[0m:                 \n",
       "\u001b[32m'1-AutoIntConfig'\u001b[0m, \u001b[32m'model_config__activation'\u001b[0m: \u001b[32m'ReLU'\u001b[0m, \u001b[32m'model_config__attn_embed_dim'\u001b[0m: \u001b[32m'32'\u001b[0m,                       \n",
       "\u001b[32m'model_config__embedding_dropout'\u001b[0m: \u001b[1;36m0.0\u001b[0m, \u001b[32m'model_config__layers'\u001b[0m: \u001b[32m'1024-512-256'\u001b[0m, \u001b[32m'optimizer_config__optimizer'\u001b[0m:     \n",
       "\u001b[32m'SGD'\u001b[0m, \u001b[32m'loss_0'\u001b[0m: \u001b[1;36m0.7165727615356445\u001b[0m, \u001b[32m'loss'\u001b[0m: \u001b[1;36m0.7165727615356445\u001b[0m, \u001b[32m'accuracy'\u001b[0m: \u001b[1;36m0.5\u001b[0m, \u001b[32m'trial_id'\u001b[0m: \u001b[1;36m3\u001b[0m\u001b[1m}\u001b[0m | Score: \u001b[1;36m0.5\u001b[0m      \n"
      ]
     },
     "metadata": {},
     "output_type": "display_data"
    },
    {
     "data": {
      "text/html": [
       "<pre style=\"white-space:pre;overflow-x:auto;line-height:normal;font-family:Menlo,'DejaVu Sans Mono',consolas,'Courier New',monospace\">/home/max/anaconda3/envs/tabular/lib/python3.10/site-packages/pytorch_lightning/callbacks/model_checkpoint.py:639: \n",
       "Checkpoint directory /home/max/Documents/PA/pytorch_tabular/machine_learning/saved_models exists and is not empty.\n",
       "</pre>\n"
      ],
      "text/plain": [
       "/home/max/anaconda3/envs/tabular/lib/python3.10/site-packages/pytorch_lightning/callbacks/model_checkpoint.py:639: \n",
       "Checkpoint directory /home/max/Documents/PA/pytorch_tabular/machine_learning/saved_models exists and is not empty.\n"
      ]
     },
     "metadata": {},
     "output_type": "display_data"
    },
    {
     "data": {
      "text/html": [
       "<pre style=\"white-space:pre;overflow-x:auto;line-height:normal;font-family:Menlo,'DejaVu Sans Mono',consolas,'Courier New',monospace\">/home/max/anaconda3/envs/tabular/lib/python3.10/site-packages/pytorch_lightning/loops/fit_loop.py:293: The number \n",
       "of training batches (22) is smaller than the logging interval Trainer(log_every_n_steps=50). Set a lower value for \n",
       "log_every_n_steps if you want to see logs for the training epoch.\n",
       "</pre>\n"
      ],
      "text/plain": [
       "/home/max/anaconda3/envs/tabular/lib/python3.10/site-packages/pytorch_lightning/loops/fit_loop.py:293: The number \n",
       "of training batches (22) is smaller than the logging interval Trainer(log_every_n_steps=50). Set a lower value for \n",
       "log_every_n_steps if you want to see logs for the training epoch.\n"
      ]
     },
     "metadata": {},
     "output_type": "display_data"
    },
    {
     "data": {
      "application/vnd.jupyter.widget-view+json": {
       "model_id": "e611ee5fc9cc4f399b1b49359bd1ea81",
       "version_major": 2,
       "version_minor": 0
      },
      "text/plain": [
       "Finding best initial lr:   0%|          | 0/100 [00:00<?, ?it/s]"
      ]
     },
     "metadata": {},
     "output_type": "display_data"
    },
    {
     "data": {
      "text/html": [
       "<pre style=\"white-space:pre;overflow-x:auto;line-height:normal;font-family:Menlo,'DejaVu Sans Mono',consolas,'Courier New',monospace\"><span style=\"color: #008080; text-decoration-color: #008080; font-weight: bold\">2025</span>-<span style=\"color: #008080; text-decoration-color: #008080; font-weight: bold\">02</span>-<span style=\"color: #008080; text-decoration-color: #008080; font-weight: bold\">08</span> <span style=\"color: #00ff00; text-decoration-color: #00ff00; font-weight: bold\">16:13:29</span>,<span style=\"color: #008080; text-decoration-color: #008080; font-weight: bold\">688</span> - <span style=\"font-weight: bold\">{</span>pytorch_tabular.tabular_model_tuner:<span style=\"color: #008080; text-decoration-color: #008080; font-weight: bold\">412</span><span style=\"font-weight: bold\">}</span> - INFO - Trial <span style=\"color: #008080; text-decoration-color: #008080; font-weight: bold\">5</span>/<span style=\"color: #008080; text-decoration-color: #008080; font-weight: bold\">32</span>: <span style=\"font-weight: bold\">{</span><span style=\"color: #008000; text-decoration-color: #008000\">'model'</span>:                 \n",
       "<span style=\"color: #008000; text-decoration-color: #008000\">'1-AutoIntConfig'</span>, <span style=\"color: #008000; text-decoration-color: #008000\">'model_config__activation'</span>: <span style=\"color: #008000; text-decoration-color: #008000\">'ReLU'</span>, <span style=\"color: #008000; text-decoration-color: #008000\">'model_config__attn_embed_dim'</span>: <span style=\"color: #008000; text-decoration-color: #008000\">'32'</span>,                       \n",
       "<span style=\"color: #008000; text-decoration-color: #008000\">'model_config__embedding_dropout'</span>: <span style=\"color: #008080; text-decoration-color: #008080; font-weight: bold\">0.2</span>, <span style=\"color: #008000; text-decoration-color: #008000\">'model_config__layers'</span>: <span style=\"color: #008000; text-decoration-color: #008000\">'128-64-32'</span>, <span style=\"color: #008000; text-decoration-color: #008000\">'optimizer_config__optimizer'</span>: <span style=\"color: #008000; text-decoration-color: #008000\">'Adam'</span>,\n",
       "<span style=\"color: #008000; text-decoration-color: #008000\">'loss_0'</span>: <span style=\"color: #008080; text-decoration-color: #008080; font-weight: bold\">0.7305769324302673</span>, <span style=\"color: #008000; text-decoration-color: #008000\">'loss'</span>: <span style=\"color: #008080; text-decoration-color: #008080; font-weight: bold\">0.7305769324302673</span>, <span style=\"color: #008000; text-decoration-color: #008000\">'accuracy'</span>: <span style=\"color: #008080; text-decoration-color: #008080; font-weight: bold\">0.5894039869308472</span>, <span style=\"color: #008000; text-decoration-color: #008000\">'trial_id'</span>: <span style=\"color: #008080; text-decoration-color: #008080; font-weight: bold\">4</span><span style=\"font-weight: bold\">}</span> | Score:  \n",
       "<span style=\"color: #008080; text-decoration-color: #008080; font-weight: bold\">0.5894039869308472</span>                                                                                                 \n",
       "</pre>\n"
      ],
      "text/plain": [
       "\u001b[1;36m2025\u001b[0m-\u001b[1;36m02\u001b[0m-\u001b[1;36m08\u001b[0m \u001b[1;92m16:13:29\u001b[0m,\u001b[1;36m688\u001b[0m - \u001b[1m{\u001b[0mpytorch_tabular.tabular_model_tuner:\u001b[1;36m412\u001b[0m\u001b[1m}\u001b[0m - INFO - Trial \u001b[1;36m5\u001b[0m/\u001b[1;36m32\u001b[0m: \u001b[1m{\u001b[0m\u001b[32m'model'\u001b[0m:                 \n",
       "\u001b[32m'1-AutoIntConfig'\u001b[0m, \u001b[32m'model_config__activation'\u001b[0m: \u001b[32m'ReLU'\u001b[0m, \u001b[32m'model_config__attn_embed_dim'\u001b[0m: \u001b[32m'32'\u001b[0m,                       \n",
       "\u001b[32m'model_config__embedding_dropout'\u001b[0m: \u001b[1;36m0.2\u001b[0m, \u001b[32m'model_config__layers'\u001b[0m: \u001b[32m'128-64-32'\u001b[0m, \u001b[32m'optimizer_config__optimizer'\u001b[0m: \u001b[32m'Adam'\u001b[0m,\n",
       "\u001b[32m'loss_0'\u001b[0m: \u001b[1;36m0.7305769324302673\u001b[0m, \u001b[32m'loss'\u001b[0m: \u001b[1;36m0.7305769324302673\u001b[0m, \u001b[32m'accuracy'\u001b[0m: \u001b[1;36m0.5894039869308472\u001b[0m, \u001b[32m'trial_id'\u001b[0m: \u001b[1;36m4\u001b[0m\u001b[1m}\u001b[0m | Score:  \n",
       "\u001b[1;36m0.5894039869308472\u001b[0m                                                                                                 \n"
      ]
     },
     "metadata": {},
     "output_type": "display_data"
    },
    {
     "data": {
      "text/html": [
       "<pre style=\"white-space:pre;overflow-x:auto;line-height:normal;font-family:Menlo,'DejaVu Sans Mono',consolas,'Courier New',monospace\">/home/max/anaconda3/envs/tabular/lib/python3.10/site-packages/pytorch_lightning/callbacks/model_checkpoint.py:639: \n",
       "Checkpoint directory /home/max/Documents/PA/pytorch_tabular/machine_learning/saved_models exists and is not empty.\n",
       "</pre>\n"
      ],
      "text/plain": [
       "/home/max/anaconda3/envs/tabular/lib/python3.10/site-packages/pytorch_lightning/callbacks/model_checkpoint.py:639: \n",
       "Checkpoint directory /home/max/Documents/PA/pytorch_tabular/machine_learning/saved_models exists and is not empty.\n"
      ]
     },
     "metadata": {},
     "output_type": "display_data"
    },
    {
     "data": {
      "text/html": [
       "<pre style=\"white-space:pre;overflow-x:auto;line-height:normal;font-family:Menlo,'DejaVu Sans Mono',consolas,'Courier New',monospace\">/home/max/anaconda3/envs/tabular/lib/python3.10/site-packages/pytorch_lightning/loops/fit_loop.py:293: The number \n",
       "of training batches (22) is smaller than the logging interval Trainer(log_every_n_steps=50). Set a lower value for \n",
       "log_every_n_steps if you want to see logs for the training epoch.\n",
       "</pre>\n"
      ],
      "text/plain": [
       "/home/max/anaconda3/envs/tabular/lib/python3.10/site-packages/pytorch_lightning/loops/fit_loop.py:293: The number \n",
       "of training batches (22) is smaller than the logging interval Trainer(log_every_n_steps=50). Set a lower value for \n",
       "log_every_n_steps if you want to see logs for the training epoch.\n"
      ]
     },
     "metadata": {},
     "output_type": "display_data"
    },
    {
     "data": {
      "application/vnd.jupyter.widget-view+json": {
       "model_id": "3905a34bba9b4074af60bf6b037262c0",
       "version_major": 2,
       "version_minor": 0
      },
      "text/plain": [
       "Finding best initial lr:   0%|          | 0/100 [00:00<?, ?it/s]"
      ]
     },
     "metadata": {},
     "output_type": "display_data"
    },
    {
     "data": {
      "text/html": [
       "<pre style=\"white-space:pre;overflow-x:auto;line-height:normal;font-family:Menlo,'DejaVu Sans Mono',consolas,'Courier New',monospace\"><span style=\"color: #008080; text-decoration-color: #008080; font-weight: bold\">2025</span>-<span style=\"color: #008080; text-decoration-color: #008080; font-weight: bold\">02</span>-<span style=\"color: #008080; text-decoration-color: #008080; font-weight: bold\">08</span> <span style=\"color: #00ff00; text-decoration-color: #00ff00; font-weight: bold\">16:13:36</span>,<span style=\"color: #008080; text-decoration-color: #008080; font-weight: bold\">861</span> - <span style=\"font-weight: bold\">{</span>pytorch_tabular.tabular_model_tuner:<span style=\"color: #008080; text-decoration-color: #008080; font-weight: bold\">412</span><span style=\"font-weight: bold\">}</span> - INFO - Trial <span style=\"color: #008080; text-decoration-color: #008080; font-weight: bold\">6</span>/<span style=\"color: #008080; text-decoration-color: #008080; font-weight: bold\">32</span>: <span style=\"font-weight: bold\">{</span><span style=\"color: #008000; text-decoration-color: #008000\">'model'</span>:                 \n",
       "<span style=\"color: #008000; text-decoration-color: #008000\">'1-AutoIntConfig'</span>, <span style=\"color: #008000; text-decoration-color: #008000\">'model_config__activation'</span>: <span style=\"color: #008000; text-decoration-color: #008000\">'ReLU'</span>, <span style=\"color: #008000; text-decoration-color: #008000\">'model_config__attn_embed_dim'</span>: <span style=\"color: #008000; text-decoration-color: #008000\">'32'</span>,                       \n",
       "<span style=\"color: #008000; text-decoration-color: #008000\">'model_config__embedding_dropout'</span>: <span style=\"color: #008080; text-decoration-color: #008080; font-weight: bold\">0.2</span>, <span style=\"color: #008000; text-decoration-color: #008000\">'model_config__layers'</span>: <span style=\"color: #008000; text-decoration-color: #008000\">'128-64-32'</span>, <span style=\"color: #008000; text-decoration-color: #008000\">'optimizer_config__optimizer'</span>: <span style=\"color: #008000; text-decoration-color: #008000\">'SGD'</span>, \n",
       "<span style=\"color: #008000; text-decoration-color: #008000\">'loss_0'</span>: <span style=\"color: #008080; text-decoration-color: #008080; font-weight: bold\">0.6713892221450806</span>, <span style=\"color: #008000; text-decoration-color: #008000\">'loss'</span>: <span style=\"color: #008080; text-decoration-color: #008080; font-weight: bold\">0.6713892221450806</span>, <span style=\"color: #008000; text-decoration-color: #008000\">'accuracy'</span>: <span style=\"color: #008080; text-decoration-color: #008080; font-weight: bold\">0.6324503421783447</span>, <span style=\"color: #008000; text-decoration-color: #008000\">'trial_id'</span>: <span style=\"color: #008080; text-decoration-color: #008080; font-weight: bold\">5</span><span style=\"font-weight: bold\">}</span> | Score:  \n",
       "<span style=\"color: #008080; text-decoration-color: #008080; font-weight: bold\">0.6324503421783447</span>                                                                                                 \n",
       "</pre>\n"
      ],
      "text/plain": [
       "\u001b[1;36m2025\u001b[0m-\u001b[1;36m02\u001b[0m-\u001b[1;36m08\u001b[0m \u001b[1;92m16:13:36\u001b[0m,\u001b[1;36m861\u001b[0m - \u001b[1m{\u001b[0mpytorch_tabular.tabular_model_tuner:\u001b[1;36m412\u001b[0m\u001b[1m}\u001b[0m - INFO - Trial \u001b[1;36m6\u001b[0m/\u001b[1;36m32\u001b[0m: \u001b[1m{\u001b[0m\u001b[32m'model'\u001b[0m:                 \n",
       "\u001b[32m'1-AutoIntConfig'\u001b[0m, \u001b[32m'model_config__activation'\u001b[0m: \u001b[32m'ReLU'\u001b[0m, \u001b[32m'model_config__attn_embed_dim'\u001b[0m: \u001b[32m'32'\u001b[0m,                       \n",
       "\u001b[32m'model_config__embedding_dropout'\u001b[0m: \u001b[1;36m0.2\u001b[0m, \u001b[32m'model_config__layers'\u001b[0m: \u001b[32m'128-64-32'\u001b[0m, \u001b[32m'optimizer_config__optimizer'\u001b[0m: \u001b[32m'SGD'\u001b[0m, \n",
       "\u001b[32m'loss_0'\u001b[0m: \u001b[1;36m0.6713892221450806\u001b[0m, \u001b[32m'loss'\u001b[0m: \u001b[1;36m0.6713892221450806\u001b[0m, \u001b[32m'accuracy'\u001b[0m: \u001b[1;36m0.6324503421783447\u001b[0m, \u001b[32m'trial_id'\u001b[0m: \u001b[1;36m5\u001b[0m\u001b[1m}\u001b[0m | Score:  \n",
       "\u001b[1;36m0.6324503421783447\u001b[0m                                                                                                 \n"
      ]
     },
     "metadata": {},
     "output_type": "display_data"
    },
    {
     "data": {
      "text/html": [
       "<pre style=\"white-space:pre;overflow-x:auto;line-height:normal;font-family:Menlo,'DejaVu Sans Mono',consolas,'Courier New',monospace\">/home/max/anaconda3/envs/tabular/lib/python3.10/site-packages/pytorch_lightning/callbacks/model_checkpoint.py:639: \n",
       "Checkpoint directory /home/max/Documents/PA/pytorch_tabular/machine_learning/saved_models exists and is not empty.\n",
       "</pre>\n"
      ],
      "text/plain": [
       "/home/max/anaconda3/envs/tabular/lib/python3.10/site-packages/pytorch_lightning/callbacks/model_checkpoint.py:639: \n",
       "Checkpoint directory /home/max/Documents/PA/pytorch_tabular/machine_learning/saved_models exists and is not empty.\n"
      ]
     },
     "metadata": {},
     "output_type": "display_data"
    },
    {
     "data": {
      "text/html": [
       "<pre style=\"white-space:pre;overflow-x:auto;line-height:normal;font-family:Menlo,'DejaVu Sans Mono',consolas,'Courier New',monospace\">/home/max/anaconda3/envs/tabular/lib/python3.10/site-packages/pytorch_lightning/loops/fit_loop.py:293: The number \n",
       "of training batches (22) is smaller than the logging interval Trainer(log_every_n_steps=50). Set a lower value for \n",
       "log_every_n_steps if you want to see logs for the training epoch.\n",
       "</pre>\n"
      ],
      "text/plain": [
       "/home/max/anaconda3/envs/tabular/lib/python3.10/site-packages/pytorch_lightning/loops/fit_loop.py:293: The number \n",
       "of training batches (22) is smaller than the logging interval Trainer(log_every_n_steps=50). Set a lower value for \n",
       "log_every_n_steps if you want to see logs for the training epoch.\n"
      ]
     },
     "metadata": {},
     "output_type": "display_data"
    },
    {
     "data": {
      "application/vnd.jupyter.widget-view+json": {
       "model_id": "029745c312c8465fa65d2d29ce88b6b2",
       "version_major": 2,
       "version_minor": 0
      },
      "text/plain": [
       "Finding best initial lr:   0%|          | 0/100 [00:00<?, ?it/s]"
      ]
     },
     "metadata": {},
     "output_type": "display_data"
    },
    {
     "data": {
      "text/html": [
       "<pre style=\"white-space:pre;overflow-x:auto;line-height:normal;font-family:Menlo,'DejaVu Sans Mono',consolas,'Courier New',monospace\"><span style=\"color: #008080; text-decoration-color: #008080; font-weight: bold\">2025</span>-<span style=\"color: #008080; text-decoration-color: #008080; font-weight: bold\">02</span>-<span style=\"color: #008080; text-decoration-color: #008080; font-weight: bold\">08</span> <span style=\"color: #00ff00; text-decoration-color: #00ff00; font-weight: bold\">16:13:43</span>,<span style=\"color: #008080; text-decoration-color: #008080; font-weight: bold\">677</span> - <span style=\"font-weight: bold\">{</span>pytorch_tabular.tabular_model_tuner:<span style=\"color: #008080; text-decoration-color: #008080; font-weight: bold\">412</span><span style=\"font-weight: bold\">}</span> - INFO - Trial <span style=\"color: #008080; text-decoration-color: #008080; font-weight: bold\">7</span>/<span style=\"color: #008080; text-decoration-color: #008080; font-weight: bold\">32</span>: <span style=\"font-weight: bold\">{</span><span style=\"color: #008000; text-decoration-color: #008000\">'model'</span>:                 \n",
       "<span style=\"color: #008000; text-decoration-color: #008000\">'1-AutoIntConfig'</span>, <span style=\"color: #008000; text-decoration-color: #008000\">'model_config__activation'</span>: <span style=\"color: #008000; text-decoration-color: #008000\">'ReLU'</span>, <span style=\"color: #008000; text-decoration-color: #008000\">'model_config__attn_embed_dim'</span>: <span style=\"color: #008000; text-decoration-color: #008000\">'32'</span>,                       \n",
       "<span style=\"color: #008000; text-decoration-color: #008000\">'model_config__embedding_dropout'</span>: <span style=\"color: #008080; text-decoration-color: #008080; font-weight: bold\">0.2</span>, <span style=\"color: #008000; text-decoration-color: #008000\">'model_config__layers'</span>: <span style=\"color: #008000; text-decoration-color: #008000\">'1024-512-256'</span>, <span style=\"color: #008000; text-decoration-color: #008000\">'optimizer_config__optimizer'</span>:     \n",
       "<span style=\"color: #008000; text-decoration-color: #008000\">'Adam'</span>, <span style=\"color: #008000; text-decoration-color: #008000\">'loss_0'</span>: <span style=\"color: #008080; text-decoration-color: #008080; font-weight: bold\">0.6907515525817871</span>, <span style=\"color: #008000; text-decoration-color: #008000\">'loss'</span>: <span style=\"color: #008080; text-decoration-color: #008080; font-weight: bold\">0.6907515525817871</span>, <span style=\"color: #008000; text-decoration-color: #008000\">'accuracy'</span>: <span style=\"color: #008080; text-decoration-color: #008080; font-weight: bold\">0.5894039869308472</span>, <span style=\"color: #008000; text-decoration-color: #008000\">'trial_id'</span>: <span style=\"color: #008080; text-decoration-color: #008080; font-weight: bold\">6</span><span style=\"font-weight: bold\">}</span> | \n",
       "Score: <span style=\"color: #008080; text-decoration-color: #008080; font-weight: bold\">0.5894039869308472</span>                                                                                          \n",
       "</pre>\n"
      ],
      "text/plain": [
       "\u001b[1;36m2025\u001b[0m-\u001b[1;36m02\u001b[0m-\u001b[1;36m08\u001b[0m \u001b[1;92m16:13:43\u001b[0m,\u001b[1;36m677\u001b[0m - \u001b[1m{\u001b[0mpytorch_tabular.tabular_model_tuner:\u001b[1;36m412\u001b[0m\u001b[1m}\u001b[0m - INFO - Trial \u001b[1;36m7\u001b[0m/\u001b[1;36m32\u001b[0m: \u001b[1m{\u001b[0m\u001b[32m'model'\u001b[0m:                 \n",
       "\u001b[32m'1-AutoIntConfig'\u001b[0m, \u001b[32m'model_config__activation'\u001b[0m: \u001b[32m'ReLU'\u001b[0m, \u001b[32m'model_config__attn_embed_dim'\u001b[0m: \u001b[32m'32'\u001b[0m,                       \n",
       "\u001b[32m'model_config__embedding_dropout'\u001b[0m: \u001b[1;36m0.2\u001b[0m, \u001b[32m'model_config__layers'\u001b[0m: \u001b[32m'1024-512-256'\u001b[0m, \u001b[32m'optimizer_config__optimizer'\u001b[0m:     \n",
       "\u001b[32m'Adam'\u001b[0m, \u001b[32m'loss_0'\u001b[0m: \u001b[1;36m0.6907515525817871\u001b[0m, \u001b[32m'loss'\u001b[0m: \u001b[1;36m0.6907515525817871\u001b[0m, \u001b[32m'accuracy'\u001b[0m: \u001b[1;36m0.5894039869308472\u001b[0m, \u001b[32m'trial_id'\u001b[0m: \u001b[1;36m6\u001b[0m\u001b[1m}\u001b[0m | \n",
       "Score: \u001b[1;36m0.5894039869308472\u001b[0m                                                                                          \n"
      ]
     },
     "metadata": {},
     "output_type": "display_data"
    },
    {
     "data": {
      "text/html": [
       "<pre style=\"white-space:pre;overflow-x:auto;line-height:normal;font-family:Menlo,'DejaVu Sans Mono',consolas,'Courier New',monospace\">/home/max/anaconda3/envs/tabular/lib/python3.10/site-packages/pytorch_lightning/callbacks/model_checkpoint.py:639: \n",
       "Checkpoint directory /home/max/Documents/PA/pytorch_tabular/machine_learning/saved_models exists and is not empty.\n",
       "</pre>\n"
      ],
      "text/plain": [
       "/home/max/anaconda3/envs/tabular/lib/python3.10/site-packages/pytorch_lightning/callbacks/model_checkpoint.py:639: \n",
       "Checkpoint directory /home/max/Documents/PA/pytorch_tabular/machine_learning/saved_models exists and is not empty.\n"
      ]
     },
     "metadata": {},
     "output_type": "display_data"
    },
    {
     "data": {
      "text/html": [
       "<pre style=\"white-space:pre;overflow-x:auto;line-height:normal;font-family:Menlo,'DejaVu Sans Mono',consolas,'Courier New',monospace\">/home/max/anaconda3/envs/tabular/lib/python3.10/site-packages/pytorch_lightning/loops/fit_loop.py:293: The number \n",
       "of training batches (22) is smaller than the logging interval Trainer(log_every_n_steps=50). Set a lower value for \n",
       "log_every_n_steps if you want to see logs for the training epoch.\n",
       "</pre>\n"
      ],
      "text/plain": [
       "/home/max/anaconda3/envs/tabular/lib/python3.10/site-packages/pytorch_lightning/loops/fit_loop.py:293: The number \n",
       "of training batches (22) is smaller than the logging interval Trainer(log_every_n_steps=50). Set a lower value for \n",
       "log_every_n_steps if you want to see logs for the training epoch.\n"
      ]
     },
     "metadata": {},
     "output_type": "display_data"
    },
    {
     "data": {
      "application/vnd.jupyter.widget-view+json": {
       "model_id": "dc1b2e8fd84e4e35af71374160efa7e2",
       "version_major": 2,
       "version_minor": 0
      },
      "text/plain": [
       "Finding best initial lr:   0%|          | 0/100 [00:00<?, ?it/s]"
      ]
     },
     "metadata": {},
     "output_type": "display_data"
    },
    {
     "data": {
      "text/html": [
       "<pre style=\"white-space:pre;overflow-x:auto;line-height:normal;font-family:Menlo,'DejaVu Sans Mono',consolas,'Courier New',monospace\"><span style=\"color: #008080; text-decoration-color: #008080; font-weight: bold\">2025</span>-<span style=\"color: #008080; text-decoration-color: #008080; font-weight: bold\">02</span>-<span style=\"color: #008080; text-decoration-color: #008080; font-weight: bold\">08</span> <span style=\"color: #00ff00; text-decoration-color: #00ff00; font-weight: bold\">16:13:51</span>,<span style=\"color: #008080; text-decoration-color: #008080; font-weight: bold\">873</span> - <span style=\"font-weight: bold\">{</span>pytorch_tabular.tabular_model_tuner:<span style=\"color: #008080; text-decoration-color: #008080; font-weight: bold\">412</span><span style=\"font-weight: bold\">}</span> - INFO - Trial <span style=\"color: #008080; text-decoration-color: #008080; font-weight: bold\">8</span>/<span style=\"color: #008080; text-decoration-color: #008080; font-weight: bold\">32</span>: <span style=\"font-weight: bold\">{</span><span style=\"color: #008000; text-decoration-color: #008000\">'model'</span>:                 \n",
       "<span style=\"color: #008000; text-decoration-color: #008000\">'1-AutoIntConfig'</span>, <span style=\"color: #008000; text-decoration-color: #008000\">'model_config__activation'</span>: <span style=\"color: #008000; text-decoration-color: #008000\">'ReLU'</span>, <span style=\"color: #008000; text-decoration-color: #008000\">'model_config__attn_embed_dim'</span>: <span style=\"color: #008000; text-decoration-color: #008000\">'32'</span>,                       \n",
       "<span style=\"color: #008000; text-decoration-color: #008000\">'model_config__embedding_dropout'</span>: <span style=\"color: #008080; text-decoration-color: #008080; font-weight: bold\">0.2</span>, <span style=\"color: #008000; text-decoration-color: #008000\">'model_config__layers'</span>: <span style=\"color: #008000; text-decoration-color: #008000\">'1024-512-256'</span>, <span style=\"color: #008000; text-decoration-color: #008000\">'optimizer_config__optimizer'</span>:     \n",
       "<span style=\"color: #008000; text-decoration-color: #008000\">'SGD'</span>, <span style=\"color: #008000; text-decoration-color: #008000\">'loss_0'</span>: <span style=\"color: #008080; text-decoration-color: #008080; font-weight: bold\">0.6628140807151794</span>, <span style=\"color: #008000; text-decoration-color: #008000\">'loss'</span>: <span style=\"color: #008080; text-decoration-color: #008080; font-weight: bold\">0.6628140807151794</span>, <span style=\"color: #008000; text-decoration-color: #008000\">'accuracy'</span>: <span style=\"color: #008080; text-decoration-color: #008080; font-weight: bold\">0.6357616186141968</span>, <span style=\"color: #008000; text-decoration-color: #008000\">'trial_id'</span>: <span style=\"color: #008080; text-decoration-color: #008080; font-weight: bold\">7</span><span style=\"font-weight: bold\">}</span> |  \n",
       "Score: <span style=\"color: #008080; text-decoration-color: #008080; font-weight: bold\">0.6357616186141968</span>                                                                                          \n",
       "</pre>\n"
      ],
      "text/plain": [
       "\u001b[1;36m2025\u001b[0m-\u001b[1;36m02\u001b[0m-\u001b[1;36m08\u001b[0m \u001b[1;92m16:13:51\u001b[0m,\u001b[1;36m873\u001b[0m - \u001b[1m{\u001b[0mpytorch_tabular.tabular_model_tuner:\u001b[1;36m412\u001b[0m\u001b[1m}\u001b[0m - INFO - Trial \u001b[1;36m8\u001b[0m/\u001b[1;36m32\u001b[0m: \u001b[1m{\u001b[0m\u001b[32m'model'\u001b[0m:                 \n",
       "\u001b[32m'1-AutoIntConfig'\u001b[0m, \u001b[32m'model_config__activation'\u001b[0m: \u001b[32m'ReLU'\u001b[0m, \u001b[32m'model_config__attn_embed_dim'\u001b[0m: \u001b[32m'32'\u001b[0m,                       \n",
       "\u001b[32m'model_config__embedding_dropout'\u001b[0m: \u001b[1;36m0.2\u001b[0m, \u001b[32m'model_config__layers'\u001b[0m: \u001b[32m'1024-512-256'\u001b[0m, \u001b[32m'optimizer_config__optimizer'\u001b[0m:     \n",
       "\u001b[32m'SGD'\u001b[0m, \u001b[32m'loss_0'\u001b[0m: \u001b[1;36m0.6628140807151794\u001b[0m, \u001b[32m'loss'\u001b[0m: \u001b[1;36m0.6628140807151794\u001b[0m, \u001b[32m'accuracy'\u001b[0m: \u001b[1;36m0.6357616186141968\u001b[0m, \u001b[32m'trial_id'\u001b[0m: \u001b[1;36m7\u001b[0m\u001b[1m}\u001b[0m |  \n",
       "Score: \u001b[1;36m0.6357616186141968\u001b[0m                                                                                          \n"
      ]
     },
     "metadata": {},
     "output_type": "display_data"
    },
    {
     "data": {
      "text/html": [
       "<pre style=\"white-space:pre;overflow-x:auto;line-height:normal;font-family:Menlo,'DejaVu Sans Mono',consolas,'Courier New',monospace\">/home/max/anaconda3/envs/tabular/lib/python3.10/site-packages/pytorch_lightning/callbacks/model_checkpoint.py:639: \n",
       "Checkpoint directory /home/max/Documents/PA/pytorch_tabular/machine_learning/saved_models exists and is not empty.\n",
       "</pre>\n"
      ],
      "text/plain": [
       "/home/max/anaconda3/envs/tabular/lib/python3.10/site-packages/pytorch_lightning/callbacks/model_checkpoint.py:639: \n",
       "Checkpoint directory /home/max/Documents/PA/pytorch_tabular/machine_learning/saved_models exists and is not empty.\n"
      ]
     },
     "metadata": {},
     "output_type": "display_data"
    },
    {
     "data": {
      "text/html": [
       "<pre style=\"white-space:pre;overflow-x:auto;line-height:normal;font-family:Menlo,'DejaVu Sans Mono',consolas,'Courier New',monospace\">/home/max/anaconda3/envs/tabular/lib/python3.10/site-packages/pytorch_lightning/loops/fit_loop.py:293: The number \n",
       "of training batches (22) is smaller than the logging interval Trainer(log_every_n_steps=50). Set a lower value for \n",
       "log_every_n_steps if you want to see logs for the training epoch.\n",
       "</pre>\n"
      ],
      "text/plain": [
       "/home/max/anaconda3/envs/tabular/lib/python3.10/site-packages/pytorch_lightning/loops/fit_loop.py:293: The number \n",
       "of training batches (22) is smaller than the logging interval Trainer(log_every_n_steps=50). Set a lower value for \n",
       "log_every_n_steps if you want to see logs for the training epoch.\n"
      ]
     },
     "metadata": {},
     "output_type": "display_data"
    },
    {
     "data": {
      "application/vnd.jupyter.widget-view+json": {
       "model_id": "980d25a718cb4c6ea073fd4c840637ad",
       "version_major": 2,
       "version_minor": 0
      },
      "text/plain": [
       "Finding best initial lr:   0%|          | 0/100 [00:00<?, ?it/s]"
      ]
     },
     "metadata": {},
     "output_type": "display_data"
    },
    {
     "data": {
      "text/html": [
       "<pre style=\"white-space:pre;overflow-x:auto;line-height:normal;font-family:Menlo,'DejaVu Sans Mono',consolas,'Courier New',monospace\"><span style=\"color: #008080; text-decoration-color: #008080; font-weight: bold\">2025</span>-<span style=\"color: #008080; text-decoration-color: #008080; font-weight: bold\">02</span>-<span style=\"color: #008080; text-decoration-color: #008080; font-weight: bold\">08</span> <span style=\"color: #00ff00; text-decoration-color: #00ff00; font-weight: bold\">16:14:02</span>,<span style=\"color: #008080; text-decoration-color: #008080; font-weight: bold\">385</span> - <span style=\"font-weight: bold\">{</span>pytorch_tabular.tabular_model_tuner:<span style=\"color: #008080; text-decoration-color: #008080; font-weight: bold\">412</span><span style=\"font-weight: bold\">}</span> - INFO - Trial <span style=\"color: #008080; text-decoration-color: #008080; font-weight: bold\">9</span>/<span style=\"color: #008080; text-decoration-color: #008080; font-weight: bold\">32</span>: <span style=\"font-weight: bold\">{</span><span style=\"color: #008000; text-decoration-color: #008000\">'model'</span>:                 \n",
       "<span style=\"color: #008000; text-decoration-color: #008000\">'1-AutoIntConfig'</span>, <span style=\"color: #008000; text-decoration-color: #008000\">'model_config__activation'</span>: <span style=\"color: #008000; text-decoration-color: #008000\">'ReLU'</span>, <span style=\"color: #008000; text-decoration-color: #008000\">'model_config__attn_embed_dim'</span>: <span style=\"color: #008000; text-decoration-color: #008000\">'64'</span>,                       \n",
       "<span style=\"color: #008000; text-decoration-color: #008000\">'model_config__embedding_dropout'</span>: <span style=\"color: #008080; text-decoration-color: #008080; font-weight: bold\">0.0</span>, <span style=\"color: #008000; text-decoration-color: #008000\">'model_config__layers'</span>: <span style=\"color: #008000; text-decoration-color: #008000\">'128-64-32'</span>, <span style=\"color: #008000; text-decoration-color: #008000\">'optimizer_config__optimizer'</span>: <span style=\"color: #008000; text-decoration-color: #008000\">'Adam'</span>,\n",
       "<span style=\"color: #008000; text-decoration-color: #008000\">'loss_0'</span>: <span style=\"color: #008080; text-decoration-color: #008080; font-weight: bold\">0.6063021421432495</span>, <span style=\"color: #008000; text-decoration-color: #008000\">'loss'</span>: <span style=\"color: #008080; text-decoration-color: #008080; font-weight: bold\">0.6063021421432495</span>, <span style=\"color: #008000; text-decoration-color: #008000\">'accuracy'</span>: <span style=\"color: #008080; text-decoration-color: #008080; font-weight: bold\">0.6986755132675171</span>, <span style=\"color: #008000; text-decoration-color: #008000\">'trial_id'</span>: <span style=\"color: #008080; text-decoration-color: #008080; font-weight: bold\">8</span><span style=\"font-weight: bold\">}</span> | Score:  \n",
       "<span style=\"color: #008080; text-decoration-color: #008080; font-weight: bold\">0.6986755132675171</span>                                                                                                 \n",
       "</pre>\n"
      ],
      "text/plain": [
       "\u001b[1;36m2025\u001b[0m-\u001b[1;36m02\u001b[0m-\u001b[1;36m08\u001b[0m \u001b[1;92m16:14:02\u001b[0m,\u001b[1;36m385\u001b[0m - \u001b[1m{\u001b[0mpytorch_tabular.tabular_model_tuner:\u001b[1;36m412\u001b[0m\u001b[1m}\u001b[0m - INFO - Trial \u001b[1;36m9\u001b[0m/\u001b[1;36m32\u001b[0m: \u001b[1m{\u001b[0m\u001b[32m'model'\u001b[0m:                 \n",
       "\u001b[32m'1-AutoIntConfig'\u001b[0m, \u001b[32m'model_config__activation'\u001b[0m: \u001b[32m'ReLU'\u001b[0m, \u001b[32m'model_config__attn_embed_dim'\u001b[0m: \u001b[32m'64'\u001b[0m,                       \n",
       "\u001b[32m'model_config__embedding_dropout'\u001b[0m: \u001b[1;36m0.0\u001b[0m, \u001b[32m'model_config__layers'\u001b[0m: \u001b[32m'128-64-32'\u001b[0m, \u001b[32m'optimizer_config__optimizer'\u001b[0m: \u001b[32m'Adam'\u001b[0m,\n",
       "\u001b[32m'loss_0'\u001b[0m: \u001b[1;36m0.6063021421432495\u001b[0m, \u001b[32m'loss'\u001b[0m: \u001b[1;36m0.6063021421432495\u001b[0m, \u001b[32m'accuracy'\u001b[0m: \u001b[1;36m0.6986755132675171\u001b[0m, \u001b[32m'trial_id'\u001b[0m: \u001b[1;36m8\u001b[0m\u001b[1m}\u001b[0m | Score:  \n",
       "\u001b[1;36m0.6986755132675171\u001b[0m                                                                                                 \n"
      ]
     },
     "metadata": {},
     "output_type": "display_data"
    },
    {
     "data": {
      "text/html": [
       "<pre style=\"white-space:pre;overflow-x:auto;line-height:normal;font-family:Menlo,'DejaVu Sans Mono',consolas,'Courier New',monospace\">/home/max/anaconda3/envs/tabular/lib/python3.10/site-packages/pytorch_lightning/callbacks/model_checkpoint.py:639: \n",
       "Checkpoint directory /home/max/Documents/PA/pytorch_tabular/machine_learning/saved_models exists and is not empty.\n",
       "</pre>\n"
      ],
      "text/plain": [
       "/home/max/anaconda3/envs/tabular/lib/python3.10/site-packages/pytorch_lightning/callbacks/model_checkpoint.py:639: \n",
       "Checkpoint directory /home/max/Documents/PA/pytorch_tabular/machine_learning/saved_models exists and is not empty.\n"
      ]
     },
     "metadata": {},
     "output_type": "display_data"
    },
    {
     "data": {
      "text/html": [
       "<pre style=\"white-space:pre;overflow-x:auto;line-height:normal;font-family:Menlo,'DejaVu Sans Mono',consolas,'Courier New',monospace\">/home/max/anaconda3/envs/tabular/lib/python3.10/site-packages/pytorch_lightning/loops/fit_loop.py:293: The number \n",
       "of training batches (22) is smaller than the logging interval Trainer(log_every_n_steps=50). Set a lower value for \n",
       "log_every_n_steps if you want to see logs for the training epoch.\n",
       "</pre>\n"
      ],
      "text/plain": [
       "/home/max/anaconda3/envs/tabular/lib/python3.10/site-packages/pytorch_lightning/loops/fit_loop.py:293: The number \n",
       "of training batches (22) is smaller than the logging interval Trainer(log_every_n_steps=50). Set a lower value for \n",
       "log_every_n_steps if you want to see logs for the training epoch.\n"
      ]
     },
     "metadata": {},
     "output_type": "display_data"
    },
    {
     "data": {
      "application/vnd.jupyter.widget-view+json": {
       "model_id": "5ec429c686d343dfb18b7f34182c6d48",
       "version_major": 2,
       "version_minor": 0
      },
      "text/plain": [
       "Finding best initial lr:   0%|          | 0/100 [00:00<?, ?it/s]"
      ]
     },
     "metadata": {},
     "output_type": "display_data"
    },
    {
     "data": {
      "text/html": [
       "<pre style=\"white-space:pre;overflow-x:auto;line-height:normal;font-family:Menlo,'DejaVu Sans Mono',consolas,'Courier New',monospace\"><span style=\"color: #008080; text-decoration-color: #008080; font-weight: bold\">2025</span>-<span style=\"color: #008080; text-decoration-color: #008080; font-weight: bold\">02</span>-<span style=\"color: #008080; text-decoration-color: #008080; font-weight: bold\">08</span> <span style=\"color: #00ff00; text-decoration-color: #00ff00; font-weight: bold\">16:14:13</span>,<span style=\"color: #008080; text-decoration-color: #008080; font-weight: bold\">124</span> - <span style=\"font-weight: bold\">{</span>pytorch_tabular.tabular_model_tuner:<span style=\"color: #008080; text-decoration-color: #008080; font-weight: bold\">412</span><span style=\"font-weight: bold\">}</span> - INFO - Trial <span style=\"color: #008080; text-decoration-color: #008080; font-weight: bold\">10</span>/<span style=\"color: #008080; text-decoration-color: #008080; font-weight: bold\">32</span>: <span style=\"font-weight: bold\">{</span><span style=\"color: #008000; text-decoration-color: #008000\">'model'</span>:                \n",
       "<span style=\"color: #008000; text-decoration-color: #008000\">'1-AutoIntConfig'</span>, <span style=\"color: #008000; text-decoration-color: #008000\">'model_config__activation'</span>: <span style=\"color: #008000; text-decoration-color: #008000\">'ReLU'</span>, <span style=\"color: #008000; text-decoration-color: #008000\">'model_config__attn_embed_dim'</span>: <span style=\"color: #008000; text-decoration-color: #008000\">'64'</span>,                       \n",
       "<span style=\"color: #008000; text-decoration-color: #008000\">'model_config__embedding_dropout'</span>: <span style=\"color: #008080; text-decoration-color: #008080; font-weight: bold\">0.0</span>, <span style=\"color: #008000; text-decoration-color: #008000\">'model_config__layers'</span>: <span style=\"color: #008000; text-decoration-color: #008000\">'128-64-32'</span>, <span style=\"color: #008000; text-decoration-color: #008000\">'optimizer_config__optimizer'</span>: <span style=\"color: #008000; text-decoration-color: #008000\">'SGD'</span>, \n",
       "<span style=\"color: #008000; text-decoration-color: #008000\">'loss_0'</span>: <span style=\"color: #008080; text-decoration-color: #008080; font-weight: bold\">0.6813248991966248</span>, <span style=\"color: #008000; text-decoration-color: #008000\">'loss'</span>: <span style=\"color: #008080; text-decoration-color: #008080; font-weight: bold\">0.6813248991966248</span>, <span style=\"color: #008000; text-decoration-color: #008000\">'accuracy'</span>: <span style=\"color: #008080; text-decoration-color: #008080; font-weight: bold\">0.6258277893066406</span>, <span style=\"color: #008000; text-decoration-color: #008000\">'trial_id'</span>: <span style=\"color: #008080; text-decoration-color: #008080; font-weight: bold\">9</span><span style=\"font-weight: bold\">}</span> | Score:  \n",
       "<span style=\"color: #008080; text-decoration-color: #008080; font-weight: bold\">0.6258277893066406</span>                                                                                                 \n",
       "</pre>\n"
      ],
      "text/plain": [
       "\u001b[1;36m2025\u001b[0m-\u001b[1;36m02\u001b[0m-\u001b[1;36m08\u001b[0m \u001b[1;92m16:14:13\u001b[0m,\u001b[1;36m124\u001b[0m - \u001b[1m{\u001b[0mpytorch_tabular.tabular_model_tuner:\u001b[1;36m412\u001b[0m\u001b[1m}\u001b[0m - INFO - Trial \u001b[1;36m10\u001b[0m/\u001b[1;36m32\u001b[0m: \u001b[1m{\u001b[0m\u001b[32m'model'\u001b[0m:                \n",
       "\u001b[32m'1-AutoIntConfig'\u001b[0m, \u001b[32m'model_config__activation'\u001b[0m: \u001b[32m'ReLU'\u001b[0m, \u001b[32m'model_config__attn_embed_dim'\u001b[0m: \u001b[32m'64'\u001b[0m,                       \n",
       "\u001b[32m'model_config__embedding_dropout'\u001b[0m: \u001b[1;36m0.0\u001b[0m, \u001b[32m'model_config__layers'\u001b[0m: \u001b[32m'128-64-32'\u001b[0m, \u001b[32m'optimizer_config__optimizer'\u001b[0m: \u001b[32m'SGD'\u001b[0m, \n",
       "\u001b[32m'loss_0'\u001b[0m: \u001b[1;36m0.6813248991966248\u001b[0m, \u001b[32m'loss'\u001b[0m: \u001b[1;36m0.6813248991966248\u001b[0m, \u001b[32m'accuracy'\u001b[0m: \u001b[1;36m0.6258277893066406\u001b[0m, \u001b[32m'trial_id'\u001b[0m: \u001b[1;36m9\u001b[0m\u001b[1m}\u001b[0m | Score:  \n",
       "\u001b[1;36m0.6258277893066406\u001b[0m                                                                                                 \n"
      ]
     },
     "metadata": {},
     "output_type": "display_data"
    },
    {
     "data": {
      "text/html": [
       "<pre style=\"white-space:pre;overflow-x:auto;line-height:normal;font-family:Menlo,'DejaVu Sans Mono',consolas,'Courier New',monospace\">/home/max/anaconda3/envs/tabular/lib/python3.10/site-packages/pytorch_lightning/callbacks/model_checkpoint.py:639: \n",
       "Checkpoint directory /home/max/Documents/PA/pytorch_tabular/machine_learning/saved_models exists and is not empty.\n",
       "</pre>\n"
      ],
      "text/plain": [
       "/home/max/anaconda3/envs/tabular/lib/python3.10/site-packages/pytorch_lightning/callbacks/model_checkpoint.py:639: \n",
       "Checkpoint directory /home/max/Documents/PA/pytorch_tabular/machine_learning/saved_models exists and is not empty.\n"
      ]
     },
     "metadata": {},
     "output_type": "display_data"
    },
    {
     "data": {
      "text/html": [
       "<pre style=\"white-space:pre;overflow-x:auto;line-height:normal;font-family:Menlo,'DejaVu Sans Mono',consolas,'Courier New',monospace\">/home/max/anaconda3/envs/tabular/lib/python3.10/site-packages/pytorch_lightning/loops/fit_loop.py:293: The number \n",
       "of training batches (22) is smaller than the logging interval Trainer(log_every_n_steps=50). Set a lower value for \n",
       "log_every_n_steps if you want to see logs for the training epoch.\n",
       "</pre>\n"
      ],
      "text/plain": [
       "/home/max/anaconda3/envs/tabular/lib/python3.10/site-packages/pytorch_lightning/loops/fit_loop.py:293: The number \n",
       "of training batches (22) is smaller than the logging interval Trainer(log_every_n_steps=50). Set a lower value for \n",
       "log_every_n_steps if you want to see logs for the training epoch.\n"
      ]
     },
     "metadata": {},
     "output_type": "display_data"
    },
    {
     "data": {
      "application/vnd.jupyter.widget-view+json": {
       "model_id": "4e62dbbadd2f4174b9f5e867abbd634c",
       "version_major": 2,
       "version_minor": 0
      },
      "text/plain": [
       "Finding best initial lr:   0%|          | 0/100 [00:00<?, ?it/s]"
      ]
     },
     "metadata": {},
     "output_type": "display_data"
    },
    {
     "data": {
      "text/html": [
       "<pre style=\"white-space:pre;overflow-x:auto;line-height:normal;font-family:Menlo,'DejaVu Sans Mono',consolas,'Courier New',monospace\"><span style=\"color: #008080; text-decoration-color: #008080; font-weight: bold\">2025</span>-<span style=\"color: #008080; text-decoration-color: #008080; font-weight: bold\">02</span>-<span style=\"color: #008080; text-decoration-color: #008080; font-weight: bold\">08</span> <span style=\"color: #00ff00; text-decoration-color: #00ff00; font-weight: bold\">16:14:21</span>,<span style=\"color: #008080; text-decoration-color: #008080; font-weight: bold\">015</span> - <span style=\"font-weight: bold\">{</span>pytorch_tabular.tabular_model_tuner:<span style=\"color: #008080; text-decoration-color: #008080; font-weight: bold\">412</span><span style=\"font-weight: bold\">}</span> - INFO - Trial <span style=\"color: #008080; text-decoration-color: #008080; font-weight: bold\">11</span>/<span style=\"color: #008080; text-decoration-color: #008080; font-weight: bold\">32</span>: <span style=\"font-weight: bold\">{</span><span style=\"color: #008000; text-decoration-color: #008000\">'model'</span>:                \n",
       "<span style=\"color: #008000; text-decoration-color: #008000\">'1-AutoIntConfig'</span>, <span style=\"color: #008000; text-decoration-color: #008000\">'model_config__activation'</span>: <span style=\"color: #008000; text-decoration-color: #008000\">'ReLU'</span>, <span style=\"color: #008000; text-decoration-color: #008000\">'model_config__attn_embed_dim'</span>: <span style=\"color: #008000; text-decoration-color: #008000\">'64'</span>,                       \n",
       "<span style=\"color: #008000; text-decoration-color: #008000\">'model_config__embedding_dropout'</span>: <span style=\"color: #008080; text-decoration-color: #008080; font-weight: bold\">0.0</span>, <span style=\"color: #008000; text-decoration-color: #008000\">'model_config__layers'</span>: <span style=\"color: #008000; text-decoration-color: #008000\">'1024-512-256'</span>, <span style=\"color: #008000; text-decoration-color: #008000\">'optimizer_config__optimizer'</span>:     \n",
       "<span style=\"color: #008000; text-decoration-color: #008000\">'Adam'</span>, <span style=\"color: #008000; text-decoration-color: #008000\">'loss_0'</span>: <span style=\"color: #008080; text-decoration-color: #008080; font-weight: bold\">0.629757821559906</span>, <span style=\"color: #008000; text-decoration-color: #008000\">'loss'</span>: <span style=\"color: #008080; text-decoration-color: #008080; font-weight: bold\">0.629757821559906</span>, <span style=\"color: #008000; text-decoration-color: #008000\">'accuracy'</span>: <span style=\"color: #008080; text-decoration-color: #008080; font-weight: bold\">0.7052980065345764</span>, <span style=\"color: #008000; text-decoration-color: #008000\">'trial_id'</span>: <span style=\"color: #008080; text-decoration-color: #008080; font-weight: bold\">10</span><span style=\"font-weight: bold\">}</span> |  \n",
       "Score: <span style=\"color: #008080; text-decoration-color: #008080; font-weight: bold\">0.7052980065345764</span>                                                                                          \n",
       "</pre>\n"
      ],
      "text/plain": [
       "\u001b[1;36m2025\u001b[0m-\u001b[1;36m02\u001b[0m-\u001b[1;36m08\u001b[0m \u001b[1;92m16:14:21\u001b[0m,\u001b[1;36m015\u001b[0m - \u001b[1m{\u001b[0mpytorch_tabular.tabular_model_tuner:\u001b[1;36m412\u001b[0m\u001b[1m}\u001b[0m - INFO - Trial \u001b[1;36m11\u001b[0m/\u001b[1;36m32\u001b[0m: \u001b[1m{\u001b[0m\u001b[32m'model'\u001b[0m:                \n",
       "\u001b[32m'1-AutoIntConfig'\u001b[0m, \u001b[32m'model_config__activation'\u001b[0m: \u001b[32m'ReLU'\u001b[0m, \u001b[32m'model_config__attn_embed_dim'\u001b[0m: \u001b[32m'64'\u001b[0m,                       \n",
       "\u001b[32m'model_config__embedding_dropout'\u001b[0m: \u001b[1;36m0.0\u001b[0m, \u001b[32m'model_config__layers'\u001b[0m: \u001b[32m'1024-512-256'\u001b[0m, \u001b[32m'optimizer_config__optimizer'\u001b[0m:     \n",
       "\u001b[32m'Adam'\u001b[0m, \u001b[32m'loss_0'\u001b[0m: \u001b[1;36m0.629757821559906\u001b[0m, \u001b[32m'loss'\u001b[0m: \u001b[1;36m0.629757821559906\u001b[0m, \u001b[32m'accuracy'\u001b[0m: \u001b[1;36m0.7052980065345764\u001b[0m, \u001b[32m'trial_id'\u001b[0m: \u001b[1;36m10\u001b[0m\u001b[1m}\u001b[0m |  \n",
       "Score: \u001b[1;36m0.7052980065345764\u001b[0m                                                                                          \n"
      ]
     },
     "metadata": {},
     "output_type": "display_data"
    },
    {
     "data": {
      "text/html": [
       "<pre style=\"white-space:pre;overflow-x:auto;line-height:normal;font-family:Menlo,'DejaVu Sans Mono',consolas,'Courier New',monospace\">/home/max/anaconda3/envs/tabular/lib/python3.10/site-packages/pytorch_lightning/callbacks/model_checkpoint.py:639: \n",
       "Checkpoint directory /home/max/Documents/PA/pytorch_tabular/machine_learning/saved_models exists and is not empty.\n",
       "</pre>\n"
      ],
      "text/plain": [
       "/home/max/anaconda3/envs/tabular/lib/python3.10/site-packages/pytorch_lightning/callbacks/model_checkpoint.py:639: \n",
       "Checkpoint directory /home/max/Documents/PA/pytorch_tabular/machine_learning/saved_models exists and is not empty.\n"
      ]
     },
     "metadata": {},
     "output_type": "display_data"
    },
    {
     "data": {
      "text/html": [
       "<pre style=\"white-space:pre;overflow-x:auto;line-height:normal;font-family:Menlo,'DejaVu Sans Mono',consolas,'Courier New',monospace\">/home/max/anaconda3/envs/tabular/lib/python3.10/site-packages/pytorch_lightning/loops/fit_loop.py:293: The number \n",
       "of training batches (22) is smaller than the logging interval Trainer(log_every_n_steps=50). Set a lower value for \n",
       "log_every_n_steps if you want to see logs for the training epoch.\n",
       "</pre>\n"
      ],
      "text/plain": [
       "/home/max/anaconda3/envs/tabular/lib/python3.10/site-packages/pytorch_lightning/loops/fit_loop.py:293: The number \n",
       "of training batches (22) is smaller than the logging interval Trainer(log_every_n_steps=50). Set a lower value for \n",
       "log_every_n_steps if you want to see logs for the training epoch.\n"
      ]
     },
     "metadata": {},
     "output_type": "display_data"
    },
    {
     "data": {
      "application/vnd.jupyter.widget-view+json": {
       "model_id": "f1153487fd164eb493531e356d30dd7f",
       "version_major": 2,
       "version_minor": 0
      },
      "text/plain": [
       "Finding best initial lr:   0%|          | 0/100 [00:00<?, ?it/s]"
      ]
     },
     "metadata": {},
     "output_type": "display_data"
    },
    {
     "data": {
      "text/html": [
       "<pre style=\"white-space:pre;overflow-x:auto;line-height:normal;font-family:Menlo,'DejaVu Sans Mono',consolas,'Courier New',monospace\"><span style=\"color: #008080; text-decoration-color: #008080; font-weight: bold\">2025</span>-<span style=\"color: #008080; text-decoration-color: #008080; font-weight: bold\">02</span>-<span style=\"color: #008080; text-decoration-color: #008080; font-weight: bold\">08</span> <span style=\"color: #00ff00; text-decoration-color: #00ff00; font-weight: bold\">16:14:34</span>,<span style=\"color: #008080; text-decoration-color: #008080; font-weight: bold\">112</span> - <span style=\"font-weight: bold\">{</span>pytorch_tabular.tabular_model_tuner:<span style=\"color: #008080; text-decoration-color: #008080; font-weight: bold\">412</span><span style=\"font-weight: bold\">}</span> - INFO - Trial <span style=\"color: #008080; text-decoration-color: #008080; font-weight: bold\">12</span>/<span style=\"color: #008080; text-decoration-color: #008080; font-weight: bold\">32</span>: <span style=\"font-weight: bold\">{</span><span style=\"color: #008000; text-decoration-color: #008000\">'model'</span>:                \n",
       "<span style=\"color: #008000; text-decoration-color: #008000\">'1-AutoIntConfig'</span>, <span style=\"color: #008000; text-decoration-color: #008000\">'model_config__activation'</span>: <span style=\"color: #008000; text-decoration-color: #008000\">'ReLU'</span>, <span style=\"color: #008000; text-decoration-color: #008000\">'model_config__attn_embed_dim'</span>: <span style=\"color: #008000; text-decoration-color: #008000\">'64'</span>,                       \n",
       "<span style=\"color: #008000; text-decoration-color: #008000\">'model_config__embedding_dropout'</span>: <span style=\"color: #008080; text-decoration-color: #008080; font-weight: bold\">0.0</span>, <span style=\"color: #008000; text-decoration-color: #008000\">'model_config__layers'</span>: <span style=\"color: #008000; text-decoration-color: #008000\">'1024-512-256'</span>, <span style=\"color: #008000; text-decoration-color: #008000\">'optimizer_config__optimizer'</span>:     \n",
       "<span style=\"color: #008000; text-decoration-color: #008000\">'SGD'</span>, <span style=\"color: #008000; text-decoration-color: #008000\">'loss_0'</span>: <span style=\"color: #008080; text-decoration-color: #008080; font-weight: bold\">0.6812530755996704</span>, <span style=\"color: #008000; text-decoration-color: #008000\">'loss'</span>: <span style=\"color: #008080; text-decoration-color: #008080; font-weight: bold\">0.6812530755996704</span>, <span style=\"color: #008000; text-decoration-color: #008000\">'accuracy'</span>: <span style=\"color: #008080; text-decoration-color: #008080; font-weight: bold\">0.5894039869308472</span>, <span style=\"color: #008000; text-decoration-color: #008000\">'trial_id'</span>: <span style=\"color: #008080; text-decoration-color: #008080; font-weight: bold\">11</span><span style=\"font-weight: bold\">}</span> | \n",
       "Score: <span style=\"color: #008080; text-decoration-color: #008080; font-weight: bold\">0.5894039869308472</span>                                                                                          \n",
       "</pre>\n"
      ],
      "text/plain": [
       "\u001b[1;36m2025\u001b[0m-\u001b[1;36m02\u001b[0m-\u001b[1;36m08\u001b[0m \u001b[1;92m16:14:34\u001b[0m,\u001b[1;36m112\u001b[0m - \u001b[1m{\u001b[0mpytorch_tabular.tabular_model_tuner:\u001b[1;36m412\u001b[0m\u001b[1m}\u001b[0m - INFO - Trial \u001b[1;36m12\u001b[0m/\u001b[1;36m32\u001b[0m: \u001b[1m{\u001b[0m\u001b[32m'model'\u001b[0m:                \n",
       "\u001b[32m'1-AutoIntConfig'\u001b[0m, \u001b[32m'model_config__activation'\u001b[0m: \u001b[32m'ReLU'\u001b[0m, \u001b[32m'model_config__attn_embed_dim'\u001b[0m: \u001b[32m'64'\u001b[0m,                       \n",
       "\u001b[32m'model_config__embedding_dropout'\u001b[0m: \u001b[1;36m0.0\u001b[0m, \u001b[32m'model_config__layers'\u001b[0m: \u001b[32m'1024-512-256'\u001b[0m, \u001b[32m'optimizer_config__optimizer'\u001b[0m:     \n",
       "\u001b[32m'SGD'\u001b[0m, \u001b[32m'loss_0'\u001b[0m: \u001b[1;36m0.6812530755996704\u001b[0m, \u001b[32m'loss'\u001b[0m: \u001b[1;36m0.6812530755996704\u001b[0m, \u001b[32m'accuracy'\u001b[0m: \u001b[1;36m0.5894039869308472\u001b[0m, \u001b[32m'trial_id'\u001b[0m: \u001b[1;36m11\u001b[0m\u001b[1m}\u001b[0m | \n",
       "Score: \u001b[1;36m0.5894039869308472\u001b[0m                                                                                          \n"
      ]
     },
     "metadata": {},
     "output_type": "display_data"
    },
    {
     "data": {
      "text/html": [
       "<pre style=\"white-space:pre;overflow-x:auto;line-height:normal;font-family:Menlo,'DejaVu Sans Mono',consolas,'Courier New',monospace\">/home/max/anaconda3/envs/tabular/lib/python3.10/site-packages/pytorch_lightning/callbacks/model_checkpoint.py:639: \n",
       "Checkpoint directory /home/max/Documents/PA/pytorch_tabular/machine_learning/saved_models exists and is not empty.\n",
       "</pre>\n"
      ],
      "text/plain": [
       "/home/max/anaconda3/envs/tabular/lib/python3.10/site-packages/pytorch_lightning/callbacks/model_checkpoint.py:639: \n",
       "Checkpoint directory /home/max/Documents/PA/pytorch_tabular/machine_learning/saved_models exists and is not empty.\n"
      ]
     },
     "metadata": {},
     "output_type": "display_data"
    },
    {
     "data": {
      "text/html": [
       "<pre style=\"white-space:pre;overflow-x:auto;line-height:normal;font-family:Menlo,'DejaVu Sans Mono',consolas,'Courier New',monospace\">/home/max/anaconda3/envs/tabular/lib/python3.10/site-packages/pytorch_lightning/loops/fit_loop.py:293: The number \n",
       "of training batches (22) is smaller than the logging interval Trainer(log_every_n_steps=50). Set a lower value for \n",
       "log_every_n_steps if you want to see logs for the training epoch.\n",
       "</pre>\n"
      ],
      "text/plain": [
       "/home/max/anaconda3/envs/tabular/lib/python3.10/site-packages/pytorch_lightning/loops/fit_loop.py:293: The number \n",
       "of training batches (22) is smaller than the logging interval Trainer(log_every_n_steps=50). Set a lower value for \n",
       "log_every_n_steps if you want to see logs for the training epoch.\n"
      ]
     },
     "metadata": {},
     "output_type": "display_data"
    },
    {
     "data": {
      "application/vnd.jupyter.widget-view+json": {
       "model_id": "26dedd3b63514588a663aa8d363b20a0",
       "version_major": 2,
       "version_minor": 0
      },
      "text/plain": [
       "Finding best initial lr:   0%|          | 0/100 [00:00<?, ?it/s]"
      ]
     },
     "metadata": {},
     "output_type": "display_data"
    },
    {
     "data": {
      "text/html": [
       "<pre style=\"white-space:pre;overflow-x:auto;line-height:normal;font-family:Menlo,'DejaVu Sans Mono',consolas,'Courier New',monospace\"><span style=\"color: #008080; text-decoration-color: #008080; font-weight: bold\">2025</span>-<span style=\"color: #008080; text-decoration-color: #008080; font-weight: bold\">02</span>-<span style=\"color: #008080; text-decoration-color: #008080; font-weight: bold\">08</span> <span style=\"color: #00ff00; text-decoration-color: #00ff00; font-weight: bold\">16:14:40</span>,<span style=\"color: #008080; text-decoration-color: #008080; font-weight: bold\">387</span> - <span style=\"font-weight: bold\">{</span>pytorch_tabular.tabular_model_tuner:<span style=\"color: #008080; text-decoration-color: #008080; font-weight: bold\">412</span><span style=\"font-weight: bold\">}</span> - INFO - Trial <span style=\"color: #008080; text-decoration-color: #008080; font-weight: bold\">13</span>/<span style=\"color: #008080; text-decoration-color: #008080; font-weight: bold\">32</span>: <span style=\"font-weight: bold\">{</span><span style=\"color: #008000; text-decoration-color: #008000\">'model'</span>:                \n",
       "<span style=\"color: #008000; text-decoration-color: #008000\">'1-AutoIntConfig'</span>, <span style=\"color: #008000; text-decoration-color: #008000\">'model_config__activation'</span>: <span style=\"color: #008000; text-decoration-color: #008000\">'ReLU'</span>, <span style=\"color: #008000; text-decoration-color: #008000\">'model_config__attn_embed_dim'</span>: <span style=\"color: #008000; text-decoration-color: #008000\">'64'</span>,                       \n",
       "<span style=\"color: #008000; text-decoration-color: #008000\">'model_config__embedding_dropout'</span>: <span style=\"color: #008080; text-decoration-color: #008080; font-weight: bold\">0.2</span>, <span style=\"color: #008000; text-decoration-color: #008000\">'model_config__layers'</span>: <span style=\"color: #008000; text-decoration-color: #008000\">'128-64-32'</span>, <span style=\"color: #008000; text-decoration-color: #008000\">'optimizer_config__optimizer'</span>: <span style=\"color: #008000; text-decoration-color: #008000\">'Adam'</span>,\n",
       "<span style=\"color: #008000; text-decoration-color: #008000\">'loss_0'</span>: <span style=\"color: #008080; text-decoration-color: #008080; font-weight: bold\">1.872829556465149</span>, <span style=\"color: #008000; text-decoration-color: #008000\">'loss'</span>: <span style=\"color: #008080; text-decoration-color: #008080; font-weight: bold\">1.872829556465149</span>, <span style=\"color: #008000; text-decoration-color: #008000\">'accuracy'</span>: <span style=\"color: #008080; text-decoration-color: #008080; font-weight: bold\">0.5894039869308472</span>, <span style=\"color: #008000; text-decoration-color: #008000\">'trial_id'</span>: <span style=\"color: #008080; text-decoration-color: #008080; font-weight: bold\">12</span><span style=\"font-weight: bold\">}</span> | Score:   \n",
       "<span style=\"color: #008080; text-decoration-color: #008080; font-weight: bold\">0.5894039869308472</span>                                                                                                 \n",
       "</pre>\n"
      ],
      "text/plain": [
       "\u001b[1;36m2025\u001b[0m-\u001b[1;36m02\u001b[0m-\u001b[1;36m08\u001b[0m \u001b[1;92m16:14:40\u001b[0m,\u001b[1;36m387\u001b[0m - \u001b[1m{\u001b[0mpytorch_tabular.tabular_model_tuner:\u001b[1;36m412\u001b[0m\u001b[1m}\u001b[0m - INFO - Trial \u001b[1;36m13\u001b[0m/\u001b[1;36m32\u001b[0m: \u001b[1m{\u001b[0m\u001b[32m'model'\u001b[0m:                \n",
       "\u001b[32m'1-AutoIntConfig'\u001b[0m, \u001b[32m'model_config__activation'\u001b[0m: \u001b[32m'ReLU'\u001b[0m, \u001b[32m'model_config__attn_embed_dim'\u001b[0m: \u001b[32m'64'\u001b[0m,                       \n",
       "\u001b[32m'model_config__embedding_dropout'\u001b[0m: \u001b[1;36m0.2\u001b[0m, \u001b[32m'model_config__layers'\u001b[0m: \u001b[32m'128-64-32'\u001b[0m, \u001b[32m'optimizer_config__optimizer'\u001b[0m: \u001b[32m'Adam'\u001b[0m,\n",
       "\u001b[32m'loss_0'\u001b[0m: \u001b[1;36m1.872829556465149\u001b[0m, \u001b[32m'loss'\u001b[0m: \u001b[1;36m1.872829556465149\u001b[0m, \u001b[32m'accuracy'\u001b[0m: \u001b[1;36m0.5894039869308472\u001b[0m, \u001b[32m'trial_id'\u001b[0m: \u001b[1;36m12\u001b[0m\u001b[1m}\u001b[0m | Score:   \n",
       "\u001b[1;36m0.5894039869308472\u001b[0m                                                                                                 \n"
      ]
     },
     "metadata": {},
     "output_type": "display_data"
    },
    {
     "data": {
      "text/html": [
       "<pre style=\"white-space:pre;overflow-x:auto;line-height:normal;font-family:Menlo,'DejaVu Sans Mono',consolas,'Courier New',monospace\">/home/max/anaconda3/envs/tabular/lib/python3.10/site-packages/pytorch_lightning/callbacks/model_checkpoint.py:639: \n",
       "Checkpoint directory /home/max/Documents/PA/pytorch_tabular/machine_learning/saved_models exists and is not empty.\n",
       "</pre>\n"
      ],
      "text/plain": [
       "/home/max/anaconda3/envs/tabular/lib/python3.10/site-packages/pytorch_lightning/callbacks/model_checkpoint.py:639: \n",
       "Checkpoint directory /home/max/Documents/PA/pytorch_tabular/machine_learning/saved_models exists and is not empty.\n"
      ]
     },
     "metadata": {},
     "output_type": "display_data"
    },
    {
     "data": {
      "text/html": [
       "<pre style=\"white-space:pre;overflow-x:auto;line-height:normal;font-family:Menlo,'DejaVu Sans Mono',consolas,'Courier New',monospace\">/home/max/anaconda3/envs/tabular/lib/python3.10/site-packages/pytorch_lightning/loops/fit_loop.py:293: The number \n",
       "of training batches (22) is smaller than the logging interval Trainer(log_every_n_steps=50). Set a lower value for \n",
       "log_every_n_steps if you want to see logs for the training epoch.\n",
       "</pre>\n"
      ],
      "text/plain": [
       "/home/max/anaconda3/envs/tabular/lib/python3.10/site-packages/pytorch_lightning/loops/fit_loop.py:293: The number \n",
       "of training batches (22) is smaller than the logging interval Trainer(log_every_n_steps=50). Set a lower value for \n",
       "log_every_n_steps if you want to see logs for the training epoch.\n"
      ]
     },
     "metadata": {},
     "output_type": "display_data"
    },
    {
     "data": {
      "application/vnd.jupyter.widget-view+json": {
       "model_id": "462c404175204af0bf2400dcb56ba7d6",
       "version_major": 2,
       "version_minor": 0
      },
      "text/plain": [
       "Finding best initial lr:   0%|          | 0/100 [00:00<?, ?it/s]"
      ]
     },
     "metadata": {},
     "output_type": "display_data"
    },
    {
     "data": {
      "text/html": [
       "<pre style=\"white-space:pre;overflow-x:auto;line-height:normal;font-family:Menlo,'DejaVu Sans Mono',consolas,'Courier New',monospace\"><span style=\"color: #008080; text-decoration-color: #008080; font-weight: bold\">2025</span>-<span style=\"color: #008080; text-decoration-color: #008080; font-weight: bold\">02</span>-<span style=\"color: #008080; text-decoration-color: #008080; font-weight: bold\">08</span> <span style=\"color: #00ff00; text-decoration-color: #00ff00; font-weight: bold\">16:14:47</span>,<span style=\"color: #008080; text-decoration-color: #008080; font-weight: bold\">466</span> - <span style=\"font-weight: bold\">{</span>pytorch_tabular.tabular_model_tuner:<span style=\"color: #008080; text-decoration-color: #008080; font-weight: bold\">412</span><span style=\"font-weight: bold\">}</span> - INFO - Trial <span style=\"color: #008080; text-decoration-color: #008080; font-weight: bold\">14</span>/<span style=\"color: #008080; text-decoration-color: #008080; font-weight: bold\">32</span>: <span style=\"font-weight: bold\">{</span><span style=\"color: #008000; text-decoration-color: #008000\">'model'</span>:                \n",
       "<span style=\"color: #008000; text-decoration-color: #008000\">'1-AutoIntConfig'</span>, <span style=\"color: #008000; text-decoration-color: #008000\">'model_config__activation'</span>: <span style=\"color: #008000; text-decoration-color: #008000\">'ReLU'</span>, <span style=\"color: #008000; text-decoration-color: #008000\">'model_config__attn_embed_dim'</span>: <span style=\"color: #008000; text-decoration-color: #008000\">'64'</span>,                       \n",
       "<span style=\"color: #008000; text-decoration-color: #008000\">'model_config__embedding_dropout'</span>: <span style=\"color: #008080; text-decoration-color: #008080; font-weight: bold\">0.2</span>, <span style=\"color: #008000; text-decoration-color: #008000\">'model_config__layers'</span>: <span style=\"color: #008000; text-decoration-color: #008000\">'128-64-32'</span>, <span style=\"color: #008000; text-decoration-color: #008000\">'optimizer_config__optimizer'</span>: <span style=\"color: #008000; text-decoration-color: #008000\">'SGD'</span>, \n",
       "<span style=\"color: #008000; text-decoration-color: #008000\">'loss_0'</span>: <span style=\"color: #008080; text-decoration-color: #008080; font-weight: bold\">0.6622912883758545</span>, <span style=\"color: #008000; text-decoration-color: #008000\">'loss'</span>: <span style=\"color: #008080; text-decoration-color: #008080; font-weight: bold\">0.6622912883758545</span>, <span style=\"color: #008000; text-decoration-color: #008000\">'accuracy'</span>: <span style=\"color: #008080; text-decoration-color: #008080; font-weight: bold\">0.6324503421783447</span>, <span style=\"color: #008000; text-decoration-color: #008000\">'trial_id'</span>: <span style=\"color: #008080; text-decoration-color: #008080; font-weight: bold\">13</span><span style=\"font-weight: bold\">}</span> | Score: \n",
       "<span style=\"color: #008080; text-decoration-color: #008080; font-weight: bold\">0.6324503421783447</span>                                                                                                 \n",
       "</pre>\n"
      ],
      "text/plain": [
       "\u001b[1;36m2025\u001b[0m-\u001b[1;36m02\u001b[0m-\u001b[1;36m08\u001b[0m \u001b[1;92m16:14:47\u001b[0m,\u001b[1;36m466\u001b[0m - \u001b[1m{\u001b[0mpytorch_tabular.tabular_model_tuner:\u001b[1;36m412\u001b[0m\u001b[1m}\u001b[0m - INFO - Trial \u001b[1;36m14\u001b[0m/\u001b[1;36m32\u001b[0m: \u001b[1m{\u001b[0m\u001b[32m'model'\u001b[0m:                \n",
       "\u001b[32m'1-AutoIntConfig'\u001b[0m, \u001b[32m'model_config__activation'\u001b[0m: \u001b[32m'ReLU'\u001b[0m, \u001b[32m'model_config__attn_embed_dim'\u001b[0m: \u001b[32m'64'\u001b[0m,                       \n",
       "\u001b[32m'model_config__embedding_dropout'\u001b[0m: \u001b[1;36m0.2\u001b[0m, \u001b[32m'model_config__layers'\u001b[0m: \u001b[32m'128-64-32'\u001b[0m, \u001b[32m'optimizer_config__optimizer'\u001b[0m: \u001b[32m'SGD'\u001b[0m, \n",
       "\u001b[32m'loss_0'\u001b[0m: \u001b[1;36m0.6622912883758545\u001b[0m, \u001b[32m'loss'\u001b[0m: \u001b[1;36m0.6622912883758545\u001b[0m, \u001b[32m'accuracy'\u001b[0m: \u001b[1;36m0.6324503421783447\u001b[0m, \u001b[32m'trial_id'\u001b[0m: \u001b[1;36m13\u001b[0m\u001b[1m}\u001b[0m | Score: \n",
       "\u001b[1;36m0.6324503421783447\u001b[0m                                                                                                 \n"
      ]
     },
     "metadata": {},
     "output_type": "display_data"
    },
    {
     "data": {
      "text/html": [
       "<pre style=\"white-space:pre;overflow-x:auto;line-height:normal;font-family:Menlo,'DejaVu Sans Mono',consolas,'Courier New',monospace\">/home/max/anaconda3/envs/tabular/lib/python3.10/site-packages/pytorch_lightning/callbacks/model_checkpoint.py:639: \n",
       "Checkpoint directory /home/max/Documents/PA/pytorch_tabular/machine_learning/saved_models exists and is not empty.\n",
       "</pre>\n"
      ],
      "text/plain": [
       "/home/max/anaconda3/envs/tabular/lib/python3.10/site-packages/pytorch_lightning/callbacks/model_checkpoint.py:639: \n",
       "Checkpoint directory /home/max/Documents/PA/pytorch_tabular/machine_learning/saved_models exists and is not empty.\n"
      ]
     },
     "metadata": {},
     "output_type": "display_data"
    },
    {
     "data": {
      "text/html": [
       "<pre style=\"white-space:pre;overflow-x:auto;line-height:normal;font-family:Menlo,'DejaVu Sans Mono',consolas,'Courier New',monospace\">/home/max/anaconda3/envs/tabular/lib/python3.10/site-packages/pytorch_lightning/loops/fit_loop.py:293: The number \n",
       "of training batches (22) is smaller than the logging interval Trainer(log_every_n_steps=50). Set a lower value for \n",
       "log_every_n_steps if you want to see logs for the training epoch.\n",
       "</pre>\n"
      ],
      "text/plain": [
       "/home/max/anaconda3/envs/tabular/lib/python3.10/site-packages/pytorch_lightning/loops/fit_loop.py:293: The number \n",
       "of training batches (22) is smaller than the logging interval Trainer(log_every_n_steps=50). Set a lower value for \n",
       "log_every_n_steps if you want to see logs for the training epoch.\n"
      ]
     },
     "metadata": {},
     "output_type": "display_data"
    },
    {
     "data": {
      "application/vnd.jupyter.widget-view+json": {
       "model_id": "013ea6bbeafd4a33a761267e6f79bf17",
       "version_major": 2,
       "version_minor": 0
      },
      "text/plain": [
       "Finding best initial lr:   0%|          | 0/100 [00:00<?, ?it/s]"
      ]
     },
     "metadata": {},
     "output_type": "display_data"
    },
    {
     "data": {
      "text/html": [
       "<pre style=\"white-space:pre;overflow-x:auto;line-height:normal;font-family:Menlo,'DejaVu Sans Mono',consolas,'Courier New',monospace\"><span style=\"color: #008080; text-decoration-color: #008080; font-weight: bold\">2025</span>-<span style=\"color: #008080; text-decoration-color: #008080; font-weight: bold\">02</span>-<span style=\"color: #008080; text-decoration-color: #008080; font-weight: bold\">08</span> <span style=\"color: #00ff00; text-decoration-color: #00ff00; font-weight: bold\">16:14:53</span>,<span style=\"color: #008080; text-decoration-color: #008080; font-weight: bold\">630</span> - <span style=\"font-weight: bold\">{</span>pytorch_tabular.tabular_model_tuner:<span style=\"color: #008080; text-decoration-color: #008080; font-weight: bold\">412</span><span style=\"font-weight: bold\">}</span> - INFO - Trial <span style=\"color: #008080; text-decoration-color: #008080; font-weight: bold\">15</span>/<span style=\"color: #008080; text-decoration-color: #008080; font-weight: bold\">32</span>: <span style=\"font-weight: bold\">{</span><span style=\"color: #008000; text-decoration-color: #008000\">'model'</span>:                \n",
       "<span style=\"color: #008000; text-decoration-color: #008000\">'1-AutoIntConfig'</span>, <span style=\"color: #008000; text-decoration-color: #008000\">'model_config__activation'</span>: <span style=\"color: #008000; text-decoration-color: #008000\">'ReLU'</span>, <span style=\"color: #008000; text-decoration-color: #008000\">'model_config__attn_embed_dim'</span>: <span style=\"color: #008000; text-decoration-color: #008000\">'64'</span>,                       \n",
       "<span style=\"color: #008000; text-decoration-color: #008000\">'model_config__embedding_dropout'</span>: <span style=\"color: #008080; text-decoration-color: #008080; font-weight: bold\">0.2</span>, <span style=\"color: #008000; text-decoration-color: #008000\">'model_config__layers'</span>: <span style=\"color: #008000; text-decoration-color: #008000\">'1024-512-256'</span>, <span style=\"color: #008000; text-decoration-color: #008000\">'optimizer_config__optimizer'</span>:     \n",
       "<span style=\"color: #008000; text-decoration-color: #008000\">'Adam'</span>, <span style=\"color: #008000; text-decoration-color: #008000\">'loss_0'</span>: <span style=\"color: #008080; text-decoration-color: #008080; font-weight: bold\">0.6743513345718384</span>, <span style=\"color: #008000; text-decoration-color: #008000\">'loss'</span>: <span style=\"color: #008080; text-decoration-color: #008080; font-weight: bold\">0.6743513345718384</span>, <span style=\"color: #008000; text-decoration-color: #008000\">'accuracy'</span>: <span style=\"color: #008080; text-decoration-color: #008080; font-weight: bold\">0.6423841118812561</span>, <span style=\"color: #008000; text-decoration-color: #008000\">'trial_id'</span>: <span style=\"color: #008080; text-decoration-color: #008080; font-weight: bold\">14</span><span style=\"font-weight: bold\">}</span> |\n",
       "Score: <span style=\"color: #008080; text-decoration-color: #008080; font-weight: bold\">0.6423841118812561</span>                                                                                          \n",
       "</pre>\n"
      ],
      "text/plain": [
       "\u001b[1;36m2025\u001b[0m-\u001b[1;36m02\u001b[0m-\u001b[1;36m08\u001b[0m \u001b[1;92m16:14:53\u001b[0m,\u001b[1;36m630\u001b[0m - \u001b[1m{\u001b[0mpytorch_tabular.tabular_model_tuner:\u001b[1;36m412\u001b[0m\u001b[1m}\u001b[0m - INFO - Trial \u001b[1;36m15\u001b[0m/\u001b[1;36m32\u001b[0m: \u001b[1m{\u001b[0m\u001b[32m'model'\u001b[0m:                \n",
       "\u001b[32m'1-AutoIntConfig'\u001b[0m, \u001b[32m'model_config__activation'\u001b[0m: \u001b[32m'ReLU'\u001b[0m, \u001b[32m'model_config__attn_embed_dim'\u001b[0m: \u001b[32m'64'\u001b[0m,                       \n",
       "\u001b[32m'model_config__embedding_dropout'\u001b[0m: \u001b[1;36m0.2\u001b[0m, \u001b[32m'model_config__layers'\u001b[0m: \u001b[32m'1024-512-256'\u001b[0m, \u001b[32m'optimizer_config__optimizer'\u001b[0m:     \n",
       "\u001b[32m'Adam'\u001b[0m, \u001b[32m'loss_0'\u001b[0m: \u001b[1;36m0.6743513345718384\u001b[0m, \u001b[32m'loss'\u001b[0m: \u001b[1;36m0.6743513345718384\u001b[0m, \u001b[32m'accuracy'\u001b[0m: \u001b[1;36m0.6423841118812561\u001b[0m, \u001b[32m'trial_id'\u001b[0m: \u001b[1;36m14\u001b[0m\u001b[1m}\u001b[0m |\n",
       "Score: \u001b[1;36m0.6423841118812561\u001b[0m                                                                                          \n"
      ]
     },
     "metadata": {},
     "output_type": "display_data"
    },
    {
     "data": {
      "text/html": [
       "<pre style=\"white-space:pre;overflow-x:auto;line-height:normal;font-family:Menlo,'DejaVu Sans Mono',consolas,'Courier New',monospace\">/home/max/anaconda3/envs/tabular/lib/python3.10/site-packages/pytorch_lightning/callbacks/model_checkpoint.py:639: \n",
       "Checkpoint directory /home/max/Documents/PA/pytorch_tabular/machine_learning/saved_models exists and is not empty.\n",
       "</pre>\n"
      ],
      "text/plain": [
       "/home/max/anaconda3/envs/tabular/lib/python3.10/site-packages/pytorch_lightning/callbacks/model_checkpoint.py:639: \n",
       "Checkpoint directory /home/max/Documents/PA/pytorch_tabular/machine_learning/saved_models exists and is not empty.\n"
      ]
     },
     "metadata": {},
     "output_type": "display_data"
    },
    {
     "data": {
      "text/html": [
       "<pre style=\"white-space:pre;overflow-x:auto;line-height:normal;font-family:Menlo,'DejaVu Sans Mono',consolas,'Courier New',monospace\">/home/max/anaconda3/envs/tabular/lib/python3.10/site-packages/pytorch_lightning/loops/fit_loop.py:293: The number \n",
       "of training batches (22) is smaller than the logging interval Trainer(log_every_n_steps=50). Set a lower value for \n",
       "log_every_n_steps if you want to see logs for the training epoch.\n",
       "</pre>\n"
      ],
      "text/plain": [
       "/home/max/anaconda3/envs/tabular/lib/python3.10/site-packages/pytorch_lightning/loops/fit_loop.py:293: The number \n",
       "of training batches (22) is smaller than the logging interval Trainer(log_every_n_steps=50). Set a lower value for \n",
       "log_every_n_steps if you want to see logs for the training epoch.\n"
      ]
     },
     "metadata": {},
     "output_type": "display_data"
    },
    {
     "data": {
      "application/vnd.jupyter.widget-view+json": {
       "model_id": "42e8f96a55474b51bbc7959e5e72a3d7",
       "version_major": 2,
       "version_minor": 0
      },
      "text/plain": [
       "Finding best initial lr:   0%|          | 0/100 [00:00<?, ?it/s]"
      ]
     },
     "metadata": {},
     "output_type": "display_data"
    },
    {
     "data": {
      "text/html": [
       "<pre style=\"white-space:pre;overflow-x:auto;line-height:normal;font-family:Menlo,'DejaVu Sans Mono',consolas,'Courier New',monospace\"><span style=\"color: #008080; text-decoration-color: #008080; font-weight: bold\">2025</span>-<span style=\"color: #008080; text-decoration-color: #008080; font-weight: bold\">02</span>-<span style=\"color: #008080; text-decoration-color: #008080; font-weight: bold\">08</span> <span style=\"color: #00ff00; text-decoration-color: #00ff00; font-weight: bold\">16:15:02</span>,<span style=\"color: #008080; text-decoration-color: #008080; font-weight: bold\">482</span> - <span style=\"font-weight: bold\">{</span>pytorch_tabular.tabular_model_tuner:<span style=\"color: #008080; text-decoration-color: #008080; font-weight: bold\">412</span><span style=\"font-weight: bold\">}</span> - INFO - Trial <span style=\"color: #008080; text-decoration-color: #008080; font-weight: bold\">16</span>/<span style=\"color: #008080; text-decoration-color: #008080; font-weight: bold\">32</span>: <span style=\"font-weight: bold\">{</span><span style=\"color: #008000; text-decoration-color: #008000\">'model'</span>:                \n",
       "<span style=\"color: #008000; text-decoration-color: #008000\">'1-AutoIntConfig'</span>, <span style=\"color: #008000; text-decoration-color: #008000\">'model_config__activation'</span>: <span style=\"color: #008000; text-decoration-color: #008000\">'ReLU'</span>, <span style=\"color: #008000; text-decoration-color: #008000\">'model_config__attn_embed_dim'</span>: <span style=\"color: #008000; text-decoration-color: #008000\">'64'</span>,                       \n",
       "<span style=\"color: #008000; text-decoration-color: #008000\">'model_config__embedding_dropout'</span>: <span style=\"color: #008080; text-decoration-color: #008080; font-weight: bold\">0.2</span>, <span style=\"color: #008000; text-decoration-color: #008000\">'model_config__layers'</span>: <span style=\"color: #008000; text-decoration-color: #008000\">'1024-512-256'</span>, <span style=\"color: #008000; text-decoration-color: #008000\">'optimizer_config__optimizer'</span>:     \n",
       "<span style=\"color: #008000; text-decoration-color: #008000\">'SGD'</span>, <span style=\"color: #008000; text-decoration-color: #008000\">'loss_0'</span>: <span style=\"color: #008080; text-decoration-color: #008080; font-weight: bold\">0.6677055954933167</span>, <span style=\"color: #008000; text-decoration-color: #008000\">'loss'</span>: <span style=\"color: #008080; text-decoration-color: #008080; font-weight: bold\">0.6677055954933167</span>, <span style=\"color: #008000; text-decoration-color: #008000\">'accuracy'</span>: <span style=\"color: #008080; text-decoration-color: #008080; font-weight: bold\">0.6291390657424927</span>, <span style=\"color: #008000; text-decoration-color: #008000\">'trial_id'</span>: <span style=\"color: #008080; text-decoration-color: #008080; font-weight: bold\">15</span><span style=\"font-weight: bold\">}</span> | \n",
       "Score: <span style=\"color: #008080; text-decoration-color: #008080; font-weight: bold\">0.6291390657424927</span>                                                                                          \n",
       "</pre>\n"
      ],
      "text/plain": [
       "\u001b[1;36m2025\u001b[0m-\u001b[1;36m02\u001b[0m-\u001b[1;36m08\u001b[0m \u001b[1;92m16:15:02\u001b[0m,\u001b[1;36m482\u001b[0m - \u001b[1m{\u001b[0mpytorch_tabular.tabular_model_tuner:\u001b[1;36m412\u001b[0m\u001b[1m}\u001b[0m - INFO - Trial \u001b[1;36m16\u001b[0m/\u001b[1;36m32\u001b[0m: \u001b[1m{\u001b[0m\u001b[32m'model'\u001b[0m:                \n",
       "\u001b[32m'1-AutoIntConfig'\u001b[0m, \u001b[32m'model_config__activation'\u001b[0m: \u001b[32m'ReLU'\u001b[0m, \u001b[32m'model_config__attn_embed_dim'\u001b[0m: \u001b[32m'64'\u001b[0m,                       \n",
       "\u001b[32m'model_config__embedding_dropout'\u001b[0m: \u001b[1;36m0.2\u001b[0m, \u001b[32m'model_config__layers'\u001b[0m: \u001b[32m'1024-512-256'\u001b[0m, \u001b[32m'optimizer_config__optimizer'\u001b[0m:     \n",
       "\u001b[32m'SGD'\u001b[0m, \u001b[32m'loss_0'\u001b[0m: \u001b[1;36m0.6677055954933167\u001b[0m, \u001b[32m'loss'\u001b[0m: \u001b[1;36m0.6677055954933167\u001b[0m, \u001b[32m'accuracy'\u001b[0m: \u001b[1;36m0.6291390657424927\u001b[0m, \u001b[32m'trial_id'\u001b[0m: \u001b[1;36m15\u001b[0m\u001b[1m}\u001b[0m | \n",
       "Score: \u001b[1;36m0.6291390657424927\u001b[0m                                                                                          \n"
      ]
     },
     "metadata": {},
     "output_type": "display_data"
    },
    {
     "data": {
      "text/html": [
       "<pre style=\"white-space:pre;overflow-x:auto;line-height:normal;font-family:Menlo,'DejaVu Sans Mono',consolas,'Courier New',monospace\">/home/max/anaconda3/envs/tabular/lib/python3.10/site-packages/pytorch_lightning/callbacks/model_checkpoint.py:639: \n",
       "Checkpoint directory /home/max/Documents/PA/pytorch_tabular/machine_learning/saved_models exists and is not empty.\n",
       "</pre>\n"
      ],
      "text/plain": [
       "/home/max/anaconda3/envs/tabular/lib/python3.10/site-packages/pytorch_lightning/callbacks/model_checkpoint.py:639: \n",
       "Checkpoint directory /home/max/Documents/PA/pytorch_tabular/machine_learning/saved_models exists and is not empty.\n"
      ]
     },
     "metadata": {},
     "output_type": "display_data"
    },
    {
     "data": {
      "text/html": [
       "<pre style=\"white-space:pre;overflow-x:auto;line-height:normal;font-family:Menlo,'DejaVu Sans Mono',consolas,'Courier New',monospace\">/home/max/anaconda3/envs/tabular/lib/python3.10/site-packages/pytorch_lightning/loops/fit_loop.py:293: The number \n",
       "of training batches (22) is smaller than the logging interval Trainer(log_every_n_steps=50). Set a lower value for \n",
       "log_every_n_steps if you want to see logs for the training epoch.\n",
       "</pre>\n"
      ],
      "text/plain": [
       "/home/max/anaconda3/envs/tabular/lib/python3.10/site-packages/pytorch_lightning/loops/fit_loop.py:293: The number \n",
       "of training batches (22) is smaller than the logging interval Trainer(log_every_n_steps=50). Set a lower value for \n",
       "log_every_n_steps if you want to see logs for the training epoch.\n"
      ]
     },
     "metadata": {},
     "output_type": "display_data"
    },
    {
     "data": {
      "application/vnd.jupyter.widget-view+json": {
       "model_id": "810e68b0ad464da8b8483dad0e898edd",
       "version_major": 2,
       "version_minor": 0
      },
      "text/plain": [
       "Finding best initial lr:   0%|          | 0/100 [00:00<?, ?it/s]"
      ]
     },
     "metadata": {},
     "output_type": "display_data"
    },
    {
     "data": {
      "text/html": [
       "<pre style=\"white-space:pre;overflow-x:auto;line-height:normal;font-family:Menlo,'DejaVu Sans Mono',consolas,'Courier New',monospace\"><span style=\"color: #008080; text-decoration-color: #008080; font-weight: bold\">2025</span>-<span style=\"color: #008080; text-decoration-color: #008080; font-weight: bold\">02</span>-<span style=\"color: #008080; text-decoration-color: #008080; font-weight: bold\">08</span> <span style=\"color: #00ff00; text-decoration-color: #00ff00; font-weight: bold\">16:15:14</span>,<span style=\"color: #008080; text-decoration-color: #008080; font-weight: bold\">567</span> - <span style=\"font-weight: bold\">{</span>pytorch_tabular.tabular_model_tuner:<span style=\"color: #008080; text-decoration-color: #008080; font-weight: bold\">412</span><span style=\"font-weight: bold\">}</span> - INFO - Trial <span style=\"color: #008080; text-decoration-color: #008080; font-weight: bold\">17</span>/<span style=\"color: #008080; text-decoration-color: #008080; font-weight: bold\">32</span>: <span style=\"font-weight: bold\">{</span><span style=\"color: #008000; text-decoration-color: #008000\">'model'</span>:                \n",
       "<span style=\"color: #008000; text-decoration-color: #008000\">'1-AutoIntConfig'</span>, <span style=\"color: #008000; text-decoration-color: #008000\">'model_config__activation'</span>: <span style=\"color: #008000; text-decoration-color: #008000\">'LeakyReLU'</span>, <span style=\"color: #008000; text-decoration-color: #008000\">'model_config__attn_embed_dim'</span>: <span style=\"color: #008000; text-decoration-color: #008000\">'32'</span>,                  \n",
       "<span style=\"color: #008000; text-decoration-color: #008000\">'model_config__embedding_dropout'</span>: <span style=\"color: #008080; text-decoration-color: #008080; font-weight: bold\">0.0</span>, <span style=\"color: #008000; text-decoration-color: #008000\">'model_config__layers'</span>: <span style=\"color: #008000; text-decoration-color: #008000\">'128-64-32'</span>, <span style=\"color: #008000; text-decoration-color: #008000\">'optimizer_config__optimizer'</span>: <span style=\"color: #008000; text-decoration-color: #008000\">'Adam'</span>,\n",
       "<span style=\"color: #008000; text-decoration-color: #008000\">'loss_0'</span>: <span style=\"color: #008080; text-decoration-color: #008080; font-weight: bold\">0.5939711332321167</span>, <span style=\"color: #008000; text-decoration-color: #008000\">'loss'</span>: <span style=\"color: #008080; text-decoration-color: #008080; font-weight: bold\">0.5939711332321167</span>, <span style=\"color: #008000; text-decoration-color: #008000\">'accuracy'</span>: <span style=\"color: #008080; text-decoration-color: #008080; font-weight: bold\">0.7052980065345764</span>, <span style=\"color: #008000; text-decoration-color: #008000\">'trial_id'</span>: <span style=\"color: #008080; text-decoration-color: #008080; font-weight: bold\">16</span><span style=\"font-weight: bold\">}</span> | Score: \n",
       "<span style=\"color: #008080; text-decoration-color: #008080; font-weight: bold\">0.7052980065345764</span>                                                                                                 \n",
       "</pre>\n"
      ],
      "text/plain": [
       "\u001b[1;36m2025\u001b[0m-\u001b[1;36m02\u001b[0m-\u001b[1;36m08\u001b[0m \u001b[1;92m16:15:14\u001b[0m,\u001b[1;36m567\u001b[0m - \u001b[1m{\u001b[0mpytorch_tabular.tabular_model_tuner:\u001b[1;36m412\u001b[0m\u001b[1m}\u001b[0m - INFO - Trial \u001b[1;36m17\u001b[0m/\u001b[1;36m32\u001b[0m: \u001b[1m{\u001b[0m\u001b[32m'model'\u001b[0m:                \n",
       "\u001b[32m'1-AutoIntConfig'\u001b[0m, \u001b[32m'model_config__activation'\u001b[0m: \u001b[32m'LeakyReLU'\u001b[0m, \u001b[32m'model_config__attn_embed_dim'\u001b[0m: \u001b[32m'32'\u001b[0m,                  \n",
       "\u001b[32m'model_config__embedding_dropout'\u001b[0m: \u001b[1;36m0.0\u001b[0m, \u001b[32m'model_config__layers'\u001b[0m: \u001b[32m'128-64-32'\u001b[0m, \u001b[32m'optimizer_config__optimizer'\u001b[0m: \u001b[32m'Adam'\u001b[0m,\n",
       "\u001b[32m'loss_0'\u001b[0m: \u001b[1;36m0.5939711332321167\u001b[0m, \u001b[32m'loss'\u001b[0m: \u001b[1;36m0.5939711332321167\u001b[0m, \u001b[32m'accuracy'\u001b[0m: \u001b[1;36m0.7052980065345764\u001b[0m, \u001b[32m'trial_id'\u001b[0m: \u001b[1;36m16\u001b[0m\u001b[1m}\u001b[0m | Score: \n",
       "\u001b[1;36m0.7052980065345764\u001b[0m                                                                                                 \n"
      ]
     },
     "metadata": {},
     "output_type": "display_data"
    },
    {
     "data": {
      "text/html": [
       "<pre style=\"white-space:pre;overflow-x:auto;line-height:normal;font-family:Menlo,'DejaVu Sans Mono',consolas,'Courier New',monospace\">/home/max/anaconda3/envs/tabular/lib/python3.10/site-packages/pytorch_lightning/callbacks/model_checkpoint.py:639: \n",
       "Checkpoint directory /home/max/Documents/PA/pytorch_tabular/machine_learning/saved_models exists and is not empty.\n",
       "</pre>\n"
      ],
      "text/plain": [
       "/home/max/anaconda3/envs/tabular/lib/python3.10/site-packages/pytorch_lightning/callbacks/model_checkpoint.py:639: \n",
       "Checkpoint directory /home/max/Documents/PA/pytorch_tabular/machine_learning/saved_models exists and is not empty.\n"
      ]
     },
     "metadata": {},
     "output_type": "display_data"
    },
    {
     "data": {
      "text/html": [
       "<pre style=\"white-space:pre;overflow-x:auto;line-height:normal;font-family:Menlo,'DejaVu Sans Mono',consolas,'Courier New',monospace\">/home/max/anaconda3/envs/tabular/lib/python3.10/site-packages/pytorch_lightning/loops/fit_loop.py:293: The number \n",
       "of training batches (22) is smaller than the logging interval Trainer(log_every_n_steps=50). Set a lower value for \n",
       "log_every_n_steps if you want to see logs for the training epoch.\n",
       "</pre>\n"
      ],
      "text/plain": [
       "/home/max/anaconda3/envs/tabular/lib/python3.10/site-packages/pytorch_lightning/loops/fit_loop.py:293: The number \n",
       "of training batches (22) is smaller than the logging interval Trainer(log_every_n_steps=50). Set a lower value for \n",
       "log_every_n_steps if you want to see logs for the training epoch.\n"
      ]
     },
     "metadata": {},
     "output_type": "display_data"
    },
    {
     "data": {
      "application/vnd.jupyter.widget-view+json": {
       "model_id": "0a0f79b015864433bce71ac3da02e383",
       "version_major": 2,
       "version_minor": 0
      },
      "text/plain": [
       "Finding best initial lr:   0%|          | 0/100 [00:00<?, ?it/s]"
      ]
     },
     "metadata": {},
     "output_type": "display_data"
    },
    {
     "data": {
      "text/html": [
       "<pre style=\"white-space:pre;overflow-x:auto;line-height:normal;font-family:Menlo,'DejaVu Sans Mono',consolas,'Courier New',monospace\"><span style=\"color: #008080; text-decoration-color: #008080; font-weight: bold\">2025</span>-<span style=\"color: #008080; text-decoration-color: #008080; font-weight: bold\">02</span>-<span style=\"color: #008080; text-decoration-color: #008080; font-weight: bold\">08</span> <span style=\"color: #00ff00; text-decoration-color: #00ff00; font-weight: bold\">16:15:23</span>,<span style=\"color: #008080; text-decoration-color: #008080; font-weight: bold\">617</span> - <span style=\"font-weight: bold\">{</span>pytorch_tabular.tabular_model_tuner:<span style=\"color: #008080; text-decoration-color: #008080; font-weight: bold\">412</span><span style=\"font-weight: bold\">}</span> - INFO - Trial <span style=\"color: #008080; text-decoration-color: #008080; font-weight: bold\">18</span>/<span style=\"color: #008080; text-decoration-color: #008080; font-weight: bold\">32</span>: <span style=\"font-weight: bold\">{</span><span style=\"color: #008000; text-decoration-color: #008000\">'model'</span>:                \n",
       "<span style=\"color: #008000; text-decoration-color: #008000\">'1-AutoIntConfig'</span>, <span style=\"color: #008000; text-decoration-color: #008000\">'model_config__activation'</span>: <span style=\"color: #008000; text-decoration-color: #008000\">'LeakyReLU'</span>, <span style=\"color: #008000; text-decoration-color: #008000\">'model_config__attn_embed_dim'</span>: <span style=\"color: #008000; text-decoration-color: #008000\">'32'</span>,                  \n",
       "<span style=\"color: #008000; text-decoration-color: #008000\">'model_config__embedding_dropout'</span>: <span style=\"color: #008080; text-decoration-color: #008080; font-weight: bold\">0.0</span>, <span style=\"color: #008000; text-decoration-color: #008000\">'model_config__layers'</span>: <span style=\"color: #008000; text-decoration-color: #008000\">'128-64-32'</span>, <span style=\"color: #008000; text-decoration-color: #008000\">'optimizer_config__optimizer'</span>: <span style=\"color: #008000; text-decoration-color: #008000\">'SGD'</span>, \n",
       "<span style=\"color: #008000; text-decoration-color: #008000\">'loss_0'</span>: <span style=\"color: #008080; text-decoration-color: #008080; font-weight: bold\">0.6663174629211426</span>, <span style=\"color: #008000; text-decoration-color: #008000\">'loss'</span>: <span style=\"color: #008080; text-decoration-color: #008080; font-weight: bold\">0.6663174629211426</span>, <span style=\"color: #008000; text-decoration-color: #008000\">'accuracy'</span>: <span style=\"color: #008080; text-decoration-color: #008080; font-weight: bold\">0.6324503421783447</span>, <span style=\"color: #008000; text-decoration-color: #008000\">'trial_id'</span>: <span style=\"color: #008080; text-decoration-color: #008080; font-weight: bold\">17</span><span style=\"font-weight: bold\">}</span> | Score: \n",
       "<span style=\"color: #008080; text-decoration-color: #008080; font-weight: bold\">0.6324503421783447</span>                                                                                                 \n",
       "</pre>\n"
      ],
      "text/plain": [
       "\u001b[1;36m2025\u001b[0m-\u001b[1;36m02\u001b[0m-\u001b[1;36m08\u001b[0m \u001b[1;92m16:15:23\u001b[0m,\u001b[1;36m617\u001b[0m - \u001b[1m{\u001b[0mpytorch_tabular.tabular_model_tuner:\u001b[1;36m412\u001b[0m\u001b[1m}\u001b[0m - INFO - Trial \u001b[1;36m18\u001b[0m/\u001b[1;36m32\u001b[0m: \u001b[1m{\u001b[0m\u001b[32m'model'\u001b[0m:                \n",
       "\u001b[32m'1-AutoIntConfig'\u001b[0m, \u001b[32m'model_config__activation'\u001b[0m: \u001b[32m'LeakyReLU'\u001b[0m, \u001b[32m'model_config__attn_embed_dim'\u001b[0m: \u001b[32m'32'\u001b[0m,                  \n",
       "\u001b[32m'model_config__embedding_dropout'\u001b[0m: \u001b[1;36m0.0\u001b[0m, \u001b[32m'model_config__layers'\u001b[0m: \u001b[32m'128-64-32'\u001b[0m, \u001b[32m'optimizer_config__optimizer'\u001b[0m: \u001b[32m'SGD'\u001b[0m, \n",
       "\u001b[32m'loss_0'\u001b[0m: \u001b[1;36m0.6663174629211426\u001b[0m, \u001b[32m'loss'\u001b[0m: \u001b[1;36m0.6663174629211426\u001b[0m, \u001b[32m'accuracy'\u001b[0m: \u001b[1;36m0.6324503421783447\u001b[0m, \u001b[32m'trial_id'\u001b[0m: \u001b[1;36m17\u001b[0m\u001b[1m}\u001b[0m | Score: \n",
       "\u001b[1;36m0.6324503421783447\u001b[0m                                                                                                 \n"
      ]
     },
     "metadata": {},
     "output_type": "display_data"
    },
    {
     "data": {
      "text/html": [
       "<pre style=\"white-space:pre;overflow-x:auto;line-height:normal;font-family:Menlo,'DejaVu Sans Mono',consolas,'Courier New',monospace\">/home/max/anaconda3/envs/tabular/lib/python3.10/site-packages/pytorch_lightning/callbacks/model_checkpoint.py:639: \n",
       "Checkpoint directory /home/max/Documents/PA/pytorch_tabular/machine_learning/saved_models exists and is not empty.\n",
       "</pre>\n"
      ],
      "text/plain": [
       "/home/max/anaconda3/envs/tabular/lib/python3.10/site-packages/pytorch_lightning/callbacks/model_checkpoint.py:639: \n",
       "Checkpoint directory /home/max/Documents/PA/pytorch_tabular/machine_learning/saved_models exists and is not empty.\n"
      ]
     },
     "metadata": {},
     "output_type": "display_data"
    },
    {
     "data": {
      "text/html": [
       "<pre style=\"white-space:pre;overflow-x:auto;line-height:normal;font-family:Menlo,'DejaVu Sans Mono',consolas,'Courier New',monospace\">/home/max/anaconda3/envs/tabular/lib/python3.10/site-packages/pytorch_lightning/loops/fit_loop.py:293: The number \n",
       "of training batches (22) is smaller than the logging interval Trainer(log_every_n_steps=50). Set a lower value for \n",
       "log_every_n_steps if you want to see logs for the training epoch.\n",
       "</pre>\n"
      ],
      "text/plain": [
       "/home/max/anaconda3/envs/tabular/lib/python3.10/site-packages/pytorch_lightning/loops/fit_loop.py:293: The number \n",
       "of training batches (22) is smaller than the logging interval Trainer(log_every_n_steps=50). Set a lower value for \n",
       "log_every_n_steps if you want to see logs for the training epoch.\n"
      ]
     },
     "metadata": {},
     "output_type": "display_data"
    },
    {
     "data": {
      "application/vnd.jupyter.widget-view+json": {
       "model_id": "f3f4245018914547871669e23dd6ab6c",
       "version_major": 2,
       "version_minor": 0
      },
      "text/plain": [
       "Finding best initial lr:   0%|          | 0/100 [00:00<?, ?it/s]"
      ]
     },
     "metadata": {},
     "output_type": "display_data"
    },
    {
     "data": {
      "text/html": [
       "<pre style=\"white-space:pre;overflow-x:auto;line-height:normal;font-family:Menlo,'DejaVu Sans Mono',consolas,'Courier New',monospace\"><span style=\"color: #008080; text-decoration-color: #008080; font-weight: bold\">2025</span>-<span style=\"color: #008080; text-decoration-color: #008080; font-weight: bold\">02</span>-<span style=\"color: #008080; text-decoration-color: #008080; font-weight: bold\">08</span> <span style=\"color: #00ff00; text-decoration-color: #00ff00; font-weight: bold\">16:15:29</span>,<span style=\"color: #008080; text-decoration-color: #008080; font-weight: bold\">796</span> - <span style=\"font-weight: bold\">{</span>pytorch_tabular.tabular_model_tuner:<span style=\"color: #008080; text-decoration-color: #008080; font-weight: bold\">412</span><span style=\"font-weight: bold\">}</span> - INFO - Trial <span style=\"color: #008080; text-decoration-color: #008080; font-weight: bold\">19</span>/<span style=\"color: #008080; text-decoration-color: #008080; font-weight: bold\">32</span>: <span style=\"font-weight: bold\">{</span><span style=\"color: #008000; text-decoration-color: #008000\">'model'</span>:                \n",
       "<span style=\"color: #008000; text-decoration-color: #008000\">'1-AutoIntConfig'</span>, <span style=\"color: #008000; text-decoration-color: #008000\">'model_config__activation'</span>: <span style=\"color: #008000; text-decoration-color: #008000\">'LeakyReLU'</span>, <span style=\"color: #008000; text-decoration-color: #008000\">'model_config__attn_embed_dim'</span>: <span style=\"color: #008000; text-decoration-color: #008000\">'32'</span>,                  \n",
       "<span style=\"color: #008000; text-decoration-color: #008000\">'model_config__embedding_dropout'</span>: <span style=\"color: #008080; text-decoration-color: #008080; font-weight: bold\">0.0</span>, <span style=\"color: #008000; text-decoration-color: #008000\">'model_config__layers'</span>: <span style=\"color: #008000; text-decoration-color: #008000\">'1024-512-256'</span>, <span style=\"color: #008000; text-decoration-color: #008000\">'optimizer_config__optimizer'</span>:     \n",
       "<span style=\"color: #008000; text-decoration-color: #008000\">'Adam'</span>, <span style=\"color: #008000; text-decoration-color: #008000\">'loss_0'</span>: <span style=\"color: #008080; text-decoration-color: #008080; font-weight: bold\">0.6774531602859497</span>, <span style=\"color: #008000; text-decoration-color: #008000\">'loss'</span>: <span style=\"color: #008080; text-decoration-color: #008080; font-weight: bold\">0.6774531602859497</span>, <span style=\"color: #008000; text-decoration-color: #008000\">'accuracy'</span>: <span style=\"color: #008080; text-decoration-color: #008080; font-weight: bold\">0.5993377566337585</span>, <span style=\"color: #008000; text-decoration-color: #008000\">'trial_id'</span>: <span style=\"color: #008080; text-decoration-color: #008080; font-weight: bold\">18</span><span style=\"font-weight: bold\">}</span> |\n",
       "Score: <span style=\"color: #008080; text-decoration-color: #008080; font-weight: bold\">0.5993377566337585</span>                                                                                          \n",
       "</pre>\n"
      ],
      "text/plain": [
       "\u001b[1;36m2025\u001b[0m-\u001b[1;36m02\u001b[0m-\u001b[1;36m08\u001b[0m \u001b[1;92m16:15:29\u001b[0m,\u001b[1;36m796\u001b[0m - \u001b[1m{\u001b[0mpytorch_tabular.tabular_model_tuner:\u001b[1;36m412\u001b[0m\u001b[1m}\u001b[0m - INFO - Trial \u001b[1;36m19\u001b[0m/\u001b[1;36m32\u001b[0m: \u001b[1m{\u001b[0m\u001b[32m'model'\u001b[0m:                \n",
       "\u001b[32m'1-AutoIntConfig'\u001b[0m, \u001b[32m'model_config__activation'\u001b[0m: \u001b[32m'LeakyReLU'\u001b[0m, \u001b[32m'model_config__attn_embed_dim'\u001b[0m: \u001b[32m'32'\u001b[0m,                  \n",
       "\u001b[32m'model_config__embedding_dropout'\u001b[0m: \u001b[1;36m0.0\u001b[0m, \u001b[32m'model_config__layers'\u001b[0m: \u001b[32m'1024-512-256'\u001b[0m, \u001b[32m'optimizer_config__optimizer'\u001b[0m:     \n",
       "\u001b[32m'Adam'\u001b[0m, \u001b[32m'loss_0'\u001b[0m: \u001b[1;36m0.6774531602859497\u001b[0m, \u001b[32m'loss'\u001b[0m: \u001b[1;36m0.6774531602859497\u001b[0m, \u001b[32m'accuracy'\u001b[0m: \u001b[1;36m0.5993377566337585\u001b[0m, \u001b[32m'trial_id'\u001b[0m: \u001b[1;36m18\u001b[0m\u001b[1m}\u001b[0m |\n",
       "Score: \u001b[1;36m0.5993377566337585\u001b[0m                                                                                          \n"
      ]
     },
     "metadata": {},
     "output_type": "display_data"
    },
    {
     "data": {
      "text/html": [
       "<pre style=\"white-space:pre;overflow-x:auto;line-height:normal;font-family:Menlo,'DejaVu Sans Mono',consolas,'Courier New',monospace\">/home/max/anaconda3/envs/tabular/lib/python3.10/site-packages/pytorch_lightning/callbacks/model_checkpoint.py:639: \n",
       "Checkpoint directory /home/max/Documents/PA/pytorch_tabular/machine_learning/saved_models exists and is not empty.\n",
       "</pre>\n"
      ],
      "text/plain": [
       "/home/max/anaconda3/envs/tabular/lib/python3.10/site-packages/pytorch_lightning/callbacks/model_checkpoint.py:639: \n",
       "Checkpoint directory /home/max/Documents/PA/pytorch_tabular/machine_learning/saved_models exists and is not empty.\n"
      ]
     },
     "metadata": {},
     "output_type": "display_data"
    },
    {
     "data": {
      "text/html": [
       "<pre style=\"white-space:pre;overflow-x:auto;line-height:normal;font-family:Menlo,'DejaVu Sans Mono',consolas,'Courier New',monospace\">/home/max/anaconda3/envs/tabular/lib/python3.10/site-packages/pytorch_lightning/loops/fit_loop.py:293: The number \n",
       "of training batches (22) is smaller than the logging interval Trainer(log_every_n_steps=50). Set a lower value for \n",
       "log_every_n_steps if you want to see logs for the training epoch.\n",
       "</pre>\n"
      ],
      "text/plain": [
       "/home/max/anaconda3/envs/tabular/lib/python3.10/site-packages/pytorch_lightning/loops/fit_loop.py:293: The number \n",
       "of training batches (22) is smaller than the logging interval Trainer(log_every_n_steps=50). Set a lower value for \n",
       "log_every_n_steps if you want to see logs for the training epoch.\n"
      ]
     },
     "metadata": {},
     "output_type": "display_data"
    },
    {
     "data": {
      "application/vnd.jupyter.widget-view+json": {
       "model_id": "edfc1023b301489a91aa43f38d0b7fb0",
       "version_major": 2,
       "version_minor": 0
      },
      "text/plain": [
       "Finding best initial lr:   0%|          | 0/100 [00:00<?, ?it/s]"
      ]
     },
     "metadata": {},
     "output_type": "display_data"
    },
    {
     "data": {
      "text/html": [
       "<pre style=\"white-space:pre;overflow-x:auto;line-height:normal;font-family:Menlo,'DejaVu Sans Mono',consolas,'Courier New',monospace\"><span style=\"color: #008080; text-decoration-color: #008080; font-weight: bold\">2025</span>-<span style=\"color: #008080; text-decoration-color: #008080; font-weight: bold\">02</span>-<span style=\"color: #008080; text-decoration-color: #008080; font-weight: bold\">08</span> <span style=\"color: #00ff00; text-decoration-color: #00ff00; font-weight: bold\">16:15:36</span>,<span style=\"color: #008080; text-decoration-color: #008080; font-weight: bold\">711</span> - <span style=\"font-weight: bold\">{</span>pytorch_tabular.tabular_model_tuner:<span style=\"color: #008080; text-decoration-color: #008080; font-weight: bold\">412</span><span style=\"font-weight: bold\">}</span> - INFO - Trial <span style=\"color: #008080; text-decoration-color: #008080; font-weight: bold\">20</span>/<span style=\"color: #008080; text-decoration-color: #008080; font-weight: bold\">32</span>: <span style=\"font-weight: bold\">{</span><span style=\"color: #008000; text-decoration-color: #008000\">'model'</span>:                \n",
       "<span style=\"color: #008000; text-decoration-color: #008000\">'1-AutoIntConfig'</span>, <span style=\"color: #008000; text-decoration-color: #008000\">'model_config__activation'</span>: <span style=\"color: #008000; text-decoration-color: #008000\">'LeakyReLU'</span>, <span style=\"color: #008000; text-decoration-color: #008000\">'model_config__attn_embed_dim'</span>: <span style=\"color: #008000; text-decoration-color: #008000\">'32'</span>,                  \n",
       "<span style=\"color: #008000; text-decoration-color: #008000\">'model_config__embedding_dropout'</span>: <span style=\"color: #008080; text-decoration-color: #008080; font-weight: bold\">0.0</span>, <span style=\"color: #008000; text-decoration-color: #008000\">'model_config__layers'</span>: <span style=\"color: #008000; text-decoration-color: #008000\">'1024-512-256'</span>, <span style=\"color: #008000; text-decoration-color: #008000\">'optimizer_config__optimizer'</span>:     \n",
       "<span style=\"color: #008000; text-decoration-color: #008000\">'SGD'</span>, <span style=\"color: #008000; text-decoration-color: #008000\">'loss_0'</span>: <span style=\"color: #008080; text-decoration-color: #008080; font-weight: bold\">0.6679097414016724</span>, <span style=\"color: #008000; text-decoration-color: #008000\">'loss'</span>: <span style=\"color: #008080; text-decoration-color: #008080; font-weight: bold\">0.6679097414016724</span>, <span style=\"color: #008000; text-decoration-color: #008000\">'accuracy'</span>: <span style=\"color: #008080; text-decoration-color: #008080; font-weight: bold\">0.639072835445404</span>, <span style=\"color: #008000; text-decoration-color: #008000\">'trial_id'</span>: <span style=\"color: #008080; text-decoration-color: #008080; font-weight: bold\">19</span><span style=\"font-weight: bold\">}</span> |  \n",
       "Score: <span style=\"color: #008080; text-decoration-color: #008080; font-weight: bold\">0.639072835445404</span>                                                                                           \n",
       "</pre>\n"
      ],
      "text/plain": [
       "\u001b[1;36m2025\u001b[0m-\u001b[1;36m02\u001b[0m-\u001b[1;36m08\u001b[0m \u001b[1;92m16:15:36\u001b[0m,\u001b[1;36m711\u001b[0m - \u001b[1m{\u001b[0mpytorch_tabular.tabular_model_tuner:\u001b[1;36m412\u001b[0m\u001b[1m}\u001b[0m - INFO - Trial \u001b[1;36m20\u001b[0m/\u001b[1;36m32\u001b[0m: \u001b[1m{\u001b[0m\u001b[32m'model'\u001b[0m:                \n",
       "\u001b[32m'1-AutoIntConfig'\u001b[0m, \u001b[32m'model_config__activation'\u001b[0m: \u001b[32m'LeakyReLU'\u001b[0m, \u001b[32m'model_config__attn_embed_dim'\u001b[0m: \u001b[32m'32'\u001b[0m,                  \n",
       "\u001b[32m'model_config__embedding_dropout'\u001b[0m: \u001b[1;36m0.0\u001b[0m, \u001b[32m'model_config__layers'\u001b[0m: \u001b[32m'1024-512-256'\u001b[0m, \u001b[32m'optimizer_config__optimizer'\u001b[0m:     \n",
       "\u001b[32m'SGD'\u001b[0m, \u001b[32m'loss_0'\u001b[0m: \u001b[1;36m0.6679097414016724\u001b[0m, \u001b[32m'loss'\u001b[0m: \u001b[1;36m0.6679097414016724\u001b[0m, \u001b[32m'accuracy'\u001b[0m: \u001b[1;36m0.639072835445404\u001b[0m, \u001b[32m'trial_id'\u001b[0m: \u001b[1;36m19\u001b[0m\u001b[1m}\u001b[0m |  \n",
       "Score: \u001b[1;36m0.639072835445404\u001b[0m                                                                                           \n"
      ]
     },
     "metadata": {},
     "output_type": "display_data"
    },
    {
     "data": {
      "text/html": [
       "<pre style=\"white-space:pre;overflow-x:auto;line-height:normal;font-family:Menlo,'DejaVu Sans Mono',consolas,'Courier New',monospace\">/home/max/anaconda3/envs/tabular/lib/python3.10/site-packages/pytorch_lightning/callbacks/model_checkpoint.py:639: \n",
       "Checkpoint directory /home/max/Documents/PA/pytorch_tabular/machine_learning/saved_models exists and is not empty.\n",
       "</pre>\n"
      ],
      "text/plain": [
       "/home/max/anaconda3/envs/tabular/lib/python3.10/site-packages/pytorch_lightning/callbacks/model_checkpoint.py:639: \n",
       "Checkpoint directory /home/max/Documents/PA/pytorch_tabular/machine_learning/saved_models exists and is not empty.\n"
      ]
     },
     "metadata": {},
     "output_type": "display_data"
    },
    {
     "data": {
      "text/html": [
       "<pre style=\"white-space:pre;overflow-x:auto;line-height:normal;font-family:Menlo,'DejaVu Sans Mono',consolas,'Courier New',monospace\">/home/max/anaconda3/envs/tabular/lib/python3.10/site-packages/pytorch_lightning/loops/fit_loop.py:293: The number \n",
       "of training batches (22) is smaller than the logging interval Trainer(log_every_n_steps=50). Set a lower value for \n",
       "log_every_n_steps if you want to see logs for the training epoch.\n",
       "</pre>\n"
      ],
      "text/plain": [
       "/home/max/anaconda3/envs/tabular/lib/python3.10/site-packages/pytorch_lightning/loops/fit_loop.py:293: The number \n",
       "of training batches (22) is smaller than the logging interval Trainer(log_every_n_steps=50). Set a lower value for \n",
       "log_every_n_steps if you want to see logs for the training epoch.\n"
      ]
     },
     "metadata": {},
     "output_type": "display_data"
    },
    {
     "data": {
      "application/vnd.jupyter.widget-view+json": {
       "model_id": "bf7a80c330c54ab188eae77b856b4f5c",
       "version_major": 2,
       "version_minor": 0
      },
      "text/plain": [
       "Finding best initial lr:   0%|          | 0/100 [00:00<?, ?it/s]"
      ]
     },
     "metadata": {},
     "output_type": "display_data"
    },
    {
     "data": {
      "text/html": [
       "<pre style=\"white-space:pre;overflow-x:auto;line-height:normal;font-family:Menlo,'DejaVu Sans Mono',consolas,'Courier New',monospace\"><span style=\"color: #008080; text-decoration-color: #008080; font-weight: bold\">2025</span>-<span style=\"color: #008080; text-decoration-color: #008080; font-weight: bold\">02</span>-<span style=\"color: #008080; text-decoration-color: #008080; font-weight: bold\">08</span> <span style=\"color: #00ff00; text-decoration-color: #00ff00; font-weight: bold\">16:15:49</span>,<span style=\"color: #008080; text-decoration-color: #008080; font-weight: bold\">815</span> - <span style=\"font-weight: bold\">{</span>pytorch_tabular.tabular_model_tuner:<span style=\"color: #008080; text-decoration-color: #008080; font-weight: bold\">412</span><span style=\"font-weight: bold\">}</span> - INFO - Trial <span style=\"color: #008080; text-decoration-color: #008080; font-weight: bold\">21</span>/<span style=\"color: #008080; text-decoration-color: #008080; font-weight: bold\">32</span>: <span style=\"font-weight: bold\">{</span><span style=\"color: #008000; text-decoration-color: #008000\">'model'</span>:                \n",
       "<span style=\"color: #008000; text-decoration-color: #008000\">'1-AutoIntConfig'</span>, <span style=\"color: #008000; text-decoration-color: #008000\">'model_config__activation'</span>: <span style=\"color: #008000; text-decoration-color: #008000\">'LeakyReLU'</span>, <span style=\"color: #008000; text-decoration-color: #008000\">'model_config__attn_embed_dim'</span>: <span style=\"color: #008000; text-decoration-color: #008000\">'32'</span>,                  \n",
       "<span style=\"color: #008000; text-decoration-color: #008000\">'model_config__embedding_dropout'</span>: <span style=\"color: #008080; text-decoration-color: #008080; font-weight: bold\">0.2</span>, <span style=\"color: #008000; text-decoration-color: #008000\">'model_config__layers'</span>: <span style=\"color: #008000; text-decoration-color: #008000\">'128-64-32'</span>, <span style=\"color: #008000; text-decoration-color: #008000\">'optimizer_config__optimizer'</span>: <span style=\"color: #008000; text-decoration-color: #008000\">'Adam'</span>,\n",
       "<span style=\"color: #008000; text-decoration-color: #008000\">'loss_0'</span>: <span style=\"color: #008080; text-decoration-color: #008080; font-weight: bold\">0.608859658241272</span>, <span style=\"color: #008000; text-decoration-color: #008000\">'loss'</span>: <span style=\"color: #008080; text-decoration-color: #008080; font-weight: bold\">0.608859658241272</span>, <span style=\"color: #008000; text-decoration-color: #008000\">'accuracy'</span>: <span style=\"color: #008080; text-decoration-color: #008080; font-weight: bold\">0.6986755132675171</span>, <span style=\"color: #008000; text-decoration-color: #008000\">'trial_id'</span>: <span style=\"color: #008080; text-decoration-color: #008080; font-weight: bold\">20</span><span style=\"font-weight: bold\">}</span> | Score:   \n",
       "<span style=\"color: #008080; text-decoration-color: #008080; font-weight: bold\">0.6986755132675171</span>                                                                                                 \n",
       "</pre>\n"
      ],
      "text/plain": [
       "\u001b[1;36m2025\u001b[0m-\u001b[1;36m02\u001b[0m-\u001b[1;36m08\u001b[0m \u001b[1;92m16:15:49\u001b[0m,\u001b[1;36m815\u001b[0m - \u001b[1m{\u001b[0mpytorch_tabular.tabular_model_tuner:\u001b[1;36m412\u001b[0m\u001b[1m}\u001b[0m - INFO - Trial \u001b[1;36m21\u001b[0m/\u001b[1;36m32\u001b[0m: \u001b[1m{\u001b[0m\u001b[32m'model'\u001b[0m:                \n",
       "\u001b[32m'1-AutoIntConfig'\u001b[0m, \u001b[32m'model_config__activation'\u001b[0m: \u001b[32m'LeakyReLU'\u001b[0m, \u001b[32m'model_config__attn_embed_dim'\u001b[0m: \u001b[32m'32'\u001b[0m,                  \n",
       "\u001b[32m'model_config__embedding_dropout'\u001b[0m: \u001b[1;36m0.2\u001b[0m, \u001b[32m'model_config__layers'\u001b[0m: \u001b[32m'128-64-32'\u001b[0m, \u001b[32m'optimizer_config__optimizer'\u001b[0m: \u001b[32m'Adam'\u001b[0m,\n",
       "\u001b[32m'loss_0'\u001b[0m: \u001b[1;36m0.608859658241272\u001b[0m, \u001b[32m'loss'\u001b[0m: \u001b[1;36m0.608859658241272\u001b[0m, \u001b[32m'accuracy'\u001b[0m: \u001b[1;36m0.6986755132675171\u001b[0m, \u001b[32m'trial_id'\u001b[0m: \u001b[1;36m20\u001b[0m\u001b[1m}\u001b[0m | Score:   \n",
       "\u001b[1;36m0.6986755132675171\u001b[0m                                                                                                 \n"
      ]
     },
     "metadata": {},
     "output_type": "display_data"
    },
    {
     "data": {
      "text/html": [
       "<pre style=\"white-space:pre;overflow-x:auto;line-height:normal;font-family:Menlo,'DejaVu Sans Mono',consolas,'Courier New',monospace\">/home/max/anaconda3/envs/tabular/lib/python3.10/site-packages/pytorch_lightning/callbacks/model_checkpoint.py:639: \n",
       "Checkpoint directory /home/max/Documents/PA/pytorch_tabular/machine_learning/saved_models exists and is not empty.\n",
       "</pre>\n"
      ],
      "text/plain": [
       "/home/max/anaconda3/envs/tabular/lib/python3.10/site-packages/pytorch_lightning/callbacks/model_checkpoint.py:639: \n",
       "Checkpoint directory /home/max/Documents/PA/pytorch_tabular/machine_learning/saved_models exists and is not empty.\n"
      ]
     },
     "metadata": {},
     "output_type": "display_data"
    },
    {
     "data": {
      "text/html": [
       "<pre style=\"white-space:pre;overflow-x:auto;line-height:normal;font-family:Menlo,'DejaVu Sans Mono',consolas,'Courier New',monospace\">/home/max/anaconda3/envs/tabular/lib/python3.10/site-packages/pytorch_lightning/loops/fit_loop.py:293: The number \n",
       "of training batches (22) is smaller than the logging interval Trainer(log_every_n_steps=50). Set a lower value for \n",
       "log_every_n_steps if you want to see logs for the training epoch.\n",
       "</pre>\n"
      ],
      "text/plain": [
       "/home/max/anaconda3/envs/tabular/lib/python3.10/site-packages/pytorch_lightning/loops/fit_loop.py:293: The number \n",
       "of training batches (22) is smaller than the logging interval Trainer(log_every_n_steps=50). Set a lower value for \n",
       "log_every_n_steps if you want to see logs for the training epoch.\n"
      ]
     },
     "metadata": {},
     "output_type": "display_data"
    },
    {
     "data": {
      "application/vnd.jupyter.widget-view+json": {
       "model_id": "f6be310c72374f109315c5ba2703c511",
       "version_major": 2,
       "version_minor": 0
      },
      "text/plain": [
       "Finding best initial lr:   0%|          | 0/100 [00:00<?, ?it/s]"
      ]
     },
     "metadata": {},
     "output_type": "display_data"
    },
    {
     "data": {
      "text/html": [
       "<pre style=\"white-space:pre;overflow-x:auto;line-height:normal;font-family:Menlo,'DejaVu Sans Mono',consolas,'Courier New',monospace\"><span style=\"color: #008080; text-decoration-color: #008080; font-weight: bold\">2025</span>-<span style=\"color: #008080; text-decoration-color: #008080; font-weight: bold\">02</span>-<span style=\"color: #008080; text-decoration-color: #008080; font-weight: bold\">08</span> <span style=\"color: #00ff00; text-decoration-color: #00ff00; font-weight: bold\">16:16:00</span>,<span style=\"color: #008080; text-decoration-color: #008080; font-weight: bold\">579</span> - <span style=\"font-weight: bold\">{</span>pytorch_tabular.tabular_model_tuner:<span style=\"color: #008080; text-decoration-color: #008080; font-weight: bold\">412</span><span style=\"font-weight: bold\">}</span> - INFO - Trial <span style=\"color: #008080; text-decoration-color: #008080; font-weight: bold\">22</span>/<span style=\"color: #008080; text-decoration-color: #008080; font-weight: bold\">32</span>: <span style=\"font-weight: bold\">{</span><span style=\"color: #008000; text-decoration-color: #008000\">'model'</span>:                \n",
       "<span style=\"color: #008000; text-decoration-color: #008000\">'1-AutoIntConfig'</span>, <span style=\"color: #008000; text-decoration-color: #008000\">'model_config__activation'</span>: <span style=\"color: #008000; text-decoration-color: #008000\">'LeakyReLU'</span>, <span style=\"color: #008000; text-decoration-color: #008000\">'model_config__attn_embed_dim'</span>: <span style=\"color: #008000; text-decoration-color: #008000\">'32'</span>,                  \n",
       "<span style=\"color: #008000; text-decoration-color: #008000\">'model_config__embedding_dropout'</span>: <span style=\"color: #008080; text-decoration-color: #008080; font-weight: bold\">0.2</span>, <span style=\"color: #008000; text-decoration-color: #008000\">'model_config__layers'</span>: <span style=\"color: #008000; text-decoration-color: #008000\">'128-64-32'</span>, <span style=\"color: #008000; text-decoration-color: #008000\">'optimizer_config__optimizer'</span>: <span style=\"color: #008000; text-decoration-color: #008000\">'SGD'</span>, \n",
       "<span style=\"color: #008000; text-decoration-color: #008000\">'loss_0'</span>: <span style=\"color: #008080; text-decoration-color: #008080; font-weight: bold\">0.6705297231674194</span>, <span style=\"color: #008000; text-decoration-color: #008000\">'loss'</span>: <span style=\"color: #008080; text-decoration-color: #008080; font-weight: bold\">0.6705297231674194</span>, <span style=\"color: #008000; text-decoration-color: #008000\">'accuracy'</span>: <span style=\"color: #008080; text-decoration-color: #008080; font-weight: bold\">0.6291390657424927</span>, <span style=\"color: #008000; text-decoration-color: #008000\">'trial_id'</span>: <span style=\"color: #008080; text-decoration-color: #008080; font-weight: bold\">21</span><span style=\"font-weight: bold\">}</span> | Score: \n",
       "<span style=\"color: #008080; text-decoration-color: #008080; font-weight: bold\">0.6291390657424927</span>                                                                                                 \n",
       "</pre>\n"
      ],
      "text/plain": [
       "\u001b[1;36m2025\u001b[0m-\u001b[1;36m02\u001b[0m-\u001b[1;36m08\u001b[0m \u001b[1;92m16:16:00\u001b[0m,\u001b[1;36m579\u001b[0m - \u001b[1m{\u001b[0mpytorch_tabular.tabular_model_tuner:\u001b[1;36m412\u001b[0m\u001b[1m}\u001b[0m - INFO - Trial \u001b[1;36m22\u001b[0m/\u001b[1;36m32\u001b[0m: \u001b[1m{\u001b[0m\u001b[32m'model'\u001b[0m:                \n",
       "\u001b[32m'1-AutoIntConfig'\u001b[0m, \u001b[32m'model_config__activation'\u001b[0m: \u001b[32m'LeakyReLU'\u001b[0m, \u001b[32m'model_config__attn_embed_dim'\u001b[0m: \u001b[32m'32'\u001b[0m,                  \n",
       "\u001b[32m'model_config__embedding_dropout'\u001b[0m: \u001b[1;36m0.2\u001b[0m, \u001b[32m'model_config__layers'\u001b[0m: \u001b[32m'128-64-32'\u001b[0m, \u001b[32m'optimizer_config__optimizer'\u001b[0m: \u001b[32m'SGD'\u001b[0m, \n",
       "\u001b[32m'loss_0'\u001b[0m: \u001b[1;36m0.6705297231674194\u001b[0m, \u001b[32m'loss'\u001b[0m: \u001b[1;36m0.6705297231674194\u001b[0m, \u001b[32m'accuracy'\u001b[0m: \u001b[1;36m0.6291390657424927\u001b[0m, \u001b[32m'trial_id'\u001b[0m: \u001b[1;36m21\u001b[0m\u001b[1m}\u001b[0m | Score: \n",
       "\u001b[1;36m0.6291390657424927\u001b[0m                                                                                                 \n"
      ]
     },
     "metadata": {},
     "output_type": "display_data"
    },
    {
     "data": {
      "text/html": [
       "<pre style=\"white-space:pre;overflow-x:auto;line-height:normal;font-family:Menlo,'DejaVu Sans Mono',consolas,'Courier New',monospace\">/home/max/anaconda3/envs/tabular/lib/python3.10/site-packages/pytorch_lightning/callbacks/model_checkpoint.py:639: \n",
       "Checkpoint directory /home/max/Documents/PA/pytorch_tabular/machine_learning/saved_models exists and is not empty.\n",
       "</pre>\n"
      ],
      "text/plain": [
       "/home/max/anaconda3/envs/tabular/lib/python3.10/site-packages/pytorch_lightning/callbacks/model_checkpoint.py:639: \n",
       "Checkpoint directory /home/max/Documents/PA/pytorch_tabular/machine_learning/saved_models exists and is not empty.\n"
      ]
     },
     "metadata": {},
     "output_type": "display_data"
    },
    {
     "data": {
      "text/html": [
       "<pre style=\"white-space:pre;overflow-x:auto;line-height:normal;font-family:Menlo,'DejaVu Sans Mono',consolas,'Courier New',monospace\">/home/max/anaconda3/envs/tabular/lib/python3.10/site-packages/pytorch_lightning/loops/fit_loop.py:293: The number \n",
       "of training batches (22) is smaller than the logging interval Trainer(log_every_n_steps=50). Set a lower value for \n",
       "log_every_n_steps if you want to see logs for the training epoch.\n",
       "</pre>\n"
      ],
      "text/plain": [
       "/home/max/anaconda3/envs/tabular/lib/python3.10/site-packages/pytorch_lightning/loops/fit_loop.py:293: The number \n",
       "of training batches (22) is smaller than the logging interval Trainer(log_every_n_steps=50). Set a lower value for \n",
       "log_every_n_steps if you want to see logs for the training epoch.\n"
      ]
     },
     "metadata": {},
     "output_type": "display_data"
    },
    {
     "data": {
      "application/vnd.jupyter.widget-view+json": {
       "model_id": "ce5641bea6104603930dbbe5367649a8",
       "version_major": 2,
       "version_minor": 0
      },
      "text/plain": [
       "Finding best initial lr:   0%|          | 0/100 [00:00<?, ?it/s]"
      ]
     },
     "metadata": {},
     "output_type": "display_data"
    },
    {
     "data": {
      "text/html": [
       "<pre style=\"white-space:pre;overflow-x:auto;line-height:normal;font-family:Menlo,'DejaVu Sans Mono',consolas,'Courier New',monospace\"><span style=\"color: #008080; text-decoration-color: #008080; font-weight: bold\">2025</span>-<span style=\"color: #008080; text-decoration-color: #008080; font-weight: bold\">02</span>-<span style=\"color: #008080; text-decoration-color: #008080; font-weight: bold\">08</span> <span style=\"color: #00ff00; text-decoration-color: #00ff00; font-weight: bold\">16:16:10</span>,<span style=\"color: #008080; text-decoration-color: #008080; font-weight: bold\">557</span> - <span style=\"font-weight: bold\">{</span>pytorch_tabular.tabular_model_tuner:<span style=\"color: #008080; text-decoration-color: #008080; font-weight: bold\">412</span><span style=\"font-weight: bold\">}</span> - INFO - Trial <span style=\"color: #008080; text-decoration-color: #008080; font-weight: bold\">23</span>/<span style=\"color: #008080; text-decoration-color: #008080; font-weight: bold\">32</span>: <span style=\"font-weight: bold\">{</span><span style=\"color: #008000; text-decoration-color: #008000\">'model'</span>:                \n",
       "<span style=\"color: #008000; text-decoration-color: #008000\">'1-AutoIntConfig'</span>, <span style=\"color: #008000; text-decoration-color: #008000\">'model_config__activation'</span>: <span style=\"color: #008000; text-decoration-color: #008000\">'LeakyReLU'</span>, <span style=\"color: #008000; text-decoration-color: #008000\">'model_config__attn_embed_dim'</span>: <span style=\"color: #008000; text-decoration-color: #008000\">'32'</span>,                  \n",
       "<span style=\"color: #008000; text-decoration-color: #008000\">'model_config__embedding_dropout'</span>: <span style=\"color: #008080; text-decoration-color: #008080; font-weight: bold\">0.2</span>, <span style=\"color: #008000; text-decoration-color: #008000\">'model_config__layers'</span>: <span style=\"color: #008000; text-decoration-color: #008000\">'1024-512-256'</span>, <span style=\"color: #008000; text-decoration-color: #008000\">'optimizer_config__optimizer'</span>:     \n",
       "<span style=\"color: #008000; text-decoration-color: #008000\">'Adam'</span>, <span style=\"color: #008000; text-decoration-color: #008000\">'loss_0'</span>: <span style=\"color: #008080; text-decoration-color: #008080; font-weight: bold\">0.6154693365097046</span>, <span style=\"color: #008000; text-decoration-color: #008000\">'loss'</span>: <span style=\"color: #008080; text-decoration-color: #008080; font-weight: bold\">0.6154693365097046</span>, <span style=\"color: #008000; text-decoration-color: #008000\">'accuracy'</span>: <span style=\"color: #008080; text-decoration-color: #008080; font-weight: bold\">0.7052980065345764</span>, <span style=\"color: #008000; text-decoration-color: #008000\">'trial_id'</span>: <span style=\"color: #008080; text-decoration-color: #008080; font-weight: bold\">22</span><span style=\"font-weight: bold\">}</span> |\n",
       "Score: <span style=\"color: #008080; text-decoration-color: #008080; font-weight: bold\">0.7052980065345764</span>                                                                                          \n",
       "</pre>\n"
      ],
      "text/plain": [
       "\u001b[1;36m2025\u001b[0m-\u001b[1;36m02\u001b[0m-\u001b[1;36m08\u001b[0m \u001b[1;92m16:16:10\u001b[0m,\u001b[1;36m557\u001b[0m - \u001b[1m{\u001b[0mpytorch_tabular.tabular_model_tuner:\u001b[1;36m412\u001b[0m\u001b[1m}\u001b[0m - INFO - Trial \u001b[1;36m23\u001b[0m/\u001b[1;36m32\u001b[0m: \u001b[1m{\u001b[0m\u001b[32m'model'\u001b[0m:                \n",
       "\u001b[32m'1-AutoIntConfig'\u001b[0m, \u001b[32m'model_config__activation'\u001b[0m: \u001b[32m'LeakyReLU'\u001b[0m, \u001b[32m'model_config__attn_embed_dim'\u001b[0m: \u001b[32m'32'\u001b[0m,                  \n",
       "\u001b[32m'model_config__embedding_dropout'\u001b[0m: \u001b[1;36m0.2\u001b[0m, \u001b[32m'model_config__layers'\u001b[0m: \u001b[32m'1024-512-256'\u001b[0m, \u001b[32m'optimizer_config__optimizer'\u001b[0m:     \n",
       "\u001b[32m'Adam'\u001b[0m, \u001b[32m'loss_0'\u001b[0m: \u001b[1;36m0.6154693365097046\u001b[0m, \u001b[32m'loss'\u001b[0m: \u001b[1;36m0.6154693365097046\u001b[0m, \u001b[32m'accuracy'\u001b[0m: \u001b[1;36m0.7052980065345764\u001b[0m, \u001b[32m'trial_id'\u001b[0m: \u001b[1;36m22\u001b[0m\u001b[1m}\u001b[0m |\n",
       "Score: \u001b[1;36m0.7052980065345764\u001b[0m                                                                                          \n"
      ]
     },
     "metadata": {},
     "output_type": "display_data"
    },
    {
     "data": {
      "text/html": [
       "<pre style=\"white-space:pre;overflow-x:auto;line-height:normal;font-family:Menlo,'DejaVu Sans Mono',consolas,'Courier New',monospace\">/home/max/anaconda3/envs/tabular/lib/python3.10/site-packages/pytorch_lightning/callbacks/model_checkpoint.py:639: \n",
       "Checkpoint directory /home/max/Documents/PA/pytorch_tabular/machine_learning/saved_models exists and is not empty.\n",
       "</pre>\n"
      ],
      "text/plain": [
       "/home/max/anaconda3/envs/tabular/lib/python3.10/site-packages/pytorch_lightning/callbacks/model_checkpoint.py:639: \n",
       "Checkpoint directory /home/max/Documents/PA/pytorch_tabular/machine_learning/saved_models exists and is not empty.\n"
      ]
     },
     "metadata": {},
     "output_type": "display_data"
    },
    {
     "data": {
      "text/html": [
       "<pre style=\"white-space:pre;overflow-x:auto;line-height:normal;font-family:Menlo,'DejaVu Sans Mono',consolas,'Courier New',monospace\">/home/max/anaconda3/envs/tabular/lib/python3.10/site-packages/pytorch_lightning/loops/fit_loop.py:293: The number \n",
       "of training batches (22) is smaller than the logging interval Trainer(log_every_n_steps=50). Set a lower value for \n",
       "log_every_n_steps if you want to see logs for the training epoch.\n",
       "</pre>\n"
      ],
      "text/plain": [
       "/home/max/anaconda3/envs/tabular/lib/python3.10/site-packages/pytorch_lightning/loops/fit_loop.py:293: The number \n",
       "of training batches (22) is smaller than the logging interval Trainer(log_every_n_steps=50). Set a lower value for \n",
       "log_every_n_steps if you want to see logs for the training epoch.\n"
      ]
     },
     "metadata": {},
     "output_type": "display_data"
    },
    {
     "data": {
      "application/vnd.jupyter.widget-view+json": {
       "model_id": "f74c3d2f20ff4591b48b1d0480c1d483",
       "version_major": 2,
       "version_minor": 0
      },
      "text/plain": [
       "Finding best initial lr:   0%|          | 0/100 [00:00<?, ?it/s]"
      ]
     },
     "metadata": {},
     "output_type": "display_data"
    },
    {
     "data": {
      "text/html": [
       "<pre style=\"white-space:pre;overflow-x:auto;line-height:normal;font-family:Menlo,'DejaVu Sans Mono',consolas,'Courier New',monospace\"><span style=\"color: #008080; text-decoration-color: #008080; font-weight: bold\">2025</span>-<span style=\"color: #008080; text-decoration-color: #008080; font-weight: bold\">02</span>-<span style=\"color: #008080; text-decoration-color: #008080; font-weight: bold\">08</span> <span style=\"color: #00ff00; text-decoration-color: #00ff00; font-weight: bold\">16:16:26</span>,<span style=\"color: #008080; text-decoration-color: #008080; font-weight: bold\">085</span> - <span style=\"font-weight: bold\">{</span>pytorch_tabular.tabular_model_tuner:<span style=\"color: #008080; text-decoration-color: #008080; font-weight: bold\">412</span><span style=\"font-weight: bold\">}</span> - INFO - Trial <span style=\"color: #008080; text-decoration-color: #008080; font-weight: bold\">24</span>/<span style=\"color: #008080; text-decoration-color: #008080; font-weight: bold\">32</span>: <span style=\"font-weight: bold\">{</span><span style=\"color: #008000; text-decoration-color: #008000\">'model'</span>:                \n",
       "<span style=\"color: #008000; text-decoration-color: #008000\">'1-AutoIntConfig'</span>, <span style=\"color: #008000; text-decoration-color: #008000\">'model_config__activation'</span>: <span style=\"color: #008000; text-decoration-color: #008000\">'LeakyReLU'</span>, <span style=\"color: #008000; text-decoration-color: #008000\">'model_config__attn_embed_dim'</span>: <span style=\"color: #008000; text-decoration-color: #008000\">'32'</span>,                  \n",
       "<span style=\"color: #008000; text-decoration-color: #008000\">'model_config__embedding_dropout'</span>: <span style=\"color: #008080; text-decoration-color: #008080; font-weight: bold\">0.2</span>, <span style=\"color: #008000; text-decoration-color: #008000\">'model_config__layers'</span>: <span style=\"color: #008000; text-decoration-color: #008000\">'1024-512-256'</span>, <span style=\"color: #008000; text-decoration-color: #008000\">'optimizer_config__optimizer'</span>:     \n",
       "<span style=\"color: #008000; text-decoration-color: #008000\">'SGD'</span>, <span style=\"color: #008000; text-decoration-color: #008000\">'loss_0'</span>: <span style=\"color: #008080; text-decoration-color: #008080; font-weight: bold\">0.6108369827270508</span>, <span style=\"color: #008000; text-decoration-color: #008000\">'loss'</span>: <span style=\"color: #008080; text-decoration-color: #008080; font-weight: bold\">0.6108369827270508</span>, <span style=\"color: #008000; text-decoration-color: #008000\">'accuracy'</span>: <span style=\"color: #008080; text-decoration-color: #008080; font-weight: bold\">0.7152317762374878</span>, <span style=\"color: #008000; text-decoration-color: #008000\">'trial_id'</span>: <span style=\"color: #008080; text-decoration-color: #008080; font-weight: bold\">23</span><span style=\"font-weight: bold\">}</span> | \n",
       "Score: <span style=\"color: #008080; text-decoration-color: #008080; font-weight: bold\">0.7152317762374878</span>                                                                                          \n",
       "</pre>\n"
      ],
      "text/plain": [
       "\u001b[1;36m2025\u001b[0m-\u001b[1;36m02\u001b[0m-\u001b[1;36m08\u001b[0m \u001b[1;92m16:16:26\u001b[0m,\u001b[1;36m085\u001b[0m - \u001b[1m{\u001b[0mpytorch_tabular.tabular_model_tuner:\u001b[1;36m412\u001b[0m\u001b[1m}\u001b[0m - INFO - Trial \u001b[1;36m24\u001b[0m/\u001b[1;36m32\u001b[0m: \u001b[1m{\u001b[0m\u001b[32m'model'\u001b[0m:                \n",
       "\u001b[32m'1-AutoIntConfig'\u001b[0m, \u001b[32m'model_config__activation'\u001b[0m: \u001b[32m'LeakyReLU'\u001b[0m, \u001b[32m'model_config__attn_embed_dim'\u001b[0m: \u001b[32m'32'\u001b[0m,                  \n",
       "\u001b[32m'model_config__embedding_dropout'\u001b[0m: \u001b[1;36m0.2\u001b[0m, \u001b[32m'model_config__layers'\u001b[0m: \u001b[32m'1024-512-256'\u001b[0m, \u001b[32m'optimizer_config__optimizer'\u001b[0m:     \n",
       "\u001b[32m'SGD'\u001b[0m, \u001b[32m'loss_0'\u001b[0m: \u001b[1;36m0.6108369827270508\u001b[0m, \u001b[32m'loss'\u001b[0m: \u001b[1;36m0.6108369827270508\u001b[0m, \u001b[32m'accuracy'\u001b[0m: \u001b[1;36m0.7152317762374878\u001b[0m, \u001b[32m'trial_id'\u001b[0m: \u001b[1;36m23\u001b[0m\u001b[1m}\u001b[0m | \n",
       "Score: \u001b[1;36m0.7152317762374878\u001b[0m                                                                                          \n"
      ]
     },
     "metadata": {},
     "output_type": "display_data"
    },
    {
     "data": {
      "text/html": [
       "<pre style=\"white-space:pre;overflow-x:auto;line-height:normal;font-family:Menlo,'DejaVu Sans Mono',consolas,'Courier New',monospace\">/home/max/anaconda3/envs/tabular/lib/python3.10/site-packages/pytorch_lightning/callbacks/model_checkpoint.py:639: \n",
       "Checkpoint directory /home/max/Documents/PA/pytorch_tabular/machine_learning/saved_models exists and is not empty.\n",
       "</pre>\n"
      ],
      "text/plain": [
       "/home/max/anaconda3/envs/tabular/lib/python3.10/site-packages/pytorch_lightning/callbacks/model_checkpoint.py:639: \n",
       "Checkpoint directory /home/max/Documents/PA/pytorch_tabular/machine_learning/saved_models exists and is not empty.\n"
      ]
     },
     "metadata": {},
     "output_type": "display_data"
    },
    {
     "data": {
      "text/html": [
       "<pre style=\"white-space:pre;overflow-x:auto;line-height:normal;font-family:Menlo,'DejaVu Sans Mono',consolas,'Courier New',monospace\">/home/max/anaconda3/envs/tabular/lib/python3.10/site-packages/pytorch_lightning/loops/fit_loop.py:293: The number \n",
       "of training batches (22) is smaller than the logging interval Trainer(log_every_n_steps=50). Set a lower value for \n",
       "log_every_n_steps if you want to see logs for the training epoch.\n",
       "</pre>\n"
      ],
      "text/plain": [
       "/home/max/anaconda3/envs/tabular/lib/python3.10/site-packages/pytorch_lightning/loops/fit_loop.py:293: The number \n",
       "of training batches (22) is smaller than the logging interval Trainer(log_every_n_steps=50). Set a lower value for \n",
       "log_every_n_steps if you want to see logs for the training epoch.\n"
      ]
     },
     "metadata": {},
     "output_type": "display_data"
    },
    {
     "data": {
      "application/vnd.jupyter.widget-view+json": {
       "model_id": "ca7baf174a6a47f2a077a660662d7146",
       "version_major": 2,
       "version_minor": 0
      },
      "text/plain": [
       "Finding best initial lr:   0%|          | 0/100 [00:00<?, ?it/s]"
      ]
     },
     "metadata": {},
     "output_type": "display_data"
    },
    {
     "data": {
      "text/html": [
       "<pre style=\"white-space:pre;overflow-x:auto;line-height:normal;font-family:Menlo,'DejaVu Sans Mono',consolas,'Courier New',monospace\"><span style=\"color: #008080; text-decoration-color: #008080; font-weight: bold\">2025</span>-<span style=\"color: #008080; text-decoration-color: #008080; font-weight: bold\">02</span>-<span style=\"color: #008080; text-decoration-color: #008080; font-weight: bold\">08</span> <span style=\"color: #00ff00; text-decoration-color: #00ff00; font-weight: bold\">16:16:37</span>,<span style=\"color: #008080; text-decoration-color: #008080; font-weight: bold\">455</span> - <span style=\"font-weight: bold\">{</span>pytorch_tabular.tabular_model_tuner:<span style=\"color: #008080; text-decoration-color: #008080; font-weight: bold\">412</span><span style=\"font-weight: bold\">}</span> - INFO - Trial <span style=\"color: #008080; text-decoration-color: #008080; font-weight: bold\">25</span>/<span style=\"color: #008080; text-decoration-color: #008080; font-weight: bold\">32</span>: <span style=\"font-weight: bold\">{</span><span style=\"color: #008000; text-decoration-color: #008000\">'model'</span>:                \n",
       "<span style=\"color: #008000; text-decoration-color: #008000\">'1-AutoIntConfig'</span>, <span style=\"color: #008000; text-decoration-color: #008000\">'model_config__activation'</span>: <span style=\"color: #008000; text-decoration-color: #008000\">'LeakyReLU'</span>, <span style=\"color: #008000; text-decoration-color: #008000\">'model_config__attn_embed_dim'</span>: <span style=\"color: #008000; text-decoration-color: #008000\">'64'</span>,                  \n",
       "<span style=\"color: #008000; text-decoration-color: #008000\">'model_config__embedding_dropout'</span>: <span style=\"color: #008080; text-decoration-color: #008080; font-weight: bold\">0.0</span>, <span style=\"color: #008000; text-decoration-color: #008000\">'model_config__layers'</span>: <span style=\"color: #008000; text-decoration-color: #008000\">'128-64-32'</span>, <span style=\"color: #008000; text-decoration-color: #008000\">'optimizer_config__optimizer'</span>: <span style=\"color: #008000; text-decoration-color: #008000\">'Adam'</span>,\n",
       "<span style=\"color: #008000; text-decoration-color: #008000\">'loss_0'</span>: <span style=\"color: #008080; text-decoration-color: #008080; font-weight: bold\">0.5992203950881958</span>, <span style=\"color: #008000; text-decoration-color: #008000\">'loss'</span>: <span style=\"color: #008080; text-decoration-color: #008080; font-weight: bold\">0.5992203950881958</span>, <span style=\"color: #008000; text-decoration-color: #008000\">'accuracy'</span>: <span style=\"color: #008080; text-decoration-color: #008080; font-weight: bold\">0.7119205594062805</span>, <span style=\"color: #008000; text-decoration-color: #008000\">'trial_id'</span>: <span style=\"color: #008080; text-decoration-color: #008080; font-weight: bold\">24</span><span style=\"font-weight: bold\">}</span> | Score: \n",
       "<span style=\"color: #008080; text-decoration-color: #008080; font-weight: bold\">0.7119205594062805</span>                                                                                                 \n",
       "</pre>\n"
      ],
      "text/plain": [
       "\u001b[1;36m2025\u001b[0m-\u001b[1;36m02\u001b[0m-\u001b[1;36m08\u001b[0m \u001b[1;92m16:16:37\u001b[0m,\u001b[1;36m455\u001b[0m - \u001b[1m{\u001b[0mpytorch_tabular.tabular_model_tuner:\u001b[1;36m412\u001b[0m\u001b[1m}\u001b[0m - INFO - Trial \u001b[1;36m25\u001b[0m/\u001b[1;36m32\u001b[0m: \u001b[1m{\u001b[0m\u001b[32m'model'\u001b[0m:                \n",
       "\u001b[32m'1-AutoIntConfig'\u001b[0m, \u001b[32m'model_config__activation'\u001b[0m: \u001b[32m'LeakyReLU'\u001b[0m, \u001b[32m'model_config__attn_embed_dim'\u001b[0m: \u001b[32m'64'\u001b[0m,                  \n",
       "\u001b[32m'model_config__embedding_dropout'\u001b[0m: \u001b[1;36m0.0\u001b[0m, \u001b[32m'model_config__layers'\u001b[0m: \u001b[32m'128-64-32'\u001b[0m, \u001b[32m'optimizer_config__optimizer'\u001b[0m: \u001b[32m'Adam'\u001b[0m,\n",
       "\u001b[32m'loss_0'\u001b[0m: \u001b[1;36m0.5992203950881958\u001b[0m, \u001b[32m'loss'\u001b[0m: \u001b[1;36m0.5992203950881958\u001b[0m, \u001b[32m'accuracy'\u001b[0m: \u001b[1;36m0.7119205594062805\u001b[0m, \u001b[32m'trial_id'\u001b[0m: \u001b[1;36m24\u001b[0m\u001b[1m}\u001b[0m | Score: \n",
       "\u001b[1;36m0.7119205594062805\u001b[0m                                                                                                 \n"
      ]
     },
     "metadata": {},
     "output_type": "display_data"
    },
    {
     "data": {
      "text/html": [
       "<pre style=\"white-space:pre;overflow-x:auto;line-height:normal;font-family:Menlo,'DejaVu Sans Mono',consolas,'Courier New',monospace\">/home/max/anaconda3/envs/tabular/lib/python3.10/site-packages/pytorch_lightning/callbacks/model_checkpoint.py:639: \n",
       "Checkpoint directory /home/max/Documents/PA/pytorch_tabular/machine_learning/saved_models exists and is not empty.\n",
       "</pre>\n"
      ],
      "text/plain": [
       "/home/max/anaconda3/envs/tabular/lib/python3.10/site-packages/pytorch_lightning/callbacks/model_checkpoint.py:639: \n",
       "Checkpoint directory /home/max/Documents/PA/pytorch_tabular/machine_learning/saved_models exists and is not empty.\n"
      ]
     },
     "metadata": {},
     "output_type": "display_data"
    },
    {
     "data": {
      "text/html": [
       "<pre style=\"white-space:pre;overflow-x:auto;line-height:normal;font-family:Menlo,'DejaVu Sans Mono',consolas,'Courier New',monospace\">/home/max/anaconda3/envs/tabular/lib/python3.10/site-packages/pytorch_lightning/loops/fit_loop.py:293: The number \n",
       "of training batches (22) is smaller than the logging interval Trainer(log_every_n_steps=50). Set a lower value for \n",
       "log_every_n_steps if you want to see logs for the training epoch.\n",
       "</pre>\n"
      ],
      "text/plain": [
       "/home/max/anaconda3/envs/tabular/lib/python3.10/site-packages/pytorch_lightning/loops/fit_loop.py:293: The number \n",
       "of training batches (22) is smaller than the logging interval Trainer(log_every_n_steps=50). Set a lower value for \n",
       "log_every_n_steps if you want to see logs for the training epoch.\n"
      ]
     },
     "metadata": {},
     "output_type": "display_data"
    },
    {
     "data": {
      "application/vnd.jupyter.widget-view+json": {
       "model_id": "8554350e95a242a3af044c8a61e3c5a1",
       "version_major": 2,
       "version_minor": 0
      },
      "text/plain": [
       "Finding best initial lr:   0%|          | 0/100 [00:00<?, ?it/s]"
      ]
     },
     "metadata": {},
     "output_type": "display_data"
    },
    {
     "data": {
      "text/html": [
       "<pre style=\"white-space:pre;overflow-x:auto;line-height:normal;font-family:Menlo,'DejaVu Sans Mono',consolas,'Courier New',monospace\"><span style=\"color: #008080; text-decoration-color: #008080; font-weight: bold\">2025</span>-<span style=\"color: #008080; text-decoration-color: #008080; font-weight: bold\">02</span>-<span style=\"color: #008080; text-decoration-color: #008080; font-weight: bold\">08</span> <span style=\"color: #00ff00; text-decoration-color: #00ff00; font-weight: bold\">16:16:53</span>,<span style=\"color: #008080; text-decoration-color: #008080; font-weight: bold\">151</span> - <span style=\"font-weight: bold\">{</span>pytorch_tabular.tabular_model_tuner:<span style=\"color: #008080; text-decoration-color: #008080; font-weight: bold\">412</span><span style=\"font-weight: bold\">}</span> - INFO - Trial <span style=\"color: #008080; text-decoration-color: #008080; font-weight: bold\">26</span>/<span style=\"color: #008080; text-decoration-color: #008080; font-weight: bold\">32</span>: <span style=\"font-weight: bold\">{</span><span style=\"color: #008000; text-decoration-color: #008000\">'model'</span>:                \n",
       "<span style=\"color: #008000; text-decoration-color: #008000\">'1-AutoIntConfig'</span>, <span style=\"color: #008000; text-decoration-color: #008000\">'model_config__activation'</span>: <span style=\"color: #008000; text-decoration-color: #008000\">'LeakyReLU'</span>, <span style=\"color: #008000; text-decoration-color: #008000\">'model_config__attn_embed_dim'</span>: <span style=\"color: #008000; text-decoration-color: #008000\">'64'</span>,                  \n",
       "<span style=\"color: #008000; text-decoration-color: #008000\">'model_config__embedding_dropout'</span>: <span style=\"color: #008080; text-decoration-color: #008080; font-weight: bold\">0.0</span>, <span style=\"color: #008000; text-decoration-color: #008000\">'model_config__layers'</span>: <span style=\"color: #008000; text-decoration-color: #008000\">'128-64-32'</span>, <span style=\"color: #008000; text-decoration-color: #008000\">'optimizer_config__optimizer'</span>: <span style=\"color: #008000; text-decoration-color: #008000\">'SGD'</span>, \n",
       "<span style=\"color: #008000; text-decoration-color: #008000\">'loss_0'</span>: <span style=\"color: #008080; text-decoration-color: #008080; font-weight: bold\">0.6194936037063599</span>, <span style=\"color: #008000; text-decoration-color: #008000\">'loss'</span>: <span style=\"color: #008080; text-decoration-color: #008080; font-weight: bold\">0.6194936037063599</span>, <span style=\"color: #008000; text-decoration-color: #008000\">'accuracy'</span>: <span style=\"color: #008080; text-decoration-color: #008080; font-weight: bold\">0.7119205594062805</span>, <span style=\"color: #008000; text-decoration-color: #008000\">'trial_id'</span>: <span style=\"color: #008080; text-decoration-color: #008080; font-weight: bold\">25</span><span style=\"font-weight: bold\">}</span> | Score: \n",
       "<span style=\"color: #008080; text-decoration-color: #008080; font-weight: bold\">0.7119205594062805</span>                                                                                                 \n",
       "</pre>\n"
      ],
      "text/plain": [
       "\u001b[1;36m2025\u001b[0m-\u001b[1;36m02\u001b[0m-\u001b[1;36m08\u001b[0m \u001b[1;92m16:16:53\u001b[0m,\u001b[1;36m151\u001b[0m - \u001b[1m{\u001b[0mpytorch_tabular.tabular_model_tuner:\u001b[1;36m412\u001b[0m\u001b[1m}\u001b[0m - INFO - Trial \u001b[1;36m26\u001b[0m/\u001b[1;36m32\u001b[0m: \u001b[1m{\u001b[0m\u001b[32m'model'\u001b[0m:                \n",
       "\u001b[32m'1-AutoIntConfig'\u001b[0m, \u001b[32m'model_config__activation'\u001b[0m: \u001b[32m'LeakyReLU'\u001b[0m, \u001b[32m'model_config__attn_embed_dim'\u001b[0m: \u001b[32m'64'\u001b[0m,                  \n",
       "\u001b[32m'model_config__embedding_dropout'\u001b[0m: \u001b[1;36m0.0\u001b[0m, \u001b[32m'model_config__layers'\u001b[0m: \u001b[32m'128-64-32'\u001b[0m, \u001b[32m'optimizer_config__optimizer'\u001b[0m: \u001b[32m'SGD'\u001b[0m, \n",
       "\u001b[32m'loss_0'\u001b[0m: \u001b[1;36m0.6194936037063599\u001b[0m, \u001b[32m'loss'\u001b[0m: \u001b[1;36m0.6194936037063599\u001b[0m, \u001b[32m'accuracy'\u001b[0m: \u001b[1;36m0.7119205594062805\u001b[0m, \u001b[32m'trial_id'\u001b[0m: \u001b[1;36m25\u001b[0m\u001b[1m}\u001b[0m | Score: \n",
       "\u001b[1;36m0.7119205594062805\u001b[0m                                                                                                 \n"
      ]
     },
     "metadata": {},
     "output_type": "display_data"
    },
    {
     "data": {
      "text/html": [
       "<pre style=\"white-space:pre;overflow-x:auto;line-height:normal;font-family:Menlo,'DejaVu Sans Mono',consolas,'Courier New',monospace\">/home/max/anaconda3/envs/tabular/lib/python3.10/site-packages/pytorch_lightning/callbacks/model_checkpoint.py:639: \n",
       "Checkpoint directory /home/max/Documents/PA/pytorch_tabular/machine_learning/saved_models exists and is not empty.\n",
       "</pre>\n"
      ],
      "text/plain": [
       "/home/max/anaconda3/envs/tabular/lib/python3.10/site-packages/pytorch_lightning/callbacks/model_checkpoint.py:639: \n",
       "Checkpoint directory /home/max/Documents/PA/pytorch_tabular/machine_learning/saved_models exists and is not empty.\n"
      ]
     },
     "metadata": {},
     "output_type": "display_data"
    },
    {
     "data": {
      "text/html": [
       "<pre style=\"white-space:pre;overflow-x:auto;line-height:normal;font-family:Menlo,'DejaVu Sans Mono',consolas,'Courier New',monospace\">/home/max/anaconda3/envs/tabular/lib/python3.10/site-packages/pytorch_lightning/loops/fit_loop.py:293: The number \n",
       "of training batches (22) is smaller than the logging interval Trainer(log_every_n_steps=50). Set a lower value for \n",
       "log_every_n_steps if you want to see logs for the training epoch.\n",
       "</pre>\n"
      ],
      "text/plain": [
       "/home/max/anaconda3/envs/tabular/lib/python3.10/site-packages/pytorch_lightning/loops/fit_loop.py:293: The number \n",
       "of training batches (22) is smaller than the logging interval Trainer(log_every_n_steps=50). Set a lower value for \n",
       "log_every_n_steps if you want to see logs for the training epoch.\n"
      ]
     },
     "metadata": {},
     "output_type": "display_data"
    },
    {
     "data": {
      "application/vnd.jupyter.widget-view+json": {
       "model_id": "f460551a2fcd4d888135f05651590465",
       "version_major": 2,
       "version_minor": 0
      },
      "text/plain": [
       "Finding best initial lr:   0%|          | 0/100 [00:00<?, ?it/s]"
      ]
     },
     "metadata": {},
     "output_type": "display_data"
    },
    {
     "data": {
      "text/html": [
       "<pre style=\"white-space:pre;overflow-x:auto;line-height:normal;font-family:Menlo,'DejaVu Sans Mono',consolas,'Courier New',monospace\"><span style=\"color: #008080; text-decoration-color: #008080; font-weight: bold\">2025</span>-<span style=\"color: #008080; text-decoration-color: #008080; font-weight: bold\">02</span>-<span style=\"color: #008080; text-decoration-color: #008080; font-weight: bold\">08</span> <span style=\"color: #00ff00; text-decoration-color: #00ff00; font-weight: bold\">16:16:59</span>,<span style=\"color: #008080; text-decoration-color: #008080; font-weight: bold\">828</span> - <span style=\"font-weight: bold\">{</span>pytorch_tabular.tabular_model_tuner:<span style=\"color: #008080; text-decoration-color: #008080; font-weight: bold\">412</span><span style=\"font-weight: bold\">}</span> - INFO - Trial <span style=\"color: #008080; text-decoration-color: #008080; font-weight: bold\">27</span>/<span style=\"color: #008080; text-decoration-color: #008080; font-weight: bold\">32</span>: <span style=\"font-weight: bold\">{</span><span style=\"color: #008000; text-decoration-color: #008000\">'model'</span>:                \n",
       "<span style=\"color: #008000; text-decoration-color: #008000\">'1-AutoIntConfig'</span>, <span style=\"color: #008000; text-decoration-color: #008000\">'model_config__activation'</span>: <span style=\"color: #008000; text-decoration-color: #008000\">'LeakyReLU'</span>, <span style=\"color: #008000; text-decoration-color: #008000\">'model_config__attn_embed_dim'</span>: <span style=\"color: #008000; text-decoration-color: #008000\">'64'</span>,                  \n",
       "<span style=\"color: #008000; text-decoration-color: #008000\">'model_config__embedding_dropout'</span>: <span style=\"color: #008080; text-decoration-color: #008080; font-weight: bold\">0.0</span>, <span style=\"color: #008000; text-decoration-color: #008000\">'model_config__layers'</span>: <span style=\"color: #008000; text-decoration-color: #008000\">'1024-512-256'</span>, <span style=\"color: #008000; text-decoration-color: #008000\">'optimizer_config__optimizer'</span>:     \n",
       "<span style=\"color: #008000; text-decoration-color: #008000\">'Adam'</span>, <span style=\"color: #008000; text-decoration-color: #008000\">'loss_0'</span>: <span style=\"color: #008080; text-decoration-color: #008080; font-weight: bold\">0.6930585503578186</span>, <span style=\"color: #008000; text-decoration-color: #008000\">'loss'</span>: <span style=\"color: #008080; text-decoration-color: #008080; font-weight: bold\">0.6930585503578186</span>, <span style=\"color: #008000; text-decoration-color: #008000\">'accuracy'</span>: <span style=\"color: #008080; text-decoration-color: #008080; font-weight: bold\">0.6092715263366699</span>, <span style=\"color: #008000; text-decoration-color: #008000\">'trial_id'</span>: <span style=\"color: #008080; text-decoration-color: #008080; font-weight: bold\">26</span><span style=\"font-weight: bold\">}</span> |\n",
       "Score: <span style=\"color: #008080; text-decoration-color: #008080; font-weight: bold\">0.6092715263366699</span>                                                                                          \n",
       "</pre>\n"
      ],
      "text/plain": [
       "\u001b[1;36m2025\u001b[0m-\u001b[1;36m02\u001b[0m-\u001b[1;36m08\u001b[0m \u001b[1;92m16:16:59\u001b[0m,\u001b[1;36m828\u001b[0m - \u001b[1m{\u001b[0mpytorch_tabular.tabular_model_tuner:\u001b[1;36m412\u001b[0m\u001b[1m}\u001b[0m - INFO - Trial \u001b[1;36m27\u001b[0m/\u001b[1;36m32\u001b[0m: \u001b[1m{\u001b[0m\u001b[32m'model'\u001b[0m:                \n",
       "\u001b[32m'1-AutoIntConfig'\u001b[0m, \u001b[32m'model_config__activation'\u001b[0m: \u001b[32m'LeakyReLU'\u001b[0m, \u001b[32m'model_config__attn_embed_dim'\u001b[0m: \u001b[32m'64'\u001b[0m,                  \n",
       "\u001b[32m'model_config__embedding_dropout'\u001b[0m: \u001b[1;36m0.0\u001b[0m, \u001b[32m'model_config__layers'\u001b[0m: \u001b[32m'1024-512-256'\u001b[0m, \u001b[32m'optimizer_config__optimizer'\u001b[0m:     \n",
       "\u001b[32m'Adam'\u001b[0m, \u001b[32m'loss_0'\u001b[0m: \u001b[1;36m0.6930585503578186\u001b[0m, \u001b[32m'loss'\u001b[0m: \u001b[1;36m0.6930585503578186\u001b[0m, \u001b[32m'accuracy'\u001b[0m: \u001b[1;36m0.6092715263366699\u001b[0m, \u001b[32m'trial_id'\u001b[0m: \u001b[1;36m26\u001b[0m\u001b[1m}\u001b[0m |\n",
       "Score: \u001b[1;36m0.6092715263366699\u001b[0m                                                                                          \n"
      ]
     },
     "metadata": {},
     "output_type": "display_data"
    },
    {
     "data": {
      "text/html": [
       "<pre style=\"white-space:pre;overflow-x:auto;line-height:normal;font-family:Menlo,'DejaVu Sans Mono',consolas,'Courier New',monospace\">/home/max/anaconda3/envs/tabular/lib/python3.10/site-packages/pytorch_lightning/callbacks/model_checkpoint.py:639: \n",
       "Checkpoint directory /home/max/Documents/PA/pytorch_tabular/machine_learning/saved_models exists and is not empty.\n",
       "</pre>\n"
      ],
      "text/plain": [
       "/home/max/anaconda3/envs/tabular/lib/python3.10/site-packages/pytorch_lightning/callbacks/model_checkpoint.py:639: \n",
       "Checkpoint directory /home/max/Documents/PA/pytorch_tabular/machine_learning/saved_models exists and is not empty.\n"
      ]
     },
     "metadata": {},
     "output_type": "display_data"
    },
    {
     "data": {
      "text/html": [
       "<pre style=\"white-space:pre;overflow-x:auto;line-height:normal;font-family:Menlo,'DejaVu Sans Mono',consolas,'Courier New',monospace\">/home/max/anaconda3/envs/tabular/lib/python3.10/site-packages/pytorch_lightning/loops/fit_loop.py:293: The number \n",
       "of training batches (22) is smaller than the logging interval Trainer(log_every_n_steps=50). Set a lower value for \n",
       "log_every_n_steps if you want to see logs for the training epoch.\n",
       "</pre>\n"
      ],
      "text/plain": [
       "/home/max/anaconda3/envs/tabular/lib/python3.10/site-packages/pytorch_lightning/loops/fit_loop.py:293: The number \n",
       "of training batches (22) is smaller than the logging interval Trainer(log_every_n_steps=50). Set a lower value for \n",
       "log_every_n_steps if you want to see logs for the training epoch.\n"
      ]
     },
     "metadata": {},
     "output_type": "display_data"
    },
    {
     "data": {
      "application/vnd.jupyter.widget-view+json": {
       "model_id": "0eac266a3afa43ecb08bb57b52be81d9",
       "version_major": 2,
       "version_minor": 0
      },
      "text/plain": [
       "Finding best initial lr:   0%|          | 0/100 [00:00<?, ?it/s]"
      ]
     },
     "metadata": {},
     "output_type": "display_data"
    },
    {
     "data": {
      "text/html": [
       "<pre style=\"white-space:pre;overflow-x:auto;line-height:normal;font-family:Menlo,'DejaVu Sans Mono',consolas,'Courier New',monospace\"><span style=\"color: #008080; text-decoration-color: #008080; font-weight: bold\">2025</span>-<span style=\"color: #008080; text-decoration-color: #008080; font-weight: bold\">02</span>-<span style=\"color: #008080; text-decoration-color: #008080; font-weight: bold\">08</span> <span style=\"color: #00ff00; text-decoration-color: #00ff00; font-weight: bold\">16:17:08</span>,<span style=\"color: #008080; text-decoration-color: #008080; font-weight: bold\">757</span> - <span style=\"font-weight: bold\">{</span>pytorch_tabular.tabular_model_tuner:<span style=\"color: #008080; text-decoration-color: #008080; font-weight: bold\">412</span><span style=\"font-weight: bold\">}</span> - INFO - Trial <span style=\"color: #008080; text-decoration-color: #008080; font-weight: bold\">28</span>/<span style=\"color: #008080; text-decoration-color: #008080; font-weight: bold\">32</span>: <span style=\"font-weight: bold\">{</span><span style=\"color: #008000; text-decoration-color: #008000\">'model'</span>:                \n",
       "<span style=\"color: #008000; text-decoration-color: #008000\">'1-AutoIntConfig'</span>, <span style=\"color: #008000; text-decoration-color: #008000\">'model_config__activation'</span>: <span style=\"color: #008000; text-decoration-color: #008000\">'LeakyReLU'</span>, <span style=\"color: #008000; text-decoration-color: #008000\">'model_config__attn_embed_dim'</span>: <span style=\"color: #008000; text-decoration-color: #008000\">'64'</span>,                  \n",
       "<span style=\"color: #008000; text-decoration-color: #008000\">'model_config__embedding_dropout'</span>: <span style=\"color: #008080; text-decoration-color: #008080; font-weight: bold\">0.0</span>, <span style=\"color: #008000; text-decoration-color: #008000\">'model_config__layers'</span>: <span style=\"color: #008000; text-decoration-color: #008000\">'1024-512-256'</span>, <span style=\"color: #008000; text-decoration-color: #008000\">'optimizer_config__optimizer'</span>:     \n",
       "<span style=\"color: #008000; text-decoration-color: #008000\">'SGD'</span>, <span style=\"color: #008000; text-decoration-color: #008000\">'loss_0'</span>: <span style=\"color: #008080; text-decoration-color: #008080; font-weight: bold\">0.6900457143783569</span>, <span style=\"color: #008000; text-decoration-color: #008000\">'loss'</span>: <span style=\"color: #008080; text-decoration-color: #008080; font-weight: bold\">0.6900457143783569</span>, <span style=\"color: #008000; text-decoration-color: #008000\">'accuracy'</span>: <span style=\"color: #008080; text-decoration-color: #008080; font-weight: bold\">0.639072835445404</span>, <span style=\"color: #008000; text-decoration-color: #008000\">'trial_id'</span>: <span style=\"color: #008080; text-decoration-color: #008080; font-weight: bold\">27</span><span style=\"font-weight: bold\">}</span> |  \n",
       "Score: <span style=\"color: #008080; text-decoration-color: #008080; font-weight: bold\">0.639072835445404</span>                                                                                           \n",
       "</pre>\n"
      ],
      "text/plain": [
       "\u001b[1;36m2025\u001b[0m-\u001b[1;36m02\u001b[0m-\u001b[1;36m08\u001b[0m \u001b[1;92m16:17:08\u001b[0m,\u001b[1;36m757\u001b[0m - \u001b[1m{\u001b[0mpytorch_tabular.tabular_model_tuner:\u001b[1;36m412\u001b[0m\u001b[1m}\u001b[0m - INFO - Trial \u001b[1;36m28\u001b[0m/\u001b[1;36m32\u001b[0m: \u001b[1m{\u001b[0m\u001b[32m'model'\u001b[0m:                \n",
       "\u001b[32m'1-AutoIntConfig'\u001b[0m, \u001b[32m'model_config__activation'\u001b[0m: \u001b[32m'LeakyReLU'\u001b[0m, \u001b[32m'model_config__attn_embed_dim'\u001b[0m: \u001b[32m'64'\u001b[0m,                  \n",
       "\u001b[32m'model_config__embedding_dropout'\u001b[0m: \u001b[1;36m0.0\u001b[0m, \u001b[32m'model_config__layers'\u001b[0m: \u001b[32m'1024-512-256'\u001b[0m, \u001b[32m'optimizer_config__optimizer'\u001b[0m:     \n",
       "\u001b[32m'SGD'\u001b[0m, \u001b[32m'loss_0'\u001b[0m: \u001b[1;36m0.6900457143783569\u001b[0m, \u001b[32m'loss'\u001b[0m: \u001b[1;36m0.6900457143783569\u001b[0m, \u001b[32m'accuracy'\u001b[0m: \u001b[1;36m0.639072835445404\u001b[0m, \u001b[32m'trial_id'\u001b[0m: \u001b[1;36m27\u001b[0m\u001b[1m}\u001b[0m |  \n",
       "Score: \u001b[1;36m0.639072835445404\u001b[0m                                                                                           \n"
      ]
     },
     "metadata": {},
     "output_type": "display_data"
    },
    {
     "data": {
      "text/html": [
       "<pre style=\"white-space:pre;overflow-x:auto;line-height:normal;font-family:Menlo,'DejaVu Sans Mono',consolas,'Courier New',monospace\">/home/max/anaconda3/envs/tabular/lib/python3.10/site-packages/pytorch_lightning/callbacks/model_checkpoint.py:639: \n",
       "Checkpoint directory /home/max/Documents/PA/pytorch_tabular/machine_learning/saved_models exists and is not empty.\n",
       "</pre>\n"
      ],
      "text/plain": [
       "/home/max/anaconda3/envs/tabular/lib/python3.10/site-packages/pytorch_lightning/callbacks/model_checkpoint.py:639: \n",
       "Checkpoint directory /home/max/Documents/PA/pytorch_tabular/machine_learning/saved_models exists and is not empty.\n"
      ]
     },
     "metadata": {},
     "output_type": "display_data"
    },
    {
     "data": {
      "text/html": [
       "<pre style=\"white-space:pre;overflow-x:auto;line-height:normal;font-family:Menlo,'DejaVu Sans Mono',consolas,'Courier New',monospace\">/home/max/anaconda3/envs/tabular/lib/python3.10/site-packages/pytorch_lightning/loops/fit_loop.py:293: The number \n",
       "of training batches (22) is smaller than the logging interval Trainer(log_every_n_steps=50). Set a lower value for \n",
       "log_every_n_steps if you want to see logs for the training epoch.\n",
       "</pre>\n"
      ],
      "text/plain": [
       "/home/max/anaconda3/envs/tabular/lib/python3.10/site-packages/pytorch_lightning/loops/fit_loop.py:293: The number \n",
       "of training batches (22) is smaller than the logging interval Trainer(log_every_n_steps=50). Set a lower value for \n",
       "log_every_n_steps if you want to see logs for the training epoch.\n"
      ]
     },
     "metadata": {},
     "output_type": "display_data"
    },
    {
     "data": {
      "application/vnd.jupyter.widget-view+json": {
       "model_id": "365d7fcb44e146ddb005d6495ba0dcbc",
       "version_major": 2,
       "version_minor": 0
      },
      "text/plain": [
       "Finding best initial lr:   0%|          | 0/100 [00:00<?, ?it/s]"
      ]
     },
     "metadata": {},
     "output_type": "display_data"
    },
    {
     "data": {
      "text/html": [
       "<pre style=\"white-space:pre;overflow-x:auto;line-height:normal;font-family:Menlo,'DejaVu Sans Mono',consolas,'Courier New',monospace\"><span style=\"color: #008080; text-decoration-color: #008080; font-weight: bold\">2025</span>-<span style=\"color: #008080; text-decoration-color: #008080; font-weight: bold\">02</span>-<span style=\"color: #008080; text-decoration-color: #008080; font-weight: bold\">08</span> <span style=\"color: #00ff00; text-decoration-color: #00ff00; font-weight: bold\">16:17:18</span>,<span style=\"color: #008080; text-decoration-color: #008080; font-weight: bold\">499</span> - <span style=\"font-weight: bold\">{</span>pytorch_tabular.tabular_model_tuner:<span style=\"color: #008080; text-decoration-color: #008080; font-weight: bold\">412</span><span style=\"font-weight: bold\">}</span> - INFO - Trial <span style=\"color: #008080; text-decoration-color: #008080; font-weight: bold\">29</span>/<span style=\"color: #008080; text-decoration-color: #008080; font-weight: bold\">32</span>: <span style=\"font-weight: bold\">{</span><span style=\"color: #008000; text-decoration-color: #008000\">'model'</span>:                \n",
       "<span style=\"color: #008000; text-decoration-color: #008000\">'1-AutoIntConfig'</span>, <span style=\"color: #008000; text-decoration-color: #008000\">'model_config__activation'</span>: <span style=\"color: #008000; text-decoration-color: #008000\">'LeakyReLU'</span>, <span style=\"color: #008000; text-decoration-color: #008000\">'model_config__attn_embed_dim'</span>: <span style=\"color: #008000; text-decoration-color: #008000\">'64'</span>,                  \n",
       "<span style=\"color: #008000; text-decoration-color: #008000\">'model_config__embedding_dropout'</span>: <span style=\"color: #008080; text-decoration-color: #008080; font-weight: bold\">0.2</span>, <span style=\"color: #008000; text-decoration-color: #008000\">'model_config__layers'</span>: <span style=\"color: #008000; text-decoration-color: #008000\">'128-64-32'</span>, <span style=\"color: #008000; text-decoration-color: #008000\">'optimizer_config__optimizer'</span>: <span style=\"color: #008000; text-decoration-color: #008000\">'Adam'</span>,\n",
       "<span style=\"color: #008000; text-decoration-color: #008000\">'loss_0'</span>: <span style=\"color: #008080; text-decoration-color: #008080; font-weight: bold\">0.61133873462677</span>, <span style=\"color: #008000; text-decoration-color: #008000\">'loss'</span>: <span style=\"color: #008080; text-decoration-color: #008080; font-weight: bold\">0.61133873462677</span>, <span style=\"color: #008000; text-decoration-color: #008000\">'accuracy'</span>: <span style=\"color: #008080; text-decoration-color: #008080; font-weight: bold\">0.6986755132675171</span>, <span style=\"color: #008000; text-decoration-color: #008000\">'trial_id'</span>: <span style=\"color: #008080; text-decoration-color: #008080; font-weight: bold\">28</span><span style=\"font-weight: bold\">}</span> | Score:     \n",
       "<span style=\"color: #008080; text-decoration-color: #008080; font-weight: bold\">0.6986755132675171</span>                                                                                                 \n",
       "</pre>\n"
      ],
      "text/plain": [
       "\u001b[1;36m2025\u001b[0m-\u001b[1;36m02\u001b[0m-\u001b[1;36m08\u001b[0m \u001b[1;92m16:17:18\u001b[0m,\u001b[1;36m499\u001b[0m - \u001b[1m{\u001b[0mpytorch_tabular.tabular_model_tuner:\u001b[1;36m412\u001b[0m\u001b[1m}\u001b[0m - INFO - Trial \u001b[1;36m29\u001b[0m/\u001b[1;36m32\u001b[0m: \u001b[1m{\u001b[0m\u001b[32m'model'\u001b[0m:                \n",
       "\u001b[32m'1-AutoIntConfig'\u001b[0m, \u001b[32m'model_config__activation'\u001b[0m: \u001b[32m'LeakyReLU'\u001b[0m, \u001b[32m'model_config__attn_embed_dim'\u001b[0m: \u001b[32m'64'\u001b[0m,                  \n",
       "\u001b[32m'model_config__embedding_dropout'\u001b[0m: \u001b[1;36m0.2\u001b[0m, \u001b[32m'model_config__layers'\u001b[0m: \u001b[32m'128-64-32'\u001b[0m, \u001b[32m'optimizer_config__optimizer'\u001b[0m: \u001b[32m'Adam'\u001b[0m,\n",
       "\u001b[32m'loss_0'\u001b[0m: \u001b[1;36m0.61133873462677\u001b[0m, \u001b[32m'loss'\u001b[0m: \u001b[1;36m0.61133873462677\u001b[0m, \u001b[32m'accuracy'\u001b[0m: \u001b[1;36m0.6986755132675171\u001b[0m, \u001b[32m'trial_id'\u001b[0m: \u001b[1;36m28\u001b[0m\u001b[1m}\u001b[0m | Score:     \n",
       "\u001b[1;36m0.6986755132675171\u001b[0m                                                                                                 \n"
      ]
     },
     "metadata": {},
     "output_type": "display_data"
    },
    {
     "data": {
      "text/html": [
       "<pre style=\"white-space:pre;overflow-x:auto;line-height:normal;font-family:Menlo,'DejaVu Sans Mono',consolas,'Courier New',monospace\">/home/max/anaconda3/envs/tabular/lib/python3.10/site-packages/pytorch_lightning/callbacks/model_checkpoint.py:639: \n",
       "Checkpoint directory /home/max/Documents/PA/pytorch_tabular/machine_learning/saved_models exists and is not empty.\n",
       "</pre>\n"
      ],
      "text/plain": [
       "/home/max/anaconda3/envs/tabular/lib/python3.10/site-packages/pytorch_lightning/callbacks/model_checkpoint.py:639: \n",
       "Checkpoint directory /home/max/Documents/PA/pytorch_tabular/machine_learning/saved_models exists and is not empty.\n"
      ]
     },
     "metadata": {},
     "output_type": "display_data"
    },
    {
     "data": {
      "text/html": [
       "<pre style=\"white-space:pre;overflow-x:auto;line-height:normal;font-family:Menlo,'DejaVu Sans Mono',consolas,'Courier New',monospace\">/home/max/anaconda3/envs/tabular/lib/python3.10/site-packages/pytorch_lightning/loops/fit_loop.py:293: The number \n",
       "of training batches (22) is smaller than the logging interval Trainer(log_every_n_steps=50). Set a lower value for \n",
       "log_every_n_steps if you want to see logs for the training epoch.\n",
       "</pre>\n"
      ],
      "text/plain": [
       "/home/max/anaconda3/envs/tabular/lib/python3.10/site-packages/pytorch_lightning/loops/fit_loop.py:293: The number \n",
       "of training batches (22) is smaller than the logging interval Trainer(log_every_n_steps=50). Set a lower value for \n",
       "log_every_n_steps if you want to see logs for the training epoch.\n"
      ]
     },
     "metadata": {},
     "output_type": "display_data"
    },
    {
     "data": {
      "application/vnd.jupyter.widget-view+json": {
       "model_id": "95e375b442e84358834c69ed72fd98f6",
       "version_major": 2,
       "version_minor": 0
      },
      "text/plain": [
       "Finding best initial lr:   0%|          | 0/100 [00:00<?, ?it/s]"
      ]
     },
     "metadata": {},
     "output_type": "display_data"
    },
    {
     "data": {
      "text/html": [
       "<pre style=\"white-space:pre;overflow-x:auto;line-height:normal;font-family:Menlo,'DejaVu Sans Mono',consolas,'Courier New',monospace\"><span style=\"color: #008080; text-decoration-color: #008080; font-weight: bold\">2025</span>-<span style=\"color: #008080; text-decoration-color: #008080; font-weight: bold\">02</span>-<span style=\"color: #008080; text-decoration-color: #008080; font-weight: bold\">08</span> <span style=\"color: #00ff00; text-decoration-color: #00ff00; font-weight: bold\">16:17:28</span>,<span style=\"color: #008080; text-decoration-color: #008080; font-weight: bold\">160</span> - <span style=\"font-weight: bold\">{</span>pytorch_tabular.tabular_model_tuner:<span style=\"color: #008080; text-decoration-color: #008080; font-weight: bold\">412</span><span style=\"font-weight: bold\">}</span> - INFO - Trial <span style=\"color: #008080; text-decoration-color: #008080; font-weight: bold\">30</span>/<span style=\"color: #008080; text-decoration-color: #008080; font-weight: bold\">32</span>: <span style=\"font-weight: bold\">{</span><span style=\"color: #008000; text-decoration-color: #008000\">'model'</span>:                \n",
       "<span style=\"color: #008000; text-decoration-color: #008000\">'1-AutoIntConfig'</span>, <span style=\"color: #008000; text-decoration-color: #008000\">'model_config__activation'</span>: <span style=\"color: #008000; text-decoration-color: #008000\">'LeakyReLU'</span>, <span style=\"color: #008000; text-decoration-color: #008000\">'model_config__attn_embed_dim'</span>: <span style=\"color: #008000; text-decoration-color: #008000\">'64'</span>,                  \n",
       "<span style=\"color: #008000; text-decoration-color: #008000\">'model_config__embedding_dropout'</span>: <span style=\"color: #008080; text-decoration-color: #008080; font-weight: bold\">0.2</span>, <span style=\"color: #008000; text-decoration-color: #008000\">'model_config__layers'</span>: <span style=\"color: #008000; text-decoration-color: #008000\">'128-64-32'</span>, <span style=\"color: #008000; text-decoration-color: #008000\">'optimizer_config__optimizer'</span>: <span style=\"color: #008000; text-decoration-color: #008000\">'SGD'</span>, \n",
       "<span style=\"color: #008000; text-decoration-color: #008000\">'loss_0'</span>: <span style=\"color: #008080; text-decoration-color: #008080; font-weight: bold\">0.6712085008621216</span>, <span style=\"color: #008000; text-decoration-color: #008000\">'loss'</span>: <span style=\"color: #008080; text-decoration-color: #008080; font-weight: bold\">0.6712085008621216</span>, <span style=\"color: #008000; text-decoration-color: #008000\">'accuracy'</span>: <span style=\"color: #008080; text-decoration-color: #008080; font-weight: bold\">0.6291390657424927</span>, <span style=\"color: #008000; text-decoration-color: #008000\">'trial_id'</span>: <span style=\"color: #008080; text-decoration-color: #008080; font-weight: bold\">29</span><span style=\"font-weight: bold\">}</span> | Score: \n",
       "<span style=\"color: #008080; text-decoration-color: #008080; font-weight: bold\">0.6291390657424927</span>                                                                                                 \n",
       "</pre>\n"
      ],
      "text/plain": [
       "\u001b[1;36m2025\u001b[0m-\u001b[1;36m02\u001b[0m-\u001b[1;36m08\u001b[0m \u001b[1;92m16:17:28\u001b[0m,\u001b[1;36m160\u001b[0m - \u001b[1m{\u001b[0mpytorch_tabular.tabular_model_tuner:\u001b[1;36m412\u001b[0m\u001b[1m}\u001b[0m - INFO - Trial \u001b[1;36m30\u001b[0m/\u001b[1;36m32\u001b[0m: \u001b[1m{\u001b[0m\u001b[32m'model'\u001b[0m:                \n",
       "\u001b[32m'1-AutoIntConfig'\u001b[0m, \u001b[32m'model_config__activation'\u001b[0m: \u001b[32m'LeakyReLU'\u001b[0m, \u001b[32m'model_config__attn_embed_dim'\u001b[0m: \u001b[32m'64'\u001b[0m,                  \n",
       "\u001b[32m'model_config__embedding_dropout'\u001b[0m: \u001b[1;36m0.2\u001b[0m, \u001b[32m'model_config__layers'\u001b[0m: \u001b[32m'128-64-32'\u001b[0m, \u001b[32m'optimizer_config__optimizer'\u001b[0m: \u001b[32m'SGD'\u001b[0m, \n",
       "\u001b[32m'loss_0'\u001b[0m: \u001b[1;36m0.6712085008621216\u001b[0m, \u001b[32m'loss'\u001b[0m: \u001b[1;36m0.6712085008621216\u001b[0m, \u001b[32m'accuracy'\u001b[0m: \u001b[1;36m0.6291390657424927\u001b[0m, \u001b[32m'trial_id'\u001b[0m: \u001b[1;36m29\u001b[0m\u001b[1m}\u001b[0m | Score: \n",
       "\u001b[1;36m0.6291390657424927\u001b[0m                                                                                                 \n"
      ]
     },
     "metadata": {},
     "output_type": "display_data"
    },
    {
     "data": {
      "text/html": [
       "<pre style=\"white-space:pre;overflow-x:auto;line-height:normal;font-family:Menlo,'DejaVu Sans Mono',consolas,'Courier New',monospace\">/home/max/anaconda3/envs/tabular/lib/python3.10/site-packages/pytorch_lightning/callbacks/model_checkpoint.py:639: \n",
       "Checkpoint directory /home/max/Documents/PA/pytorch_tabular/machine_learning/saved_models exists and is not empty.\n",
       "</pre>\n"
      ],
      "text/plain": [
       "/home/max/anaconda3/envs/tabular/lib/python3.10/site-packages/pytorch_lightning/callbacks/model_checkpoint.py:639: \n",
       "Checkpoint directory /home/max/Documents/PA/pytorch_tabular/machine_learning/saved_models exists and is not empty.\n"
      ]
     },
     "metadata": {},
     "output_type": "display_data"
    },
    {
     "data": {
      "text/html": [
       "<pre style=\"white-space:pre;overflow-x:auto;line-height:normal;font-family:Menlo,'DejaVu Sans Mono',consolas,'Courier New',monospace\">/home/max/anaconda3/envs/tabular/lib/python3.10/site-packages/pytorch_lightning/loops/fit_loop.py:293: The number \n",
       "of training batches (22) is smaller than the logging interval Trainer(log_every_n_steps=50). Set a lower value for \n",
       "log_every_n_steps if you want to see logs for the training epoch.\n",
       "</pre>\n"
      ],
      "text/plain": [
       "/home/max/anaconda3/envs/tabular/lib/python3.10/site-packages/pytorch_lightning/loops/fit_loop.py:293: The number \n",
       "of training batches (22) is smaller than the logging interval Trainer(log_every_n_steps=50). Set a lower value for \n",
       "log_every_n_steps if you want to see logs for the training epoch.\n"
      ]
     },
     "metadata": {},
     "output_type": "display_data"
    },
    {
     "data": {
      "application/vnd.jupyter.widget-view+json": {
       "model_id": "c1b492a61daf48e39953503054f0a9b9",
       "version_major": 2,
       "version_minor": 0
      },
      "text/plain": [
       "Finding best initial lr:   0%|          | 0/100 [00:00<?, ?it/s]"
      ]
     },
     "metadata": {},
     "output_type": "display_data"
    },
    {
     "data": {
      "text/html": [
       "<pre style=\"white-space:pre;overflow-x:auto;line-height:normal;font-family:Menlo,'DejaVu Sans Mono',consolas,'Courier New',monospace\"><span style=\"color: #008080; text-decoration-color: #008080; font-weight: bold\">2025</span>-<span style=\"color: #008080; text-decoration-color: #008080; font-weight: bold\">02</span>-<span style=\"color: #008080; text-decoration-color: #008080; font-weight: bold\">08</span> <span style=\"color: #00ff00; text-decoration-color: #00ff00; font-weight: bold\">16:17:37</span>,<span style=\"color: #008080; text-decoration-color: #008080; font-weight: bold\">420</span> - <span style=\"font-weight: bold\">{</span>pytorch_tabular.tabular_model_tuner:<span style=\"color: #008080; text-decoration-color: #008080; font-weight: bold\">412</span><span style=\"font-weight: bold\">}</span> - INFO - Trial <span style=\"color: #008080; text-decoration-color: #008080; font-weight: bold\">31</span>/<span style=\"color: #008080; text-decoration-color: #008080; font-weight: bold\">32</span>: <span style=\"font-weight: bold\">{</span><span style=\"color: #008000; text-decoration-color: #008000\">'model'</span>:                \n",
       "<span style=\"color: #008000; text-decoration-color: #008000\">'1-AutoIntConfig'</span>, <span style=\"color: #008000; text-decoration-color: #008000\">'model_config__activation'</span>: <span style=\"color: #008000; text-decoration-color: #008000\">'LeakyReLU'</span>, <span style=\"color: #008000; text-decoration-color: #008000\">'model_config__attn_embed_dim'</span>: <span style=\"color: #008000; text-decoration-color: #008000\">'64'</span>,                  \n",
       "<span style=\"color: #008000; text-decoration-color: #008000\">'model_config__embedding_dropout'</span>: <span style=\"color: #008080; text-decoration-color: #008080; font-weight: bold\">0.2</span>, <span style=\"color: #008000; text-decoration-color: #008000\">'model_config__layers'</span>: <span style=\"color: #008000; text-decoration-color: #008000\">'1024-512-256'</span>, <span style=\"color: #008000; text-decoration-color: #008000\">'optimizer_config__optimizer'</span>:     \n",
       "<span style=\"color: #008000; text-decoration-color: #008000\">'Adam'</span>, <span style=\"color: #008000; text-decoration-color: #008000\">'loss_0'</span>: <span style=\"color: #008080; text-decoration-color: #008080; font-weight: bold\">0.6233066916465759</span>, <span style=\"color: #008000; text-decoration-color: #008000\">'loss'</span>: <span style=\"color: #008080; text-decoration-color: #008080; font-weight: bold\">0.6233066916465759</span>, <span style=\"color: #008000; text-decoration-color: #008000\">'accuracy'</span>: <span style=\"color: #008080; text-decoration-color: #008080; font-weight: bold\">0.692052960395813</span>, <span style=\"color: #008000; text-decoration-color: #008000\">'trial_id'</span>: <span style=\"color: #008080; text-decoration-color: #008080; font-weight: bold\">30</span><span style=\"font-weight: bold\">}</span> | \n",
       "Score: <span style=\"color: #008080; text-decoration-color: #008080; font-weight: bold\">0.692052960395813</span>                                                                                           \n",
       "</pre>\n"
      ],
      "text/plain": [
       "\u001b[1;36m2025\u001b[0m-\u001b[1;36m02\u001b[0m-\u001b[1;36m08\u001b[0m \u001b[1;92m16:17:37\u001b[0m,\u001b[1;36m420\u001b[0m - \u001b[1m{\u001b[0mpytorch_tabular.tabular_model_tuner:\u001b[1;36m412\u001b[0m\u001b[1m}\u001b[0m - INFO - Trial \u001b[1;36m31\u001b[0m/\u001b[1;36m32\u001b[0m: \u001b[1m{\u001b[0m\u001b[32m'model'\u001b[0m:                \n",
       "\u001b[32m'1-AutoIntConfig'\u001b[0m, \u001b[32m'model_config__activation'\u001b[0m: \u001b[32m'LeakyReLU'\u001b[0m, \u001b[32m'model_config__attn_embed_dim'\u001b[0m: \u001b[32m'64'\u001b[0m,                  \n",
       "\u001b[32m'model_config__embedding_dropout'\u001b[0m: \u001b[1;36m0.2\u001b[0m, \u001b[32m'model_config__layers'\u001b[0m: \u001b[32m'1024-512-256'\u001b[0m, \u001b[32m'optimizer_config__optimizer'\u001b[0m:     \n",
       "\u001b[32m'Adam'\u001b[0m, \u001b[32m'loss_0'\u001b[0m: \u001b[1;36m0.6233066916465759\u001b[0m, \u001b[32m'loss'\u001b[0m: \u001b[1;36m0.6233066916465759\u001b[0m, \u001b[32m'accuracy'\u001b[0m: \u001b[1;36m0.692052960395813\u001b[0m, \u001b[32m'trial_id'\u001b[0m: \u001b[1;36m30\u001b[0m\u001b[1m}\u001b[0m | \n",
       "Score: \u001b[1;36m0.692052960395813\u001b[0m                                                                                           \n"
      ]
     },
     "metadata": {},
     "output_type": "display_data"
    },
    {
     "data": {
      "text/html": [
       "<pre style=\"white-space:pre;overflow-x:auto;line-height:normal;font-family:Menlo,'DejaVu Sans Mono',consolas,'Courier New',monospace\">/home/max/anaconda3/envs/tabular/lib/python3.10/site-packages/pytorch_lightning/callbacks/model_checkpoint.py:639: \n",
       "Checkpoint directory /home/max/Documents/PA/pytorch_tabular/machine_learning/saved_models exists and is not empty.\n",
       "</pre>\n"
      ],
      "text/plain": [
       "/home/max/anaconda3/envs/tabular/lib/python3.10/site-packages/pytorch_lightning/callbacks/model_checkpoint.py:639: \n",
       "Checkpoint directory /home/max/Documents/PA/pytorch_tabular/machine_learning/saved_models exists and is not empty.\n"
      ]
     },
     "metadata": {},
     "output_type": "display_data"
    },
    {
     "data": {
      "text/html": [
       "<pre style=\"white-space:pre;overflow-x:auto;line-height:normal;font-family:Menlo,'DejaVu Sans Mono',consolas,'Courier New',monospace\">/home/max/anaconda3/envs/tabular/lib/python3.10/site-packages/pytorch_lightning/loops/fit_loop.py:293: The number \n",
       "of training batches (22) is smaller than the logging interval Trainer(log_every_n_steps=50). Set a lower value for \n",
       "log_every_n_steps if you want to see logs for the training epoch.\n",
       "</pre>\n"
      ],
      "text/plain": [
       "/home/max/anaconda3/envs/tabular/lib/python3.10/site-packages/pytorch_lightning/loops/fit_loop.py:293: The number \n",
       "of training batches (22) is smaller than the logging interval Trainer(log_every_n_steps=50). Set a lower value for \n",
       "log_every_n_steps if you want to see logs for the training epoch.\n"
      ]
     },
     "metadata": {},
     "output_type": "display_data"
    },
    {
     "data": {
      "application/vnd.jupyter.widget-view+json": {
       "model_id": "d0d40c78237c4d1182705b34f3e06b91",
       "version_major": 2,
       "version_minor": 0
      },
      "text/plain": [
       "Finding best initial lr:   0%|          | 0/100 [00:00<?, ?it/s]"
      ]
     },
     "metadata": {},
     "output_type": "display_data"
    },
    {
     "data": {
      "text/html": [
       "<pre style=\"white-space:pre;overflow-x:auto;line-height:normal;font-family:Menlo,'DejaVu Sans Mono',consolas,'Courier New',monospace\"><span style=\"color: #008080; text-decoration-color: #008080; font-weight: bold\">2025</span>-<span style=\"color: #008080; text-decoration-color: #008080; font-weight: bold\">02</span>-<span style=\"color: #008080; text-decoration-color: #008080; font-weight: bold\">08</span> <span style=\"color: #00ff00; text-decoration-color: #00ff00; font-weight: bold\">16:17:51</span>,<span style=\"color: #008080; text-decoration-color: #008080; font-weight: bold\">052</span> - <span style=\"font-weight: bold\">{</span>pytorch_tabular.tabular_model_tuner:<span style=\"color: #008080; text-decoration-color: #008080; font-weight: bold\">412</span><span style=\"font-weight: bold\">}</span> - INFO - Trial <span style=\"color: #008080; text-decoration-color: #008080; font-weight: bold\">32</span>/<span style=\"color: #008080; text-decoration-color: #008080; font-weight: bold\">32</span>: <span style=\"font-weight: bold\">{</span><span style=\"color: #008000; text-decoration-color: #008000\">'model'</span>:                \n",
       "<span style=\"color: #008000; text-decoration-color: #008000\">'1-AutoIntConfig'</span>, <span style=\"color: #008000; text-decoration-color: #008000\">'model_config__activation'</span>: <span style=\"color: #008000; text-decoration-color: #008000\">'LeakyReLU'</span>, <span style=\"color: #008000; text-decoration-color: #008000\">'model_config__attn_embed_dim'</span>: <span style=\"color: #008000; text-decoration-color: #008000\">'64'</span>,                  \n",
       "<span style=\"color: #008000; text-decoration-color: #008000\">'model_config__embedding_dropout'</span>: <span style=\"color: #008080; text-decoration-color: #008080; font-weight: bold\">0.2</span>, <span style=\"color: #008000; text-decoration-color: #008000\">'model_config__layers'</span>: <span style=\"color: #008000; text-decoration-color: #008000\">'1024-512-256'</span>, <span style=\"color: #008000; text-decoration-color: #008000\">'optimizer_config__optimizer'</span>:     \n",
       "<span style=\"color: #008000; text-decoration-color: #008000\">'SGD'</span>, <span style=\"color: #008000; text-decoration-color: #008000\">'loss_0'</span>: <span style=\"color: #008080; text-decoration-color: #008080; font-weight: bold\">0.6679080128669739</span>, <span style=\"color: #008000; text-decoration-color: #008000\">'loss'</span>: <span style=\"color: #008080; text-decoration-color: #008080; font-weight: bold\">0.6679080128669739</span>, <span style=\"color: #008000; text-decoration-color: #008000\">'accuracy'</span>: <span style=\"color: #008080; text-decoration-color: #008080; font-weight: bold\">0.6291390657424927</span>, <span style=\"color: #008000; text-decoration-color: #008000\">'trial_id'</span>: <span style=\"color: #008080; text-decoration-color: #008080; font-weight: bold\">31</span><span style=\"font-weight: bold\">}</span> | \n",
       "Score: <span style=\"color: #008080; text-decoration-color: #008080; font-weight: bold\">0.6291390657424927</span>                                                                                          \n",
       "</pre>\n"
      ],
      "text/plain": [
       "\u001b[1;36m2025\u001b[0m-\u001b[1;36m02\u001b[0m-\u001b[1;36m08\u001b[0m \u001b[1;92m16:17:51\u001b[0m,\u001b[1;36m052\u001b[0m - \u001b[1m{\u001b[0mpytorch_tabular.tabular_model_tuner:\u001b[1;36m412\u001b[0m\u001b[1m}\u001b[0m - INFO - Trial \u001b[1;36m32\u001b[0m/\u001b[1;36m32\u001b[0m: \u001b[1m{\u001b[0m\u001b[32m'model'\u001b[0m:                \n",
       "\u001b[32m'1-AutoIntConfig'\u001b[0m, \u001b[32m'model_config__activation'\u001b[0m: \u001b[32m'LeakyReLU'\u001b[0m, \u001b[32m'model_config__attn_embed_dim'\u001b[0m: \u001b[32m'64'\u001b[0m,                  \n",
       "\u001b[32m'model_config__embedding_dropout'\u001b[0m: \u001b[1;36m0.2\u001b[0m, \u001b[32m'model_config__layers'\u001b[0m: \u001b[32m'1024-512-256'\u001b[0m, \u001b[32m'optimizer_config__optimizer'\u001b[0m:     \n",
       "\u001b[32m'SGD'\u001b[0m, \u001b[32m'loss_0'\u001b[0m: \u001b[1;36m0.6679080128669739\u001b[0m, \u001b[32m'loss'\u001b[0m: \u001b[1;36m0.6679080128669739\u001b[0m, \u001b[32m'accuracy'\u001b[0m: \u001b[1;36m0.6291390657424927\u001b[0m, \u001b[32m'trial_id'\u001b[0m: \u001b[1;36m31\u001b[0m\u001b[1m}\u001b[0m | \n",
       "Score: \u001b[1;36m0.6291390657424927\u001b[0m                                                                                          \n"
      ]
     },
     "metadata": {},
     "output_type": "display_data"
    },
    {
     "data": {
      "text/html": [
       "<pre style=\"white-space:pre;overflow-x:auto;line-height:normal;font-family:Menlo,'DejaVu Sans Mono',consolas,'Courier New',monospace\"></pre>\n"
      ],
      "text/plain": []
     },
     "metadata": {},
     "output_type": "display_data"
    },
    {
     "data": {
      "text/html": [
       "<pre style=\"white-space:pre;overflow-x:auto;line-height:normal;font-family:Menlo,'DejaVu Sans Mono',consolas,'Courier New',monospace\"><span style=\"color: #008080; text-decoration-color: #008080; font-weight: bold\">2025</span>-<span style=\"color: #008080; text-decoration-color: #008080; font-weight: bold\">02</span>-<span style=\"color: #008080; text-decoration-color: #008080; font-weight: bold\">08</span> <span style=\"color: #00ff00; text-decoration-color: #00ff00; font-weight: bold\">16:17:51</span>,<span style=\"color: #008080; text-decoration-color: #008080; font-weight: bold\">060</span> - <span style=\"font-weight: bold\">{</span>pytorch_tabular.tabular_model_tuner:<span style=\"color: #008080; text-decoration-color: #008080; font-weight: bold\">427</span><span style=\"font-weight: bold\">}</span> - INFO - Model Tuner Finished                  \n",
       "</pre>\n"
      ],
      "text/plain": [
       "\u001b[1;36m2025\u001b[0m-\u001b[1;36m02\u001b[0m-\u001b[1;36m08\u001b[0m \u001b[1;92m16:17:51\u001b[0m,\u001b[1;36m060\u001b[0m - \u001b[1m{\u001b[0mpytorch_tabular.tabular_model_tuner:\u001b[1;36m427\u001b[0m\u001b[1m}\u001b[0m - INFO - Model Tuner Finished                  \n"
      ]
     },
     "metadata": {},
     "output_type": "display_data"
    },
    {
     "data": {
      "text/html": [
       "<pre style=\"white-space:pre;overflow-x:auto;line-height:normal;font-family:Menlo,'DejaVu Sans Mono',consolas,'Courier New',monospace\"><span style=\"color: #008080; text-decoration-color: #008080; font-weight: bold\">2025</span>-<span style=\"color: #008080; text-decoration-color: #008080; font-weight: bold\">02</span>-<span style=\"color: #008080; text-decoration-color: #008080; font-weight: bold\">08</span> <span style=\"color: #00ff00; text-decoration-color: #00ff00; font-weight: bold\">16:17:51</span>,<span style=\"color: #008080; text-decoration-color: #008080; font-weight: bold\">061</span> - <span style=\"font-weight: bold\">{</span>pytorch_tabular.tabular_model_tuner:<span style=\"color: #008080; text-decoration-color: #008080; font-weight: bold\">428</span><span style=\"font-weight: bold\">}</span> - INFO - Best Model:                           \n",
       "<span style=\"color: #008080; text-decoration-color: #008080; font-weight: bold\">0</span>-CategoryEmbeddingModelConfig - Best Score <span style=\"font-weight: bold\">(</span>accuracy<span style=\"font-weight: bold\">)</span>: <span style=\"color: #008080; text-decoration-color: #008080; font-weight: bold\">0.7284768223762512</span>                                         \n",
       "</pre>\n"
      ],
      "text/plain": [
       "\u001b[1;36m2025\u001b[0m-\u001b[1;36m02\u001b[0m-\u001b[1;36m08\u001b[0m \u001b[1;92m16:17:51\u001b[0m,\u001b[1;36m061\u001b[0m - \u001b[1m{\u001b[0mpytorch_tabular.tabular_model_tuner:\u001b[1;36m428\u001b[0m\u001b[1m}\u001b[0m - INFO - Best Model:                           \n",
       "\u001b[1;36m0\u001b[0m-CategoryEmbeddingModelConfig - Best Score \u001b[1m(\u001b[0maccuracy\u001b[1m)\u001b[0m: \u001b[1;36m0.7284768223762512\u001b[0m                                         \n"
      ]
     },
     "metadata": {},
     "output_type": "display_data"
    }
   ],
   "source": [
    "tuner = TabularModelTuner(\n",
    "    data_config=data_config,\n",
    "    model_config=all_models,\n",
    "    optimizer_config=optimizer_config,\n",
    "    trainer_config=trainer_config\n",
    ")\n",
    "\n",
    "tuner_df = tuner.tune(\n",
    "    train=train,\n",
    "    validation=valid,\n",
    "    search_space=all_search_space,\n",
    "    strategy=\"grid_search\",  # grid_search (seach in all search_spaces) or random_search (search in n_trials random search_spaces)\n",
    "    n_trials=4,  # Used when strategy is random_search\n",
    "    metric=\"accuracy\",\n",
    "    mode=\"max\",  # max or min\n",
    "    progress_bar=True,\n",
    "    verbose=True # Make True if you want to log metrics and params each iteration\n",
    ")"
   ]
  },
  {
   "cell_type": "markdown",
   "id": "3c3e5a74-c03d-471f-86de-38d22d5d2fef",
   "metadata": {},
   "source": [
    "O Tuner retorna uma única variável contendo [tabela deresultados, parâmetros do melhor modelo, valor da melhor métrica, melhor modelo]."
   ]
  },
  {
   "cell_type": "code",
   "execution_count": 27,
   "id": "f0d8d133-9b05-4e8d-ba21-547832c5d6f0",
   "metadata": {},
   "outputs": [
    {
     "data": {
      "text/html": [
       "<style type=\"text/css\">\n",
       "#T_150eb_row0_col7, #T_150eb_row43_col7, #T_150eb_row46_col7 {\n",
       "  background-color: #138c4a;\n",
       "  color: #f1f1f1;\n",
       "}\n",
       "#T_150eb_row0_col8, #T_150eb_row8_col7 {\n",
       "  background-color: #006837;\n",
       "  color: #f1f1f1;\n",
       "}\n",
       "#T_150eb_row1_col7, #T_150eb_row13_col7, #T_150eb_row16_col7, #T_150eb_row22_col7, #T_150eb_row26_col7, #T_150eb_row27_col7, #T_150eb_row28_col7 {\n",
       "  background-color: #04703b;\n",
       "  color: #f1f1f1;\n",
       "}\n",
       "#T_150eb_row1_col8, #T_150eb_row2_col8, #T_150eb_row3_col8, #T_150eb_row4_col7, #T_150eb_row15_col7, #T_150eb_row21_col7, #T_150eb_row23_col7, #T_150eb_row25_col7 {\n",
       "  background-color: #05713c;\n",
       "  color: #f1f1f1;\n",
       "}\n",
       "#T_150eb_row2_col7, #T_150eb_row5_col7, #T_150eb_row10_col7, #T_150eb_row11_col7, #T_150eb_row12_col7, #T_150eb_row14_col7 {\n",
       "  background-color: #026c39;\n",
       "  color: #f1f1f1;\n",
       "}\n",
       "#T_150eb_row3_col7 {\n",
       "  background-color: #0b7d42;\n",
       "  color: #f1f1f1;\n",
       "}\n",
       "#T_150eb_row4_col8, #T_150eb_row5_col8, #T_150eb_row6_col8, #T_150eb_row7_col8 {\n",
       "  background-color: #0a7b41;\n",
       "  color: #f1f1f1;\n",
       "}\n",
       "#T_150eb_row6_col7, #T_150eb_row24_col7, #T_150eb_row29_col7 {\n",
       "  background-color: #036e3a;\n",
       "  color: #f1f1f1;\n",
       "}\n",
       "#T_150eb_row7_col7, #T_150eb_row17_col7 {\n",
       "  background-color: #016a38;\n",
       "  color: #f1f1f1;\n",
       "}\n",
       "#T_150eb_row8_col8, #T_150eb_row9_col8, #T_150eb_row10_col8, #T_150eb_row11_col8 {\n",
       "  background-color: #0d8044;\n",
       "  color: #f1f1f1;\n",
       "}\n",
       "#T_150eb_row9_col7, #T_150eb_row19_col7, #T_150eb_row20_col7 {\n",
       "  background-color: #06733d;\n",
       "  color: #f1f1f1;\n",
       "}\n",
       "#T_150eb_row12_col8, #T_150eb_row13_col8, #T_150eb_row14_col8, #T_150eb_row15_col8, #T_150eb_row16_col8, #T_150eb_row34_col7, #T_150eb_row38_col7, #T_150eb_row39_col7, #T_150eb_row42_col7 {\n",
       "  background-color: #108647;\n",
       "  color: #f1f1f1;\n",
       "}\n",
       "#T_150eb_row17_col8, #T_150eb_row18_col8, #T_150eb_row19_col8, #T_150eb_row20_col8, #T_150eb_row21_col8, #T_150eb_row22_col8, #T_150eb_row45_col7, #T_150eb_row50_col7 {\n",
       "  background-color: #128a49;\n",
       "  color: #f1f1f1;\n",
       "}\n",
       "#T_150eb_row18_col7 {\n",
       "  background-color: #08773f;\n",
       "  color: #f1f1f1;\n",
       "}\n",
       "#T_150eb_row23_col8, #T_150eb_row24_col8, #T_150eb_row44_col7, #T_150eb_row47_col7, #T_150eb_row58_col7 {\n",
       "  background-color: #15904c;\n",
       "  color: #f1f1f1;\n",
       "}\n",
       "#T_150eb_row25_col8, #T_150eb_row26_col8, #T_150eb_row27_col8, #T_150eb_row62_col7 {\n",
       "  background-color: #18954f;\n",
       "  color: #f1f1f1;\n",
       "}\n",
       "#T_150eb_row28_col8, #T_150eb_row29_col8, #T_150eb_row59_col7, #T_150eb_row63_col7 {\n",
       "  background-color: #1b9950;\n",
       "  color: #f1f1f1;\n",
       "}\n",
       "#T_150eb_row30_col7, #T_150eb_row31_col7 {\n",
       "  background-color: #07753e;\n",
       "  color: #f1f1f1;\n",
       "}\n",
       "#T_150eb_row30_col8, #T_150eb_row31_col8 {\n",
       "  background-color: #249d53;\n",
       "  color: #f1f1f1;\n",
       "}\n",
       "#T_150eb_row32_col7, #T_150eb_row36_col7, #T_150eb_row40_col7, #T_150eb_row41_col7 {\n",
       "  background-color: #118848;\n",
       "  color: #f1f1f1;\n",
       "}\n",
       "#T_150eb_row32_col8 {\n",
       "  background-color: #96d268;\n",
       "  color: #000000;\n",
       "}\n",
       "#T_150eb_row33_col7, #T_150eb_row49_col7, #T_150eb_row51_col7, #T_150eb_row54_col7, #T_150eb_row55_col7, #T_150eb_row56_col7, #T_150eb_row57_col7 {\n",
       "  background-color: #148e4b;\n",
       "  color: #f1f1f1;\n",
       "}\n",
       "#T_150eb_row33_col8, #T_150eb_row34_col8 {\n",
       "  background-color: #9bd469;\n",
       "  color: #000000;\n",
       "}\n",
       "#T_150eb_row35_col7, #T_150eb_row37_col7 {\n",
       "  background-color: #0f8446;\n",
       "  color: #f1f1f1;\n",
       "}\n",
       "#T_150eb_row35_col8 {\n",
       "  background-color: #a2d76a;\n",
       "  color: #000000;\n",
       "}\n",
       "#T_150eb_row36_col8, #T_150eb_row37_col8, #T_150eb_row38_col8 {\n",
       "  background-color: #a9da6c;\n",
       "  color: #000000;\n",
       "}\n",
       "#T_150eb_row39_col8, #T_150eb_row40_col8, #T_150eb_row41_col8, #T_150eb_row42_col8 {\n",
       "  background-color: #addc6f;\n",
       "  color: #000000;\n",
       "}\n",
       "#T_150eb_row43_col8 {\n",
       "  background-color: #b3df72;\n",
       "  color: #000000;\n",
       "}\n",
       "#T_150eb_row44_col8 {\n",
       "  background-color: #cfeb85;\n",
       "  color: #000000;\n",
       "}\n",
       "#T_150eb_row45_col8 {\n",
       "  background-color: #ddf191;\n",
       "  color: #000000;\n",
       "}\n",
       "#T_150eb_row46_col8, #T_150eb_row47_col8, #T_150eb_row48_col8, #T_150eb_row49_col8, #T_150eb_row50_col8, #T_150eb_row51_col8, #T_150eb_row52_col8 {\n",
       "  background-color: #e9f6a1;\n",
       "  color: #000000;\n",
       "}\n",
       "#T_150eb_row48_col7, #T_150eb_row60_col7 {\n",
       "  background-color: #219c52;\n",
       "  color: #f1f1f1;\n",
       "}\n",
       "#T_150eb_row52_col7, #T_150eb_row60_col8, #T_150eb_row61_col8, #T_150eb_row62_col8, #T_150eb_row63_col8 {\n",
       "  background-color: #a50026;\n",
       "  color: #f1f1f1;\n",
       "}\n",
       "#T_150eb_row53_col7 {\n",
       "  background-color: #1e9a51;\n",
       "  color: #f1f1f1;\n",
       "}\n",
       "#T_150eb_row53_col8, #T_150eb_row54_col8, #T_150eb_row55_col8, #T_150eb_row56_col8 {\n",
       "  background-color: #ecf7a6;\n",
       "  color: #000000;\n",
       "}\n",
       "#T_150eb_row57_col8 {\n",
       "  background-color: #f1f9ac;\n",
       "  color: #000000;\n",
       "}\n",
       "#T_150eb_row58_col8 {\n",
       "  background-color: #fdc574;\n",
       "  color: #000000;\n",
       "}\n",
       "#T_150eb_row59_col8 {\n",
       "  background-color: #fb9d59;\n",
       "  color: #000000;\n",
       "}\n",
       "#T_150eb_row61_col7 {\n",
       "  background-color: #16914d;\n",
       "  color: #f1f1f1;\n",
       "}\n",
       "</style>\n",
       "<table id=\"T_150eb\">\n",
       "  <thead>\n",
       "    <tr>\n",
       "      <th class=\"blank level0\" >&nbsp;</th>\n",
       "      <th id=\"T_150eb_level0_col0\" class=\"col_heading level0 col0\" >trial_id</th>\n",
       "      <th id=\"T_150eb_level0_col1\" class=\"col_heading level0 col1\" >model</th>\n",
       "      <th id=\"T_150eb_level0_col2\" class=\"col_heading level0 col2\" >model_config__activation</th>\n",
       "      <th id=\"T_150eb_level0_col3\" class=\"col_heading level0 col3\" >model_config__embedding_dropout</th>\n",
       "      <th id=\"T_150eb_level0_col4\" class=\"col_heading level0 col4\" >model_config__layers</th>\n",
       "      <th id=\"T_150eb_level0_col5\" class=\"col_heading level0 col5\" >optimizer_config__optimizer</th>\n",
       "      <th id=\"T_150eb_level0_col6\" class=\"col_heading level0 col6\" >loss_0</th>\n",
       "      <th id=\"T_150eb_level0_col7\" class=\"col_heading level0 col7\" >loss</th>\n",
       "      <th id=\"T_150eb_level0_col8\" class=\"col_heading level0 col8\" >accuracy</th>\n",
       "      <th id=\"T_150eb_level0_col9\" class=\"col_heading level0 col9\" >model_config__attn_embed_dim</th>\n",
       "    </tr>\n",
       "  </thead>\n",
       "  <tbody>\n",
       "    <tr>\n",
       "      <th id=\"T_150eb_level0_row0\" class=\"row_heading level0 row0\" >22</th>\n",
       "      <td id=\"T_150eb_row0_col0\" class=\"data row0 col0\" >22</td>\n",
       "      <td id=\"T_150eb_row0_col1\" class=\"data row0 col1\" >0-CategoryEmbeddingModelConfig</td>\n",
       "      <td id=\"T_150eb_row0_col2\" class=\"data row0 col2\" >LeakyReLU</td>\n",
       "      <td id=\"T_150eb_row0_col3\" class=\"data row0 col3\" >0.000000</td>\n",
       "      <td id=\"T_150eb_row0_col4\" class=\"data row0 col4\" >256-512-1024</td>\n",
       "      <td id=\"T_150eb_row0_col5\" class=\"data row0 col5\" >Adam</td>\n",
       "      <td id=\"T_150eb_row0_col6\" class=\"data row0 col6\" >0.683077</td>\n",
       "      <td id=\"T_150eb_row0_col7\" class=\"data row0 col7\" >0.683077</td>\n",
       "      <td id=\"T_150eb_row0_col8\" class=\"data row0 col8\" >0.728477</td>\n",
       "      <td id=\"T_150eb_row0_col9\" class=\"data row0 col9\" >nan</td>\n",
       "    </tr>\n",
       "    <tr>\n",
       "      <th id=\"T_150eb_level0_row1\" class=\"row_heading level0 row1\" >32</th>\n",
       "      <td id=\"T_150eb_row1_col0\" class=\"data row1 col0\" >0</td>\n",
       "      <td id=\"T_150eb_row1_col1\" class=\"data row1 col1\" >1-AutoIntConfig</td>\n",
       "      <td id=\"T_150eb_row1_col2\" class=\"data row1 col2\" >ReLU</td>\n",
       "      <td id=\"T_150eb_row1_col3\" class=\"data row1 col3\" >0.000000</td>\n",
       "      <td id=\"T_150eb_row1_col4\" class=\"data row1 col4\" >128-64-32</td>\n",
       "      <td id=\"T_150eb_row1_col5\" class=\"data row1 col5\" >Adam</td>\n",
       "      <td id=\"T_150eb_row1_col6\" class=\"data row1 col6\" >0.607369</td>\n",
       "      <td id=\"T_150eb_row1_col7\" class=\"data row1 col7\" >0.607369</td>\n",
       "      <td id=\"T_150eb_row1_col8\" class=\"data row1 col8\" >0.721854</td>\n",
       "      <td id=\"T_150eb_row1_col9\" class=\"data row1 col9\" >32</td>\n",
       "    </tr>\n",
       "    <tr>\n",
       "      <th id=\"T_150eb_level0_row2\" class=\"row_heading level0 row2\" >23</th>\n",
       "      <td id=\"T_150eb_row2_col0\" class=\"data row2 col0\" >23</td>\n",
       "      <td id=\"T_150eb_row2_col1\" class=\"data row2 col1\" >0-CategoryEmbeddingModelConfig</td>\n",
       "      <td id=\"T_150eb_row2_col2\" class=\"data row2 col2\" >LeakyReLU</td>\n",
       "      <td id=\"T_150eb_row2_col3\" class=\"data row2 col3\" >0.000000</td>\n",
       "      <td id=\"T_150eb_row2_col4\" class=\"data row2 col4\" >256-512-1024</td>\n",
       "      <td id=\"T_150eb_row2_col5\" class=\"data row2 col5\" >SGD</td>\n",
       "      <td id=\"T_150eb_row2_col6\" class=\"data row2 col6\" >0.598071</td>\n",
       "      <td id=\"T_150eb_row2_col7\" class=\"data row2 col7\" >0.598071</td>\n",
       "      <td id=\"T_150eb_row2_col8\" class=\"data row2 col8\" >0.721854</td>\n",
       "      <td id=\"T_150eb_row2_col9\" class=\"data row2 col9\" >nan</td>\n",
       "    </tr>\n",
       "    <tr>\n",
       "      <th id=\"T_150eb_level0_row3\" class=\"row_heading level0 row3\" >1</th>\n",
       "      <td id=\"T_150eb_row3_col0\" class=\"data row3 col0\" >1</td>\n",
       "      <td id=\"T_150eb_row3_col1\" class=\"data row3 col1\" >0-CategoryEmbeddingModelConfig</td>\n",
       "      <td id=\"T_150eb_row3_col2\" class=\"data row3 col2\" >ReLU</td>\n",
       "      <td id=\"T_150eb_row3_col3\" class=\"data row3 col3\" >0.000000</td>\n",
       "      <td id=\"T_150eb_row3_col4\" class=\"data row3 col4\" >128-64-32</td>\n",
       "      <td id=\"T_150eb_row3_col5\" class=\"data row3 col5\" >SGD</td>\n",
       "      <td id=\"T_150eb_row3_col6\" class=\"data row3 col6\" >0.640602</td>\n",
       "      <td id=\"T_150eb_row3_col7\" class=\"data row3 col7\" >0.640602</td>\n",
       "      <td id=\"T_150eb_row3_col8\" class=\"data row3 col8\" >0.721854</td>\n",
       "      <td id=\"T_150eb_row3_col9\" class=\"data row3 col9\" >nan</td>\n",
       "    </tr>\n",
       "    <tr>\n",
       "      <th id=\"T_150eb_level0_row4\" class=\"row_heading level0 row4\" >55</th>\n",
       "      <td id=\"T_150eb_row4_col0\" class=\"data row4 col0\" >23</td>\n",
       "      <td id=\"T_150eb_row4_col1\" class=\"data row4 col1\" >1-AutoIntConfig</td>\n",
       "      <td id=\"T_150eb_row4_col2\" class=\"data row4 col2\" >LeakyReLU</td>\n",
       "      <td id=\"T_150eb_row4_col3\" class=\"data row4 col3\" >0.200000</td>\n",
       "      <td id=\"T_150eb_row4_col4\" class=\"data row4 col4\" >1024-512-256</td>\n",
       "      <td id=\"T_150eb_row4_col5\" class=\"data row4 col5\" >SGD</td>\n",
       "      <td id=\"T_150eb_row4_col6\" class=\"data row4 col6\" >0.610837</td>\n",
       "      <td id=\"T_150eb_row4_col7\" class=\"data row4 col7\" >0.610837</td>\n",
       "      <td id=\"T_150eb_row4_col8\" class=\"data row4 col8\" >0.715232</td>\n",
       "      <td id=\"T_150eb_row4_col9\" class=\"data row4 col9\" >32</td>\n",
       "    </tr>\n",
       "    <tr>\n",
       "      <th id=\"T_150eb_level0_row5\" class=\"row_heading level0 row5\" >31</th>\n",
       "      <td id=\"T_150eb_row5_col0\" class=\"data row5 col0\" >31</td>\n",
       "      <td id=\"T_150eb_row5_col1\" class=\"data row5 col1\" >0-CategoryEmbeddingModelConfig</td>\n",
       "      <td id=\"T_150eb_row5_col2\" class=\"data row5 col2\" >LeakyReLU</td>\n",
       "      <td id=\"T_150eb_row5_col3\" class=\"data row5 col3\" >0.200000</td>\n",
       "      <td id=\"T_150eb_row5_col4\" class=\"data row5 col4\" >256-512-1024</td>\n",
       "      <td id=\"T_150eb_row5_col5\" class=\"data row5 col5\" >SGD</td>\n",
       "      <td id=\"T_150eb_row5_col6\" class=\"data row5 col6\" >0.596345</td>\n",
       "      <td id=\"T_150eb_row5_col7\" class=\"data row5 col7\" >0.596345</td>\n",
       "      <td id=\"T_150eb_row5_col8\" class=\"data row5 col8\" >0.715232</td>\n",
       "      <td id=\"T_150eb_row5_col9\" class=\"data row5 col9\" >nan</td>\n",
       "    </tr>\n",
       "    <tr>\n",
       "      <th id=\"T_150eb_level0_row6\" class=\"row_heading level0 row6\" >28</th>\n",
       "      <td id=\"T_150eb_row6_col0\" class=\"data row6 col0\" >28</td>\n",
       "      <td id=\"T_150eb_row6_col1\" class=\"data row6 col1\" >0-CategoryEmbeddingModelConfig</td>\n",
       "      <td id=\"T_150eb_row6_col2\" class=\"data row6 col2\" >LeakyReLU</td>\n",
       "      <td id=\"T_150eb_row6_col3\" class=\"data row6 col3\" >0.200000</td>\n",
       "      <td id=\"T_150eb_row6_col4\" class=\"data row6 col4\" >32-64-128</td>\n",
       "      <td id=\"T_150eb_row6_col5\" class=\"data row6 col5\" >Adam</td>\n",
       "      <td id=\"T_150eb_row6_col6\" class=\"data row6 col6\" >0.602533</td>\n",
       "      <td id=\"T_150eb_row6_col7\" class=\"data row6 col7\" >0.602533</td>\n",
       "      <td id=\"T_150eb_row6_col8\" class=\"data row6 col8\" >0.715232</td>\n",
       "      <td id=\"T_150eb_row6_col9\" class=\"data row6 col9\" >nan</td>\n",
       "    </tr>\n",
       "    <tr>\n",
       "      <th id=\"T_150eb_level0_row7\" class=\"row_heading level0 row7\" >20</th>\n",
       "      <td id=\"T_150eb_row7_col0\" class=\"data row7 col0\" >20</td>\n",
       "      <td id=\"T_150eb_row7_col1\" class=\"data row7 col1\" >0-CategoryEmbeddingModelConfig</td>\n",
       "      <td id=\"T_150eb_row7_col2\" class=\"data row7 col2\" >LeakyReLU</td>\n",
       "      <td id=\"T_150eb_row7_col3\" class=\"data row7 col3\" >0.000000</td>\n",
       "      <td id=\"T_150eb_row7_col4\" class=\"data row7 col4\" >32-64-128</td>\n",
       "      <td id=\"T_150eb_row7_col5\" class=\"data row7 col5\" >Adam</td>\n",
       "      <td id=\"T_150eb_row7_col6\" class=\"data row7 col6\" >0.593532</td>\n",
       "      <td id=\"T_150eb_row7_col7\" class=\"data row7 col7\" >0.593532</td>\n",
       "      <td id=\"T_150eb_row7_col8\" class=\"data row7 col8\" >0.715232</td>\n",
       "      <td id=\"T_150eb_row7_col9\" class=\"data row7 col9\" >nan</td>\n",
       "    </tr>\n",
       "    <tr>\n",
       "      <th id=\"T_150eb_level0_row8\" class=\"row_heading level0 row8\" >30</th>\n",
       "      <td id=\"T_150eb_row8_col0\" class=\"data row8 col0\" >30</td>\n",
       "      <td id=\"T_150eb_row8_col1\" class=\"data row8 col1\" >0-CategoryEmbeddingModelConfig</td>\n",
       "      <td id=\"T_150eb_row8_col2\" class=\"data row8 col2\" >LeakyReLU</td>\n",
       "      <td id=\"T_150eb_row8_col3\" class=\"data row8 col3\" >0.200000</td>\n",
       "      <td id=\"T_150eb_row8_col4\" class=\"data row8 col4\" >256-512-1024</td>\n",
       "      <td id=\"T_150eb_row8_col5\" class=\"data row8 col5\" >Adam</td>\n",
       "      <td id=\"T_150eb_row8_col6\" class=\"data row8 col6\" >0.584957</td>\n",
       "      <td id=\"T_150eb_row8_col7\" class=\"data row8 col7\" >0.584957</td>\n",
       "      <td id=\"T_150eb_row8_col8\" class=\"data row8 col8\" >0.711921</td>\n",
       "      <td id=\"T_150eb_row8_col9\" class=\"data row8 col9\" >nan</td>\n",
       "    </tr>\n",
       "    <tr>\n",
       "      <th id=\"T_150eb_level0_row9\" class=\"row_heading level0 row9\" >57</th>\n",
       "      <td id=\"T_150eb_row9_col0\" class=\"data row9 col0\" >25</td>\n",
       "      <td id=\"T_150eb_row9_col1\" class=\"data row9 col1\" >1-AutoIntConfig</td>\n",
       "      <td id=\"T_150eb_row9_col2\" class=\"data row9 col2\" >LeakyReLU</td>\n",
       "      <td id=\"T_150eb_row9_col3\" class=\"data row9 col3\" >0.000000</td>\n",
       "      <td id=\"T_150eb_row9_col4\" class=\"data row9 col4\" >128-64-32</td>\n",
       "      <td id=\"T_150eb_row9_col5\" class=\"data row9 col5\" >SGD</td>\n",
       "      <td id=\"T_150eb_row9_col6\" class=\"data row9 col6\" >0.619494</td>\n",
       "      <td id=\"T_150eb_row9_col7\" class=\"data row9 col7\" >0.619494</td>\n",
       "      <td id=\"T_150eb_row9_col8\" class=\"data row9 col8\" >0.711921</td>\n",
       "      <td id=\"T_150eb_row9_col9\" class=\"data row9 col9\" >64</td>\n",
       "    </tr>\n",
       "    <tr>\n",
       "      <th id=\"T_150eb_level0_row10\" class=\"row_heading level0 row10\" >56</th>\n",
       "      <td id=\"T_150eb_row10_col0\" class=\"data row10 col0\" >24</td>\n",
       "      <td id=\"T_150eb_row10_col1\" class=\"data row10 col1\" >1-AutoIntConfig</td>\n",
       "      <td id=\"T_150eb_row10_col2\" class=\"data row10 col2\" >LeakyReLU</td>\n",
       "      <td id=\"T_150eb_row10_col3\" class=\"data row10 col3\" >0.000000</td>\n",
       "      <td id=\"T_150eb_row10_col4\" class=\"data row10 col4\" >128-64-32</td>\n",
       "      <td id=\"T_150eb_row10_col5\" class=\"data row10 col5\" >Adam</td>\n",
       "      <td id=\"T_150eb_row10_col6\" class=\"data row10 col6\" >0.599220</td>\n",
       "      <td id=\"T_150eb_row10_col7\" class=\"data row10 col7\" >0.599220</td>\n",
       "      <td id=\"T_150eb_row10_col8\" class=\"data row10 col8\" >0.711921</td>\n",
       "      <td id=\"T_150eb_row10_col9\" class=\"data row10 col9\" >64</td>\n",
       "    </tr>\n",
       "    <tr>\n",
       "      <th id=\"T_150eb_level0_row11\" class=\"row_heading level0 row11\" >12</th>\n",
       "      <td id=\"T_150eb_row11_col0\" class=\"data row11 col0\" >12</td>\n",
       "      <td id=\"T_150eb_row11_col1\" class=\"data row11 col1\" >0-CategoryEmbeddingModelConfig</td>\n",
       "      <td id=\"T_150eb_row11_col2\" class=\"data row11 col2\" >ReLU</td>\n",
       "      <td id=\"T_150eb_row11_col3\" class=\"data row11 col3\" >0.200000</td>\n",
       "      <td id=\"T_150eb_row11_col4\" class=\"data row11 col4\" >32-64-128</td>\n",
       "      <td id=\"T_150eb_row11_col5\" class=\"data row11 col5\" >Adam</td>\n",
       "      <td id=\"T_150eb_row11_col6\" class=\"data row11 col6\" >0.599504</td>\n",
       "      <td id=\"T_150eb_row11_col7\" class=\"data row11 col7\" >0.599504</td>\n",
       "      <td id=\"T_150eb_row11_col8\" class=\"data row11 col8\" >0.711921</td>\n",
       "      <td id=\"T_150eb_row11_col9\" class=\"data row11 col9\" >nan</td>\n",
       "    </tr>\n",
       "    <tr>\n",
       "      <th id=\"T_150eb_level0_row12\" class=\"row_heading level0 row12\" >15</th>\n",
       "      <td id=\"T_150eb_row12_col0\" class=\"data row12 col0\" >15</td>\n",
       "      <td id=\"T_150eb_row12_col1\" class=\"data row12 col1\" >0-CategoryEmbeddingModelConfig</td>\n",
       "      <td id=\"T_150eb_row12_col2\" class=\"data row12 col2\" >ReLU</td>\n",
       "      <td id=\"T_150eb_row12_col3\" class=\"data row12 col3\" >0.200000</td>\n",
       "      <td id=\"T_150eb_row12_col4\" class=\"data row12 col4\" >256-512-1024</td>\n",
       "      <td id=\"T_150eb_row12_col5\" class=\"data row12 col5\" >SGD</td>\n",
       "      <td id=\"T_150eb_row12_col6\" class=\"data row12 col6\" >0.595454</td>\n",
       "      <td id=\"T_150eb_row12_col7\" class=\"data row12 col7\" >0.595454</td>\n",
       "      <td id=\"T_150eb_row12_col8\" class=\"data row12 col8\" >0.708609</td>\n",
       "      <td id=\"T_150eb_row12_col9\" class=\"data row12 col9\" >nan</td>\n",
       "    </tr>\n",
       "    <tr>\n",
       "      <th id=\"T_150eb_level0_row13\" class=\"row_heading level0 row13\" >27</th>\n",
       "      <td id=\"T_150eb_row13_col0\" class=\"data row13 col0\" >27</td>\n",
       "      <td id=\"T_150eb_row13_col1\" class=\"data row13 col1\" >0-CategoryEmbeddingModelConfig</td>\n",
       "      <td id=\"T_150eb_row13_col2\" class=\"data row13 col2\" >LeakyReLU</td>\n",
       "      <td id=\"T_150eb_row13_col3\" class=\"data row13 col3\" >0.200000</td>\n",
       "      <td id=\"T_150eb_row13_col4\" class=\"data row13 col4\" >1024-512-256</td>\n",
       "      <td id=\"T_150eb_row13_col5\" class=\"data row13 col5\" >SGD</td>\n",
       "      <td id=\"T_150eb_row13_col6\" class=\"data row13 col6\" >0.606743</td>\n",
       "      <td id=\"T_150eb_row13_col7\" class=\"data row13 col7\" >0.606743</td>\n",
       "      <td id=\"T_150eb_row13_col8\" class=\"data row13 col8\" >0.708609</td>\n",
       "      <td id=\"T_150eb_row13_col9\" class=\"data row13 col9\" >nan</td>\n",
       "    </tr>\n",
       "    <tr>\n",
       "      <th id=\"T_150eb_level0_row14\" class=\"row_heading level0 row14\" >11</th>\n",
       "      <td id=\"T_150eb_row14_col0\" class=\"data row14 col0\" >11</td>\n",
       "      <td id=\"T_150eb_row14_col1\" class=\"data row14 col1\" >0-CategoryEmbeddingModelConfig</td>\n",
       "      <td id=\"T_150eb_row14_col2\" class=\"data row14 col2\" >ReLU</td>\n",
       "      <td id=\"T_150eb_row14_col3\" class=\"data row14 col3\" >0.200000</td>\n",
       "      <td id=\"T_150eb_row14_col4\" class=\"data row14 col4\" >1024-512-256</td>\n",
       "      <td id=\"T_150eb_row14_col5\" class=\"data row14 col5\" >SGD</td>\n",
       "      <td id=\"T_150eb_row14_col6\" class=\"data row14 col6\" >0.599765</td>\n",
       "      <td id=\"T_150eb_row14_col7\" class=\"data row14 col7\" >0.599765</td>\n",
       "      <td id=\"T_150eb_row14_col8\" class=\"data row14 col8\" >0.708609</td>\n",
       "      <td id=\"T_150eb_row14_col9\" class=\"data row14 col9\" >nan</td>\n",
       "    </tr>\n",
       "    <tr>\n",
       "      <th id=\"T_150eb_level0_row15\" class=\"row_heading level0 row15\" >7</th>\n",
       "      <td id=\"T_150eb_row15_col0\" class=\"data row15 col0\" >7</td>\n",
       "      <td id=\"T_150eb_row15_col1\" class=\"data row15 col1\" >0-CategoryEmbeddingModelConfig</td>\n",
       "      <td id=\"T_150eb_row15_col2\" class=\"data row15 col2\" >ReLU</td>\n",
       "      <td id=\"T_150eb_row15_col3\" class=\"data row15 col3\" >0.000000</td>\n",
       "      <td id=\"T_150eb_row15_col4\" class=\"data row15 col4\" >256-512-1024</td>\n",
       "      <td id=\"T_150eb_row15_col5\" class=\"data row15 col5\" >SGD</td>\n",
       "      <td id=\"T_150eb_row15_col6\" class=\"data row15 col6\" >0.610806</td>\n",
       "      <td id=\"T_150eb_row15_col7\" class=\"data row15 col7\" >0.610806</td>\n",
       "      <td id=\"T_150eb_row15_col8\" class=\"data row15 col8\" >0.708609</td>\n",
       "      <td id=\"T_150eb_row15_col9\" class=\"data row15 col9\" >nan</td>\n",
       "    </tr>\n",
       "    <tr>\n",
       "      <th id=\"T_150eb_level0_row16\" class=\"row_heading level0 row16\" >6</th>\n",
       "      <td id=\"T_150eb_row16_col0\" class=\"data row16 col0\" >6</td>\n",
       "      <td id=\"T_150eb_row16_col1\" class=\"data row16 col1\" >0-CategoryEmbeddingModelConfig</td>\n",
       "      <td id=\"T_150eb_row16_col2\" class=\"data row16 col2\" >ReLU</td>\n",
       "      <td id=\"T_150eb_row16_col3\" class=\"data row16 col3\" >0.000000</td>\n",
       "      <td id=\"T_150eb_row16_col4\" class=\"data row16 col4\" >256-512-1024</td>\n",
       "      <td id=\"T_150eb_row16_col5\" class=\"data row16 col5\" >Adam</td>\n",
       "      <td id=\"T_150eb_row16_col6\" class=\"data row16 col6\" >0.609726</td>\n",
       "      <td id=\"T_150eb_row16_col7\" class=\"data row16 col7\" >0.609726</td>\n",
       "      <td id=\"T_150eb_row16_col8\" class=\"data row16 col8\" >0.708609</td>\n",
       "      <td id=\"T_150eb_row16_col9\" class=\"data row16 col9\" >nan</td>\n",
       "    </tr>\n",
       "    <tr>\n",
       "      <th id=\"T_150eb_level0_row17\" class=\"row_heading level0 row17\" >48</th>\n",
       "      <td id=\"T_150eb_row17_col0\" class=\"data row17 col0\" >16</td>\n",
       "      <td id=\"T_150eb_row17_col1\" class=\"data row17 col1\" >1-AutoIntConfig</td>\n",
       "      <td id=\"T_150eb_row17_col2\" class=\"data row17 col2\" >LeakyReLU</td>\n",
       "      <td id=\"T_150eb_row17_col3\" class=\"data row17 col3\" >0.000000</td>\n",
       "      <td id=\"T_150eb_row17_col4\" class=\"data row17 col4\" >128-64-32</td>\n",
       "      <td id=\"T_150eb_row17_col5\" class=\"data row17 col5\" >Adam</td>\n",
       "      <td id=\"T_150eb_row17_col6\" class=\"data row17 col6\" >0.593971</td>\n",
       "      <td id=\"T_150eb_row17_col7\" class=\"data row17 col7\" >0.593971</td>\n",
       "      <td id=\"T_150eb_row17_col8\" class=\"data row17 col8\" >0.705298</td>\n",
       "      <td id=\"T_150eb_row17_col9\" class=\"data row17 col9\" >32</td>\n",
       "    </tr>\n",
       "    <tr>\n",
       "      <th id=\"T_150eb_level0_row18\" class=\"row_heading level0 row18\" >42</th>\n",
       "      <td id=\"T_150eb_row18_col0\" class=\"data row18 col0\" >10</td>\n",
       "      <td id=\"T_150eb_row18_col1\" class=\"data row18 col1\" >1-AutoIntConfig</td>\n",
       "      <td id=\"T_150eb_row18_col2\" class=\"data row18 col2\" >ReLU</td>\n",
       "      <td id=\"T_150eb_row18_col3\" class=\"data row18 col3\" >0.000000</td>\n",
       "      <td id=\"T_150eb_row18_col4\" class=\"data row18 col4\" >1024-512-256</td>\n",
       "      <td id=\"T_150eb_row18_col5\" class=\"data row18 col5\" >Adam</td>\n",
       "      <td id=\"T_150eb_row18_col6\" class=\"data row18 col6\" >0.629758</td>\n",
       "      <td id=\"T_150eb_row18_col7\" class=\"data row18 col7\" >0.629758</td>\n",
       "      <td id=\"T_150eb_row18_col8\" class=\"data row18 col8\" >0.705298</td>\n",
       "      <td id=\"T_150eb_row18_col9\" class=\"data row18 col9\" >64</td>\n",
       "    </tr>\n",
       "    <tr>\n",
       "      <th id=\"T_150eb_level0_row19\" class=\"row_heading level0 row19\" >54</th>\n",
       "      <td id=\"T_150eb_row19_col0\" class=\"data row19 col0\" >22</td>\n",
       "      <td id=\"T_150eb_row19_col1\" class=\"data row19 col1\" >1-AutoIntConfig</td>\n",
       "      <td id=\"T_150eb_row19_col2\" class=\"data row19 col2\" >LeakyReLU</td>\n",
       "      <td id=\"T_150eb_row19_col3\" class=\"data row19 col3\" >0.200000</td>\n",
       "      <td id=\"T_150eb_row19_col4\" class=\"data row19 col4\" >1024-512-256</td>\n",
       "      <td id=\"T_150eb_row19_col5\" class=\"data row19 col5\" >Adam</td>\n",
       "      <td id=\"T_150eb_row19_col6\" class=\"data row19 col6\" >0.615469</td>\n",
       "      <td id=\"T_150eb_row19_col7\" class=\"data row19 col7\" >0.615469</td>\n",
       "      <td id=\"T_150eb_row19_col8\" class=\"data row19 col8\" >0.705298</td>\n",
       "      <td id=\"T_150eb_row19_col9\" class=\"data row19 col9\" >32</td>\n",
       "    </tr>\n",
       "    <tr>\n",
       "      <th id=\"T_150eb_level0_row20\" class=\"row_heading level0 row20\" >19</th>\n",
       "      <td id=\"T_150eb_row20_col0\" class=\"data row20 col0\" >19</td>\n",
       "      <td id=\"T_150eb_row20_col1\" class=\"data row20 col1\" >0-CategoryEmbeddingModelConfig</td>\n",
       "      <td id=\"T_150eb_row20_col2\" class=\"data row20 col2\" >LeakyReLU</td>\n",
       "      <td id=\"T_150eb_row20_col3\" class=\"data row20 col3\" >0.000000</td>\n",
       "      <td id=\"T_150eb_row20_col4\" class=\"data row20 col4\" >1024-512-256</td>\n",
       "      <td id=\"T_150eb_row20_col5\" class=\"data row20 col5\" >SGD</td>\n",
       "      <td id=\"T_150eb_row20_col6\" class=\"data row20 col6\" >0.616288</td>\n",
       "      <td id=\"T_150eb_row20_col7\" class=\"data row20 col7\" >0.616288</td>\n",
       "      <td id=\"T_150eb_row20_col8\" class=\"data row20 col8\" >0.705298</td>\n",
       "      <td id=\"T_150eb_row20_col9\" class=\"data row20 col9\" >nan</td>\n",
       "    </tr>\n",
       "    <tr>\n",
       "      <th id=\"T_150eb_level0_row21\" class=\"row_heading level0 row21\" >16</th>\n",
       "      <td id=\"T_150eb_row21_col0\" class=\"data row21 col0\" >16</td>\n",
       "      <td id=\"T_150eb_row21_col1\" class=\"data row21 col1\" >0-CategoryEmbeddingModelConfig</td>\n",
       "      <td id=\"T_150eb_row21_col2\" class=\"data row21 col2\" >LeakyReLU</td>\n",
       "      <td id=\"T_150eb_row21_col3\" class=\"data row21 col3\" >0.000000</td>\n",
       "      <td id=\"T_150eb_row21_col4\" class=\"data row21 col4\" >128-64-32</td>\n",
       "      <td id=\"T_150eb_row21_col5\" class=\"data row21 col5\" >Adam</td>\n",
       "      <td id=\"T_150eb_row21_col6\" class=\"data row21 col6\" >0.612990</td>\n",
       "      <td id=\"T_150eb_row21_col7\" class=\"data row21 col7\" >0.612990</td>\n",
       "      <td id=\"T_150eb_row21_col8\" class=\"data row21 col8\" >0.705298</td>\n",
       "      <td id=\"T_150eb_row21_col9\" class=\"data row21 col9\" >nan</td>\n",
       "    </tr>\n",
       "    <tr>\n",
       "      <th id=\"T_150eb_level0_row22\" class=\"row_heading level0 row22\" >13</th>\n",
       "      <td id=\"T_150eb_row22_col0\" class=\"data row22 col0\" >13</td>\n",
       "      <td id=\"T_150eb_row22_col1\" class=\"data row22 col1\" >0-CategoryEmbeddingModelConfig</td>\n",
       "      <td id=\"T_150eb_row22_col2\" class=\"data row22 col2\" >ReLU</td>\n",
       "      <td id=\"T_150eb_row22_col3\" class=\"data row22 col3\" >0.200000</td>\n",
       "      <td id=\"T_150eb_row22_col4\" class=\"data row22 col4\" >32-64-128</td>\n",
       "      <td id=\"T_150eb_row22_col5\" class=\"data row22 col5\" >SGD</td>\n",
       "      <td id=\"T_150eb_row22_col6\" class=\"data row22 col6\" >0.609223</td>\n",
       "      <td id=\"T_150eb_row22_col7\" class=\"data row22 col7\" >0.609223</td>\n",
       "      <td id=\"T_150eb_row22_col8\" class=\"data row22 col8\" >0.705298</td>\n",
       "      <td id=\"T_150eb_row22_col9\" class=\"data row22 col9\" >nan</td>\n",
       "    </tr>\n",
       "    <tr>\n",
       "      <th id=\"T_150eb_level0_row23\" class=\"row_heading level0 row23\" >34</th>\n",
       "      <td id=\"T_150eb_row23_col0\" class=\"data row23 col0\" >2</td>\n",
       "      <td id=\"T_150eb_row23_col1\" class=\"data row23 col1\" >1-AutoIntConfig</td>\n",
       "      <td id=\"T_150eb_row23_col2\" class=\"data row23 col2\" >ReLU</td>\n",
       "      <td id=\"T_150eb_row23_col3\" class=\"data row23 col3\" >0.000000</td>\n",
       "      <td id=\"T_150eb_row23_col4\" class=\"data row23 col4\" >1024-512-256</td>\n",
       "      <td id=\"T_150eb_row23_col5\" class=\"data row23 col5\" >Adam</td>\n",
       "      <td id=\"T_150eb_row23_col6\" class=\"data row23 col6\" >0.614805</td>\n",
       "      <td id=\"T_150eb_row23_col7\" class=\"data row23 col7\" >0.614805</td>\n",
       "      <td id=\"T_150eb_row23_col8\" class=\"data row23 col8\" >0.701987</td>\n",
       "      <td id=\"T_150eb_row23_col9\" class=\"data row23 col9\" >32</td>\n",
       "    </tr>\n",
       "    <tr>\n",
       "      <th id=\"T_150eb_level0_row24\" class=\"row_heading level0 row24\" >2</th>\n",
       "      <td id=\"T_150eb_row24_col0\" class=\"data row24 col0\" >2</td>\n",
       "      <td id=\"T_150eb_row24_col1\" class=\"data row24 col1\" >0-CategoryEmbeddingModelConfig</td>\n",
       "      <td id=\"T_150eb_row24_col2\" class=\"data row24 col2\" >ReLU</td>\n",
       "      <td id=\"T_150eb_row24_col3\" class=\"data row24 col3\" >0.000000</td>\n",
       "      <td id=\"T_150eb_row24_col4\" class=\"data row24 col4\" >1024-512-256</td>\n",
       "      <td id=\"T_150eb_row24_col5\" class=\"data row24 col5\" >Adam</td>\n",
       "      <td id=\"T_150eb_row24_col6\" class=\"data row24 col6\" >0.600694</td>\n",
       "      <td id=\"T_150eb_row24_col7\" class=\"data row24 col7\" >0.600694</td>\n",
       "      <td id=\"T_150eb_row24_col8\" class=\"data row24 col8\" >0.701987</td>\n",
       "      <td id=\"T_150eb_row24_col9\" class=\"data row24 col9\" >nan</td>\n",
       "    </tr>\n",
       "    <tr>\n",
       "      <th id=\"T_150eb_level0_row25\" class=\"row_heading level0 row25\" >60</th>\n",
       "      <td id=\"T_150eb_row25_col0\" class=\"data row25 col0\" >28</td>\n",
       "      <td id=\"T_150eb_row25_col1\" class=\"data row25 col1\" >1-AutoIntConfig</td>\n",
       "      <td id=\"T_150eb_row25_col2\" class=\"data row25 col2\" >LeakyReLU</td>\n",
       "      <td id=\"T_150eb_row25_col3\" class=\"data row25 col3\" >0.200000</td>\n",
       "      <td id=\"T_150eb_row25_col4\" class=\"data row25 col4\" >128-64-32</td>\n",
       "      <td id=\"T_150eb_row25_col5\" class=\"data row25 col5\" >Adam</td>\n",
       "      <td id=\"T_150eb_row25_col6\" class=\"data row25 col6\" >0.611339</td>\n",
       "      <td id=\"T_150eb_row25_col7\" class=\"data row25 col7\" >0.611339</td>\n",
       "      <td id=\"T_150eb_row25_col8\" class=\"data row25 col8\" >0.698676</td>\n",
       "      <td id=\"T_150eb_row25_col9\" class=\"data row25 col9\" >64</td>\n",
       "    </tr>\n",
       "    <tr>\n",
       "      <th id=\"T_150eb_level0_row26\" class=\"row_heading level0 row26\" >52</th>\n",
       "      <td id=\"T_150eb_row26_col0\" class=\"data row26 col0\" >20</td>\n",
       "      <td id=\"T_150eb_row26_col1\" class=\"data row26 col1\" >1-AutoIntConfig</td>\n",
       "      <td id=\"T_150eb_row26_col2\" class=\"data row26 col2\" >LeakyReLU</td>\n",
       "      <td id=\"T_150eb_row26_col3\" class=\"data row26 col3\" >0.200000</td>\n",
       "      <td id=\"T_150eb_row26_col4\" class=\"data row26 col4\" >128-64-32</td>\n",
       "      <td id=\"T_150eb_row26_col5\" class=\"data row26 col5\" >Adam</td>\n",
       "      <td id=\"T_150eb_row26_col6\" class=\"data row26 col6\" >0.608860</td>\n",
       "      <td id=\"T_150eb_row26_col7\" class=\"data row26 col7\" >0.608860</td>\n",
       "      <td id=\"T_150eb_row26_col8\" class=\"data row26 col8\" >0.698676</td>\n",
       "      <td id=\"T_150eb_row26_col9\" class=\"data row26 col9\" >32</td>\n",
       "    </tr>\n",
       "    <tr>\n",
       "      <th id=\"T_150eb_level0_row27\" class=\"row_heading level0 row27\" >40</th>\n",
       "      <td id=\"T_150eb_row27_col0\" class=\"data row27 col0\" >8</td>\n",
       "      <td id=\"T_150eb_row27_col1\" class=\"data row27 col1\" >1-AutoIntConfig</td>\n",
       "      <td id=\"T_150eb_row27_col2\" class=\"data row27 col2\" >ReLU</td>\n",
       "      <td id=\"T_150eb_row27_col3\" class=\"data row27 col3\" >0.000000</td>\n",
       "      <td id=\"T_150eb_row27_col4\" class=\"data row27 col4\" >128-64-32</td>\n",
       "      <td id=\"T_150eb_row27_col5\" class=\"data row27 col5\" >Adam</td>\n",
       "      <td id=\"T_150eb_row27_col6\" class=\"data row27 col6\" >0.606302</td>\n",
       "      <td id=\"T_150eb_row27_col7\" class=\"data row27 col7\" >0.606302</td>\n",
       "      <td id=\"T_150eb_row27_col8\" class=\"data row27 col8\" >0.698676</td>\n",
       "      <td id=\"T_150eb_row27_col9\" class=\"data row27 col9\" >64</td>\n",
       "    </tr>\n",
       "    <tr>\n",
       "      <th id=\"T_150eb_level0_row28\" class=\"row_heading level0 row28\" >5</th>\n",
       "      <td id=\"T_150eb_row28_col0\" class=\"data row28 col0\" >5</td>\n",
       "      <td id=\"T_150eb_row28_col1\" class=\"data row28 col1\" >0-CategoryEmbeddingModelConfig</td>\n",
       "      <td id=\"T_150eb_row28_col2\" class=\"data row28 col2\" >ReLU</td>\n",
       "      <td id=\"T_150eb_row28_col3\" class=\"data row28 col3\" >0.000000</td>\n",
       "      <td id=\"T_150eb_row28_col4\" class=\"data row28 col4\" >32-64-128</td>\n",
       "      <td id=\"T_150eb_row28_col5\" class=\"data row28 col5\" >SGD</td>\n",
       "      <td id=\"T_150eb_row28_col6\" class=\"data row28 col6\" >0.609946</td>\n",
       "      <td id=\"T_150eb_row28_col7\" class=\"data row28 col7\" >0.609946</td>\n",
       "      <td id=\"T_150eb_row28_col8\" class=\"data row28 col8\" >0.695364</td>\n",
       "      <td id=\"T_150eb_row28_col9\" class=\"data row28 col9\" >nan</td>\n",
       "    </tr>\n",
       "    <tr>\n",
       "      <th id=\"T_150eb_level0_row29\" class=\"row_heading level0 row29\" >18</th>\n",
       "      <td id=\"T_150eb_row29_col0\" class=\"data row29 col0\" >18</td>\n",
       "      <td id=\"T_150eb_row29_col1\" class=\"data row29 col1\" >0-CategoryEmbeddingModelConfig</td>\n",
       "      <td id=\"T_150eb_row29_col2\" class=\"data row29 col2\" >LeakyReLU</td>\n",
       "      <td id=\"T_150eb_row29_col3\" class=\"data row29 col3\" >0.000000</td>\n",
       "      <td id=\"T_150eb_row29_col4\" class=\"data row29 col4\" >1024-512-256</td>\n",
       "      <td id=\"T_150eb_row29_col5\" class=\"data row29 col5\" >Adam</td>\n",
       "      <td id=\"T_150eb_row29_col6\" class=\"data row29 col6\" >0.602546</td>\n",
       "      <td id=\"T_150eb_row29_col7\" class=\"data row29 col7\" >0.602546</td>\n",
       "      <td id=\"T_150eb_row29_col8\" class=\"data row29 col8\" >0.695364</td>\n",
       "      <td id=\"T_150eb_row29_col9\" class=\"data row29 col9\" >nan</td>\n",
       "    </tr>\n",
       "    <tr>\n",
       "      <th id=\"T_150eb_level0_row30\" class=\"row_heading level0 row30\" >26</th>\n",
       "      <td id=\"T_150eb_row30_col0\" class=\"data row30 col0\" >26</td>\n",
       "      <td id=\"T_150eb_row30_col1\" class=\"data row30 col1\" >0-CategoryEmbeddingModelConfig</td>\n",
       "      <td id=\"T_150eb_row30_col2\" class=\"data row30 col2\" >LeakyReLU</td>\n",
       "      <td id=\"T_150eb_row30_col3\" class=\"data row30 col3\" >0.200000</td>\n",
       "      <td id=\"T_150eb_row30_col4\" class=\"data row30 col4\" >1024-512-256</td>\n",
       "      <td id=\"T_150eb_row30_col5\" class=\"data row30 col5\" >Adam</td>\n",
       "      <td id=\"T_150eb_row30_col6\" class=\"data row30 col6\" >0.624126</td>\n",
       "      <td id=\"T_150eb_row30_col7\" class=\"data row30 col7\" >0.624126</td>\n",
       "      <td id=\"T_150eb_row30_col8\" class=\"data row30 col8\" >0.692053</td>\n",
       "      <td id=\"T_150eb_row30_col9\" class=\"data row30 col9\" >nan</td>\n",
       "    </tr>\n",
       "    <tr>\n",
       "      <th id=\"T_150eb_level0_row31\" class=\"row_heading level0 row31\" >62</th>\n",
       "      <td id=\"T_150eb_row31_col0\" class=\"data row31 col0\" >30</td>\n",
       "      <td id=\"T_150eb_row31_col1\" class=\"data row31 col1\" >1-AutoIntConfig</td>\n",
       "      <td id=\"T_150eb_row31_col2\" class=\"data row31 col2\" >LeakyReLU</td>\n",
       "      <td id=\"T_150eb_row31_col3\" class=\"data row31 col3\" >0.200000</td>\n",
       "      <td id=\"T_150eb_row31_col4\" class=\"data row31 col4\" >1024-512-256</td>\n",
       "      <td id=\"T_150eb_row31_col5\" class=\"data row31 col5\" >Adam</td>\n",
       "      <td id=\"T_150eb_row31_col6\" class=\"data row31 col6\" >0.623307</td>\n",
       "      <td id=\"T_150eb_row31_col7\" class=\"data row31 col7\" >0.623307</td>\n",
       "      <td id=\"T_150eb_row31_col8\" class=\"data row31 col8\" >0.692053</td>\n",
       "      <td id=\"T_150eb_row31_col9\" class=\"data row31 col9\" >64</td>\n",
       "    </tr>\n",
       "    <tr>\n",
       "      <th id=\"T_150eb_level0_row32\" class=\"row_heading level0 row32\" >46</th>\n",
       "      <td id=\"T_150eb_row32_col0\" class=\"data row32 col0\" >14</td>\n",
       "      <td id=\"T_150eb_row32_col1\" class=\"data row32 col1\" >1-AutoIntConfig</td>\n",
       "      <td id=\"T_150eb_row32_col2\" class=\"data row32 col2\" >ReLU</td>\n",
       "      <td id=\"T_150eb_row32_col3\" class=\"data row32 col3\" >0.200000</td>\n",
       "      <td id=\"T_150eb_row32_col4\" class=\"data row32 col4\" >1024-512-256</td>\n",
       "      <td id=\"T_150eb_row32_col5\" class=\"data row32 col5\" >Adam</td>\n",
       "      <td id=\"T_150eb_row32_col6\" class=\"data row32 col6\" >0.674351</td>\n",
       "      <td id=\"T_150eb_row32_col7\" class=\"data row32 col7\" >0.674351</td>\n",
       "      <td id=\"T_150eb_row32_col8\" class=\"data row32 col8\" >0.642384</td>\n",
       "      <td id=\"T_150eb_row32_col9\" class=\"data row32 col9\" >64</td>\n",
       "    </tr>\n",
       "    <tr>\n",
       "      <th id=\"T_150eb_level0_row33\" class=\"row_heading level0 row33\" >59</th>\n",
       "      <td id=\"T_150eb_row33_col0\" class=\"data row33 col0\" >27</td>\n",
       "      <td id=\"T_150eb_row33_col1\" class=\"data row33 col1\" >1-AutoIntConfig</td>\n",
       "      <td id=\"T_150eb_row33_col2\" class=\"data row33 col2\" >LeakyReLU</td>\n",
       "      <td id=\"T_150eb_row33_col3\" class=\"data row33 col3\" >0.000000</td>\n",
       "      <td id=\"T_150eb_row33_col4\" class=\"data row33 col4\" >1024-512-256</td>\n",
       "      <td id=\"T_150eb_row33_col5\" class=\"data row33 col5\" >SGD</td>\n",
       "      <td id=\"T_150eb_row33_col6\" class=\"data row33 col6\" >0.690046</td>\n",
       "      <td id=\"T_150eb_row33_col7\" class=\"data row33 col7\" >0.690046</td>\n",
       "      <td id=\"T_150eb_row33_col8\" class=\"data row33 col8\" >0.639073</td>\n",
       "      <td id=\"T_150eb_row33_col9\" class=\"data row33 col9\" >64</td>\n",
       "    </tr>\n",
       "    <tr>\n",
       "      <th id=\"T_150eb_level0_row34\" class=\"row_heading level0 row34\" >51</th>\n",
       "      <td id=\"T_150eb_row34_col0\" class=\"data row34 col0\" >19</td>\n",
       "      <td id=\"T_150eb_row34_col1\" class=\"data row34 col1\" >1-AutoIntConfig</td>\n",
       "      <td id=\"T_150eb_row34_col2\" class=\"data row34 col2\" >LeakyReLU</td>\n",
       "      <td id=\"T_150eb_row34_col3\" class=\"data row34 col3\" >0.000000</td>\n",
       "      <td id=\"T_150eb_row34_col4\" class=\"data row34 col4\" >1024-512-256</td>\n",
       "      <td id=\"T_150eb_row34_col5\" class=\"data row34 col5\" >SGD</td>\n",
       "      <td id=\"T_150eb_row34_col6\" class=\"data row34 col6\" >0.667910</td>\n",
       "      <td id=\"T_150eb_row34_col7\" class=\"data row34 col7\" >0.667910</td>\n",
       "      <td id=\"T_150eb_row34_col8\" class=\"data row34 col8\" >0.639073</td>\n",
       "      <td id=\"T_150eb_row34_col9\" class=\"data row34 col9\" >32</td>\n",
       "    </tr>\n",
       "    <tr>\n",
       "      <th id=\"T_150eb_level0_row35\" class=\"row_heading level0 row35\" >39</th>\n",
       "      <td id=\"T_150eb_row35_col0\" class=\"data row35 col0\" >7</td>\n",
       "      <td id=\"T_150eb_row35_col1\" class=\"data row35 col1\" >1-AutoIntConfig</td>\n",
       "      <td id=\"T_150eb_row35_col2\" class=\"data row35 col2\" >ReLU</td>\n",
       "      <td id=\"T_150eb_row35_col3\" class=\"data row35 col3\" >0.200000</td>\n",
       "      <td id=\"T_150eb_row35_col4\" class=\"data row35 col4\" >1024-512-256</td>\n",
       "      <td id=\"T_150eb_row35_col5\" class=\"data row35 col5\" >SGD</td>\n",
       "      <td id=\"T_150eb_row35_col6\" class=\"data row35 col6\" >0.662814</td>\n",
       "      <td id=\"T_150eb_row35_col7\" class=\"data row35 col7\" >0.662814</td>\n",
       "      <td id=\"T_150eb_row35_col8\" class=\"data row35 col8\" >0.635762</td>\n",
       "      <td id=\"T_150eb_row35_col9\" class=\"data row35 col9\" >32</td>\n",
       "    </tr>\n",
       "    <tr>\n",
       "      <th id=\"T_150eb_level0_row36\" class=\"row_heading level0 row36\" >37</th>\n",
       "      <td id=\"T_150eb_row36_col0\" class=\"data row36 col0\" >5</td>\n",
       "      <td id=\"T_150eb_row36_col1\" class=\"data row36 col1\" >1-AutoIntConfig</td>\n",
       "      <td id=\"T_150eb_row36_col2\" class=\"data row36 col2\" >ReLU</td>\n",
       "      <td id=\"T_150eb_row36_col3\" class=\"data row36 col3\" >0.200000</td>\n",
       "      <td id=\"T_150eb_row36_col4\" class=\"data row36 col4\" >128-64-32</td>\n",
       "      <td id=\"T_150eb_row36_col5\" class=\"data row36 col5\" >SGD</td>\n",
       "      <td id=\"T_150eb_row36_col6\" class=\"data row36 col6\" >0.671389</td>\n",
       "      <td id=\"T_150eb_row36_col7\" class=\"data row36 col7\" >0.671389</td>\n",
       "      <td id=\"T_150eb_row36_col8\" class=\"data row36 col8\" >0.632450</td>\n",
       "      <td id=\"T_150eb_row36_col9\" class=\"data row36 col9\" >32</td>\n",
       "    </tr>\n",
       "    <tr>\n",
       "      <th id=\"T_150eb_level0_row37\" class=\"row_heading level0 row37\" >45</th>\n",
       "      <td id=\"T_150eb_row37_col0\" class=\"data row37 col0\" >13</td>\n",
       "      <td id=\"T_150eb_row37_col1\" class=\"data row37 col1\" >1-AutoIntConfig</td>\n",
       "      <td id=\"T_150eb_row37_col2\" class=\"data row37 col2\" >ReLU</td>\n",
       "      <td id=\"T_150eb_row37_col3\" class=\"data row37 col3\" >0.200000</td>\n",
       "      <td id=\"T_150eb_row37_col4\" class=\"data row37 col4\" >128-64-32</td>\n",
       "      <td id=\"T_150eb_row37_col5\" class=\"data row37 col5\" >SGD</td>\n",
       "      <td id=\"T_150eb_row37_col6\" class=\"data row37 col6\" >0.662291</td>\n",
       "      <td id=\"T_150eb_row37_col7\" class=\"data row37 col7\" >0.662291</td>\n",
       "      <td id=\"T_150eb_row37_col8\" class=\"data row37 col8\" >0.632450</td>\n",
       "      <td id=\"T_150eb_row37_col9\" class=\"data row37 col9\" >64</td>\n",
       "    </tr>\n",
       "    <tr>\n",
       "      <th id=\"T_150eb_level0_row38\" class=\"row_heading level0 row38\" >49</th>\n",
       "      <td id=\"T_150eb_row38_col0\" class=\"data row38 col0\" >17</td>\n",
       "      <td id=\"T_150eb_row38_col1\" class=\"data row38 col1\" >1-AutoIntConfig</td>\n",
       "      <td id=\"T_150eb_row38_col2\" class=\"data row38 col2\" >LeakyReLU</td>\n",
       "      <td id=\"T_150eb_row38_col3\" class=\"data row38 col3\" >0.000000</td>\n",
       "      <td id=\"T_150eb_row38_col4\" class=\"data row38 col4\" >128-64-32</td>\n",
       "      <td id=\"T_150eb_row38_col5\" class=\"data row38 col5\" >SGD</td>\n",
       "      <td id=\"T_150eb_row38_col6\" class=\"data row38 col6\" >0.666317</td>\n",
       "      <td id=\"T_150eb_row38_col7\" class=\"data row38 col7\" >0.666317</td>\n",
       "      <td id=\"T_150eb_row38_col8\" class=\"data row38 col8\" >0.632450</td>\n",
       "      <td id=\"T_150eb_row38_col9\" class=\"data row38 col9\" >32</td>\n",
       "    </tr>\n",
       "    <tr>\n",
       "      <th id=\"T_150eb_level0_row39\" class=\"row_heading level0 row39\" >47</th>\n",
       "      <td id=\"T_150eb_row39_col0\" class=\"data row39 col0\" >15</td>\n",
       "      <td id=\"T_150eb_row39_col1\" class=\"data row39 col1\" >1-AutoIntConfig</td>\n",
       "      <td id=\"T_150eb_row39_col2\" class=\"data row39 col2\" >ReLU</td>\n",
       "      <td id=\"T_150eb_row39_col3\" class=\"data row39 col3\" >0.200000</td>\n",
       "      <td id=\"T_150eb_row39_col4\" class=\"data row39 col4\" >1024-512-256</td>\n",
       "      <td id=\"T_150eb_row39_col5\" class=\"data row39 col5\" >SGD</td>\n",
       "      <td id=\"T_150eb_row39_col6\" class=\"data row39 col6\" >0.667706</td>\n",
       "      <td id=\"T_150eb_row39_col7\" class=\"data row39 col7\" >0.667706</td>\n",
       "      <td id=\"T_150eb_row39_col8\" class=\"data row39 col8\" >0.629139</td>\n",
       "      <td id=\"T_150eb_row39_col9\" class=\"data row39 col9\" >64</td>\n",
       "    </tr>\n",
       "    <tr>\n",
       "      <th id=\"T_150eb_level0_row40\" class=\"row_heading level0 row40\" >53</th>\n",
       "      <td id=\"T_150eb_row40_col0\" class=\"data row40 col0\" >21</td>\n",
       "      <td id=\"T_150eb_row40_col1\" class=\"data row40 col1\" >1-AutoIntConfig</td>\n",
       "      <td id=\"T_150eb_row40_col2\" class=\"data row40 col2\" >LeakyReLU</td>\n",
       "      <td id=\"T_150eb_row40_col3\" class=\"data row40 col3\" >0.200000</td>\n",
       "      <td id=\"T_150eb_row40_col4\" class=\"data row40 col4\" >128-64-32</td>\n",
       "      <td id=\"T_150eb_row40_col5\" class=\"data row40 col5\" >SGD</td>\n",
       "      <td id=\"T_150eb_row40_col6\" class=\"data row40 col6\" >0.670530</td>\n",
       "      <td id=\"T_150eb_row40_col7\" class=\"data row40 col7\" >0.670530</td>\n",
       "      <td id=\"T_150eb_row40_col8\" class=\"data row40 col8\" >0.629139</td>\n",
       "      <td id=\"T_150eb_row40_col9\" class=\"data row40 col9\" >32</td>\n",
       "    </tr>\n",
       "    <tr>\n",
       "      <th id=\"T_150eb_level0_row41\" class=\"row_heading level0 row41\" >61</th>\n",
       "      <td id=\"T_150eb_row41_col0\" class=\"data row41 col0\" >29</td>\n",
       "      <td id=\"T_150eb_row41_col1\" class=\"data row41 col1\" >1-AutoIntConfig</td>\n",
       "      <td id=\"T_150eb_row41_col2\" class=\"data row41 col2\" >LeakyReLU</td>\n",
       "      <td id=\"T_150eb_row41_col3\" class=\"data row41 col3\" >0.200000</td>\n",
       "      <td id=\"T_150eb_row41_col4\" class=\"data row41 col4\" >128-64-32</td>\n",
       "      <td id=\"T_150eb_row41_col5\" class=\"data row41 col5\" >SGD</td>\n",
       "      <td id=\"T_150eb_row41_col6\" class=\"data row41 col6\" >0.671209</td>\n",
       "      <td id=\"T_150eb_row41_col7\" class=\"data row41 col7\" >0.671209</td>\n",
       "      <td id=\"T_150eb_row41_col8\" class=\"data row41 col8\" >0.629139</td>\n",
       "      <td id=\"T_150eb_row41_col9\" class=\"data row41 col9\" >64</td>\n",
       "    </tr>\n",
       "    <tr>\n",
       "      <th id=\"T_150eb_level0_row42\" class=\"row_heading level0 row42\" >63</th>\n",
       "      <td id=\"T_150eb_row42_col0\" class=\"data row42 col0\" >31</td>\n",
       "      <td id=\"T_150eb_row42_col1\" class=\"data row42 col1\" >1-AutoIntConfig</td>\n",
       "      <td id=\"T_150eb_row42_col2\" class=\"data row42 col2\" >LeakyReLU</td>\n",
       "      <td id=\"T_150eb_row42_col3\" class=\"data row42 col3\" >0.200000</td>\n",
       "      <td id=\"T_150eb_row42_col4\" class=\"data row42 col4\" >1024-512-256</td>\n",
       "      <td id=\"T_150eb_row42_col5\" class=\"data row42 col5\" >SGD</td>\n",
       "      <td id=\"T_150eb_row42_col6\" class=\"data row42 col6\" >0.667908</td>\n",
       "      <td id=\"T_150eb_row42_col7\" class=\"data row42 col7\" >0.667908</td>\n",
       "      <td id=\"T_150eb_row42_col8\" class=\"data row42 col8\" >0.629139</td>\n",
       "      <td id=\"T_150eb_row42_col9\" class=\"data row42 col9\" >64</td>\n",
       "    </tr>\n",
       "    <tr>\n",
       "      <th id=\"T_150eb_level0_row43\" class=\"row_heading level0 row43\" >41</th>\n",
       "      <td id=\"T_150eb_row43_col0\" class=\"data row43 col0\" >9</td>\n",
       "      <td id=\"T_150eb_row43_col1\" class=\"data row43 col1\" >1-AutoIntConfig</td>\n",
       "      <td id=\"T_150eb_row43_col2\" class=\"data row43 col2\" >ReLU</td>\n",
       "      <td id=\"T_150eb_row43_col3\" class=\"data row43 col3\" >0.000000</td>\n",
       "      <td id=\"T_150eb_row43_col4\" class=\"data row43 col4\" >128-64-32</td>\n",
       "      <td id=\"T_150eb_row43_col5\" class=\"data row43 col5\" >SGD</td>\n",
       "      <td id=\"T_150eb_row43_col6\" class=\"data row43 col6\" >0.681325</td>\n",
       "      <td id=\"T_150eb_row43_col7\" class=\"data row43 col7\" >0.681325</td>\n",
       "      <td id=\"T_150eb_row43_col8\" class=\"data row43 col8\" >0.625828</td>\n",
       "      <td id=\"T_150eb_row43_col9\" class=\"data row43 col9\" >64</td>\n",
       "    </tr>\n",
       "    <tr>\n",
       "      <th id=\"T_150eb_level0_row44\" class=\"row_heading level0 row44\" >58</th>\n",
       "      <td id=\"T_150eb_row44_col0\" class=\"data row44 col0\" >26</td>\n",
       "      <td id=\"T_150eb_row44_col1\" class=\"data row44 col1\" >1-AutoIntConfig</td>\n",
       "      <td id=\"T_150eb_row44_col2\" class=\"data row44 col2\" >LeakyReLU</td>\n",
       "      <td id=\"T_150eb_row44_col3\" class=\"data row44 col3\" >0.000000</td>\n",
       "      <td id=\"T_150eb_row44_col4\" class=\"data row44 col4\" >1024-512-256</td>\n",
       "      <td id=\"T_150eb_row44_col5\" class=\"data row44 col5\" >Adam</td>\n",
       "      <td id=\"T_150eb_row44_col6\" class=\"data row44 col6\" >0.693059</td>\n",
       "      <td id=\"T_150eb_row44_col7\" class=\"data row44 col7\" >0.693059</td>\n",
       "      <td id=\"T_150eb_row44_col8\" class=\"data row44 col8\" >0.609272</td>\n",
       "      <td id=\"T_150eb_row44_col9\" class=\"data row44 col9\" >64</td>\n",
       "    </tr>\n",
       "    <tr>\n",
       "      <th id=\"T_150eb_level0_row45\" class=\"row_heading level0 row45\" >50</th>\n",
       "      <td id=\"T_150eb_row45_col0\" class=\"data row45 col0\" >18</td>\n",
       "      <td id=\"T_150eb_row45_col1\" class=\"data row45 col1\" >1-AutoIntConfig</td>\n",
       "      <td id=\"T_150eb_row45_col2\" class=\"data row45 col2\" >LeakyReLU</td>\n",
       "      <td id=\"T_150eb_row45_col3\" class=\"data row45 col3\" >0.000000</td>\n",
       "      <td id=\"T_150eb_row45_col4\" class=\"data row45 col4\" >1024-512-256</td>\n",
       "      <td id=\"T_150eb_row45_col5\" class=\"data row45 col5\" >Adam</td>\n",
       "      <td id=\"T_150eb_row45_col6\" class=\"data row45 col6\" >0.677453</td>\n",
       "      <td id=\"T_150eb_row45_col7\" class=\"data row45 col7\" >0.677453</td>\n",
       "      <td id=\"T_150eb_row45_col8\" class=\"data row45 col8\" >0.599338</td>\n",
       "      <td id=\"T_150eb_row45_col9\" class=\"data row45 col9\" >32</td>\n",
       "    </tr>\n",
       "    <tr>\n",
       "      <th id=\"T_150eb_level0_row46\" class=\"row_heading level0 row46\" >43</th>\n",
       "      <td id=\"T_150eb_row46_col0\" class=\"data row46 col0\" >11</td>\n",
       "      <td id=\"T_150eb_row46_col1\" class=\"data row46 col1\" >1-AutoIntConfig</td>\n",
       "      <td id=\"T_150eb_row46_col2\" class=\"data row46 col2\" >ReLU</td>\n",
       "      <td id=\"T_150eb_row46_col3\" class=\"data row46 col3\" >0.000000</td>\n",
       "      <td id=\"T_150eb_row46_col4\" class=\"data row46 col4\" >1024-512-256</td>\n",
       "      <td id=\"T_150eb_row46_col5\" class=\"data row46 col5\" >SGD</td>\n",
       "      <td id=\"T_150eb_row46_col6\" class=\"data row46 col6\" >0.681253</td>\n",
       "      <td id=\"T_150eb_row46_col7\" class=\"data row46 col7\" >0.681253</td>\n",
       "      <td id=\"T_150eb_row46_col8\" class=\"data row46 col8\" >0.589404</td>\n",
       "      <td id=\"T_150eb_row46_col9\" class=\"data row46 col9\" >64</td>\n",
       "    </tr>\n",
       "    <tr>\n",
       "      <th id=\"T_150eb_level0_row47\" class=\"row_heading level0 row47\" >38</th>\n",
       "      <td id=\"T_150eb_row47_col0\" class=\"data row47 col0\" >6</td>\n",
       "      <td id=\"T_150eb_row47_col1\" class=\"data row47 col1\" >1-AutoIntConfig</td>\n",
       "      <td id=\"T_150eb_row47_col2\" class=\"data row47 col2\" >ReLU</td>\n",
       "      <td id=\"T_150eb_row47_col3\" class=\"data row47 col3\" >0.200000</td>\n",
       "      <td id=\"T_150eb_row47_col4\" class=\"data row47 col4\" >1024-512-256</td>\n",
       "      <td id=\"T_150eb_row47_col5\" class=\"data row47 col5\" >Adam</td>\n",
       "      <td id=\"T_150eb_row47_col6\" class=\"data row47 col6\" >0.690752</td>\n",
       "      <td id=\"T_150eb_row47_col7\" class=\"data row47 col7\" >0.690752</td>\n",
       "      <td id=\"T_150eb_row47_col8\" class=\"data row47 col8\" >0.589404</td>\n",
       "      <td id=\"T_150eb_row47_col9\" class=\"data row47 col9\" >32</td>\n",
       "    </tr>\n",
       "    <tr>\n",
       "      <th id=\"T_150eb_level0_row48\" class=\"row_heading level0 row48\" >36</th>\n",
       "      <td id=\"T_150eb_row48_col0\" class=\"data row48 col0\" >4</td>\n",
       "      <td id=\"T_150eb_row48_col1\" class=\"data row48 col1\" >1-AutoIntConfig</td>\n",
       "      <td id=\"T_150eb_row48_col2\" class=\"data row48 col2\" >ReLU</td>\n",
       "      <td id=\"T_150eb_row48_col3\" class=\"data row48 col3\" >0.200000</td>\n",
       "      <td id=\"T_150eb_row48_col4\" class=\"data row48 col4\" >128-64-32</td>\n",
       "      <td id=\"T_150eb_row48_col5\" class=\"data row48 col5\" >Adam</td>\n",
       "      <td id=\"T_150eb_row48_col6\" class=\"data row48 col6\" >0.730577</td>\n",
       "      <td id=\"T_150eb_row48_col7\" class=\"data row48 col7\" >0.730577</td>\n",
       "      <td id=\"T_150eb_row48_col8\" class=\"data row48 col8\" >0.589404</td>\n",
       "      <td id=\"T_150eb_row48_col9\" class=\"data row48 col9\" >32</td>\n",
       "    </tr>\n",
       "    <tr>\n",
       "      <th id=\"T_150eb_level0_row49\" class=\"row_heading level0 row49\" >8</th>\n",
       "      <td id=\"T_150eb_row49_col0\" class=\"data row49 col0\" >8</td>\n",
       "      <td id=\"T_150eb_row49_col1\" class=\"data row49 col1\" >0-CategoryEmbeddingModelConfig</td>\n",
       "      <td id=\"T_150eb_row49_col2\" class=\"data row49 col2\" >ReLU</td>\n",
       "      <td id=\"T_150eb_row49_col3\" class=\"data row49 col3\" >0.200000</td>\n",
       "      <td id=\"T_150eb_row49_col4\" class=\"data row49 col4\" >128-64-32</td>\n",
       "      <td id=\"T_150eb_row49_col5\" class=\"data row49 col5\" >Adam</td>\n",
       "      <td id=\"T_150eb_row49_col6\" class=\"data row49 col6\" >0.687017</td>\n",
       "      <td id=\"T_150eb_row49_col7\" class=\"data row49 col7\" >0.687017</td>\n",
       "      <td id=\"T_150eb_row49_col8\" class=\"data row49 col8\" >0.589404</td>\n",
       "      <td id=\"T_150eb_row49_col9\" class=\"data row49 col9\" >nan</td>\n",
       "    </tr>\n",
       "    <tr>\n",
       "      <th id=\"T_150eb_level0_row50\" class=\"row_heading level0 row50\" >33</th>\n",
       "      <td id=\"T_150eb_row50_col0\" class=\"data row50 col0\" >1</td>\n",
       "      <td id=\"T_150eb_row50_col1\" class=\"data row50 col1\" >1-AutoIntConfig</td>\n",
       "      <td id=\"T_150eb_row50_col2\" class=\"data row50 col2\" >ReLU</td>\n",
       "      <td id=\"T_150eb_row50_col3\" class=\"data row50 col3\" >0.000000</td>\n",
       "      <td id=\"T_150eb_row50_col4\" class=\"data row50 col4\" >128-64-32</td>\n",
       "      <td id=\"T_150eb_row50_col5\" class=\"data row50 col5\" >SGD</td>\n",
       "      <td id=\"T_150eb_row50_col6\" class=\"data row50 col6\" >0.675693</td>\n",
       "      <td id=\"T_150eb_row50_col7\" class=\"data row50 col7\" >0.675693</td>\n",
       "      <td id=\"T_150eb_row50_col8\" class=\"data row50 col8\" >0.589404</td>\n",
       "      <td id=\"T_150eb_row50_col9\" class=\"data row50 col9\" >32</td>\n",
       "    </tr>\n",
       "    <tr>\n",
       "      <th id=\"T_150eb_level0_row51\" class=\"row_heading level0 row51\" >25</th>\n",
       "      <td id=\"T_150eb_row51_col0\" class=\"data row51 col0\" >25</td>\n",
       "      <td id=\"T_150eb_row51_col1\" class=\"data row51 col1\" >0-CategoryEmbeddingModelConfig</td>\n",
       "      <td id=\"T_150eb_row51_col2\" class=\"data row51 col2\" >LeakyReLU</td>\n",
       "      <td id=\"T_150eb_row51_col3\" class=\"data row51 col3\" >0.200000</td>\n",
       "      <td id=\"T_150eb_row51_col4\" class=\"data row51 col4\" >128-64-32</td>\n",
       "      <td id=\"T_150eb_row51_col5\" class=\"data row51 col5\" >SGD</td>\n",
       "      <td id=\"T_150eb_row51_col6\" class=\"data row51 col6\" >0.686531</td>\n",
       "      <td id=\"T_150eb_row51_col7\" class=\"data row51 col7\" >0.686531</td>\n",
       "      <td id=\"T_150eb_row51_col8\" class=\"data row51 col8\" >0.589404</td>\n",
       "      <td id=\"T_150eb_row51_col9\" class=\"data row51 col9\" >nan</td>\n",
       "    </tr>\n",
       "    <tr>\n",
       "      <th id=\"T_150eb_level0_row52\" class=\"row_heading level0 row52\" >44</th>\n",
       "      <td id=\"T_150eb_row52_col0\" class=\"data row52 col0\" >12</td>\n",
       "      <td id=\"T_150eb_row52_col1\" class=\"data row52 col1\" >1-AutoIntConfig</td>\n",
       "      <td id=\"T_150eb_row52_col2\" class=\"data row52 col2\" >ReLU</td>\n",
       "      <td id=\"T_150eb_row52_col3\" class=\"data row52 col3\" >0.200000</td>\n",
       "      <td id=\"T_150eb_row52_col4\" class=\"data row52 col4\" >128-64-32</td>\n",
       "      <td id=\"T_150eb_row52_col5\" class=\"data row52 col5\" >Adam</td>\n",
       "      <td id=\"T_150eb_row52_col6\" class=\"data row52 col6\" >1.872830</td>\n",
       "      <td id=\"T_150eb_row52_col7\" class=\"data row52 col7\" >1.872830</td>\n",
       "      <td id=\"T_150eb_row52_col8\" class=\"data row52 col8\" >0.589404</td>\n",
       "      <td id=\"T_150eb_row52_col9\" class=\"data row52 col9\" >64</td>\n",
       "    </tr>\n",
       "    <tr>\n",
       "      <th id=\"T_150eb_level0_row53\" class=\"row_heading level0 row53\" >14</th>\n",
       "      <td id=\"T_150eb_row53_col0\" class=\"data row53 col0\" >14</td>\n",
       "      <td id=\"T_150eb_row53_col1\" class=\"data row53 col1\" >0-CategoryEmbeddingModelConfig</td>\n",
       "      <td id=\"T_150eb_row53_col2\" class=\"data row53 col2\" >ReLU</td>\n",
       "      <td id=\"T_150eb_row53_col3\" class=\"data row53 col3\" >0.200000</td>\n",
       "      <td id=\"T_150eb_row53_col4\" class=\"data row53 col4\" >256-512-1024</td>\n",
       "      <td id=\"T_150eb_row53_col5\" class=\"data row53 col5\" >Adam</td>\n",
       "      <td id=\"T_150eb_row53_col6\" class=\"data row53 col6\" >0.720873</td>\n",
       "      <td id=\"T_150eb_row53_col7\" class=\"data row53 col7\" >0.720873</td>\n",
       "      <td id=\"T_150eb_row53_col8\" class=\"data row53 col8\" >0.586093</td>\n",
       "      <td id=\"T_150eb_row53_col9\" class=\"data row53 col9\" >nan</td>\n",
       "    </tr>\n",
       "    <tr>\n",
       "      <th id=\"T_150eb_level0_row54\" class=\"row_heading level0 row54\" >10</th>\n",
       "      <td id=\"T_150eb_row54_col0\" class=\"data row54 col0\" >10</td>\n",
       "      <td id=\"T_150eb_row54_col1\" class=\"data row54 col1\" >0-CategoryEmbeddingModelConfig</td>\n",
       "      <td id=\"T_150eb_row54_col2\" class=\"data row54 col2\" >ReLU</td>\n",
       "      <td id=\"T_150eb_row54_col3\" class=\"data row54 col3\" >0.200000</td>\n",
       "      <td id=\"T_150eb_row54_col4\" class=\"data row54 col4\" >1024-512-256</td>\n",
       "      <td id=\"T_150eb_row54_col5\" class=\"data row54 col5\" >Adam</td>\n",
       "      <td id=\"T_150eb_row54_col6\" class=\"data row54 col6\" >0.687346</td>\n",
       "      <td id=\"T_150eb_row54_col7\" class=\"data row54 col7\" >0.687346</td>\n",
       "      <td id=\"T_150eb_row54_col8\" class=\"data row54 col8\" >0.586093</td>\n",
       "      <td id=\"T_150eb_row54_col9\" class=\"data row54 col9\" >nan</td>\n",
       "    </tr>\n",
       "    <tr>\n",
       "      <th id=\"T_150eb_level0_row55\" class=\"row_heading level0 row55\" >24</th>\n",
       "      <td id=\"T_150eb_row55_col0\" class=\"data row55 col0\" >24</td>\n",
       "      <td id=\"T_150eb_row55_col1\" class=\"data row55 col1\" >0-CategoryEmbeddingModelConfig</td>\n",
       "      <td id=\"T_150eb_row55_col2\" class=\"data row55 col2\" >LeakyReLU</td>\n",
       "      <td id=\"T_150eb_row55_col3\" class=\"data row55 col3\" >0.200000</td>\n",
       "      <td id=\"T_150eb_row55_col4\" class=\"data row55 col4\" >128-64-32</td>\n",
       "      <td id=\"T_150eb_row55_col5\" class=\"data row55 col5\" >Adam</td>\n",
       "      <td id=\"T_150eb_row55_col6\" class=\"data row55 col6\" >0.688590</td>\n",
       "      <td id=\"T_150eb_row55_col7\" class=\"data row55 col7\" >0.688590</td>\n",
       "      <td id=\"T_150eb_row55_col8\" class=\"data row55 col8\" >0.586093</td>\n",
       "      <td id=\"T_150eb_row55_col9\" class=\"data row55 col9\" >nan</td>\n",
       "    </tr>\n",
       "    <tr>\n",
       "      <th id=\"T_150eb_level0_row56\" class=\"row_heading level0 row56\" >29</th>\n",
       "      <td id=\"T_150eb_row56_col0\" class=\"data row56 col0\" >29</td>\n",
       "      <td id=\"T_150eb_row56_col1\" class=\"data row56 col1\" >0-CategoryEmbeddingModelConfig</td>\n",
       "      <td id=\"T_150eb_row56_col2\" class=\"data row56 col2\" >LeakyReLU</td>\n",
       "      <td id=\"T_150eb_row56_col3\" class=\"data row56 col3\" >0.200000</td>\n",
       "      <td id=\"T_150eb_row56_col4\" class=\"data row56 col4\" >32-64-128</td>\n",
       "      <td id=\"T_150eb_row56_col5\" class=\"data row56 col5\" >SGD</td>\n",
       "      <td id=\"T_150eb_row56_col6\" class=\"data row56 col6\" >0.688429</td>\n",
       "      <td id=\"T_150eb_row56_col7\" class=\"data row56 col7\" >0.688429</td>\n",
       "      <td id=\"T_150eb_row56_col8\" class=\"data row56 col8\" >0.586093</td>\n",
       "      <td id=\"T_150eb_row56_col9\" class=\"data row56 col9\" >nan</td>\n",
       "    </tr>\n",
       "    <tr>\n",
       "      <th id=\"T_150eb_level0_row57\" class=\"row_heading level0 row57\" >21</th>\n",
       "      <td id=\"T_150eb_row57_col0\" class=\"data row57 col0\" >21</td>\n",
       "      <td id=\"T_150eb_row57_col1\" class=\"data row57 col1\" >0-CategoryEmbeddingModelConfig</td>\n",
       "      <td id=\"T_150eb_row57_col2\" class=\"data row57 col2\" >LeakyReLU</td>\n",
       "      <td id=\"T_150eb_row57_col3\" class=\"data row57 col3\" >0.000000</td>\n",
       "      <td id=\"T_150eb_row57_col4\" class=\"data row57 col4\" >32-64-128</td>\n",
       "      <td id=\"T_150eb_row57_col5\" class=\"data row57 col5\" >SGD</td>\n",
       "      <td id=\"T_150eb_row57_col6\" class=\"data row57 col6\" >0.689913</td>\n",
       "      <td id=\"T_150eb_row57_col7\" class=\"data row57 col7\" >0.689913</td>\n",
       "      <td id=\"T_150eb_row57_col8\" class=\"data row57 col8\" >0.582781</td>\n",
       "      <td id=\"T_150eb_row57_col9\" class=\"data row57 col9\" >nan</td>\n",
       "    </tr>\n",
       "    <tr>\n",
       "      <th id=\"T_150eb_level0_row58\" class=\"row_heading level0 row58\" >17</th>\n",
       "      <td id=\"T_150eb_row58_col0\" class=\"data row58 col0\" >17</td>\n",
       "      <td id=\"T_150eb_row58_col1\" class=\"data row58 col1\" >0-CategoryEmbeddingModelConfig</td>\n",
       "      <td id=\"T_150eb_row58_col2\" class=\"data row58 col2\" >LeakyReLU</td>\n",
       "      <td id=\"T_150eb_row58_col3\" class=\"data row58 col3\" >0.000000</td>\n",
       "      <td id=\"T_150eb_row58_col4\" class=\"data row58 col4\" >128-64-32</td>\n",
       "      <td id=\"T_150eb_row58_col5\" class=\"data row58 col5\" >SGD</td>\n",
       "      <td id=\"T_150eb_row58_col6\" class=\"data row58 col6\" >0.692506</td>\n",
       "      <td id=\"T_150eb_row58_col7\" class=\"data row58 col7\" >0.692506</td>\n",
       "      <td id=\"T_150eb_row58_col8\" class=\"data row58 col8\" >0.523179</td>\n",
       "      <td id=\"T_150eb_row58_col9\" class=\"data row58 col9\" >nan</td>\n",
       "    </tr>\n",
       "    <tr>\n",
       "      <th id=\"T_150eb_level0_row59\" class=\"row_heading level0 row59\" >35</th>\n",
       "      <td id=\"T_150eb_row59_col0\" class=\"data row59 col0\" >3</td>\n",
       "      <td id=\"T_150eb_row59_col1\" class=\"data row59 col1\" >1-AutoIntConfig</td>\n",
       "      <td id=\"T_150eb_row59_col2\" class=\"data row59 col2\" >ReLU</td>\n",
       "      <td id=\"T_150eb_row59_col3\" class=\"data row59 col3\" >0.000000</td>\n",
       "      <td id=\"T_150eb_row59_col4\" class=\"data row59 col4\" >1024-512-256</td>\n",
       "      <td id=\"T_150eb_row59_col5\" class=\"data row59 col5\" >SGD</td>\n",
       "      <td id=\"T_150eb_row59_col6\" class=\"data row59 col6\" >0.716573</td>\n",
       "      <td id=\"T_150eb_row59_col7\" class=\"data row59 col7\" >0.716573</td>\n",
       "      <td id=\"T_150eb_row59_col8\" class=\"data row59 col8\" >0.500000</td>\n",
       "      <td id=\"T_150eb_row59_col9\" class=\"data row59 col9\" >32</td>\n",
       "    </tr>\n",
       "    <tr>\n",
       "      <th id=\"T_150eb_level0_row60\" class=\"row_heading level0 row60\" >9</th>\n",
       "      <td id=\"T_150eb_row60_col0\" class=\"data row60 col0\" >9</td>\n",
       "      <td id=\"T_150eb_row60_col1\" class=\"data row60 col1\" >0-CategoryEmbeddingModelConfig</td>\n",
       "      <td id=\"T_150eb_row60_col2\" class=\"data row60 col2\" >ReLU</td>\n",
       "      <td id=\"T_150eb_row60_col3\" class=\"data row60 col3\" >0.200000</td>\n",
       "      <td id=\"T_150eb_row60_col4\" class=\"data row60 col4\" >128-64-32</td>\n",
       "      <td id=\"T_150eb_row60_col5\" class=\"data row60 col5\" >SGD</td>\n",
       "      <td id=\"T_150eb_row60_col6\" class=\"data row60 col6\" >0.728636</td>\n",
       "      <td id=\"T_150eb_row60_col7\" class=\"data row60 col7\" >0.728636</td>\n",
       "      <td id=\"T_150eb_row60_col8\" class=\"data row60 col8\" >0.413907</td>\n",
       "      <td id=\"T_150eb_row60_col9\" class=\"data row60 col9\" >nan</td>\n",
       "    </tr>\n",
       "    <tr>\n",
       "      <th id=\"T_150eb_level0_row61\" class=\"row_heading level0 row61\" >4</th>\n",
       "      <td id=\"T_150eb_row61_col0\" class=\"data row61 col0\" >4</td>\n",
       "      <td id=\"T_150eb_row61_col1\" class=\"data row61 col1\" >0-CategoryEmbeddingModelConfig</td>\n",
       "      <td id=\"T_150eb_row61_col2\" class=\"data row61 col2\" >ReLU</td>\n",
       "      <td id=\"T_150eb_row61_col3\" class=\"data row61 col3\" >0.000000</td>\n",
       "      <td id=\"T_150eb_row61_col4\" class=\"data row61 col4\" >32-64-128</td>\n",
       "      <td id=\"T_150eb_row61_col5\" class=\"data row61 col5\" >Adam</td>\n",
       "      <td id=\"T_150eb_row61_col6\" class=\"data row61 col6\" >0.697774</td>\n",
       "      <td id=\"T_150eb_row61_col7\" class=\"data row61 col7\" >0.697774</td>\n",
       "      <td id=\"T_150eb_row61_col8\" class=\"data row61 col8\" >0.413907</td>\n",
       "      <td id=\"T_150eb_row61_col9\" class=\"data row61 col9\" >nan</td>\n",
       "    </tr>\n",
       "    <tr>\n",
       "      <th id=\"T_150eb_level0_row62\" class=\"row_heading level0 row62\" >3</th>\n",
       "      <td id=\"T_150eb_row62_col0\" class=\"data row62 col0\" >3</td>\n",
       "      <td id=\"T_150eb_row62_col1\" class=\"data row62 col1\" >0-CategoryEmbeddingModelConfig</td>\n",
       "      <td id=\"T_150eb_row62_col2\" class=\"data row62 col2\" >ReLU</td>\n",
       "      <td id=\"T_150eb_row62_col3\" class=\"data row62 col3\" >0.000000</td>\n",
       "      <td id=\"T_150eb_row62_col4\" class=\"data row62 col4\" >1024-512-256</td>\n",
       "      <td id=\"T_150eb_row62_col5\" class=\"data row62 col5\" >SGD</td>\n",
       "      <td id=\"T_150eb_row62_col6\" class=\"data row62 col6\" >0.705799</td>\n",
       "      <td id=\"T_150eb_row62_col7\" class=\"data row62 col7\" >0.705799</td>\n",
       "      <td id=\"T_150eb_row62_col8\" class=\"data row62 col8\" >0.413907</td>\n",
       "      <td id=\"T_150eb_row62_col9\" class=\"data row62 col9\" >nan</td>\n",
       "    </tr>\n",
       "    <tr>\n",
       "      <th id=\"T_150eb_level0_row63\" class=\"row_heading level0 row63\" >0</th>\n",
       "      <td id=\"T_150eb_row63_col0\" class=\"data row63 col0\" >0</td>\n",
       "      <td id=\"T_150eb_row63_col1\" class=\"data row63 col1\" >0-CategoryEmbeddingModelConfig</td>\n",
       "      <td id=\"T_150eb_row63_col2\" class=\"data row63 col2\" >ReLU</td>\n",
       "      <td id=\"T_150eb_row63_col3\" class=\"data row63 col3\" >0.000000</td>\n",
       "      <td id=\"T_150eb_row63_col4\" class=\"data row63 col4\" >128-64-32</td>\n",
       "      <td id=\"T_150eb_row63_col5\" class=\"data row63 col5\" >Adam</td>\n",
       "      <td id=\"T_150eb_row63_col6\" class=\"data row63 col6\" >0.719218</td>\n",
       "      <td id=\"T_150eb_row63_col7\" class=\"data row63 col7\" >0.719218</td>\n",
       "      <td id=\"T_150eb_row63_col8\" class=\"data row63 col8\" >0.413907</td>\n",
       "      <td id=\"T_150eb_row63_col9\" class=\"data row63 col9\" >nan</td>\n",
       "    </tr>\n",
       "  </tbody>\n",
       "</table>\n"
      ],
      "text/plain": [
       "<pandas.io.formats.style.Styler at 0x7cdf647db3a0>"
      ]
     },
     "execution_count": 27,
     "metadata": {},
     "output_type": "execute_result"
    }
   ],
   "source": [
    "tuner_df.trials_df.sort_values(\"accuracy\", ascending=False).style.background_gradient(\n",
    "    subset=[\"accuracy\"], cmap=\"RdYlGn\"\n",
    ").background_gradient(subset=[\"loss\"], cmap=\"RdYlGn_r\")"
   ]
  },
  {
   "cell_type": "code",
   "execution_count": 28,
   "id": "ce42d06c-2825-41b5-8aef-45592e63b125",
   "metadata": {},
   "outputs": [
    {
     "data": {
      "text/html": [
       "<pre style=\"white-space:pre;overflow-x:auto;line-height:normal;font-family:Menlo,'DejaVu Sans Mono',consolas,'Courier New',monospace\">┏━━━━━━━━━━━━━━━━━━━━━━━━━━━┳━━━━━━━━━━━━━━━━━━━━━━━━━━━┓\n",
       "┃<span style=\"font-weight: bold\">        Test metric        </span>┃<span style=\"font-weight: bold\">       DataLoader 0        </span>┃\n",
       "┡━━━━━━━━━━━━━━━━━━━━━━━━━━━╇━━━━━━━━━━━━━━━━━━━━━━━━━━━┩\n",
       "│<span style=\"color: #008080; text-decoration-color: #008080\">       test_accuracy       </span>│<span style=\"color: #800080; text-decoration-color: #800080\">    0.6688741445541382     </span>│\n",
       "│<span style=\"color: #008080; text-decoration-color: #008080\">         test_loss         </span>│<span style=\"color: #800080; text-decoration-color: #800080\">    0.6975728869438171     </span>│\n",
       "│<span style=\"color: #008080; text-decoration-color: #008080\">        test_loss_0        </span>│<span style=\"color: #800080; text-decoration-color: #800080\">    0.6975728869438171     </span>│\n",
       "└───────────────────────────┴───────────────────────────┘\n",
       "</pre>\n"
      ],
      "text/plain": [
       "┏━━━━━━━━━━━━━━━━━━━━━━━━━━━┳━━━━━━━━━━━━━━━━━━━━━━━━━━━┓\n",
       "┃\u001b[1m \u001b[0m\u001b[1m       Test metric       \u001b[0m\u001b[1m \u001b[0m┃\u001b[1m \u001b[0m\u001b[1m      DataLoader 0       \u001b[0m\u001b[1m \u001b[0m┃\n",
       "┡━━━━━━━━━━━━━━━━━━━━━━━━━━━╇━━━━━━━━━━━━━━━━━━━━━━━━━━━┩\n",
       "│\u001b[36m \u001b[0m\u001b[36m      test_accuracy      \u001b[0m\u001b[36m \u001b[0m│\u001b[35m \u001b[0m\u001b[35m   0.6688741445541382    \u001b[0m\u001b[35m \u001b[0m│\n",
       "│\u001b[36m \u001b[0m\u001b[36m        test_loss        \u001b[0m\u001b[36m \u001b[0m│\u001b[35m \u001b[0m\u001b[35m   0.6975728869438171    \u001b[0m\u001b[35m \u001b[0m│\n",
       "│\u001b[36m \u001b[0m\u001b[36m       test_loss_0       \u001b[0m\u001b[36m \u001b[0m│\u001b[35m \u001b[0m\u001b[35m   0.6975728869438171    \u001b[0m\u001b[35m \u001b[0m│\n",
       "└───────────────────────────┴───────────────────────────┘\n"
      ]
     },
     "metadata": {},
     "output_type": "display_data"
    },
    {
     "data": {
      "text/plain": [
       "[{'test_loss_0': 0.6975728869438171,\n",
       "  'test_loss': 0.6975728869438171,\n",
       "  'test_accuracy': 0.6688741445541382}]"
      ]
     },
     "execution_count": 28,
     "metadata": {},
     "output_type": "execute_result"
    }
   ],
   "source": [
    "tuner_df.best_model.evaluate(test)"
   ]
  },
  {
   "cell_type": "markdown",
   "id": "469ada1e-32bf-45fa-94a1-d8b96976cadd",
   "metadata": {},
   "source": [
    "### Save Model"
   ]
  },
  {
   "cell_type": "code",
   "execution_count": 29,
   "id": "5c6a3a42-831a-499c-afe0-18b4a3796e14",
   "metadata": {},
   "outputs": [
    {
     "data": {
      "text/html": [
       "<pre style=\"white-space:pre;overflow-x:auto;line-height:normal;font-family:Menlo,'DejaVu Sans Mono',consolas,'Courier New',monospace\"><span style=\"color: #008080; text-decoration-color: #008080; font-weight: bold\">2025</span>-<span style=\"color: #008080; text-decoration-color: #008080; font-weight: bold\">02</span>-<span style=\"color: #008080; text-decoration-color: #008080; font-weight: bold\">08</span> <span style=\"color: #00ff00; text-decoration-color: #00ff00; font-weight: bold\">16:17:51</span>,<span style=\"color: #008080; text-decoration-color: #008080; font-weight: bold\">256</span> - <span style=\"font-weight: bold\">{</span>pytorch_tabular.tabular_model:<span style=\"color: #008080; text-decoration-color: #008080; font-weight: bold\">1575</span><span style=\"font-weight: bold\">}</span> - WARNING - Directory is not empty. Overwriting the \n",
       "contents.                                                                                                          \n",
       "</pre>\n"
      ],
      "text/plain": [
       "\u001b[1;36m2025\u001b[0m-\u001b[1;36m02\u001b[0m-\u001b[1;36m08\u001b[0m \u001b[1;92m16:17:51\u001b[0m,\u001b[1;36m256\u001b[0m - \u001b[1m{\u001b[0mpytorch_tabular.tabular_model:\u001b[1;36m1575\u001b[0m\u001b[1m}\u001b[0m - WARNING - Directory is not empty. Overwriting the \n",
       "contents.                                                                                                          \n"
      ]
     },
     "metadata": {},
     "output_type": "display_data"
    }
   ],
   "source": [
    "tuner_df.best_model.save_model('results/best_model', inference_only=True)"
   ]
  },
  {
   "cell_type": "markdown",
   "id": "62af2a47-3e8c-43a7-bf55-bebb35c8b4c4",
   "metadata": {},
   "source": [
    "## Inference"
   ]
  },
  {
   "cell_type": "markdown",
   "id": "ddafbd6f-e64e-4d82-b7c5-c431d3483314",
   "metadata": {},
   "source": [
    "### Load Model"
   ]
  },
  {
   "cell_type": "code",
   "execution_count": 30,
   "id": "107ad8fb-35f6-43b5-893c-d4f072445a28",
   "metadata": {},
   "outputs": [
    {
     "name": "stderr",
     "output_type": "stream",
     "text": [
      "/home/max/anaconda3/envs/tabular/lib/python3.10/site-packages/pytorch_tabular/tabular_datamodule.py:340: UserWarning: Cannot update config in inference mode. Returning the cached config\n",
      "  warnings.warn(\"Cannot update config in inference mode. Returning the cached config\")\n"
     ]
    },
    {
     "data": {
      "text/html": [
       "<pre style=\"white-space:pre;overflow-x:auto;line-height:normal;font-family:Menlo,'DejaVu Sans Mono',consolas,'Courier New',monospace\"><span style=\"color: #008080; text-decoration-color: #008080; font-weight: bold\">2025</span>-<span style=\"color: #008080; text-decoration-color: #008080; font-weight: bold\">02</span>-<span style=\"color: #008080; text-decoration-color: #008080; font-weight: bold\">08</span> <span style=\"color: #00ff00; text-decoration-color: #00ff00; font-weight: bold\">16:17:51</span>,<span style=\"color: #008080; text-decoration-color: #008080; font-weight: bold\">413</span> - <span style=\"font-weight: bold\">{</span>pytorch_tabular.tabular_model:<span style=\"color: #008080; text-decoration-color: #008080; font-weight: bold\">171</span><span style=\"font-weight: bold\">}</span> - INFO - Experiment Tracking is turned off           \n",
       "</pre>\n"
      ],
      "text/plain": [
       "\u001b[1;36m2025\u001b[0m-\u001b[1;36m02\u001b[0m-\u001b[1;36m08\u001b[0m \u001b[1;92m16:17:51\u001b[0m,\u001b[1;36m413\u001b[0m - \u001b[1m{\u001b[0mpytorch_tabular.tabular_model:\u001b[1;36m171\u001b[0m\u001b[1m}\u001b[0m - INFO - Experiment Tracking is turned off           \n"
      ]
     },
     "metadata": {},
     "output_type": "display_data"
    },
    {
     "data": {
      "text/html": [
       "<pre style=\"white-space:pre;overflow-x:auto;line-height:normal;font-family:Menlo,'DejaVu Sans Mono',consolas,'Courier New',monospace\"><span style=\"color: #008080; text-decoration-color: #008080; font-weight: bold\">2025</span>-<span style=\"color: #008080; text-decoration-color: #008080; font-weight: bold\">02</span>-<span style=\"color: #008080; text-decoration-color: #008080; font-weight: bold\">08</span> <span style=\"color: #00ff00; text-decoration-color: #00ff00; font-weight: bold\">16:17:51</span>,<span style=\"color: #008080; text-decoration-color: #008080; font-weight: bold\">415</span> - <span style=\"font-weight: bold\">{</span>pytorch_tabular.tabular_model:<span style=\"color: #008080; text-decoration-color: #008080; font-weight: bold\">342</span><span style=\"font-weight: bold\">}</span> - INFO - Preparing the Trainer                       \n",
       "</pre>\n"
      ],
      "text/plain": [
       "\u001b[1;36m2025\u001b[0m-\u001b[1;36m02\u001b[0m-\u001b[1;36m08\u001b[0m \u001b[1;92m16:17:51\u001b[0m,\u001b[1;36m415\u001b[0m - \u001b[1m{\u001b[0mpytorch_tabular.tabular_model:\u001b[1;36m342\u001b[0m\u001b[1m}\u001b[0m - INFO - Preparing the Trainer                       \n"
      ]
     },
     "metadata": {},
     "output_type": "display_data"
    }
   ],
   "source": [
    "from pytorch_tabular import TabularModel\n",
    "loaded_model = TabularModel.load_model('results/best_model')"
   ]
  },
  {
   "cell_type": "markdown",
   "id": "ac33e785-fd8d-49ef-a218-cbb4c230926b",
   "metadata": {},
   "source": [
    "### Predict\n",
    "Precisar estar no formato DataFrame do Pandas com os nomes das colunas que participaram do treinamento para passar para o modelo fazer inferência."
   ]
  },
  {
   "cell_type": "code",
   "execution_count": 31,
   "id": "66ba333b-12ec-4b67-900d-174386a0fc73",
   "metadata": {
    "scrolled": true
   },
   "outputs": [],
   "source": [
    "# Data from Water Quality and Potability Dataset\n",
    "input = [\n",
    "    [5.949519, 160.442631, 16898.808297, 6.045906, 367.328542, 451.012788, 16.359951, 62.368234, 4.072198]\n",
    "]"
   ]
  },
  {
   "cell_type": "code",
   "execution_count": 32,
   "id": "55934e76-c7a2-4f0c-b918-307d4c8d8a7c",
   "metadata": {},
   "outputs": [],
   "source": [
    "# Columns of Water Quality and Potability Dataset\n",
    "input_df = pd.DataFrame(input, columns=['ph', 'Hardness', 'Solids', 'Chloramines', 'Sulfate', 'Conductivity', 'Organic_carbon', 'Trihalomethanes', 'Turbidity'])"
   ]
  },
  {
   "cell_type": "code",
   "execution_count": 33,
   "id": "85d89167-8dbb-48fe-9559-85e189efe0f6",
   "metadata": {},
   "outputs": [
    {
     "data": {
      "text/html": [
       "<div>\n",
       "<style scoped>\n",
       "    .dataframe tbody tr th:only-of-type {\n",
       "        vertical-align: middle;\n",
       "    }\n",
       "\n",
       "    .dataframe tbody tr th {\n",
       "        vertical-align: top;\n",
       "    }\n",
       "\n",
       "    .dataframe thead th {\n",
       "        text-align: right;\n",
       "    }\n",
       "</style>\n",
       "<table border=\"1\" class=\"dataframe\">\n",
       "  <thead>\n",
       "    <tr style=\"text-align: right;\">\n",
       "      <th></th>\n",
       "      <th>ph</th>\n",
       "      <th>Hardness</th>\n",
       "      <th>Solids</th>\n",
       "      <th>Chloramines</th>\n",
       "      <th>Sulfate</th>\n",
       "      <th>Conductivity</th>\n",
       "      <th>Organic_carbon</th>\n",
       "      <th>Trihalomethanes</th>\n",
       "      <th>Turbidity</th>\n",
       "    </tr>\n",
       "  </thead>\n",
       "  <tbody>\n",
       "    <tr>\n",
       "      <th>0</th>\n",
       "      <td>5.949519</td>\n",
       "      <td>160.442631</td>\n",
       "      <td>16898.808297</td>\n",
       "      <td>6.045906</td>\n",
       "      <td>367.328542</td>\n",
       "      <td>451.012788</td>\n",
       "      <td>16.359951</td>\n",
       "      <td>62.368234</td>\n",
       "      <td>4.072198</td>\n",
       "    </tr>\n",
       "  </tbody>\n",
       "</table>\n",
       "</div>"
      ],
      "text/plain": [
       "         ph    Hardness        Solids  Chloramines     Sulfate  Conductivity  \\\n",
       "0  5.949519  160.442631  16898.808297     6.045906  367.328542    451.012788   \n",
       "\n",
       "   Organic_carbon  Trihalomethanes  Turbidity  \n",
       "0       16.359951        62.368234   4.072198  "
      ]
     },
     "execution_count": 33,
     "metadata": {},
     "output_type": "execute_result"
    }
   ],
   "source": [
    "input_df"
   ]
  },
  {
   "cell_type": "code",
   "execution_count": 34,
   "id": "c4f33da5-9543-4263-8637-80f491d7a14e",
   "metadata": {},
   "outputs": [
    {
     "data": {
      "text/html": [
       "<div>\n",
       "<style scoped>\n",
       "    .dataframe tbody tr th:only-of-type {\n",
       "        vertical-align: middle;\n",
       "    }\n",
       "\n",
       "    .dataframe tbody tr th {\n",
       "        vertical-align: top;\n",
       "    }\n",
       "\n",
       "    .dataframe thead th {\n",
       "        text-align: right;\n",
       "    }\n",
       "</style>\n",
       "<table border=\"1\" class=\"dataframe\">\n",
       "  <thead>\n",
       "    <tr style=\"text-align: right;\">\n",
       "      <th></th>\n",
       "      <th>Potability_0_probability</th>\n",
       "      <th>Potability_1_probability</th>\n",
       "      <th>Potability_prediction</th>\n",
       "    </tr>\n",
       "  </thead>\n",
       "  <tbody>\n",
       "    <tr>\n",
       "      <th>0</th>\n",
       "      <td>0.605089</td>\n",
       "      <td>0.394911</td>\n",
       "      <td>0</td>\n",
       "    </tr>\n",
       "  </tbody>\n",
       "</table>\n",
       "</div>"
      ],
      "text/plain": [
       "   Potability_0_probability  Potability_1_probability  Potability_prediction\n",
       "0                  0.605089                  0.394911                      0"
      ]
     },
     "execution_count": 34,
     "metadata": {},
     "output_type": "execute_result"
    }
   ],
   "source": [
    "loaded_model.predict(input_df)"
   ]
  }
 ],
 "metadata": {
  "kernelspec": {
   "display_name": "Python 3 (ipykernel)",
   "language": "python",
   "name": "python3"
  },
  "language_info": {
   "codemirror_mode": {
    "name": "ipython",
    "version": 3
   },
   "file_extension": ".py",
   "mimetype": "text/x-python",
   "name": "python",
   "nbconvert_exporter": "python",
   "pygments_lexer": "ipython3",
   "version": "3.10.13"
  }
 },
 "nbformat": 4,
 "nbformat_minor": 5
}
